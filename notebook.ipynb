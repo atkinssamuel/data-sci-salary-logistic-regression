{
 "metadata": {
  "language_info": {
   "codemirror_mode": {
    "name": "ipython",
    "version": 3
   },
   "file_extension": ".py",
   "mimetype": "text/x-python",
   "name": "python",
   "nbconvert_exporter": "python",
   "pygments_lexer": "ipython3",
   "version": "3.7.6-final"
  },
  "orig_nbformat": 2,
  "kernelspec": {
   "name": "Python 3.7.6 64-bit (conda)",
   "display_name": "Python 3.7.6 64-bit (conda)",
   "metadata": {
    "interpreter": {
     "hash": "cf5781ee9688be887a830af3862a813ef5b0a355a8789de10c6994358407057c"
    }
   }
  }
 },
 "nbformat": 4,
 "nbformat_minor": 2,
 "cells": [
  {
   "source": [
    "# Data Science Salary Prediction: Logistic Regression With Grid-Search"
   ],
   "cell_type": "markdown",
   "metadata": {}
  },
  {
   "cell_type": "code",
   "execution_count": 104,
   "metadata": {},
   "outputs": [],
   "source": [
    "# importing:\n",
    "import pandas as pd\n",
    "import sklearn.feature_selection\n",
    "import matplotlib.pyplot as plt\n",
    "import numpy as np\n",
    "import seaborn as sb\n",
    "import scipy\n",
    "from sklearn.preprocessing import StandardScaler\n",
    "from sklearn.linear_model import LogisticRegression\n",
    "from sklearn.model_selection import train_test_split\n",
    "from sklearn.model_selection import KFold\n",
    "from sklearn.metrics import make_scorer, confusion_matrix\n",
    "from sklearn.model_selection import learning_curve\n"
   ]
  },
  {
   "source": [
    "datasets = \"datasets/\"\n",
    "df = pd.read_csv(datasets + \"Kaggle_Salary.csv\", low_memory=False)\n",
    "df.head()\n"
   ],
   "cell_type": "code",
   "metadata": {},
   "execution_count": 105,
   "outputs": [
    {
     "output_type": "execute_result",
     "data": {
      "text/plain": [
       "  Time from Start to Finish (seconds)                           Q1  \\\n",
       "0               Duration (in seconds)  What is your age (# years)?   \n",
       "1                                 510                        22-24   \n",
       "2                                 423                        40-44   \n",
       "3                                 391                        40-44   \n",
       "4                                 392                        22-24   \n",
       "\n",
       "                                       Q2  \\\n",
       "0  What is your gender? - Selected Choice   \n",
       "1                                    Male   \n",
       "2                                    Male   \n",
       "3                                    Male   \n",
       "4                                    Male   \n",
       "\n",
       "                                       Q2_OTHER_TEXT  \\\n",
       "0  What is your gender? - Prefer to self-describe...   \n",
       "1                                                 -1   \n",
       "2                                                 -1   \n",
       "3                                                 -1   \n",
       "4                                                 -1   \n",
       "\n",
       "                                          Q3  \\\n",
       "0  In which country do you currently reside?   \n",
       "1                                     France   \n",
       "2                                      India   \n",
       "3                                  Australia   \n",
       "4                                      India   \n",
       "\n",
       "                                                  Q4  \\\n",
       "0  What is the highest level of formal education ...   \n",
       "1                                    Master’s degree   \n",
       "2                                Professional degree   \n",
       "3                                    Master’s degree   \n",
       "4                                  Bachelor’s degree   \n",
       "\n",
       "                                                  Q5  \\\n",
       "0  Select the title most similar to your current ...   \n",
       "1                                  Software Engineer   \n",
       "2                                  Software Engineer   \n",
       "3                                              Other   \n",
       "4                                              Other   \n",
       "\n",
       "                                       Q5_OTHER_TEXT  \\\n",
       "0  Select the title most similar to your current ...   \n",
       "1                                                 -1   \n",
       "2                                                 -1   \n",
       "3                                                  0   \n",
       "4                                                  1   \n",
       "\n",
       "                                                  Q6  \\\n",
       "0  What is the size of the company where you are ...   \n",
       "1                               1000-9,999 employees   \n",
       "2                                 > 10,000 employees   \n",
       "3                                 > 10,000 employees   \n",
       "4                                     0-49 employees   \n",
       "\n",
       "                                                  Q7  ...  \\\n",
       "0  Approximately how many individuals are respons...  ...   \n",
       "1                                                  0  ...   \n",
       "2                                                20+  ...   \n",
       "3                                                20+  ...   \n",
       "4                                                  0  ...   \n",
       "\n",
       "                                          Q34_Part_6  \\\n",
       "0  Which of the following relational database pro...   \n",
       "1                                                NaN   \n",
       "2                                                NaN   \n",
       "3                                                NaN   \n",
       "4                                                NaN   \n",
       "\n",
       "                                          Q34_Part_7  \\\n",
       "0  Which of the following relational database pro...   \n",
       "1                                                NaN   \n",
       "2                                                NaN   \n",
       "3                                                NaN   \n",
       "4                                                NaN   \n",
       "\n",
       "                                          Q34_Part_8  \\\n",
       "0  Which of the following relational database pro...   \n",
       "1                                                NaN   \n",
       "2                                                NaN   \n",
       "3                                                NaN   \n",
       "4                                                NaN   \n",
       "\n",
       "                                          Q34_Part_9  \\\n",
       "0  Which of the following relational database pro...   \n",
       "1                                                NaN   \n",
       "2                                                NaN   \n",
       "3                                 Azure SQL Database   \n",
       "4                                                NaN   \n",
       "\n",
       "                                         Q34_Part_10  \\\n",
       "0  Which of the following relational database pro...   \n",
       "1                                                NaN   \n",
       "2                                                NaN   \n",
       "3                                                NaN   \n",
       "4                                                NaN   \n",
       "\n",
       "                                         Q34_Part_11  \\\n",
       "0  Which of the following relational database pro...   \n",
       "1                                                NaN   \n",
       "2                                                NaN   \n",
       "3                                                NaN   \n",
       "4                                                NaN   \n",
       "\n",
       "                                         Q34_Part_12  \\\n",
       "0  Which of the following relational database pro...   \n",
       "1                                                NaN   \n",
       "2                                                NaN   \n",
       "3                                                NaN   \n",
       "4                                                NaN   \n",
       "\n",
       "                                      Q34_OTHER_TEXT Q10_Encoded  \\\n",
       "0  Which of the following relational database pro...         NaN   \n",
       "1                                                 -1         3.0   \n",
       "2                                                 -1         0.0   \n",
       "3                                                 -1        14.0   \n",
       "4                                                 -1         0.0   \n",
       "\n",
       "     Q10_buckets  \n",
       "0            NaN  \n",
       "1  30,000-39,999  \n",
       "2        0-9,999  \n",
       "3       >250,000  \n",
       "4        0-9,999  \n",
       "\n",
       "[5 rows x 248 columns]"
      ],
      "text/html": "<div>\n<style scoped>\n    .dataframe tbody tr th:only-of-type {\n        vertical-align: middle;\n    }\n\n    .dataframe tbody tr th {\n        vertical-align: top;\n    }\n\n    .dataframe thead th {\n        text-align: right;\n    }\n</style>\n<table border=\"1\" class=\"dataframe\">\n  <thead>\n    <tr style=\"text-align: right;\">\n      <th></th>\n      <th>Time from Start to Finish (seconds)</th>\n      <th>Q1</th>\n      <th>Q2</th>\n      <th>Q2_OTHER_TEXT</th>\n      <th>Q3</th>\n      <th>Q4</th>\n      <th>Q5</th>\n      <th>Q5_OTHER_TEXT</th>\n      <th>Q6</th>\n      <th>Q7</th>\n      <th>...</th>\n      <th>Q34_Part_6</th>\n      <th>Q34_Part_7</th>\n      <th>Q34_Part_8</th>\n      <th>Q34_Part_9</th>\n      <th>Q34_Part_10</th>\n      <th>Q34_Part_11</th>\n      <th>Q34_Part_12</th>\n      <th>Q34_OTHER_TEXT</th>\n      <th>Q10_Encoded</th>\n      <th>Q10_buckets</th>\n    </tr>\n  </thead>\n  <tbody>\n    <tr>\n      <th>0</th>\n      <td>Duration (in seconds)</td>\n      <td>What is your age (# years)?</td>\n      <td>What is your gender? - Selected Choice</td>\n      <td>What is your gender? - Prefer to self-describe...</td>\n      <td>In which country do you currently reside?</td>\n      <td>What is the highest level of formal education ...</td>\n      <td>Select the title most similar to your current ...</td>\n      <td>Select the title most similar to your current ...</td>\n      <td>What is the size of the company where you are ...</td>\n      <td>Approximately how many individuals are respons...</td>\n      <td>...</td>\n      <td>Which of the following relational database pro...</td>\n      <td>Which of the following relational database pro...</td>\n      <td>Which of the following relational database pro...</td>\n      <td>Which of the following relational database pro...</td>\n      <td>Which of the following relational database pro...</td>\n      <td>Which of the following relational database pro...</td>\n      <td>Which of the following relational database pro...</td>\n      <td>Which of the following relational database pro...</td>\n      <td>NaN</td>\n      <td>NaN</td>\n    </tr>\n    <tr>\n      <th>1</th>\n      <td>510</td>\n      <td>22-24</td>\n      <td>Male</td>\n      <td>-1</td>\n      <td>France</td>\n      <td>Master’s degree</td>\n      <td>Software Engineer</td>\n      <td>-1</td>\n      <td>1000-9,999 employees</td>\n      <td>0</td>\n      <td>...</td>\n      <td>NaN</td>\n      <td>NaN</td>\n      <td>NaN</td>\n      <td>NaN</td>\n      <td>NaN</td>\n      <td>NaN</td>\n      <td>NaN</td>\n      <td>-1</td>\n      <td>3.0</td>\n      <td>30,000-39,999</td>\n    </tr>\n    <tr>\n      <th>2</th>\n      <td>423</td>\n      <td>40-44</td>\n      <td>Male</td>\n      <td>-1</td>\n      <td>India</td>\n      <td>Professional degree</td>\n      <td>Software Engineer</td>\n      <td>-1</td>\n      <td>&gt; 10,000 employees</td>\n      <td>20+</td>\n      <td>...</td>\n      <td>NaN</td>\n      <td>NaN</td>\n      <td>NaN</td>\n      <td>NaN</td>\n      <td>NaN</td>\n      <td>NaN</td>\n      <td>NaN</td>\n      <td>-1</td>\n      <td>0.0</td>\n      <td>0-9,999</td>\n    </tr>\n    <tr>\n      <th>3</th>\n      <td>391</td>\n      <td>40-44</td>\n      <td>Male</td>\n      <td>-1</td>\n      <td>Australia</td>\n      <td>Master’s degree</td>\n      <td>Other</td>\n      <td>0</td>\n      <td>&gt; 10,000 employees</td>\n      <td>20+</td>\n      <td>...</td>\n      <td>NaN</td>\n      <td>NaN</td>\n      <td>NaN</td>\n      <td>Azure SQL Database</td>\n      <td>NaN</td>\n      <td>NaN</td>\n      <td>NaN</td>\n      <td>-1</td>\n      <td>14.0</td>\n      <td>&gt;250,000</td>\n    </tr>\n    <tr>\n      <th>4</th>\n      <td>392</td>\n      <td>22-24</td>\n      <td>Male</td>\n      <td>-1</td>\n      <td>India</td>\n      <td>Bachelor’s degree</td>\n      <td>Other</td>\n      <td>1</td>\n      <td>0-49 employees</td>\n      <td>0</td>\n      <td>...</td>\n      <td>NaN</td>\n      <td>NaN</td>\n      <td>NaN</td>\n      <td>NaN</td>\n      <td>NaN</td>\n      <td>NaN</td>\n      <td>NaN</td>\n      <td>-1</td>\n      <td>0.0</td>\n      <td>0-9,999</td>\n    </tr>\n  </tbody>\n</table>\n<p>5 rows × 248 columns</p>\n</div>"
     },
     "metadata": {},
     "execution_count": 105
    }
   ]
  },
  {
   "source": [
    "### Data Visualization"
   ],
   "cell_type": "markdown",
   "metadata": {}
  },
  {
   "cell_type": "code",
   "execution_count": 106,
   "metadata": {
    "tags": []
   },
   "outputs": [
    {
     "output_type": "stream",
     "name": "stdout",
     "text": [
      "Number of rows = 12498\nNumber of columns = 248\n"
     ]
    }
   ],
   "source": [
    "print(\"Number of rows =\", df.shape[0])\n",
    "print(\"Number of columns =\", df.shape[1])"
   ]
  },
  {
   "source": [
    "## Data Cleaning\n",
    "### Converting Categorical Data Into Numerical Data\n",
    "There are a few options for encoding categorical data into numerical data. Given a categorical column we can choose to either encode each element numerically, encode the column using one-hot encoding, or encode the column using a custom one-hot encoding. \n",
    "\n",
    "Suppose the dataset in question is a dataset that contains information regarding which car each respondent owns. The column in question is ```car_type```. This column can take on 3 different values: ```tesla```, ```toyota```, and ```bmw```. The following will demonstrate three different types of encoding methods.\n",
    "\n",
    "#### Numerical Encoding \n",
    "To numerically encode the ```car_type``` category we would assign the possible values that ```car_type``` could be as numerical values. We could encode ```tesla``` as 0, ```toyota``` as 1, and ```bmw``` as 2. The problem with this encoding method is the weighting implied by the numerical values. Are BMW's twice as valuable, heavy, or fast as Toyotas? If the data does not relate to the encoding in any way it is better to use one-hot encoding instead.\n",
    "\n",
    "#### One-Hot Encoding\n",
    "To encode a column using one-hot encoding we assign each possible value in a particular column its own column. Then, the values in each of these new columns is either 0 or 1 depending on if that particular entry possesses that property. ```tesla```, ```toyota```, and ```bmw``` would all be separate columns with boolean values in each entry. The drawback of one-hot encoding is the number of columns explodes with the number of unique values in each categorical column. In this rather simple example we added an additional 2 columns. If we repeated this process for a large number of categorical columns with many unique values in each column we would end up with a very large dataset that would take a long time to operate on. A potential solution is delinated by the next method.\n",
    "\n",
    "#### Customized One-Hot Encoding\n",
    "Suppose that in our example there are a total of 1000 respondents. 975 respondents own Teslas, 15 own BMWs, and 10 own Toyotas. In this case, it might be wiser to refactor our original ```car_type``` column to a more simple binary column like ```owns_tesla```. This would prevent an explosion of columns and would retain the attractive categorical implications of one-hot encoding. One could also situationally create a column called ```other``` that would encompass all of the other entires for a given dataset to refrain from adding several columns containing little information. Critically thinking about which encoding method you should use is essential for generating accurate models. \n",
    "\n",
    "### Column Visualization\n",
    "Each column must be investigated to determine which encoding method should be used for each column."
   ],
   "cell_type": "markdown",
   "metadata": {}
  },
  {
   "cell_type": "code",
   "execution_count": 107,
   "metadata": {
    "tags": []
   },
   "outputs": [
    {
     "output_type": "stream",
     "name": "stdout",
     "text": [
      "\nQuestions Asked in Dataset:\n\nQ1\nWhat is your age (# years)? \n\nQ2\nWhat is your gender? - Selected Choice \n\nQ3\nIn which country do you currently reside? \n\nQ4\nWhat is the highest level of formal education that you have attained or plan to attain within the next 2 years? \n\nQ5\nSelect the title most similar to your current role (or most recent title if retired): - Selected Choice \n\nQ6\nWhat is the size of the company where you are employed? \n\nQ7\nApproximately how many individuals are responsible for data science workloads at your place of business? \n\nQ8\nDoes your current employer incorporate machine learning methods into their business? \n\nQ9_Part_1\nSelect any activities that make up an important part of your role at work: (Select all that apply) - Selected Choice - Analyze and understand data to influence product or business decisions \n\nQ10\nWhat is your current yearly compensation (approximate $USD)? \n\nQ11\nApproximately how much money have you spent on machine learning and/or cloud computing products at your work in the past 5 years? \n\nQ12_Part_1\nWho/what are your favorite media sources that report on data science topics? (Select all that apply) - Selected Choice - Twitter (data science influencers) \n\nQ13_Part_1\nOn which platforms have you begun or completed data science courses? (Select all that apply) - Selected Choice - Udacity \n\nQ14\nWhat is the primary tool that you use at work or school to analyze data? (Include text response) - Selected Choice \n\nQ14_Part_1_TEXT\nWhat is the primary tool that you use at work or school to analyze data? (Include text response) - Basic statistical software (Microsoft Excel, Google Sheets, etc.) - Text \n\nQ15\nHow long have you been writing code to analyze data (at work or at school)? \n\nQ16_Part_1\nWhich of the following integrated development environments (IDE's) do you use on a regular basis?  (Select all that apply) - Selected Choice - Jupyter (JupyterLab, Jupyter Notebooks, etc)  \n\nQ17_Part_1\nWhich of the following hosted notebook products do you use on a regular basis?  (Select all that apply) - Selected Choice -  Kaggle Notebooks (Kernels)  \n\nQ18_Part_1\nWhat programming languages do you use on a regular basis? (Select all that apply) - Selected Choice - Python \n\nQ19\nWhat programming language would you recommend an aspiring data scientist to learn first? - Selected Choice \n\nQ20_Part_1\nWhat data visualization libraries or tools do you use on a regular basis?  (Select all that apply) - Selected Choice -  Ggplot / ggplot2  \n\nQ21_Part_1\nWhich types of specialized hardware do you use on a regular basis?  (Select all that apply) - Selected Choice - CPUs \n\nQ22\nHave you ever used a TPU (tensor processing unit)? \n\nQ23\nFor how many years have you used machine learning methods? \n\nQ24_Part_1\nWhich of the following ML algorithms do you use on a regular basis? (Select all that apply): - Selected Choice - Linear or Logistic Regression \n\nQ25_Part_1\nWhich categories of ML tools do you use on a regular basis?  (Select all that apply) - Selected Choice - Automated data augmentation (e.g. imgaug, albumentations) \n\nQ26_Part_1\nWhich categories of computer vision methods do you use on a regular basis?  (Select all that apply) - Selected Choice - General purpose image/video tools (PIL, cv2, skimage, etc) \n\nQ27_Part_1\nWhich of the following natural language processing (NLP) methods do you use on a regular basis?  (Select all that apply) - Selected Choice - Word embeddings/vectors (GLoVe, fastText, word2vec) \n\nQ28_Part_1\nWhich of the following machine learning frameworks do you use on a regular basis? (Select all that apply) - Selected Choice -   Scikit-learn  \n\nQ29_Part_1\nWhich of the following cloud computing platforms do you use on a regular basis? (Select all that apply) - Selected Choice -  Google Cloud Platform (GCP)  \n\nQ30_Part_1\nWhich specific cloud computing products do you use on a regular basis? (Select all that apply) - Selected Choice - AWS Elastic Compute Cloud (EC2) \n\nQ31_Part_1\nWhich specific big data / analytics products do you use on a regular basis? (Select all that apply) - Selected Choice - Google BigQuery \n\nQ32_Part_1\nWhich of the following machine learning products do you use on a regular basis? (Select all that apply) - Selected Choice - SAS \n\nQ33_Part_1\nWhich automated machine learning tools (or partial AutoML tools) do you use on a regular basis?  (Select all that apply) - Selected Choice -  Google AutoML  \n\nQ34_Part_1\nWhich of the following relational database products do you use on a regular basis? (Select all that apply) - Selected Choice - MySQL \n\n"
     ]
    }
   ],
   "source": [
    "question_dict = dict()\n",
    "\n",
    "for i in range(df.shape[1]):\n",
    "    if len(df.columns[i]) <= 3 or (\"Part_1\" in df.columns[i] and \"Part_10\" not in df.columns[i] and \"Part_11\" not in df.columns[i] and \"Part_12\" not in df.columns[i] and \"Part_13\" not in df.columns[i]):\n",
    "        question_dict[df.columns[i]] =  df.iloc[0, i]\n",
    "\n",
    "# Determining Which Questions Were Asked:\n",
    "print(\"\\nQuestions Asked in Dataset:\\n\")\n",
    "for (key, value) in question_dict.items():\n",
    "    print(key)\n",
    "    print(value, \"\\n\")\n"
   ]
  },
  {
   "cell_type": "code",
   "execution_count": 108,
   "metadata": {},
   "outputs": [
    {
     "output_type": "stream",
     "name": "stdout",
     "text": [
      "\nMultiple Choice Questions in Dataset\nQ9_Part_1\nSelect any activities that make up an important part of your role at work: (Select all that apply) - Selected Choice - Analyze and understand data to influence product or business decisions \n\nQ12_Part_1\nWho/what are your favorite media sources that report on data science topics? (Select all that apply) - Selected Choice - Twitter (data science influencers) \n\nQ13_Part_1\nOn which platforms have you begun or completed data science courses? (Select all that apply) - Selected Choice - Udacity \n\nQ14_Part_1_TEXT\nWhat is the primary tool that you use at work or school to analyze data? (Include text response) - Basic statistical software (Microsoft Excel, Google Sheets, etc.) - Text \n\nQ16_Part_1\nWhich of the following integrated development environments (IDE's) do you use on a regular basis?  (Select all that apply) - Selected Choice - Jupyter (JupyterLab, Jupyter Notebooks, etc)  \n\nQ17_Part_1\nWhich of the following hosted notebook products do you use on a regular basis?  (Select all that apply) - Selected Choice -  Kaggle Notebooks (Kernels)  \n\nQ18_Part_1\nWhat programming languages do you use on a regular basis? (Select all that apply) - Selected Choice - Python \n\nQ20_Part_1\nWhat data visualization libraries or tools do you use on a regular basis?  (Select all that apply) - Selected Choice -  Ggplot / ggplot2  \n\nQ21_Part_1\nWhich types of specialized hardware do you use on a regular basis?  (Select all that apply) - Selected Choice - CPUs \n\nQ24_Part_1\nWhich of the following ML algorithms do you use on a regular basis? (Select all that apply): - Selected Choice - Linear or Logistic Regression \n\nQ25_Part_1\nWhich categories of ML tools do you use on a regular basis?  (Select all that apply) - Selected Choice - Automated data augmentation (e.g. imgaug, albumentations) \n\nQ26_Part_1\nWhich categories of computer vision methods do you use on a regular basis?  (Select all that apply) - Selected Choice - General purpose image/video tools (PIL, cv2, skimage, etc) \n\nQ27_Part_1\nWhich of the following natural language processing (NLP) methods do you use on a regular basis?  (Select all that apply) - Selected Choice - Word embeddings/vectors (GLoVe, fastText, word2vec) \n\nQ28_Part_1\nWhich of the following machine learning frameworks do you use on a regular basis? (Select all that apply) - Selected Choice -   Scikit-learn  \n\nQ29_Part_1\nWhich of the following cloud computing platforms do you use on a regular basis? (Select all that apply) - Selected Choice -  Google Cloud Platform (GCP)  \n\nQ30_Part_1\nWhich specific cloud computing products do you use on a regular basis? (Select all that apply) - Selected Choice - AWS Elastic Compute Cloud (EC2) \n\nQ31_Part_1\nWhich specific big data / analytics products do you use on a regular basis? (Select all that apply) - Selected Choice - Google BigQuery \n\nQ32_Part_1\nWhich of the following machine learning products do you use on a regular basis? (Select all that apply) - Selected Choice - SAS \n\nQ33_Part_1\nWhich automated machine learning tools (or partial AutoML tools) do you use on a regular basis?  (Select all that apply) - Selected Choice -  Google AutoML  \n\nQ34_Part_1\nWhich of the following relational database products do you use on a regular basis? (Select all that apply) - Selected Choice - MySQL \n\n"
     ]
    }
   ],
   "source": [
    "# Determining Which Questions Were Multiple Choice Questions:\n",
    "print(\"\\nMultiple Choice Questions in Dataset\")\n",
    "multiple_choice_dict = dict()\n",
    "for (key, value) in question_dict.items():\n",
    "    if \"_\" in key:\n",
    "        multiple_choice_dict[key] = value\n",
    "        print(key)\n",
    "        print(value, \"\\n\")\n"
   ]
  },
  {
   "source": [
    "Multiple choice columns currently are populated by either a non-unique string that answers the particular categorical question or a NaN value. Consider Q9_Part_1, for example: "
   ],
   "cell_type": "markdown",
   "metadata": {}
  },
  {
   "cell_type": "code",
   "execution_count": 109,
   "metadata": {},
   "outputs": [
    {
     "output_type": "stream",
     "name": "stdout",
     "text": [
      "Total number of rows = 12498\nNumber of rows that are NaN = 6518\nEach column value can either take on 'nan' or 'Analyze and understand data to influence product or business decisions'\n"
     ]
    }
   ],
   "source": [
    "print(\"Total number of rows =\", df[\"Q9_Part_1\"].shape[0])\n",
    "print(\"Number of rows that are NaN =\", df[\"Q9_Part_1\"].shape[0] - df[\"Q9_Part_1\"].dropna().count())\n",
    "print(\"Each column value can either take on '{}' or '{}'\".format(df[\"Q9_Part_1\"].unique()[1], df[\"Q9_Part_1\"].unique()[2]))"
   ]
  },
  {
   "source": [
    "For each of these columns we will fill the NaN entries (which imply negative responses) with 0's and we will replace all of the string values (which imply affirmative responses) with 1's. This will result columns that are one-hot encoded. "
   ],
   "cell_type": "markdown",
   "metadata": {}
  },
  {
   "cell_type": "code",
   "execution_count": 110,
   "metadata": {
    "tags": []
   },
   "outputs": [],
   "source": [
    "def replace_strings(value):\n",
    "    if value is not np.nan:\n",
    "        return 1\n",
    "    return 0\n",
    "\n",
    "for column in df.columns:\n",
    "    if \"Text\" in column:\n",
    "        pass\n",
    "    elif \"Part\" in column:\n",
    "        df.loc[1:, column] = df.loc[1:, column].map(replace_strings)"
   ]
  },
  {
   "cell_type": "code",
   "execution_count": 111,
   "metadata": {
    "tags": []
   },
   "outputs": [
    {
     "output_type": "execute_result",
     "data": {
      "text/plain": [
       "  Time from Start to Finish (seconds)                           Q1  \\\n",
       "0               Duration (in seconds)  What is your age (# years)?   \n",
       "1                                 510                        22-24   \n",
       "2                                 423                        40-44   \n",
       "3                                 391                        40-44   \n",
       "4                                 392                        22-24   \n",
       "\n",
       "                                       Q2  \\\n",
       "0  What is your gender? - Selected Choice   \n",
       "1                                    Male   \n",
       "2                                    Male   \n",
       "3                                    Male   \n",
       "4                                    Male   \n",
       "\n",
       "                                       Q2_OTHER_TEXT  \\\n",
       "0  What is your gender? - Prefer to self-describe...   \n",
       "1                                                 -1   \n",
       "2                                                 -1   \n",
       "3                                                 -1   \n",
       "4                                                 -1   \n",
       "\n",
       "                                          Q3  \\\n",
       "0  In which country do you currently reside?   \n",
       "1                                     France   \n",
       "2                                      India   \n",
       "3                                  Australia   \n",
       "4                                      India   \n",
       "\n",
       "                                                  Q4  \\\n",
       "0  What is the highest level of formal education ...   \n",
       "1                                    Master’s degree   \n",
       "2                                Professional degree   \n",
       "3                                    Master’s degree   \n",
       "4                                  Bachelor’s degree   \n",
       "\n",
       "                                                  Q5  \\\n",
       "0  Select the title most similar to your current ...   \n",
       "1                                  Software Engineer   \n",
       "2                                  Software Engineer   \n",
       "3                                              Other   \n",
       "4                                              Other   \n",
       "\n",
       "                                       Q5_OTHER_TEXT  \\\n",
       "0  Select the title most similar to your current ...   \n",
       "1                                                 -1   \n",
       "2                                                 -1   \n",
       "3                                                  0   \n",
       "4                                                  1   \n",
       "\n",
       "                                                  Q6  \\\n",
       "0  What is the size of the company where you are ...   \n",
       "1                               1000-9,999 employees   \n",
       "2                                 > 10,000 employees   \n",
       "3                                 > 10,000 employees   \n",
       "4                                     0-49 employees   \n",
       "\n",
       "                                                  Q7  ...  \\\n",
       "0  Approximately how many individuals are respons...  ...   \n",
       "1                                                  0  ...   \n",
       "2                                                20+  ...   \n",
       "3                                                20+  ...   \n",
       "4                                                  0  ...   \n",
       "\n",
       "                                          Q34_Part_6  \\\n",
       "0  Which of the following relational database pro...   \n",
       "1                                                  0   \n",
       "2                                                  0   \n",
       "3                                                  0   \n",
       "4                                                  0   \n",
       "\n",
       "                                          Q34_Part_7  \\\n",
       "0  Which of the following relational database pro...   \n",
       "1                                                  0   \n",
       "2                                                  0   \n",
       "3                                                  0   \n",
       "4                                                  0   \n",
       "\n",
       "                                          Q34_Part_8  \\\n",
       "0  Which of the following relational database pro...   \n",
       "1                                                  0   \n",
       "2                                                  0   \n",
       "3                                                  0   \n",
       "4                                                  0   \n",
       "\n",
       "                                          Q34_Part_9  \\\n",
       "0  Which of the following relational database pro...   \n",
       "1                                                  0   \n",
       "2                                                  0   \n",
       "3                                                  1   \n",
       "4                                                  0   \n",
       "\n",
       "                                         Q34_Part_10  \\\n",
       "0  Which of the following relational database pro...   \n",
       "1                                                  0   \n",
       "2                                                  0   \n",
       "3                                                  0   \n",
       "4                                                  0   \n",
       "\n",
       "                                         Q34_Part_11  \\\n",
       "0  Which of the following relational database pro...   \n",
       "1                                                  0   \n",
       "2                                                  0   \n",
       "3                                                  0   \n",
       "4                                                  0   \n",
       "\n",
       "                                         Q34_Part_12  \\\n",
       "0  Which of the following relational database pro...   \n",
       "1                                                  0   \n",
       "2                                                  0   \n",
       "3                                                  0   \n",
       "4                                                  0   \n",
       "\n",
       "                                      Q34_OTHER_TEXT Q10_Encoded  \\\n",
       "0  Which of the following relational database pro...         NaN   \n",
       "1                                                 -1         3.0   \n",
       "2                                                 -1         0.0   \n",
       "3                                                 -1        14.0   \n",
       "4                                                 -1         0.0   \n",
       "\n",
       "     Q10_buckets  \n",
       "0            NaN  \n",
       "1  30,000-39,999  \n",
       "2        0-9,999  \n",
       "3       >250,000  \n",
       "4        0-9,999  \n",
       "\n",
       "[5 rows x 248 columns]"
      ],
      "text/html": "<div>\n<style scoped>\n    .dataframe tbody tr th:only-of-type {\n        vertical-align: middle;\n    }\n\n    .dataframe tbody tr th {\n        vertical-align: top;\n    }\n\n    .dataframe thead th {\n        text-align: right;\n    }\n</style>\n<table border=\"1\" class=\"dataframe\">\n  <thead>\n    <tr style=\"text-align: right;\">\n      <th></th>\n      <th>Time from Start to Finish (seconds)</th>\n      <th>Q1</th>\n      <th>Q2</th>\n      <th>Q2_OTHER_TEXT</th>\n      <th>Q3</th>\n      <th>Q4</th>\n      <th>Q5</th>\n      <th>Q5_OTHER_TEXT</th>\n      <th>Q6</th>\n      <th>Q7</th>\n      <th>...</th>\n      <th>Q34_Part_6</th>\n      <th>Q34_Part_7</th>\n      <th>Q34_Part_8</th>\n      <th>Q34_Part_9</th>\n      <th>Q34_Part_10</th>\n      <th>Q34_Part_11</th>\n      <th>Q34_Part_12</th>\n      <th>Q34_OTHER_TEXT</th>\n      <th>Q10_Encoded</th>\n      <th>Q10_buckets</th>\n    </tr>\n  </thead>\n  <tbody>\n    <tr>\n      <th>0</th>\n      <td>Duration (in seconds)</td>\n      <td>What is your age (# years)?</td>\n      <td>What is your gender? - Selected Choice</td>\n      <td>What is your gender? - Prefer to self-describe...</td>\n      <td>In which country do you currently reside?</td>\n      <td>What is the highest level of formal education ...</td>\n      <td>Select the title most similar to your current ...</td>\n      <td>Select the title most similar to your current ...</td>\n      <td>What is the size of the company where you are ...</td>\n      <td>Approximately how many individuals are respons...</td>\n      <td>...</td>\n      <td>Which of the following relational database pro...</td>\n      <td>Which of the following relational database pro...</td>\n      <td>Which of the following relational database pro...</td>\n      <td>Which of the following relational database pro...</td>\n      <td>Which of the following relational database pro...</td>\n      <td>Which of the following relational database pro...</td>\n      <td>Which of the following relational database pro...</td>\n      <td>Which of the following relational database pro...</td>\n      <td>NaN</td>\n      <td>NaN</td>\n    </tr>\n    <tr>\n      <th>1</th>\n      <td>510</td>\n      <td>22-24</td>\n      <td>Male</td>\n      <td>-1</td>\n      <td>France</td>\n      <td>Master’s degree</td>\n      <td>Software Engineer</td>\n      <td>-1</td>\n      <td>1000-9,999 employees</td>\n      <td>0</td>\n      <td>...</td>\n      <td>0</td>\n      <td>0</td>\n      <td>0</td>\n      <td>0</td>\n      <td>0</td>\n      <td>0</td>\n      <td>0</td>\n      <td>-1</td>\n      <td>3.0</td>\n      <td>30,000-39,999</td>\n    </tr>\n    <tr>\n      <th>2</th>\n      <td>423</td>\n      <td>40-44</td>\n      <td>Male</td>\n      <td>-1</td>\n      <td>India</td>\n      <td>Professional degree</td>\n      <td>Software Engineer</td>\n      <td>-1</td>\n      <td>&gt; 10,000 employees</td>\n      <td>20+</td>\n      <td>...</td>\n      <td>0</td>\n      <td>0</td>\n      <td>0</td>\n      <td>0</td>\n      <td>0</td>\n      <td>0</td>\n      <td>0</td>\n      <td>-1</td>\n      <td>0.0</td>\n      <td>0-9,999</td>\n    </tr>\n    <tr>\n      <th>3</th>\n      <td>391</td>\n      <td>40-44</td>\n      <td>Male</td>\n      <td>-1</td>\n      <td>Australia</td>\n      <td>Master’s degree</td>\n      <td>Other</td>\n      <td>0</td>\n      <td>&gt; 10,000 employees</td>\n      <td>20+</td>\n      <td>...</td>\n      <td>0</td>\n      <td>0</td>\n      <td>0</td>\n      <td>1</td>\n      <td>0</td>\n      <td>0</td>\n      <td>0</td>\n      <td>-1</td>\n      <td>14.0</td>\n      <td>&gt;250,000</td>\n    </tr>\n    <tr>\n      <th>4</th>\n      <td>392</td>\n      <td>22-24</td>\n      <td>Male</td>\n      <td>-1</td>\n      <td>India</td>\n      <td>Bachelor’s degree</td>\n      <td>Other</td>\n      <td>1</td>\n      <td>0-49 employees</td>\n      <td>0</td>\n      <td>...</td>\n      <td>0</td>\n      <td>0</td>\n      <td>0</td>\n      <td>0</td>\n      <td>0</td>\n      <td>0</td>\n      <td>0</td>\n      <td>-1</td>\n      <td>0.0</td>\n      <td>0-9,999</td>\n    </tr>\n  </tbody>\n</table>\n<p>5 rows × 248 columns</p>\n</div>"
     },
     "metadata": {},
     "execution_count": 111
    }
   ],
   "source": [
    "column_question_dict = dict()\n",
    "for column in df.columns:\n",
    "    column_question_dict[column] = df.iloc[0][column]\n",
    "df.head()"
   ]
  },
  {
   "source": [
    "Now that all of the columns that were originally categorical are usable, we will now investigate the one-hot encoded columns to see if any columns have less than 50 respondents that selected that column. Columns that have less than 50 selections will be merged into an \"other\" column for that particular question."
   ],
   "cell_type": "markdown",
   "metadata": {}
  },
  {
   "cell_type": "code",
   "execution_count": 112,
   "metadata": {},
   "outputs": [
    {
     "output_type": "stream",
     "name": "stdout",
     "text": [
      "Count for Question Q9 = 5979\n",
      "Count for Question Q9 = 3507\n",
      "Count for Question Q9 = 4890\n",
      "Count for Question Q9 = 3285\n",
      "Count for Question Q9 = 3634\n",
      "Count for Question Q9 = 2303\n",
      "Count for Question Q9 = 515\n",
      "Count for Question Q9 = 239\n",
      "Count for Question Q12 = 2785\n",
      "Count for Question Q12 = 1386\n",
      "Count for Question Q12 = 2404\n",
      "Count for Question Q12 = 7757\n",
      "Count for Question Q12 = 2817\n",
      "Count for Question Q12 = 5116\n",
      "Count for Question Q12 = 1644\n",
      "Count for Question Q12 = 7333\n",
      "Count for Question Q12 = 3494\n",
      "Count for Question Q12 = 1881\n",
      "Count for Question Q12 = 374\n",
      "Count for Question Q12 = 883\n",
      "Count for Question Q13 = 2278\n",
      "Count for Question Q13 = 6487\n",
      "Count for Question Q13 = 2439\n",
      "Count for Question Q13 = 2978\n",
      "Count for Question Q13 = 557\n",
      "Count for Question Q13 = 3666\n",
      "Count for Question Q13 = 1190\n",
      "Count for Question Q13 = 3561\n",
      "Count for Question Q13 = 1010\n",
      "Count for Question Q13 = 3062\n",
      "Count for Question Q13 = 994\n",
      "Count for Question Q13 = 1277\n",
      "Count for Question Q16 = 7815\n",
      "Count for Question Q16 = 3491\n",
      "Count for Question Q16 = 3143\n",
      "Count for Question Q16 = 1051\n",
      "Count for Question Q16 = 1103\n",
      "Count for Question Q16 = 3403\n",
      "Count for Question Q16 = 2143\n",
      "Count for Question Q16 = 1463\n",
      "Count for Question Q16 = 2632\n",
      "Count for Question Q16 = 1911\n",
      "Count for Question Q16 = 188\n",
      "Count for Question Q16 = 557\n",
      "Count for Question Q17 = 3348\n",
      "Count for Question Q17 = 3106\n",
      "Count for Question Q17 = 692\n",
      "Count for Question Q17 = 839\n",
      "Count for Question Q17 = 123\n",
      "Count for Question Q17 = 78\n",
      "Count for Question Q17 = 1200\n",
      "Count for Question Q17 = 481\n",
      "Count for Question Q17 = 60\n",
      "Count for Question Q17 = 671\n",
      "Count for Question Q17 = 4049\n",
      "Count for Question Q17 = 369\n",
      "Count for Question Q18 = 9363\n",
      "Count for Question Q18 = 3652\n",
      "Count for Question Q18 = 5428\n",
      "Count for Question Q18 = 949\n",
      "Count for Question Q18 = 1356\n",
      "Count for Question Q18 = 1598\n",
      "Count for Question Q18 = 1720\n",
      "Count for Question Q18 = 353\n",
      "Count for Question Q18 = 1763\n",
      "Count for Question Q18 = 962\n",
      "Count for Question Q18 = 69\n",
      "Count for Question Q18 = 1016\n",
      "Count for Question Q20 = 3274\n",
      "Count for Question Q20 = 7507\n",
      "Count for Question Q20 = 141\n",
      "Count for Question Q20 = 1110\n",
      "Count for Question Q20 = 950\n",
      "Count for Question Q20 = 2566\n",
      "Count for Question Q20 = 870\n",
      "Count for Question Q20 = 4977\n",
      "Count for Question Q20 = 487\n",
      "Count for Question Q20 = 473\n",
      "Count for Question Q20 = 967\n",
      "Count for Question Q20 = 387\n",
      "Count for Question Q21 = 7884\n",
      "Count for Question Q21 = 4912\n",
      "Count for Question Q21 = 369\n",
      "Count for Question Q21 = 1761\n",
      "Count for Question Q21 = 89\n",
      "Count for Question Q24 = 7643\n",
      "Count for Question Q24 = 6524\n",
      "Count for Question Q24 = 4427\n",
      "Count for Question Q24 = 2866\n",
      "Count for Question Q24 = 700\n",
      "Count for Question Q24 = 2450\n",
      "Count for Question Q24 = 3931\n",
      "Count for Question Q24 = 728\n",
      "Count for Question Q24 = 2598\n",
      "Count for Question Q24 = 741\n",
      "Count for Question Q24 = 850\n",
      "Count for Question Q24 = 339\n",
      "Count for Question Q25 = 1372\n",
      "Count for Question Q25 = 1249\n",
      "Count for Question Q25 = 2305\n",
      "Count for Question Q25 = 378\n",
      "Count for Question Q25 = 1501\n",
      "Count for Question Q25 = 975\n",
      "Count for Question Q25 = 5817\n",
      "Count for Question Q25 = 189\n",
      "Count for Question Q26 = 1604\n",
      "Count for Question Q26 = 1521\n",
      "Count for Question Q26 = 1409\n",
      "Count for Question Q26 = 2342\n",
      "Count for Question Q26 = 799\n",
      "Count for Question Q26 = 917\n",
      "Count for Question Q26 = 41\n",
      "Count for Question Q27 = 1685\n",
      "Count for Question Q27 = 1051\n",
      "Count for Question Q27 = 463\n",
      "Count for Question Q27 = 849\n",
      "Count for Question Q27 = 777\n",
      "Count for Question Q27 = 46\n",
      "Count for Question Q28 = 6969\n",
      "Count for Question Q28 = 4293\n",
      "Count for Question Q28 = 4324\n",
      "Count for Question Q28 = 3496\n",
      "Count for Question Q28 = 3408\n",
      "Count for Question Q28 = 2564\n",
      "Count for Question Q28 = 997\n",
      "Count for Question Q28 = 1754\n",
      "Count for Question Q28 = 819\n",
      "Count for Question Q28 = 738\n",
      "Count for Question Q28 = 1322\n",
      "Count for Question Q28 = 294\n",
      "Count for Question Q29 = 2134\n",
      "Count for Question Q29 = 2758\n",
      "Count for Question Q29 = 1356\n",
      "Count for Question Q29 = 373\n",
      "Count for Question Q29 = 110\n",
      "Count for Question Q29 = 115\n",
      "Count for Question Q29 = 162\n",
      "Count for Question Q29 = 90\n",
      "Count for Question Q29 = 171\n",
      "Count for Question Q29 = 78\n",
      "Count for Question Q29 = 2229\n",
      "Count for Question Q29 = 170\n",
      "Count for Question Q30 = 1810\n",
      "Count for Question Q30 = 1138\n",
      "Count for Question Q30 = 876\n",
      "Count for Question Q30 = 838\n",
      "Count for Question Q30 = 597\n",
      "Count for Question Q30 = 702\n",
      "Count for Question Q30 = 311\n",
      "Count for Question Q30 = 526\n",
      "Count for Question Q30 = 284\n",
      "Count for Question Q30 = 395\n",
      "Count for Question Q30 = 3155\n",
      "Count for Question Q30 = 239\n",
      "Count for Question Q31 = 958\n",
      "Count for Question Q31 = 562\n",
      "Count for Question Q31 = 604\n",
      "Count for Question Q31 = 429\n",
      "Count for Question Q31 = 322\n",
      "Count for Question Q31 = 426\n",
      "Count for Question Q31 = 525\n",
      "Count for Question Q31 = 369\n",
      "Count for Question Q31 = 281\n",
      "Count for Question Q31 = 398\n",
      "Count for Question Q31 = 4133\n",
      "Count for Question Q31 = 266\n",
      "Count for Question Q32 = 450\n",
      "Count for Question Q32 = 418\n",
      "Count for Question Q32 = 581\n",
      "Count for Question Q32 = 586\n",
      "Count for Question Q32 = 372\n",
      "Count for Question Q32 = 438\n",
      "Count for Question Q32 = 400\n",
      "Count for Question Q32 = 265\n",
      "Count for Question Q32 = 315\n",
      "Count for Question Q32 = 569\n",
      "Count for Question Q32 = 4313\n",
      "Count for Question Q32 = 225\n",
      "Count for Question Q33 = 498\n",
      "Count for Question Q33 = 277\n",
      "Count for Question Q33 = 191\n",
      "Count for Question Q33 = 171\n",
      "Count for Question Q33 = 176\n",
      "Count for Question Q33 = 465\n",
      "Count for Question Q33 = 756\n",
      "Count for Question Q33 = 279\n",
      "Count for Question Q33 = 28\n",
      "Count for Question Q33 = 133\n",
      "Count for Question Q33 = 5175\n",
      "Count for Question Q33 = 132\n",
      "Count for Question Q34 = 3122\n",
      "Count for Question Q34 = 2160\n",
      "Count for Question Q34 = 1527\n",
      "Count for Question Q34 = 1852\n",
      "Count for Question Q34 = 1192\n",
      "Count for Question Q34 = 547\n",
      "Count for Question Q34 = 588\n",
      "Count for Question Q34 = 415\n",
      "Count for Question Q34 = 479\n",
      "Count for Question Q34 = 526\n",
      "Count for Question Q34 = 1245\n",
      "Count for Question Q34 = 287\n"
     ]
    }
   ],
   "source": [
    "question_list = []\n",
    "for column in df.columns:\n",
    "    if \"TEXT\" in column:\n",
    "        pass\n",
    "    elif \"Part\" in column:\n",
    "        print(\"Count for Question {} = {}\".format(column[:2] if column[2] == \"_\" else column[:3], df[1:][column].sum()))"
   ]
  },
  {
   "source": [
    "Since each categorical column has more than 50 selections no columns will be combined. Now that we have one-hot encoded the already multiple choice data we will deal with the rest of the columns present in the dataset. \n",
    "\n",
    "#### \"TEXT\" and \"OTHER_TEXT\" Columns\n",
    "The \"TEXT\" and \"OTHER_TEXT\" columns are columns that encode each respondent's reply with a numerical encoding. Respondent's with a similar reply have the same encoding. We run into the same problem we typically run into when using numerical encoding: higher numerical encoding values aren't indicative of some implicit greater quantity. How will the model interpret a response encoding of 134 versus a response encoding of 4? \n",
    "\n",
    "Instead of one-hot encoding all of the unique responses we will instead chooes to ignore the \"TEXT\" and \"OTHER_TEXT\" columns. We will do this because the information presented by these columns is mostly captured by the \"Other\" columns preceeding these text columns."
   ],
   "cell_type": "markdown",
   "metadata": {}
  },
  {
   "cell_type": "code",
   "execution_count": 113,
   "metadata": {},
   "outputs": [
    {
     "output_type": "stream",
     "name": "stdout",
     "text": [
      "Q2_OTHER_TEXT\n",
      "Q5_OTHER_TEXT\n",
      "Q9_OTHER_TEXT\n",
      "Q12_OTHER_TEXT\n",
      "Q13_OTHER_TEXT\n",
      "Q14_Part_1_TEXT\n",
      "Q14_Part_2_TEXT\n",
      "Q14_Part_3_TEXT\n",
      "Q14_Part_4_TEXT\n",
      "Q14_Part_5_TEXT\n",
      "Q14_OTHER_TEXT\n",
      "Q16_OTHER_TEXT\n",
      "Q17_OTHER_TEXT\n",
      "Q18_OTHER_TEXT\n",
      "Q19_OTHER_TEXT\n",
      "Q20_OTHER_TEXT\n",
      "Q21_OTHER_TEXT\n",
      "Q24_OTHER_TEXT\n",
      "Q25_OTHER_TEXT\n",
      "Q26_OTHER_TEXT\n",
      "Q27_OTHER_TEXT\n",
      "Q28_OTHER_TEXT\n",
      "Q29_OTHER_TEXT\n",
      "Q30_OTHER_TEXT\n",
      "Q31_OTHER_TEXT\n",
      "Q32_OTHER_TEXT\n",
      "Q33_OTHER_TEXT\n",
      "Q34_OTHER_TEXT\n"
     ]
    }
   ],
   "source": [
    "for column in df.columns:\n",
    "    if \"TEXT\" in column or \"OTHER_TEXT\" in column:\n",
    "        print(column)\n",
    "        df.drop([column], axis=1, inplace=True)"
   ]
  },
  {
   "source": [
    "Now we must deal with the rest of the categorical columns before we begin investigating the impacts of each column. \n",
    "\n",
    "#### Age Range Encoding (Q1)\n",
    "For this column each response is an age range. Therefore, a clear relationship exists between the various ranges. We could capture this relationship by numerically encoding each range. \n",
    "\n",
    "#### Gender Encoding (Q2)\n",
    "There are four different values that an element in the gender column can take on: \"Male\", \"Female\", \"Prefer to self-describe\", and \"Prefer not to say\". The vast majorty of respondents are \"Male\" or \"Female\". Using one-hot encoding we will define three columns: \"Male\", \"Female\", and \"Other\". In this way we save a column without sacrificing too much information.\n",
    "\n",
    "#### Country (Q3)\n",
    "Since there are so many countries it doesn't make sense to one-hot encode all of the countries. Our dataset would explode in size and the information gained from this explosion would not be worth it. Instead of dropping the column we will atempt to find some sort of middle ground. The 9 most popular countries will be encoded and the rest of the countries will be combined into an \"Other\" column. The plot below illustrates the frequencies of the responses by country.\n",
    "\n",
    "#### Highest Level of Formal Education (Q4)\n",
    "We can organize the values in this column using numerical encoding because we can consider each education level as a education \"tier\". Higher numerical values correspond with higher education tiers. \n",
    "\n",
    "#### Current Role (Q5)\n",
    "There are too many factors to consider when rank ordering occupations by any criteria. Therefore, we will one-hot encode this column. The increase in the number of columns won't be too much of a problem because the number of possible positions is relatively small. \n",
    "\n",
    "#### Company Size (Q6)\n",
    "The possible responses delineated by this column are range values. We can loosely rank these ranges using numerical encoding. \n",
    "\n",
    "#### Number of Employees Responsible for Data Science Workload (Q7)\n",
    "Since this column contains ranges of employees it makes the most sense to numerically encode these values. \n",
    "\n",
    "#### Company Machine Learning (Q8)\n",
    "This column indicates whether a company uses machine learning in their business and if so, how recently have they incorporated it. There are few possible values including \"No\", \"I do not know\", \"We are exploring...\", \"We have recently established...\", and \"We have well established...\". Given that there are not many possible replies we will one-hot encode this column\n",
    "\n",
    "#### Money Spent on Machine Learning (Q11)\n",
    "This column includes information regarding money spent on machine learning products in the past 5 years. Given that ranges were provided these values will be numerically encoded. \n",
    "\n",
    "#### Analysis Tools (Q14)\n",
    "The recorded responses provide insight into which analysis tools the respondents prefer. These were originally encoded using one-hot encoding and then further encoded using numerical encoding to further desribe the similarities between responses. They will be re-encoded using one-hot encoding because the similarities between responses is difficult to interpret without one-hot encoding every single response as its own column.\n",
    "\n",
    "#### Coding Experience (Q15)\n",
    "Numerical encoding is the obvious choice for this column because the coding experience of each respondent is measured using ranges. The relationship between these ranges can be linearly approximated by assigning integers to each range. \n",
    "\n",
    "#### Recommend an Introductory Coding Language (Q19)\n",
    "Respondents were asked to recommend a programming language to an aspiring data scientist. The vast majority of replies were \"Python\", but many other languages were also recommended. This column will also be one-hot encoded. The NaN values in this column will be replaced with \"Other\" because they were implicitly defined as \"Other\" in subsequent column.\n",
    "\n",
    "#### TPU Experience (Q22) & Machine Learning Experience (Q23)\n",
    "\n",
    "These two columns will be numerically encoded because a relationship exists between the ranges defined by the surveryor. The assigned integer values will attempt to capture this relationship. \n",
    "\n",
    "*NOTE*: Interestingly, there are some NaN values for the columns we wish to numerically encode, namely, Q11, Q15, Q22, and Q23. We will investigate how many NaN's are present in each column and then we will make a decision on what to do about these NaN values. "
   ],
   "cell_type": "markdown",
   "metadata": {}
  },
  {
   "source": [
    "df = df[1:]\n",
    "\n",
    "q2_map = {\"Q2\": {'Prefer to self-describe': 'Other', 'Prefer not to say': 'Other'}}\n",
    "df = df.replace(q2_map)\n",
    "\n",
    "print(df[\"Q2\"].unique())\n",
    "\n",
    "plt.figure(figsize=(20,15))\n",
    "plt.title(\"Countplot of Country Data\", fontsize=20)\n",
    "country_plot = sb.countplot(df[\"Q3\"], order=df[\"Q3\"].value_counts().index)\n",
    "country_plot.set_xticklabels(country_plot.get_xticklabels(), size=10 ,rotation=30, ha=\"right\")\n",
    "country_plot.set_xlabel(\"Country\")\n",
    "country_plot.set_ylabel(\"Count\")\n",
    "plt.show()"
   ],
   "cell_type": "code",
   "metadata": {},
   "execution_count": 114,
   "outputs": [
    {
     "output_type": "stream",
     "name": "stdout",
     "text": [
      "['Male' 'Female' 'Other']\n"
     ]
    },
    {
     "output_type": "display_data",
     "data": {
      "text/plain": "<Figure size 1440x1080 with 1 Axes>",
      "image/svg+xml": "<?xml version=\"1.0\" encoding=\"utf-8\" standalone=\"no\"?>\r\n<!DOCTYPE svg PUBLIC \"-//W3C//DTD SVG 1.1//EN\"\r\n  \"http://www.w3.org/Graphics/SVG/1.1/DTD/svg11.dtd\">\r\n<!-- Created with matplotlib (https://matplotlib.org/) -->\r\n<svg height=\"1014.121346pt\" version=\"1.1\" viewBox=\"0 0 1225.581777 1014.121346\" width=\"1225.581777pt\" xmlns=\"http://www.w3.org/2000/svg\" xmlns:xlink=\"http://www.w3.org/1999/xlink\">\r\n <defs>\r\n  <style type=\"text/css\">\r\n*{stroke-linecap:butt;stroke-linejoin:round;}\r\n  </style>\r\n </defs>\r\n <g id=\"figure_1\">\r\n  <g id=\"patch_1\">\r\n   <path d=\"M 0 1014.121346 \r\nL 1225.581777 1014.121346 \r\nL 1225.581777 0 \r\nL 0 0 \r\nz\r\n\" style=\"fill:none;\"/>\r\n  </g>\r\n  <g id=\"axes_1\">\r\n   <g id=\"patch_2\">\r\n    <path d=\"M 102.381777 843.796875 \r\nL 1218.381777 843.796875 \r\nL 1218.381777 28.396875 \r\nL 102.381777 28.396875 \r\nz\r\n\" style=\"fill:#ffffff;\"/>\r\n   </g>\r\n   <g id=\"patch_3\">\r\n    <path clip-path=\"url(#p80ae2f97d9)\" d=\"M 104.273302 843.796875 \r\nL 119.405505 843.796875 \r\nL 119.405505 67.225446 \r\nL 104.273302 67.225446 \r\nz\r\n\" style=\"fill:#ea96a3;\"/>\r\n   </g>\r\n   <g id=\"patch_4\">\r\n    <path clip-path=\"url(#p80ae2f97d9)\" d=\"M 123.188556 843.796875 \r\nL 138.32076 843.796875 \r\nL 138.32076 174.760368 \r\nL 123.188556 174.760368 \r\nz\r\n\" style=\"fill:#ea979b;\"/>\r\n   </g>\r\n   <g id=\"patch_5\">\r\n    <path clip-path=\"url(#p80ae2f97d9)\" d=\"M 142.103811 843.796875 \r\nL 157.236014 843.796875 \r\nL 157.236014 622.770288 \r\nL 142.103811 622.770288 \r\nz\r\n\" style=\"fill:#e99790;\"/>\r\n   </g>\r\n   <g id=\"patch_6\">\r\n    <path clip-path=\"url(#p80ae2f97d9)\" d=\"M 161.019065 843.796875 \r\nL 176.151268 843.796875 \r\nL 176.151268 676.067479 \r\nL 161.019065 676.067479 \r\nz\r\n\" style=\"fill:#e79682;\"/>\r\n   </g>\r\n   <g id=\"patch_7\">\r\n    <path clip-path=\"url(#p80ae2f97d9)\" d=\"M 179.934319 843.796875 \r\nL 195.066522 843.796875 \r\nL 195.066522 693.310688 \r\nL 179.934319 693.310688 \r\nz\r\n\" style=\"fill:#e5946f;\"/>\r\n   </g>\r\n   <g id=\"patch_8\">\r\n    <path clip-path=\"url(#p80ae2f97d9)\" d=\"M 198.849573 843.796875 \r\nL 213.981777 843.796875 \r\nL 213.981777 710.240384 \r\nL 198.849573 710.240384 \r\nz\r\n\" style=\"fill:#e0914f;\"/>\r\n   </g>\r\n   <g id=\"patch_9\">\r\n    <path clip-path=\"url(#p80ae2f97d9)\" d=\"M 217.764827 843.796875 \r\nL 232.897031 843.796875 \r\nL 232.897031 730.932235 \r\nL 217.764827 730.932235 \r\nz\r\n\" style=\"fill:#d6944e;\"/>\r\n   </g>\r\n   <g id=\"patch_10\">\r\n    <path clip-path=\"url(#p80ae2f97d9)\" d=\"M 236.680082 843.796875 \r\nL 251.812285 843.796875 \r\nL 251.812285 739.397083 \r\nL 236.680082 739.397083 \r\nz\r\n\" style=\"fill:#cd974c;\"/>\r\n   </g>\r\n   <g id=\"patch_11\">\r\n    <path clip-path=\"url(#p80ae2f97d9)\" d=\"M 255.595336 843.796875 \r\nL 270.727539 843.796875 \r\nL 270.727539 744.726802 \r\nL 255.595336 744.726802 \r\nz\r\n\" style=\"fill:#c5994b;\"/>\r\n   </g>\r\n   <g id=\"patch_12\">\r\n    <path clip-path=\"url(#p80ae2f97d9)\" d=\"M 274.51059 843.796875 \r\nL 289.642794 843.796875 \r\nL 289.642794 749.429495 \r\nL 274.51059 749.429495 \r\nz\r\n\" style=\"fill:#be9b4a;\"/>\r\n   </g>\r\n   <g id=\"patch_13\">\r\n    <path clip-path=\"url(#p80ae2f97d9)\" d=\"M 293.425844 843.796875 \r\nL 308.558048 843.796875 \r\nL 308.558048 756.326779 \r\nL 293.425844 756.326779 \r\nz\r\n\" style=\"fill:#b79c49;\"/>\r\n   </g>\r\n   <g id=\"patch_14\">\r\n    <path clip-path=\"url(#p80ae2f97d9)\" d=\"M 312.341099 843.796875 \r\nL 327.473302 843.796875 \r\nL 327.473302 770.121346 \r\nL 312.341099 770.121346 \r\nz\r\n\" style=\"fill:#b19d48;\"/>\r\n   </g>\r\n   <g id=\"patch_15\">\r\n    <path clip-path=\"url(#p80ae2f97d9)\" d=\"M 331.256353 843.796875 \r\nL 346.388556 843.796875 \r\nL 346.388556 776.391604 \r\nL 331.256353 776.391604 \r\nz\r\n\" style=\"fill:#aa9e47;\"/>\r\n   </g>\r\n   <g id=\"patch_16\">\r\n    <path clip-path=\"url(#p80ae2f97d9)\" d=\"M 350.171607 843.796875 \r\nL 365.303811 843.796875 \r\nL 365.303811 778.586194 \r\nL 350.171607 778.586194 \r\nz\r\n\" style=\"fill:#a39f46;\"/>\r\n   </g>\r\n   <g id=\"patch_17\">\r\n    <path clip-path=\"url(#p80ae2f97d9)\" d=\"M 369.086861 843.796875 \r\nL 384.219065 843.796875 \r\nL 384.219065 782.034836 \r\nL 369.086861 782.034836 \r\nz\r\n\" style=\"fill:#9da045;\"/>\r\n   </g>\r\n   <g id=\"patch_18\">\r\n    <path clip-path=\"url(#p80ae2f97d9)\" d=\"M 388.002116 843.796875 \r\nL 403.134319 843.796875 \r\nL 403.134319 789.559145 \r\nL 388.002116 789.559145 \r\nz\r\n\" style=\"fill:#96a346;\"/>\r\n   </g>\r\n   <g id=\"patch_19\">\r\n    <path clip-path=\"url(#p80ae2f97d9)\" d=\"M 406.91737 843.796875 \r\nL 422.049573 843.796875 \r\nL 422.049573 790.499684 \r\nL 406.91737 790.499684 \r\nz\r\n\" style=\"fill:#8fa546;\"/>\r\n   </g>\r\n   <g id=\"patch_20\">\r\n    <path clip-path=\"url(#p80ae2f97d9)\" d=\"M 425.832624 843.796875 \r\nL 440.964827 843.796875 \r\nL 440.964827 793.3213 \r\nL 425.832624 793.3213 \r\nz\r\n\" style=\"fill:#86a746;\"/>\r\n   </g>\r\n   <g id=\"patch_21\">\r\n    <path clip-path=\"url(#p80ae2f97d9)\" d=\"M 444.747878 843.796875 \r\nL 459.880082 843.796875 \r\nL 459.880082 801.159122 \r\nL 444.747878 801.159122 \r\nz\r\n\" style=\"fill:#7caa47;\"/>\r\n   </g>\r\n   <g id=\"patch_22\">\r\n    <path clip-path=\"url(#p80ae2f97d9)\" d=\"M 463.663133 843.796875 \r\nL 478.795336 843.796875 \r\nL 478.795336 802.413174 \r\nL 463.663133 802.413174 \r\nz\r\n\" style=\"fill:#6dac47;\"/>\r\n   </g>\r\n   <g id=\"patch_23\">\r\n    <path clip-path=\"url(#p80ae2f97d9)\" d=\"M 482.578387 843.796875 \r\nL 497.71059 843.796875 \r\nL 497.71059 802.726686 \r\nL 482.578387 802.726686 \r\nz\r\n\" style=\"fill:#57af47;\"/>\r\n   </g>\r\n   <g id=\"patch_24\">\r\n    <path clip-path=\"url(#p80ae2f97d9)\" d=\"M 501.493641 843.796875 \r\nL 516.625844 843.796875 \r\nL 516.625844 805.861815 \r\nL 501.493641 805.861815 \r\nz\r\n\" style=\"fill:#48b05d;\"/>\r\n   </g>\r\n   <g id=\"patch_25\">\r\n    <path clip-path=\"url(#p80ae2f97d9)\" d=\"M 520.408895 843.796875 \r\nL 535.541099 843.796875 \r\nL 535.541099 806.175328 \r\nL 520.408895 806.175328 \r\nz\r\n\" style=\"fill:#48af70;\"/>\r\n   </g>\r\n   <g id=\"patch_26\">\r\n    <path clip-path=\"url(#p80ae2f97d9)\" d=\"M 539.324149 843.796875 \r\nL 554.456353 843.796875 \r\nL 554.456353 808.996944 \r\nL 539.324149 808.996944 \r\nz\r\n\" style=\"fill:#49ae7d;\"/>\r\n   </g>\r\n   <g id=\"patch_27\">\r\n    <path clip-path=\"url(#p80ae2f97d9)\" d=\"M 558.239404 843.796875 \r\nL 573.371607 843.796875 \r\nL 573.371607 809.62397 \r\nL 558.239404 809.62397 \r\nz\r\n\" style=\"fill:#49ae86;\"/>\r\n   </g>\r\n   <g id=\"patch_28\">\r\n    <path clip-path=\"url(#p80ae2f97d9)\" d=\"M 577.154658 843.796875 \r\nL 592.286861 843.796875 \r\nL 592.286861 812.445586 \r\nL 577.154658 812.445586 \r\nz\r\n\" style=\"fill:#4aad8d;\"/>\r\n   </g>\r\n   <g id=\"patch_29\">\r\n    <path clip-path=\"url(#p80ae2f97d9)\" d=\"M 596.069912 843.796875 \r\nL 611.202116 843.796875 \r\nL 611.202116 813.072612 \r\nL 596.069912 813.072612 \r\nz\r\n\" style=\"fill:#4aad93;\"/>\r\n   </g>\r\n   <g id=\"patch_30\">\r\n    <path clip-path=\"url(#p80ae2f97d9)\" d=\"M 614.985166 843.796875 \r\nL 630.11737 843.796875 \r\nL 630.11737 816.834766 \r\nL 614.985166 816.834766 \r\nz\r\n\" style=\"fill:#4aac99;\"/>\r\n   </g>\r\n   <g id=\"patch_31\">\r\n    <path clip-path=\"url(#p80ae2f97d9)\" d=\"M 633.900421 843.796875 \r\nL 649.032624 843.796875 \r\nL 649.032624 818.088818 \r\nL 633.900421 818.088818 \r\nz\r\n\" style=\"fill:#4bac9e;\"/>\r\n   </g>\r\n   <g id=\"patch_32\">\r\n    <path clip-path=\"url(#p80ae2f97d9)\" d=\"M 652.815675 843.796875 \r\nL 667.947878 843.796875 \r\nL 667.947878 819.029357 \r\nL 652.815675 819.029357 \r\nz\r\n\" style=\"fill:#4baba2;\"/>\r\n   </g>\r\n   <g id=\"patch_33\">\r\n    <path clip-path=\"url(#p80ae2f97d9)\" d=\"M 671.730929 843.796875 \r\nL 686.863133 843.796875 \r\nL 686.863133 819.029357 \r\nL 671.730929 819.029357 \r\nz\r\n\" style=\"fill:#4baba6;\"/>\r\n   </g>\r\n   <g id=\"patch_34\">\r\n    <path clip-path=\"url(#p80ae2f97d9)\" d=\"M 690.646183 843.796875 \r\nL 705.778387 843.796875 \r\nL 705.778387 820.910434 \r\nL 690.646183 820.910434 \r\nz\r\n\" style=\"fill:#4baaab;\"/>\r\n   </g>\r\n   <g id=\"patch_35\">\r\n    <path clip-path=\"url(#p80ae2f97d9)\" d=\"M 709.561438 843.796875 \r\nL 724.693641 843.796875 \r\nL 724.693641 821.223947 \r\nL 709.561438 821.223947 \r\nz\r\n\" style=\"fill:#4cabaf;\"/>\r\n   </g>\r\n   <g id=\"patch_36\">\r\n    <path clip-path=\"url(#p80ae2f97d9)\" d=\"M 728.476692 843.796875 \r\nL 743.608895 843.796875 \r\nL 743.608895 821.850973 \r\nL 728.476692 821.850973 \r\nz\r\n\" style=\"fill:#4dabb5;\"/>\r\n   </g>\r\n   <g id=\"patch_37\">\r\n    <path clip-path=\"url(#p80ae2f97d9)\" d=\"M 747.391946 843.796875 \r\nL 762.524149 843.796875 \r\nL 762.524149 822.164486 \r\nL 747.391946 822.164486 \r\nz\r\n\" style=\"fill:#4fabba;\"/>\r\n   </g>\r\n   <g id=\"patch_38\">\r\n    <path clip-path=\"url(#p80ae2f97d9)\" d=\"M 766.3072 843.796875 \r\nL 781.439404 843.796875 \r\nL 781.439404 823.105024 \r\nL 766.3072 823.105024 \r\nz\r\n\" style=\"fill:#50acc0;\"/>\r\n   </g>\r\n   <g id=\"patch_39\">\r\n    <path clip-path=\"url(#p80ae2f97d9)\" d=\"M 785.222455 843.796875 \r\nL 800.354658 843.796875 \r\nL 800.354658 823.105024 \r\nL 785.222455 823.105024 \r\nz\r\n\" style=\"fill:#51acc7;\"/>\r\n   </g>\r\n   <g id=\"patch_40\">\r\n    <path clip-path=\"url(#p80ae2f97d9)\" d=\"M 804.137709 843.796875 \r\nL 819.269912 843.796875 \r\nL 819.269912 823.418537 \r\nL 804.137709 823.418537 \r\nz\r\n\" style=\"fill:#53acce;\"/>\r\n   </g>\r\n   <g id=\"patch_41\">\r\n    <path clip-path=\"url(#p80ae2f97d9)\" d=\"M 823.052963 843.796875 \r\nL 838.185166 843.796875 \r\nL 838.185166 824.986102 \r\nL 823.052963 824.986102 \r\nz\r\n\" style=\"fill:#55acd7;\"/>\r\n   </g>\r\n   <g id=\"patch_42\">\r\n    <path clip-path=\"url(#p80ae2f97d9)\" d=\"M 841.968217 843.796875 \r\nL 857.100421 843.796875 \r\nL 857.100421 826.867179 \r\nL 841.968217 826.867179 \r\nz\r\n\" style=\"fill:#62ade1;\"/>\r\n   </g>\r\n   <g id=\"patch_43\">\r\n    <path clip-path=\"url(#p80ae2f97d9)\" d=\"M 860.883472 843.796875 \r\nL 876.015675 843.796875 \r\nL 876.015675 827.180692 \r\nL 860.883472 827.180692 \r\nz\r\n\" style=\"fill:#7daee5;\"/>\r\n   </g>\r\n   <g id=\"patch_44\">\r\n    <path clip-path=\"url(#p80ae2f97d9)\" d=\"M 879.798726 843.796875 \r\nL 894.930929 843.796875 \r\nL 894.930929 827.807718 \r\nL 879.798726 827.807718 \r\nz\r\n\" style=\"fill:#8faee7;\"/>\r\n   </g>\r\n   <g id=\"patch_45\">\r\n    <path clip-path=\"url(#p80ae2f97d9)\" d=\"M 898.71398 843.796875 \r\nL 913.846183 843.796875 \r\nL 913.846183 828.12123 \r\nL 898.71398 828.12123 \r\nz\r\n\" style=\"fill:#9eade9;\"/>\r\n   </g>\r\n   <g id=\"patch_46\">\r\n    <path clip-path=\"url(#p80ae2f97d9)\" d=\"M 917.629234 843.796875 \r\nL 932.761438 843.796875 \r\nL 932.761438 828.748256 \r\nL 917.629234 828.748256 \r\nz\r\n\" style=\"fill:#aaaceb;\"/>\r\n   </g>\r\n   <g id=\"patch_47\">\r\n    <path clip-path=\"url(#p80ae2f97d9)\" d=\"M 936.544488 843.796875 \r\nL 951.676692 843.796875 \r\nL 951.676692 829.061769 \r\nL 936.544488 829.061769 \r\nz\r\n\" style=\"fill:#b4a9eb;\"/>\r\n   </g>\r\n   <g id=\"patch_48\">\r\n    <path clip-path=\"url(#p80ae2f97d9)\" d=\"M 955.459743 843.796875 \r\nL 970.591946 843.796875 \r\nL 970.591946 829.375282 \r\nL 955.459743 829.375282 \r\nz\r\n\" style=\"fill:#bca5ea;\"/>\r\n   </g>\r\n   <g id=\"patch_49\">\r\n    <path clip-path=\"url(#p80ae2f97d9)\" d=\"M 974.374997 843.796875 \r\nL 989.5072 843.796875 \r\nL 989.5072 829.375282 \r\nL 974.374997 829.375282 \r\nz\r\n\" style=\"fill:#c4a1ea;\"/>\r\n   </g>\r\n   <g id=\"patch_50\">\r\n    <path clip-path=\"url(#p80ae2f97d9)\" d=\"M 993.290251 843.796875 \r\nL 1008.422455 843.796875 \r\nL 1008.422455 830.002308 \r\nL 993.290251 830.002308 \r\nz\r\n\" style=\"fill:#cc9ce9;\"/>\r\n   </g>\r\n   <g id=\"patch_51\">\r\n    <path clip-path=\"url(#p80ae2f97d9)\" d=\"M 1012.205505 843.796875 \r\nL 1027.337709 843.796875 \r\nL 1027.337709 830.002308 \r\nL 1012.205505 830.002308 \r\nz\r\n\" style=\"fill:#d597e8;\"/>\r\n   </g>\r\n   <g id=\"patch_52\">\r\n    <path clip-path=\"url(#p80ae2f97d9)\" d=\"M 1031.12076 843.796875 \r\nL 1046.252963 843.796875 \r\nL 1046.252963 830.629334 \r\nL 1031.12076 830.629334 \r\nz\r\n\" style=\"fill:#dd90e7;\"/>\r\n   </g>\r\n   <g id=\"patch_53\">\r\n    <path clip-path=\"url(#p80ae2f97d9)\" d=\"M 1050.036014 843.796875 \r\nL 1065.168217 843.796875 \r\nL 1065.168217 830.942847 \r\nL 1050.036014 830.942847 \r\nz\r\n\" style=\"fill:#e688e6;\"/>\r\n   </g>\r\n   <g id=\"patch_54\">\r\n    <path clip-path=\"url(#p80ae2f97d9)\" d=\"M 1068.951268 843.796875 \r\nL 1084.083472 843.796875 \r\nL 1084.083472 830.942847 \r\nL 1068.951268 830.942847 \r\nz\r\n\" style=\"fill:#e78bdd;\"/>\r\n   </g>\r\n   <g id=\"patch_55\">\r\n    <path clip-path=\"url(#p80ae2f97d9)\" d=\"M 1087.866522 843.796875 \r\nL 1102.998726 843.796875 \r\nL 1102.998726 831.569872 \r\nL 1087.866522 831.569872 \r\nz\r\n\" style=\"fill:#e78dd4;\"/>\r\n   </g>\r\n   <g id=\"patch_56\">\r\n    <path clip-path=\"url(#p80ae2f97d9)\" d=\"M 1106.781777 843.796875 \r\nL 1121.91398 843.796875 \r\nL 1121.91398 831.569872 \r\nL 1106.781777 831.569872 \r\nz\r\n\" style=\"fill:#e88fcd;\"/>\r\n   </g>\r\n   <g id=\"patch_57\">\r\n    <path clip-path=\"url(#p80ae2f97d9)\" d=\"M 1125.697031 843.796875 \r\nL 1140.829234 843.796875 \r\nL 1140.829234 831.883385 \r\nL 1125.697031 831.883385 \r\nz\r\n\" style=\"fill:#e890c6;\"/>\r\n   </g>\r\n   <g id=\"patch_58\">\r\n    <path clip-path=\"url(#p80ae2f97d9)\" d=\"M 1144.612285 843.796875 \r\nL 1159.744488 843.796875 \r\nL 1159.744488 831.883385 \r\nL 1144.612285 831.883385 \r\nz\r\n\" style=\"fill:#e891c0;\"/>\r\n   </g>\r\n   <g id=\"patch_59\">\r\n    <path clip-path=\"url(#p80ae2f97d9)\" d=\"M 1163.527539 843.796875 \r\nL 1178.659743 843.796875 \r\nL 1178.659743 832.196898 \r\nL 1163.527539 832.196898 \r\nz\r\n\" style=\"fill:#e992b9;\"/>\r\n   </g>\r\n   <g id=\"patch_60\">\r\n    <path clip-path=\"url(#p80ae2f97d9)\" d=\"M 1182.442794 843.796875 \r\nL 1197.574997 843.796875 \r\nL 1197.574997 832.510411 \r\nL 1182.442794 832.510411 \r\nz\r\n\" style=\"fill:#e994b3;\"/>\r\n   </g>\r\n   <g id=\"patch_61\">\r\n    <path clip-path=\"url(#p80ae2f97d9)\" d=\"M 1201.358048 843.796875 \r\nL 1216.490251 843.796875 \r\nL 1216.490251 833.45095 \r\nL 1201.358048 833.45095 \r\nz\r\n\" style=\"fill:#e995ac;\"/>\r\n   </g>\r\n   <g id=\"matplotlib.axis_1\">\r\n    <g id=\"xtick_1\">\r\n     <g id=\"line2d_1\">\r\n      <defs>\r\n       <path d=\"M 0 0 \r\nL 0 3.5 \r\n\" id=\"m8f8433e071\" style=\"stroke:#000000;stroke-width:0.8;\"/>\r\n      </defs>\r\n      <g>\r\n       <use style=\"stroke:#000000;stroke-width:0.8;\" x=\"111.839404\" xlink:href=\"#m8f8433e071\" y=\"843.796875\"/>\r\n      </g>\r\n     </g>\r\n     <g id=\"text_1\">\r\n      <!-- India -->\r\n      <defs>\r\n       <path d=\"M 9.8125 72.90625 \r\nL 19.671875 72.90625 \r\nL 19.671875 0 \r\nL 9.8125 0 \r\nz\r\n\" id=\"DejaVuSans-73\"/>\r\n       <path d=\"M 54.890625 33.015625 \r\nL 54.890625 0 \r\nL 45.90625 0 \r\nL 45.90625 32.71875 \r\nQ 45.90625 40.484375 42.875 44.328125 \r\nQ 39.84375 48.1875 33.796875 48.1875 \r\nQ 26.515625 48.1875 22.3125 43.546875 \r\nQ 18.109375 38.921875 18.109375 30.90625 \r\nL 18.109375 0 \r\nL 9.078125 0 \r\nL 9.078125 54.6875 \r\nL 18.109375 54.6875 \r\nL 18.109375 46.1875 \r\nQ 21.34375 51.125 25.703125 53.5625 \r\nQ 30.078125 56 35.796875 56 \r\nQ 45.21875 56 50.046875 50.171875 \r\nQ 54.890625 44.34375 54.890625 33.015625 \r\nz\r\n\" id=\"DejaVuSans-110\"/>\r\n       <path d=\"M 45.40625 46.390625 \r\nL 45.40625 75.984375 \r\nL 54.390625 75.984375 \r\nL 54.390625 0 \r\nL 45.40625 0 \r\nL 45.40625 8.203125 \r\nQ 42.578125 3.328125 38.25 0.953125 \r\nQ 33.9375 -1.421875 27.875 -1.421875 \r\nQ 17.96875 -1.421875 11.734375 6.484375 \r\nQ 5.515625 14.40625 5.515625 27.296875 \r\nQ 5.515625 40.1875 11.734375 48.09375 \r\nQ 17.96875 56 27.875 56 \r\nQ 33.9375 56 38.25 53.625 \r\nQ 42.578125 51.265625 45.40625 46.390625 \r\nz\r\nM 14.796875 27.296875 \r\nQ 14.796875 17.390625 18.875 11.75 \r\nQ 22.953125 6.109375 30.078125 6.109375 \r\nQ 37.203125 6.109375 41.296875 11.75 \r\nQ 45.40625 17.390625 45.40625 27.296875 \r\nQ 45.40625 37.203125 41.296875 42.84375 \r\nQ 37.203125 48.484375 30.078125 48.484375 \r\nQ 22.953125 48.484375 18.875 42.84375 \r\nQ 14.796875 37.203125 14.796875 27.296875 \r\nz\r\n\" id=\"DejaVuSans-100\"/>\r\n       <path d=\"M 9.421875 54.6875 \r\nL 18.40625 54.6875 \r\nL 18.40625 0 \r\nL 9.421875 0 \r\nz\r\nM 9.421875 75.984375 \r\nL 18.40625 75.984375 \r\nL 18.40625 64.59375 \r\nL 9.421875 64.59375 \r\nz\r\n\" id=\"DejaVuSans-105\"/>\r\n       <path d=\"M 34.28125 27.484375 \r\nQ 23.390625 27.484375 19.1875 25 \r\nQ 14.984375 22.515625 14.984375 16.5 \r\nQ 14.984375 11.71875 18.140625 8.90625 \r\nQ 21.296875 6.109375 26.703125 6.109375 \r\nQ 34.1875 6.109375 38.703125 11.40625 \r\nQ 43.21875 16.703125 43.21875 25.484375 \r\nL 43.21875 27.484375 \r\nz\r\nM 52.203125 31.203125 \r\nL 52.203125 0 \r\nL 43.21875 0 \r\nL 43.21875 8.296875 \r\nQ 40.140625 3.328125 35.546875 0.953125 \r\nQ 30.953125 -1.421875 24.3125 -1.421875 \r\nQ 15.921875 -1.421875 10.953125 3.296875 \r\nQ 6 8.015625 6 15.921875 \r\nQ 6 25.140625 12.171875 29.828125 \r\nQ 18.359375 34.515625 30.609375 34.515625 \r\nL 43.21875 34.515625 \r\nL 43.21875 35.40625 \r\nQ 43.21875 41.609375 39.140625 45 \r\nQ 35.0625 48.390625 27.6875 48.390625 \r\nQ 23 48.390625 18.546875 47.265625 \r\nQ 14.109375 46.140625 10.015625 43.890625 \r\nL 10.015625 52.203125 \r\nQ 14.9375 54.109375 19.578125 55.046875 \r\nQ 24.21875 56 28.609375 56 \r\nQ 40.484375 56 46.34375 49.84375 \r\nQ 52.203125 43.703125 52.203125 31.203125 \r\nz\r\n\" id=\"DejaVuSans-97\"/>\r\n      </defs>\r\n      <g transform=\"translate(89.545402 869.648409)rotate(-30)scale(0.1 -0.1)\">\r\n       <use xlink:href=\"#DejaVuSans-73\"/>\r\n       <use x=\"29.492188\" xlink:href=\"#DejaVuSans-110\"/>\r\n       <use x=\"92.871094\" xlink:href=\"#DejaVuSans-100\"/>\r\n       <use x=\"156.347656\" xlink:href=\"#DejaVuSans-105\"/>\r\n       <use x=\"184.130859\" xlink:href=\"#DejaVuSans-97\"/>\r\n      </g>\r\n     </g>\r\n    </g>\r\n    <g id=\"xtick_2\">\r\n     <g id=\"line2d_2\">\r\n      <g>\r\n       <use style=\"stroke:#000000;stroke-width:0.8;\" x=\"130.754658\" xlink:href=\"#m8f8433e071\" y=\"843.796875\"/>\r\n      </g>\r\n     </g>\r\n     <g id=\"text_2\">\r\n      <!-- United States of America -->\r\n      <defs>\r\n       <path d=\"M 8.6875 72.90625 \r\nL 18.609375 72.90625 \r\nL 18.609375 28.609375 \r\nQ 18.609375 16.890625 22.84375 11.734375 \r\nQ 27.09375 6.59375 36.625 6.59375 \r\nQ 46.09375 6.59375 50.34375 11.734375 \r\nQ 54.59375 16.890625 54.59375 28.609375 \r\nL 54.59375 72.90625 \r\nL 64.5 72.90625 \r\nL 64.5 27.390625 \r\nQ 64.5 13.140625 57.4375 5.859375 \r\nQ 50.390625 -1.421875 36.625 -1.421875 \r\nQ 22.796875 -1.421875 15.734375 5.859375 \r\nQ 8.6875 13.140625 8.6875 27.390625 \r\nz\r\n\" id=\"DejaVuSans-85\"/>\r\n       <path d=\"M 18.3125 70.21875 \r\nL 18.3125 54.6875 \r\nL 36.8125 54.6875 \r\nL 36.8125 47.703125 \r\nL 18.3125 47.703125 \r\nL 18.3125 18.015625 \r\nQ 18.3125 11.328125 20.140625 9.421875 \r\nQ 21.96875 7.515625 27.59375 7.515625 \r\nL 36.8125 7.515625 \r\nL 36.8125 0 \r\nL 27.59375 0 \r\nQ 17.1875 0 13.234375 3.875 \r\nQ 9.28125 7.765625 9.28125 18.015625 \r\nL 9.28125 47.703125 \r\nL 2.6875 47.703125 \r\nL 2.6875 54.6875 \r\nL 9.28125 54.6875 \r\nL 9.28125 70.21875 \r\nz\r\n\" id=\"DejaVuSans-116\"/>\r\n       <path d=\"M 56.203125 29.59375 \r\nL 56.203125 25.203125 \r\nL 14.890625 25.203125 \r\nQ 15.484375 15.921875 20.484375 11.0625 \r\nQ 25.484375 6.203125 34.421875 6.203125 \r\nQ 39.59375 6.203125 44.453125 7.46875 \r\nQ 49.3125 8.734375 54.109375 11.28125 \r\nL 54.109375 2.78125 \r\nQ 49.265625 0.734375 44.1875 -0.34375 \r\nQ 39.109375 -1.421875 33.890625 -1.421875 \r\nQ 20.796875 -1.421875 13.15625 6.1875 \r\nQ 5.515625 13.8125 5.515625 26.8125 \r\nQ 5.515625 40.234375 12.765625 48.109375 \r\nQ 20.015625 56 32.328125 56 \r\nQ 43.359375 56 49.78125 48.890625 \r\nQ 56.203125 41.796875 56.203125 29.59375 \r\nz\r\nM 47.21875 32.234375 \r\nQ 47.125 39.59375 43.09375 43.984375 \r\nQ 39.0625 48.390625 32.421875 48.390625 \r\nQ 24.90625 48.390625 20.390625 44.140625 \r\nQ 15.875 39.890625 15.1875 32.171875 \r\nz\r\n\" id=\"DejaVuSans-101\"/>\r\n       <path id=\"DejaVuSans-32\"/>\r\n       <path d=\"M 53.515625 70.515625 \r\nL 53.515625 60.890625 \r\nQ 47.90625 63.578125 42.921875 64.890625 \r\nQ 37.9375 66.21875 33.296875 66.21875 \r\nQ 25.25 66.21875 20.875 63.09375 \r\nQ 16.5 59.96875 16.5 54.203125 \r\nQ 16.5 49.359375 19.40625 46.890625 \r\nQ 22.3125 44.4375 30.421875 42.921875 \r\nL 36.375 41.703125 \r\nQ 47.40625 39.59375 52.65625 34.296875 \r\nQ 57.90625 29 57.90625 20.125 \r\nQ 57.90625 9.515625 50.796875 4.046875 \r\nQ 43.703125 -1.421875 29.984375 -1.421875 \r\nQ 24.8125 -1.421875 18.96875 -0.25 \r\nQ 13.140625 0.921875 6.890625 3.21875 \r\nL 6.890625 13.375 \r\nQ 12.890625 10.015625 18.65625 8.296875 \r\nQ 24.421875 6.59375 29.984375 6.59375 \r\nQ 38.421875 6.59375 43.015625 9.90625 \r\nQ 47.609375 13.234375 47.609375 19.390625 \r\nQ 47.609375 24.75 44.3125 27.78125 \r\nQ 41.015625 30.8125 33.5 32.328125 \r\nL 27.484375 33.5 \r\nQ 16.453125 35.6875 11.515625 40.375 \r\nQ 6.59375 45.0625 6.59375 53.421875 \r\nQ 6.59375 63.09375 13.40625 68.65625 \r\nQ 20.21875 74.21875 32.171875 74.21875 \r\nQ 37.3125 74.21875 42.625 73.28125 \r\nQ 47.953125 72.359375 53.515625 70.515625 \r\nz\r\n\" id=\"DejaVuSans-83\"/>\r\n       <path d=\"M 44.28125 53.078125 \r\nL 44.28125 44.578125 \r\nQ 40.484375 46.53125 36.375 47.5 \r\nQ 32.28125 48.484375 27.875 48.484375 \r\nQ 21.1875 48.484375 17.84375 46.4375 \r\nQ 14.5 44.390625 14.5 40.28125 \r\nQ 14.5 37.15625 16.890625 35.375 \r\nQ 19.28125 33.59375 26.515625 31.984375 \r\nL 29.59375 31.296875 \r\nQ 39.15625 29.25 43.1875 25.515625 \r\nQ 47.21875 21.78125 47.21875 15.09375 \r\nQ 47.21875 7.46875 41.1875 3.015625 \r\nQ 35.15625 -1.421875 24.609375 -1.421875 \r\nQ 20.21875 -1.421875 15.453125 -0.5625 \r\nQ 10.6875 0.296875 5.421875 2 \r\nL 5.421875 11.28125 \r\nQ 10.40625 8.6875 15.234375 7.390625 \r\nQ 20.0625 6.109375 24.8125 6.109375 \r\nQ 31.15625 6.109375 34.5625 8.28125 \r\nQ 37.984375 10.453125 37.984375 14.40625 \r\nQ 37.984375 18.0625 35.515625 20.015625 \r\nQ 33.0625 21.96875 24.703125 23.78125 \r\nL 21.578125 24.515625 \r\nQ 13.234375 26.265625 9.515625 29.90625 \r\nQ 5.8125 33.546875 5.8125 39.890625 \r\nQ 5.8125 47.609375 11.28125 51.796875 \r\nQ 16.75 56 26.8125 56 \r\nQ 31.78125 56 36.171875 55.265625 \r\nQ 40.578125 54.546875 44.28125 53.078125 \r\nz\r\n\" id=\"DejaVuSans-115\"/>\r\n       <path d=\"M 30.609375 48.390625 \r\nQ 23.390625 48.390625 19.1875 42.75 \r\nQ 14.984375 37.109375 14.984375 27.296875 \r\nQ 14.984375 17.484375 19.15625 11.84375 \r\nQ 23.34375 6.203125 30.609375 6.203125 \r\nQ 37.796875 6.203125 41.984375 11.859375 \r\nQ 46.1875 17.53125 46.1875 27.296875 \r\nQ 46.1875 37.015625 41.984375 42.703125 \r\nQ 37.796875 48.390625 30.609375 48.390625 \r\nz\r\nM 30.609375 56 \r\nQ 42.328125 56 49.015625 48.375 \r\nQ 55.71875 40.765625 55.71875 27.296875 \r\nQ 55.71875 13.875 49.015625 6.21875 \r\nQ 42.328125 -1.421875 30.609375 -1.421875 \r\nQ 18.84375 -1.421875 12.171875 6.21875 \r\nQ 5.515625 13.875 5.515625 27.296875 \r\nQ 5.515625 40.765625 12.171875 48.375 \r\nQ 18.84375 56 30.609375 56 \r\nz\r\n\" id=\"DejaVuSans-111\"/>\r\n       <path d=\"M 37.109375 75.984375 \r\nL 37.109375 68.5 \r\nL 28.515625 68.5 \r\nQ 23.6875 68.5 21.796875 66.546875 \r\nQ 19.921875 64.59375 19.921875 59.515625 \r\nL 19.921875 54.6875 \r\nL 34.71875 54.6875 \r\nL 34.71875 47.703125 \r\nL 19.921875 47.703125 \r\nL 19.921875 0 \r\nL 10.890625 0 \r\nL 10.890625 47.703125 \r\nL 2.296875 47.703125 \r\nL 2.296875 54.6875 \r\nL 10.890625 54.6875 \r\nL 10.890625 58.5 \r\nQ 10.890625 67.625 15.140625 71.796875 \r\nQ 19.390625 75.984375 28.609375 75.984375 \r\nz\r\n\" id=\"DejaVuSans-102\"/>\r\n       <path d=\"M 34.1875 63.1875 \r\nL 20.796875 26.90625 \r\nL 47.609375 26.90625 \r\nz\r\nM 28.609375 72.90625 \r\nL 39.796875 72.90625 \r\nL 67.578125 0 \r\nL 57.328125 0 \r\nL 50.6875 18.703125 \r\nL 17.828125 18.703125 \r\nL 11.1875 0 \r\nL 0.78125 0 \r\nz\r\n\" id=\"DejaVuSans-65\"/>\r\n       <path d=\"M 52 44.1875 \r\nQ 55.375 50.25 60.0625 53.125 \r\nQ 64.75 56 71.09375 56 \r\nQ 79.640625 56 84.28125 50.015625 \r\nQ 88.921875 44.046875 88.921875 33.015625 \r\nL 88.921875 0 \r\nL 79.890625 0 \r\nL 79.890625 32.71875 \r\nQ 79.890625 40.578125 77.09375 44.375 \r\nQ 74.3125 48.1875 68.609375 48.1875 \r\nQ 61.625 48.1875 57.5625 43.546875 \r\nQ 53.515625 38.921875 53.515625 30.90625 \r\nL 53.515625 0 \r\nL 44.484375 0 \r\nL 44.484375 32.71875 \r\nQ 44.484375 40.625 41.703125 44.40625 \r\nQ 38.921875 48.1875 33.109375 48.1875 \r\nQ 26.21875 48.1875 22.15625 43.53125 \r\nQ 18.109375 38.875 18.109375 30.90625 \r\nL 18.109375 0 \r\nL 9.078125 0 \r\nL 9.078125 54.6875 \r\nL 18.109375 54.6875 \r\nL 18.109375 46.1875 \r\nQ 21.1875 51.21875 25.484375 53.609375 \r\nQ 29.78125 56 35.6875 56 \r\nQ 41.65625 56 45.828125 52.96875 \r\nQ 50 49.953125 52 44.1875 \r\nz\r\n\" id=\"DejaVuSans-109\"/>\r\n       <path d=\"M 41.109375 46.296875 \r\nQ 39.59375 47.171875 37.8125 47.578125 \r\nQ 36.03125 48 33.890625 48 \r\nQ 26.265625 48 22.1875 43.046875 \r\nQ 18.109375 38.09375 18.109375 28.8125 \r\nL 18.109375 0 \r\nL 9.078125 0 \r\nL 9.078125 54.6875 \r\nL 18.109375 54.6875 \r\nL 18.109375 46.1875 \r\nQ 20.953125 51.171875 25.484375 53.578125 \r\nQ 30.03125 56 36.53125 56 \r\nQ 37.453125 56 38.578125 55.875 \r\nQ 39.703125 55.765625 41.0625 55.515625 \r\nz\r\n\" id=\"DejaVuSans-114\"/>\r\n       <path d=\"M 48.78125 52.59375 \r\nL 48.78125 44.1875 \r\nQ 44.96875 46.296875 41.140625 47.34375 \r\nQ 37.3125 48.390625 33.40625 48.390625 \r\nQ 24.65625 48.390625 19.8125 42.84375 \r\nQ 14.984375 37.3125 14.984375 27.296875 \r\nQ 14.984375 17.28125 19.8125 11.734375 \r\nQ 24.65625 6.203125 33.40625 6.203125 \r\nQ 37.3125 6.203125 41.140625 7.25 \r\nQ 44.96875 8.296875 48.78125 10.40625 \r\nL 48.78125 2.09375 \r\nQ 45.015625 0.34375 40.984375 -0.53125 \r\nQ 36.96875 -1.421875 32.421875 -1.421875 \r\nQ 20.0625 -1.421875 12.78125 6.34375 \r\nQ 5.515625 14.109375 5.515625 27.296875 \r\nQ 5.515625 40.671875 12.859375 48.328125 \r\nQ 20.21875 56 33.015625 56 \r\nQ 37.15625 56 41.109375 55.140625 \r\nQ 45.0625 54.296875 48.78125 52.59375 \r\nz\r\n\" id=\"DejaVuSans-99\"/>\r\n      </defs>\r\n      <g transform=\"translate(21.496821 919.857002)rotate(-30)scale(0.1 -0.1)\">\r\n       <use xlink:href=\"#DejaVuSans-85\"/>\r\n       <use x=\"73.193359\" xlink:href=\"#DejaVuSans-110\"/>\r\n       <use x=\"136.572266\" xlink:href=\"#DejaVuSans-105\"/>\r\n       <use x=\"164.355469\" xlink:href=\"#DejaVuSans-116\"/>\r\n       <use x=\"203.564453\" xlink:href=\"#DejaVuSans-101\"/>\r\n       <use x=\"265.087891\" xlink:href=\"#DejaVuSans-100\"/>\r\n       <use x=\"328.564453\" xlink:href=\"#DejaVuSans-32\"/>\r\n       <use x=\"360.351562\" xlink:href=\"#DejaVuSans-83\"/>\r\n       <use x=\"423.828125\" xlink:href=\"#DejaVuSans-116\"/>\r\n       <use x=\"463.037109\" xlink:href=\"#DejaVuSans-97\"/>\r\n       <use x=\"524.316406\" xlink:href=\"#DejaVuSans-116\"/>\r\n       <use x=\"563.525391\" xlink:href=\"#DejaVuSans-101\"/>\r\n       <use x=\"625.048828\" xlink:href=\"#DejaVuSans-115\"/>\r\n       <use x=\"677.148438\" xlink:href=\"#DejaVuSans-32\"/>\r\n       <use x=\"708.935547\" xlink:href=\"#DejaVuSans-111\"/>\r\n       <use x=\"770.117188\" xlink:href=\"#DejaVuSans-102\"/>\r\n       <use x=\"805.322266\" xlink:href=\"#DejaVuSans-32\"/>\r\n       <use x=\"837.109375\" xlink:href=\"#DejaVuSans-65\"/>\r\n       <use x=\"905.517578\" xlink:href=\"#DejaVuSans-109\"/>\r\n       <use x=\"1002.929688\" xlink:href=\"#DejaVuSans-101\"/>\r\n       <use x=\"1064.453125\" xlink:href=\"#DejaVuSans-114\"/>\r\n       <use x=\"1105.566406\" xlink:href=\"#DejaVuSans-105\"/>\r\n       <use x=\"1133.349609\" xlink:href=\"#DejaVuSans-99\"/>\r\n       <use x=\"1188.330078\" xlink:href=\"#DejaVuSans-97\"/>\r\n      </g>\r\n     </g>\r\n    </g>\r\n    <g id=\"xtick_3\">\r\n     <g id=\"line2d_3\">\r\n      <g>\r\n       <use style=\"stroke:#000000;stroke-width:0.8;\" x=\"149.669912\" xlink:href=\"#m8f8433e071\" y=\"843.796875\"/>\r\n      </g>\r\n     </g>\r\n     <g id=\"text_3\">\r\n      <!-- Other -->\r\n      <defs>\r\n       <path d=\"M 39.40625 66.21875 \r\nQ 28.65625 66.21875 22.328125 58.203125 \r\nQ 16.015625 50.203125 16.015625 36.375 \r\nQ 16.015625 22.609375 22.328125 14.59375 \r\nQ 28.65625 6.59375 39.40625 6.59375 \r\nQ 50.140625 6.59375 56.421875 14.59375 \r\nQ 62.703125 22.609375 62.703125 36.375 \r\nQ 62.703125 50.203125 56.421875 58.203125 \r\nQ 50.140625 66.21875 39.40625 66.21875 \r\nz\r\nM 39.40625 74.21875 \r\nQ 54.734375 74.21875 63.90625 63.9375 \r\nQ 73.09375 53.65625 73.09375 36.375 \r\nQ 73.09375 19.140625 63.90625 8.859375 \r\nQ 54.734375 -1.421875 39.40625 -1.421875 \r\nQ 24.03125 -1.421875 14.8125 8.828125 \r\nQ 5.609375 19.09375 5.609375 36.375 \r\nQ 5.609375 53.65625 14.8125 63.9375 \r\nQ 24.03125 74.21875 39.40625 74.21875 \r\nz\r\n\" id=\"DejaVuSans-79\"/>\r\n       <path d=\"M 54.890625 33.015625 \r\nL 54.890625 0 \r\nL 45.90625 0 \r\nL 45.90625 32.71875 \r\nQ 45.90625 40.484375 42.875 44.328125 \r\nQ 39.84375 48.1875 33.796875 48.1875 \r\nQ 26.515625 48.1875 22.3125 43.546875 \r\nQ 18.109375 38.921875 18.109375 30.90625 \r\nL 18.109375 0 \r\nL 9.078125 0 \r\nL 9.078125 75.984375 \r\nL 18.109375 75.984375 \r\nL 18.109375 46.1875 \r\nQ 21.34375 51.125 25.703125 53.5625 \r\nQ 30.078125 56 35.796875 56 \r\nQ 45.21875 56 50.046875 50.171875 \r\nQ 54.890625 44.34375 54.890625 33.015625 \r\nz\r\n\" id=\"DejaVuSans-104\"/>\r\n      </defs>\r\n      <g transform=\"translate(124.04036 871.57419)rotate(-30)scale(0.1 -0.1)\">\r\n       <use xlink:href=\"#DejaVuSans-79\"/>\r\n       <use x=\"78.710938\" xlink:href=\"#DejaVuSans-116\"/>\r\n       <use x=\"117.919922\" xlink:href=\"#DejaVuSans-104\"/>\r\n       <use x=\"181.298828\" xlink:href=\"#DejaVuSans-101\"/>\r\n       <use x=\"242.822266\" xlink:href=\"#DejaVuSans-114\"/>\r\n      </g>\r\n     </g>\r\n    </g>\r\n    <g id=\"xtick_4\">\r\n     <g id=\"line2d_4\">\r\n      <g>\r\n       <use style=\"stroke:#000000;stroke-width:0.8;\" x=\"168.585166\" xlink:href=\"#m8f8433e071\" y=\"843.796875\"/>\r\n      </g>\r\n     </g>\r\n     <g id=\"text_4\">\r\n      <!-- Brazil -->\r\n      <defs>\r\n       <path d=\"M 19.671875 34.8125 \r\nL 19.671875 8.109375 \r\nL 35.5 8.109375 \r\nQ 43.453125 8.109375 47.28125 11.40625 \r\nQ 51.125 14.703125 51.125 21.484375 \r\nQ 51.125 28.328125 47.28125 31.5625 \r\nQ 43.453125 34.8125 35.5 34.8125 \r\nz\r\nM 19.671875 64.796875 \r\nL 19.671875 42.828125 \r\nL 34.28125 42.828125 \r\nQ 41.5 42.828125 45.03125 45.53125 \r\nQ 48.578125 48.25 48.578125 53.8125 \r\nQ 48.578125 59.328125 45.03125 62.0625 \r\nQ 41.5 64.796875 34.28125 64.796875 \r\nz\r\nM 9.8125 72.90625 \r\nL 35.015625 72.90625 \r\nQ 46.296875 72.90625 52.390625 68.21875 \r\nQ 58.5 63.53125 58.5 54.890625 \r\nQ 58.5 48.1875 55.375 44.234375 \r\nQ 52.25 40.28125 46.1875 39.3125 \r\nQ 53.46875 37.75 57.5 32.78125 \r\nQ 61.53125 27.828125 61.53125 20.40625 \r\nQ 61.53125 10.640625 54.890625 5.3125 \r\nQ 48.25 0 35.984375 0 \r\nL 9.8125 0 \r\nz\r\n\" id=\"DejaVuSans-66\"/>\r\n       <path d=\"M 5.515625 54.6875 \r\nL 48.1875 54.6875 \r\nL 48.1875 46.484375 \r\nL 14.40625 7.171875 \r\nL 48.1875 7.171875 \r\nL 48.1875 0 \r\nL 4.296875 0 \r\nL 4.296875 8.203125 \r\nL 38.09375 47.515625 \r\nL 5.515625 47.515625 \r\nz\r\n\" id=\"DejaVuSans-122\"/>\r\n       <path d=\"M 9.421875 75.984375 \r\nL 18.40625 75.984375 \r\nL 18.40625 0 \r\nL 9.421875 0 \r\nz\r\n\" id=\"DejaVuSans-108\"/>\r\n      </defs>\r\n      <g transform=\"translate(143.379154 871.329659)rotate(-30)scale(0.1 -0.1)\">\r\n       <use xlink:href=\"#DejaVuSans-66\"/>\r\n       <use x=\"68.603516\" xlink:href=\"#DejaVuSans-114\"/>\r\n       <use x=\"109.716797\" xlink:href=\"#DejaVuSans-97\"/>\r\n       <use x=\"170.996094\" xlink:href=\"#DejaVuSans-122\"/>\r\n       <use x=\"223.486328\" xlink:href=\"#DejaVuSans-105\"/>\r\n       <use x=\"251.269531\" xlink:href=\"#DejaVuSans-108\"/>\r\n      </g>\r\n     </g>\r\n    </g>\r\n    <g id=\"xtick_5\">\r\n     <g id=\"line2d_5\">\r\n      <g>\r\n       <use style=\"stroke:#000000;stroke-width:0.8;\" x=\"187.500421\" xlink:href=\"#m8f8433e071\" y=\"843.796875\"/>\r\n      </g>\r\n     </g>\r\n     <g id=\"text_5\">\r\n      <!-- Japan -->\r\n      <defs>\r\n       <path d=\"M 9.8125 72.90625 \r\nL 19.671875 72.90625 \r\nL 19.671875 5.078125 \r\nQ 19.671875 -8.109375 14.671875 -14.0625 \r\nQ 9.671875 -20.015625 -1.421875 -20.015625 \r\nL -5.171875 -20.015625 \r\nL -5.171875 -11.71875 \r\nL -2.09375 -11.71875 \r\nQ 4.4375 -11.71875 7.125 -8.046875 \r\nQ 9.8125 -4.390625 9.8125 5.078125 \r\nz\r\n\" id=\"DejaVuSans-74\"/>\r\n       <path d=\"M 18.109375 8.203125 \r\nL 18.109375 -20.796875 \r\nL 9.078125 -20.796875 \r\nL 9.078125 54.6875 \r\nL 18.109375 54.6875 \r\nL 18.109375 46.390625 \r\nQ 20.953125 51.265625 25.265625 53.625 \r\nQ 29.59375 56 35.59375 56 \r\nQ 45.5625 56 51.78125 48.09375 \r\nQ 58.015625 40.1875 58.015625 27.296875 \r\nQ 58.015625 14.40625 51.78125 6.484375 \r\nQ 45.5625 -1.421875 35.59375 -1.421875 \r\nQ 29.59375 -1.421875 25.265625 0.953125 \r\nQ 20.953125 3.328125 18.109375 8.203125 \r\nz\r\nM 48.6875 27.296875 \r\nQ 48.6875 37.203125 44.609375 42.84375 \r\nQ 40.53125 48.484375 33.40625 48.484375 \r\nQ 26.265625 48.484375 22.1875 42.84375 \r\nQ 18.109375 37.203125 18.109375 27.296875 \r\nQ 18.109375 17.390625 22.1875 11.75 \r\nQ 26.265625 6.109375 33.40625 6.109375 \r\nQ 40.53125 6.109375 44.609375 11.75 \r\nQ 48.6875 17.390625 48.6875 27.296875 \r\nz\r\n\" id=\"DejaVuSans-112\"/>\r\n      </defs>\r\n      <g transform=\"translate(162.305234 871.323409)rotate(-30)scale(0.1 -0.1)\">\r\n       <use xlink:href=\"#DejaVuSans-74\"/>\r\n       <use x=\"29.492188\" xlink:href=\"#DejaVuSans-97\"/>\r\n       <use x=\"90.771484\" xlink:href=\"#DejaVuSans-112\"/>\r\n       <use x=\"154.248047\" xlink:href=\"#DejaVuSans-97\"/>\r\n       <use x=\"215.527344\" xlink:href=\"#DejaVuSans-110\"/>\r\n      </g>\r\n     </g>\r\n    </g>\r\n    <g id=\"xtick_6\">\r\n     <g id=\"line2d_6\">\r\n      <g>\r\n       <use style=\"stroke:#000000;stroke-width:0.8;\" x=\"206.415675\" xlink:href=\"#m8f8433e071\" y=\"843.796875\"/>\r\n      </g>\r\n     </g>\r\n     <g id=\"text_6\">\r\n      <!-- Russia -->\r\n      <defs>\r\n       <path d=\"M 44.390625 34.1875 \r\nQ 47.5625 33.109375 50.5625 29.59375 \r\nQ 53.5625 26.078125 56.59375 19.921875 \r\nL 66.609375 0 \r\nL 56 0 \r\nL 46.6875 18.703125 \r\nQ 43.0625 26.03125 39.671875 28.421875 \r\nQ 36.28125 30.8125 30.421875 30.8125 \r\nL 19.671875 30.8125 \r\nL 19.671875 0 \r\nL 9.8125 0 \r\nL 9.8125 72.90625 \r\nL 32.078125 72.90625 \r\nQ 44.578125 72.90625 50.734375 67.671875 \r\nQ 56.890625 62.453125 56.890625 51.90625 \r\nQ 56.890625 45.015625 53.6875 40.46875 \r\nQ 50.484375 35.9375 44.390625 34.1875 \r\nz\r\nM 19.671875 64.796875 \r\nL 19.671875 38.921875 \r\nL 32.078125 38.921875 \r\nQ 39.203125 38.921875 42.84375 42.21875 \r\nQ 46.484375 45.515625 46.484375 51.90625 \r\nQ 46.484375 58.296875 42.84375 61.546875 \r\nQ 39.203125 64.796875 32.078125 64.796875 \r\nz\r\n\" id=\"DejaVuSans-82\"/>\r\n       <path d=\"M 8.5 21.578125 \r\nL 8.5 54.6875 \r\nL 17.484375 54.6875 \r\nL 17.484375 21.921875 \r\nQ 17.484375 14.15625 20.5 10.265625 \r\nQ 23.53125 6.390625 29.59375 6.390625 \r\nQ 36.859375 6.390625 41.078125 11.03125 \r\nQ 45.3125 15.671875 45.3125 23.6875 \r\nL 45.3125 54.6875 \r\nL 54.296875 54.6875 \r\nL 54.296875 0 \r\nL 45.3125 0 \r\nL 45.3125 8.40625 \r\nQ 42.046875 3.421875 37.71875 1 \r\nQ 33.40625 -1.421875 27.6875 -1.421875 \r\nQ 18.265625 -1.421875 13.375 4.4375 \r\nQ 8.5 10.296875 8.5 21.578125 \r\nz\r\nM 31.109375 56 \r\nz\r\n\" id=\"DejaVuSans-117\"/>\r\n      </defs>\r\n      <g transform=\"translate(177.139344 873.679659)rotate(-30)scale(0.1 -0.1)\">\r\n       <use xlink:href=\"#DejaVuSans-82\"/>\r\n       <use x=\"69.419922\" xlink:href=\"#DejaVuSans-117\"/>\r\n       <use x=\"132.798828\" xlink:href=\"#DejaVuSans-115\"/>\r\n       <use x=\"184.898438\" xlink:href=\"#DejaVuSans-115\"/>\r\n       <use x=\"236.998047\" xlink:href=\"#DejaVuSans-105\"/>\r\n       <use x=\"264.78125\" xlink:href=\"#DejaVuSans-97\"/>\r\n      </g>\r\n     </g>\r\n    </g>\r\n    <g id=\"xtick_7\">\r\n     <g id=\"line2d_7\">\r\n      <g>\r\n       <use style=\"stroke:#000000;stroke-width:0.8;\" x=\"225.330929\" xlink:href=\"#m8f8433e071\" y=\"843.796875\"/>\r\n      </g>\r\n     </g>\r\n     <g id=\"text_7\">\r\n      <!-- Germany -->\r\n      <defs>\r\n       <path d=\"M 59.515625 10.40625 \r\nL 59.515625 29.984375 \r\nL 43.40625 29.984375 \r\nL 43.40625 38.09375 \r\nL 69.28125 38.09375 \r\nL 69.28125 6.78125 \r\nQ 63.578125 2.734375 56.6875 0.65625 \r\nQ 49.8125 -1.421875 42 -1.421875 \r\nQ 24.90625 -1.421875 15.25 8.5625 \r\nQ 5.609375 18.5625 5.609375 36.375 \r\nQ 5.609375 54.25 15.25 64.234375 \r\nQ 24.90625 74.21875 42 74.21875 \r\nQ 49.125 74.21875 55.546875 72.453125 \r\nQ 61.96875 70.703125 67.390625 67.28125 \r\nL 67.390625 56.78125 \r\nQ 61.921875 61.421875 55.765625 63.765625 \r\nQ 49.609375 66.109375 42.828125 66.109375 \r\nQ 29.4375 66.109375 22.71875 58.640625 \r\nQ 16.015625 51.171875 16.015625 36.375 \r\nQ 16.015625 21.625 22.71875 14.15625 \r\nQ 29.4375 6.6875 42.828125 6.6875 \r\nQ 48.046875 6.6875 52.140625 7.59375 \r\nQ 56.25 8.5 59.515625 10.40625 \r\nz\r\n\" id=\"DejaVuSans-71\"/>\r\n       <path d=\"M 32.171875 -5.078125 \r\nQ 28.375 -14.84375 24.75 -17.8125 \r\nQ 21.140625 -20.796875 15.09375 -20.796875 \r\nL 7.90625 -20.796875 \r\nL 7.90625 -13.28125 \r\nL 13.1875 -13.28125 \r\nQ 16.890625 -13.28125 18.9375 -11.515625 \r\nQ 21 -9.765625 23.484375 -3.21875 \r\nL 25.09375 0.875 \r\nL 2.984375 54.6875 \r\nL 12.5 54.6875 \r\nL 29.59375 11.921875 \r\nL 46.6875 54.6875 \r\nL 56.203125 54.6875 \r\nz\r\n\" id=\"DejaVuSans-121\"/>\r\n      </defs>\r\n      <g transform=\"translate(184.336191 880.445284)rotate(-30)scale(0.1 -0.1)\">\r\n       <use xlink:href=\"#DejaVuSans-71\"/>\r\n       <use x=\"77.490234\" xlink:href=\"#DejaVuSans-101\"/>\r\n       <use x=\"139.013672\" xlink:href=\"#DejaVuSans-114\"/>\r\n       <use x=\"180.111328\" xlink:href=\"#DejaVuSans-109\"/>\r\n       <use x=\"277.523438\" xlink:href=\"#DejaVuSans-97\"/>\r\n       <use x=\"338.802734\" xlink:href=\"#DejaVuSans-110\"/>\r\n       <use x=\"402.181641\" xlink:href=\"#DejaVuSans-121\"/>\r\n      </g>\r\n     </g>\r\n    </g>\r\n    <g id=\"xtick_8\">\r\n     <g id=\"line2d_8\">\r\n      <g>\r\n       <use style=\"stroke:#000000;stroke-width:0.8;\" x=\"244.246183\" xlink:href=\"#m8f8433e071\" y=\"843.796875\"/>\r\n      </g>\r\n     </g>\r\n     <g id=\"text_8\">\r\n      <!-- United Kingdom of Great Britain and Northern Ireland -->\r\n      <defs>\r\n       <path d=\"M 9.8125 72.90625 \r\nL 19.671875 72.90625 \r\nL 19.671875 42.09375 \r\nL 52.390625 72.90625 \r\nL 65.09375 72.90625 \r\nL 28.90625 38.921875 \r\nL 67.671875 0 \r\nL 54.6875 0 \r\nL 19.671875 35.109375 \r\nL 19.671875 0 \r\nL 9.8125 0 \r\nz\r\n\" id=\"DejaVuSans-75\"/>\r\n       <path d=\"M 45.40625 27.984375 \r\nQ 45.40625 37.75 41.375 43.109375 \r\nQ 37.359375 48.484375 30.078125 48.484375 \r\nQ 22.859375 48.484375 18.828125 43.109375 \r\nQ 14.796875 37.75 14.796875 27.984375 \r\nQ 14.796875 18.265625 18.828125 12.890625 \r\nQ 22.859375 7.515625 30.078125 7.515625 \r\nQ 37.359375 7.515625 41.375 12.890625 \r\nQ 45.40625 18.265625 45.40625 27.984375 \r\nz\r\nM 54.390625 6.78125 \r\nQ 54.390625 -7.171875 48.1875 -13.984375 \r\nQ 42 -20.796875 29.203125 -20.796875 \r\nQ 24.46875 -20.796875 20.265625 -20.09375 \r\nQ 16.0625 -19.390625 12.109375 -17.921875 \r\nL 12.109375 -9.1875 \r\nQ 16.0625 -11.328125 19.921875 -12.34375 \r\nQ 23.78125 -13.375 27.78125 -13.375 \r\nQ 36.625 -13.375 41.015625 -8.765625 \r\nQ 45.40625 -4.15625 45.40625 5.171875 \r\nL 45.40625 9.625 \r\nQ 42.625 4.78125 38.28125 2.390625 \r\nQ 33.9375 0 27.875 0 \r\nQ 17.828125 0 11.671875 7.65625 \r\nQ 5.515625 15.328125 5.515625 27.984375 \r\nQ 5.515625 40.671875 11.671875 48.328125 \r\nQ 17.828125 56 27.875 56 \r\nQ 33.9375 56 38.28125 53.609375 \r\nQ 42.625 51.21875 45.40625 46.390625 \r\nL 45.40625 54.6875 \r\nL 54.390625 54.6875 \r\nz\r\n\" id=\"DejaVuSans-103\"/>\r\n       <path d=\"M 9.8125 72.90625 \r\nL 23.09375 72.90625 \r\nL 55.421875 11.921875 \r\nL 55.421875 72.90625 \r\nL 64.984375 72.90625 \r\nL 64.984375 0 \r\nL 51.703125 0 \r\nL 19.390625 60.984375 \r\nL 19.390625 0 \r\nL 9.8125 0 \r\nz\r\n\" id=\"DejaVuSans-78\"/>\r\n      </defs>\r\n      <g transform=\"translate(10.999219 991.442159)rotate(-30)scale(0.1 -0.1)\">\r\n       <use xlink:href=\"#DejaVuSans-85\"/>\r\n       <use x=\"73.193359\" xlink:href=\"#DejaVuSans-110\"/>\r\n       <use x=\"136.572266\" xlink:href=\"#DejaVuSans-105\"/>\r\n       <use x=\"164.355469\" xlink:href=\"#DejaVuSans-116\"/>\r\n       <use x=\"203.564453\" xlink:href=\"#DejaVuSans-101\"/>\r\n       <use x=\"265.087891\" xlink:href=\"#DejaVuSans-100\"/>\r\n       <use x=\"328.564453\" xlink:href=\"#DejaVuSans-32\"/>\r\n       <use x=\"360.351562\" xlink:href=\"#DejaVuSans-75\"/>\r\n       <use x=\"425.927734\" xlink:href=\"#DejaVuSans-105\"/>\r\n       <use x=\"453.710938\" xlink:href=\"#DejaVuSans-110\"/>\r\n       <use x=\"517.089844\" xlink:href=\"#DejaVuSans-103\"/>\r\n       <use x=\"580.566406\" xlink:href=\"#DejaVuSans-100\"/>\r\n       <use x=\"644.042969\" xlink:href=\"#DejaVuSans-111\"/>\r\n       <use x=\"705.224609\" xlink:href=\"#DejaVuSans-109\"/>\r\n       <use x=\"802.636719\" xlink:href=\"#DejaVuSans-32\"/>\r\n       <use x=\"834.423828\" xlink:href=\"#DejaVuSans-111\"/>\r\n       <use x=\"895.605469\" xlink:href=\"#DejaVuSans-102\"/>\r\n       <use x=\"930.810547\" xlink:href=\"#DejaVuSans-32\"/>\r\n       <use x=\"962.597656\" xlink:href=\"#DejaVuSans-71\"/>\r\n       <use x=\"1040.087891\" xlink:href=\"#DejaVuSans-114\"/>\r\n       <use x=\"1081.169922\" xlink:href=\"#DejaVuSans-101\"/>\r\n       <use x=\"1142.693359\" xlink:href=\"#DejaVuSans-97\"/>\r\n       <use x=\"1203.972656\" xlink:href=\"#DejaVuSans-116\"/>\r\n       <use x=\"1243.181641\" xlink:href=\"#DejaVuSans-32\"/>\r\n       <use x=\"1274.96875\" xlink:href=\"#DejaVuSans-66\"/>\r\n       <use x=\"1343.572266\" xlink:href=\"#DejaVuSans-114\"/>\r\n       <use x=\"1384.685547\" xlink:href=\"#DejaVuSans-105\"/>\r\n       <use x=\"1412.46875\" xlink:href=\"#DejaVuSans-116\"/>\r\n       <use x=\"1451.677734\" xlink:href=\"#DejaVuSans-97\"/>\r\n       <use x=\"1512.957031\" xlink:href=\"#DejaVuSans-105\"/>\r\n       <use x=\"1540.740234\" xlink:href=\"#DejaVuSans-110\"/>\r\n       <use x=\"1604.119141\" xlink:href=\"#DejaVuSans-32\"/>\r\n       <use x=\"1635.90625\" xlink:href=\"#DejaVuSans-97\"/>\r\n       <use x=\"1697.185547\" xlink:href=\"#DejaVuSans-110\"/>\r\n       <use x=\"1760.564453\" xlink:href=\"#DejaVuSans-100\"/>\r\n       <use x=\"1824.041016\" xlink:href=\"#DejaVuSans-32\"/>\r\n       <use x=\"1855.828125\" xlink:href=\"#DejaVuSans-78\"/>\r\n       <use x=\"1930.632812\" xlink:href=\"#DejaVuSans-111\"/>\r\n       <use x=\"1991.814453\" xlink:href=\"#DejaVuSans-114\"/>\r\n       <use x=\"2032.927734\" xlink:href=\"#DejaVuSans-116\"/>\r\n       <use x=\"2072.136719\" xlink:href=\"#DejaVuSans-104\"/>\r\n       <use x=\"2135.515625\" xlink:href=\"#DejaVuSans-101\"/>\r\n       <use x=\"2197.039062\" xlink:href=\"#DejaVuSans-114\"/>\r\n       <use x=\"2238.136719\" xlink:href=\"#DejaVuSans-110\"/>\r\n       <use x=\"2301.515625\" xlink:href=\"#DejaVuSans-32\"/>\r\n       <use x=\"2333.302734\" xlink:href=\"#DejaVuSans-73\"/>\r\n       <use x=\"2362.794922\" xlink:href=\"#DejaVuSans-114\"/>\r\n       <use x=\"2403.876953\" xlink:href=\"#DejaVuSans-101\"/>\r\n       <use x=\"2465.400391\" xlink:href=\"#DejaVuSans-108\"/>\r\n       <use x=\"2493.183594\" xlink:href=\"#DejaVuSans-97\"/>\r\n       <use x=\"2554.462891\" xlink:href=\"#DejaVuSans-110\"/>\r\n       <use x=\"2617.841797\" xlink:href=\"#DejaVuSans-100\"/>\r\n      </g>\r\n     </g>\r\n    </g>\r\n    <g id=\"xtick_9\">\r\n     <g id=\"line2d_9\">\r\n      <g>\r\n       <use style=\"stroke:#000000;stroke-width:0.8;\" x=\"263.161438\" xlink:href=\"#m8f8433e071\" y=\"843.796875\"/>\r\n      </g>\r\n     </g>\r\n     <g id=\"text_9\">\r\n      <!-- Spain -->\r\n      <g transform=\"translate(237.924303 871.347627)rotate(-30)scale(0.1 -0.1)\">\r\n       <use xlink:href=\"#DejaVuSans-83\"/>\r\n       <use x=\"63.476562\" xlink:href=\"#DejaVuSans-112\"/>\r\n       <use x=\"126.953125\" xlink:href=\"#DejaVuSans-97\"/>\r\n       <use x=\"188.232422\" xlink:href=\"#DejaVuSans-105\"/>\r\n       <use x=\"216.015625\" xlink:href=\"#DejaVuSans-110\"/>\r\n      </g>\r\n     </g>\r\n    </g>\r\n    <g id=\"xtick_10\">\r\n     <g id=\"line2d_10\">\r\n      <g>\r\n       <use style=\"stroke:#000000;stroke-width:0.8;\" x=\"282.076692\" xlink:href=\"#m8f8433e071\" y=\"843.796875\"/>\r\n      </g>\r\n     </g>\r\n     <g id=\"text_10\">\r\n      <!-- Canada -->\r\n      <defs>\r\n       <path d=\"M 64.40625 67.28125 \r\nL 64.40625 56.890625 \r\nQ 59.421875 61.53125 53.78125 63.8125 \r\nQ 48.140625 66.109375 41.796875 66.109375 \r\nQ 29.296875 66.109375 22.65625 58.46875 \r\nQ 16.015625 50.828125 16.015625 36.375 \r\nQ 16.015625 21.96875 22.65625 14.328125 \r\nQ 29.296875 6.6875 41.796875 6.6875 \r\nQ 48.140625 6.6875 53.78125 8.984375 \r\nQ 59.421875 11.28125 64.40625 15.921875 \r\nL 64.40625 5.609375 \r\nQ 59.234375 2.09375 53.4375 0.328125 \r\nQ 47.65625 -1.421875 41.21875 -1.421875 \r\nQ 24.65625 -1.421875 15.125 8.703125 \r\nQ 5.609375 18.84375 5.609375 36.375 \r\nQ 5.609375 53.953125 15.125 64.078125 \r\nQ 24.65625 74.21875 41.21875 74.21875 \r\nQ 47.75 74.21875 53.53125 72.484375 \r\nQ 59.328125 70.75 64.40625 67.28125 \r\nz\r\n\" id=\"DejaVuSans-67\"/>\r\n      </defs>\r\n      <g transform=\"translate(248.081875 876.403877)rotate(-30)scale(0.1 -0.1)\">\r\n       <use xlink:href=\"#DejaVuSans-67\"/>\r\n       <use x=\"69.824219\" xlink:href=\"#DejaVuSans-97\"/>\r\n       <use x=\"131.103516\" xlink:href=\"#DejaVuSans-110\"/>\r\n       <use x=\"194.482422\" xlink:href=\"#DejaVuSans-97\"/>\r\n       <use x=\"255.761719\" xlink:href=\"#DejaVuSans-100\"/>\r\n       <use x=\"319.238281\" xlink:href=\"#DejaVuSans-97\"/>\r\n      </g>\r\n     </g>\r\n    </g>\r\n    <g id=\"xtick_11\">\r\n     <g id=\"line2d_11\">\r\n      <g>\r\n       <use style=\"stroke:#000000;stroke-width:0.8;\" x=\"300.991946\" xlink:href=\"#m8f8433e071\" y=\"843.796875\"/>\r\n      </g>\r\n     </g>\r\n     <g id=\"text_11\">\r\n      <!-- France -->\r\n      <defs>\r\n       <path d=\"M 9.8125 72.90625 \r\nL 51.703125 72.90625 \r\nL 51.703125 64.59375 \r\nL 19.671875 64.59375 \r\nL 19.671875 43.109375 \r\nL 48.578125 43.109375 \r\nL 48.578125 34.8125 \r\nL 19.671875 34.8125 \r\nL 19.671875 0 \r\nL 9.8125 0 \r\nz\r\n\" id=\"DejaVuSans-70\"/>\r\n      </defs>\r\n      <g transform=\"translate(270.534302 874.36169)rotate(-30)scale(0.1 -0.1)\">\r\n       <use xlink:href=\"#DejaVuSans-70\"/>\r\n       <use x=\"57.410156\" xlink:href=\"#DejaVuSans-114\"/>\r\n       <use x=\"98.523438\" xlink:href=\"#DejaVuSans-97\"/>\r\n       <use x=\"159.802734\" xlink:href=\"#DejaVuSans-110\"/>\r\n       <use x=\"223.181641\" xlink:href=\"#DejaVuSans-99\"/>\r\n       <use x=\"278.162109\" xlink:href=\"#DejaVuSans-101\"/>\r\n      </g>\r\n     </g>\r\n    </g>\r\n    <g id=\"xtick_12\">\r\n     <g id=\"line2d_12\">\r\n      <g>\r\n       <use style=\"stroke:#000000;stroke-width:0.8;\" x=\"319.9072\" xlink:href=\"#m8f8433e071\" y=\"843.796875\"/>\r\n      </g>\r\n     </g>\r\n     <g id=\"text_12\">\r\n      <!-- China -->\r\n      <g transform=\"translate(294.130153 871.659346)rotate(-30)scale(0.1 -0.1)\">\r\n       <use xlink:href=\"#DejaVuSans-67\"/>\r\n       <use x=\"69.824219\" xlink:href=\"#DejaVuSans-104\"/>\r\n       <use x=\"133.203125\" xlink:href=\"#DejaVuSans-105\"/>\r\n       <use x=\"160.986328\" xlink:href=\"#DejaVuSans-110\"/>\r\n       <use x=\"224.365234\" xlink:href=\"#DejaVuSans-97\"/>\r\n      </g>\r\n     </g>\r\n    </g>\r\n    <g id=\"xtick_13\">\r\n     <g id=\"line2d_13\">\r\n      <g>\r\n       <use style=\"stroke:#000000;stroke-width:0.8;\" x=\"338.822455\" xlink:href=\"#m8f8433e071\" y=\"843.796875\"/>\r\n      </g>\r\n     </g>\r\n     <g id=\"text_13\">\r\n      <!-- Nigeria -->\r\n      <g transform=\"translate(306.797846 875.266377)rotate(-30)scale(0.1 -0.1)\">\r\n       <use xlink:href=\"#DejaVuSans-78\"/>\r\n       <use x=\"74.804688\" xlink:href=\"#DejaVuSans-105\"/>\r\n       <use x=\"102.587891\" xlink:href=\"#DejaVuSans-103\"/>\r\n       <use x=\"166.064453\" xlink:href=\"#DejaVuSans-101\"/>\r\n       <use x=\"227.587891\" xlink:href=\"#DejaVuSans-114\"/>\r\n       <use x=\"268.701172\" xlink:href=\"#DejaVuSans-105\"/>\r\n       <use x=\"296.484375\" xlink:href=\"#DejaVuSans-97\"/>\r\n      </g>\r\n     </g>\r\n    </g>\r\n    <g id=\"xtick_14\">\r\n     <g id=\"line2d_14\">\r\n      <g>\r\n       <use style=\"stroke:#000000;stroke-width:0.8;\" x=\"357.737709\" xlink:href=\"#m8f8433e071\" y=\"843.796875\"/>\r\n      </g>\r\n     </g>\r\n     <g id=\"text_14\">\r\n      <!-- Australia -->\r\n      <g transform=\"translate(318.392479 879.49294)rotate(-30)scale(0.1 -0.1)\">\r\n       <use xlink:href=\"#DejaVuSans-65\"/>\r\n       <use x=\"68.408203\" xlink:href=\"#DejaVuSans-117\"/>\r\n       <use x=\"131.787109\" xlink:href=\"#DejaVuSans-115\"/>\r\n       <use x=\"183.886719\" xlink:href=\"#DejaVuSans-116\"/>\r\n       <use x=\"223.095703\" xlink:href=\"#DejaVuSans-114\"/>\r\n       <use x=\"264.208984\" xlink:href=\"#DejaVuSans-97\"/>\r\n       <use x=\"325.488281\" xlink:href=\"#DejaVuSans-108\"/>\r\n       <use x=\"353.271484\" xlink:href=\"#DejaVuSans-105\"/>\r\n       <use x=\"381.054688\" xlink:href=\"#DejaVuSans-97\"/>\r\n      </g>\r\n     </g>\r\n    </g>\r\n    <g id=\"xtick_15\">\r\n     <g id=\"line2d_15\">\r\n      <g>\r\n       <use style=\"stroke:#000000;stroke-width:0.8;\" x=\"376.652963\" xlink:href=\"#m8f8433e071\" y=\"843.796875\"/>\r\n      </g>\r\n     </g>\r\n     <g id=\"text_15\">\r\n      <!-- Italy -->\r\n      <g transform=\"translate(356.824428 868.224971)rotate(-30)scale(0.1 -0.1)\">\r\n       <use xlink:href=\"#DejaVuSans-73\"/>\r\n       <use x=\"29.492188\" xlink:href=\"#DejaVuSans-116\"/>\r\n       <use x=\"68.701172\" xlink:href=\"#DejaVuSans-97\"/>\r\n       <use x=\"129.980469\" xlink:href=\"#DejaVuSans-108\"/>\r\n       <use x=\"157.763672\" xlink:href=\"#DejaVuSans-121\"/>\r\n      </g>\r\n     </g>\r\n    </g>\r\n    <g id=\"xtick_16\">\r\n     <g id=\"line2d_16\">\r\n      <g>\r\n       <use style=\"stroke:#000000;stroke-width:0.8;\" x=\"395.568217\" xlink:href=\"#m8f8433e071\" y=\"843.796875\"/>\r\n      </g>\r\n     </g>\r\n     <g id=\"text_16\">\r\n      <!-- Turkey -->\r\n      <defs>\r\n       <path d=\"M -0.296875 72.90625 \r\nL 61.375 72.90625 \r\nL 61.375 64.59375 \r\nL 35.5 64.59375 \r\nL 35.5 0 \r\nL 25.59375 0 \r\nL 25.59375 64.59375 \r\nL -0.296875 64.59375 \r\nz\r\n\" id=\"DejaVuSans-84\"/>\r\n       <path d=\"M 9.078125 75.984375 \r\nL 18.109375 75.984375 \r\nL 18.109375 31.109375 \r\nL 44.921875 54.6875 \r\nL 56.390625 54.6875 \r\nL 27.390625 29.109375 \r\nL 57.625 0 \r\nL 45.90625 0 \r\nL 18.109375 26.703125 \r\nL 18.109375 0 \r\nL 9.078125 0 \r\nz\r\n\" id=\"DejaVuSans-107\"/>\r\n      </defs>\r\n      <g transform=\"translate(364.745219 874.572627)rotate(-30)scale(0.1 -0.1)\">\r\n       <use xlink:href=\"#DejaVuSans-84\"/>\r\n       <use x=\"60.849609\" xlink:href=\"#DejaVuSans-117\"/>\r\n       <use x=\"124.228516\" xlink:href=\"#DejaVuSans-114\"/>\r\n       <use x=\"165.341797\" xlink:href=\"#DejaVuSans-107\"/>\r\n       <use x=\"223.205078\" xlink:href=\"#DejaVuSans-101\"/>\r\n       <use x=\"284.728516\" xlink:href=\"#DejaVuSans-121\"/>\r\n      </g>\r\n     </g>\r\n    </g>\r\n    <g id=\"xtick_17\">\r\n     <g id=\"line2d_17\">\r\n      <g>\r\n       <use style=\"stroke:#000000;stroke-width:0.8;\" x=\"414.483472\" xlink:href=\"#m8f8433e071\" y=\"843.796875\"/>\r\n      </g>\r\n     </g>\r\n     <g id=\"text_17\">\r\n      <!-- Taiwan -->\r\n      <defs>\r\n       <path d=\"M 4.203125 54.6875 \r\nL 13.1875 54.6875 \r\nL 24.421875 12.015625 \r\nL 35.59375 54.6875 \r\nL 46.1875 54.6875 \r\nL 57.421875 12.015625 \r\nL 68.609375 54.6875 \r\nL 77.59375 54.6875 \r\nL 63.28125 0 \r\nL 52.6875 0 \r\nL 40.921875 44.828125 \r\nL 29.109375 0 \r\nL 18.5 0 \r\nz\r\n\" id=\"DejaVuSans-119\"/>\r\n      </defs>\r\n      <g transform=\"translate(382.584707 875.193721)rotate(-30)scale(0.1 -0.1)\">\r\n       <use xlink:href=\"#DejaVuSans-84\"/>\r\n       <use x=\"60.833984\" xlink:href=\"#DejaVuSans-97\"/>\r\n       <use x=\"122.113281\" xlink:href=\"#DejaVuSans-105\"/>\r\n       <use x=\"149.896484\" xlink:href=\"#DejaVuSans-119\"/>\r\n       <use x=\"231.683594\" xlink:href=\"#DejaVuSans-97\"/>\r\n       <use x=\"292.962891\" xlink:href=\"#DejaVuSans-110\"/>\r\n      </g>\r\n     </g>\r\n    </g>\r\n    <g id=\"xtick_18\">\r\n     <g id=\"line2d_18\">\r\n      <g>\r\n       <use style=\"stroke:#000000;stroke-width:0.8;\" x=\"433.398726\" xlink:href=\"#m8f8433e071\" y=\"843.796875\"/>\r\n      </g>\r\n     </g>\r\n     <g id=\"text_18\">\r\n      <!-- Poland -->\r\n      <defs>\r\n       <path d=\"M 19.671875 64.796875 \r\nL 19.671875 37.40625 \r\nL 32.078125 37.40625 \r\nQ 38.96875 37.40625 42.71875 40.96875 \r\nQ 46.484375 44.53125 46.484375 51.125 \r\nQ 46.484375 57.671875 42.71875 61.234375 \r\nQ 38.96875 64.796875 32.078125 64.796875 \r\nz\r\nM 9.8125 72.90625 \r\nL 32.078125 72.90625 \r\nQ 44.34375 72.90625 50.609375 67.359375 \r\nQ 56.890625 61.8125 56.890625 51.125 \r\nQ 56.890625 40.328125 50.609375 34.8125 \r\nQ 44.34375 29.296875 32.078125 29.296875 \r\nL 19.671875 29.296875 \r\nL 19.671875 0 \r\nL 9.8125 0 \r\nz\r\n\" id=\"DejaVuSans-80\"/>\r\n      </defs>\r\n      <g transform=\"translate(403.142703 874.245284)rotate(-30)scale(0.1 -0.1)\">\r\n       <use xlink:href=\"#DejaVuSans-80\"/>\r\n       <use x=\"60.255859\" xlink:href=\"#DejaVuSans-111\"/>\r\n       <use x=\"121.4375\" xlink:href=\"#DejaVuSans-108\"/>\r\n       <use x=\"149.220703\" xlink:href=\"#DejaVuSans-97\"/>\r\n       <use x=\"210.5\" xlink:href=\"#DejaVuSans-110\"/>\r\n       <use x=\"273.878906\" xlink:href=\"#DejaVuSans-100\"/>\r\n      </g>\r\n     </g>\r\n    </g>\r\n    <g id=\"xtick_19\">\r\n     <g id=\"line2d_19\">\r\n      <g>\r\n       <use style=\"stroke:#000000;stroke-width:0.8;\" x=\"452.31398\" xlink:href=\"#m8f8433e071\" y=\"843.796875\"/>\r\n      </g>\r\n     </g>\r\n     <g id=\"text_19\">\r\n      <!-- Ukraine -->\r\n      <g transform=\"translate(417.830671 876.685909)rotate(-30)scale(0.1 -0.1)\">\r\n       <use xlink:href=\"#DejaVuSans-85\"/>\r\n       <use x=\"73.193359\" xlink:href=\"#DejaVuSans-107\"/>\r\n       <use x=\"131.103516\" xlink:href=\"#DejaVuSans-114\"/>\r\n       <use x=\"172.216797\" xlink:href=\"#DejaVuSans-97\"/>\r\n       <use x=\"233.496094\" xlink:href=\"#DejaVuSans-105\"/>\r\n       <use x=\"261.279297\" xlink:href=\"#DejaVuSans-110\"/>\r\n       <use x=\"324.658203\" xlink:href=\"#DejaVuSans-101\"/>\r\n      </g>\r\n     </g>\r\n    </g>\r\n    <g id=\"xtick_20\">\r\n     <g id=\"line2d_20\">\r\n      <g>\r\n       <use style=\"stroke:#000000;stroke-width:0.8;\" x=\"471.229234\" xlink:href=\"#m8f8433e071\" y=\"843.796875\"/>\r\n      </g>\r\n     </g>\r\n     <g id=\"text_20\">\r\n      <!-- Mexico -->\r\n      <defs>\r\n       <path d=\"M 9.8125 72.90625 \r\nL 24.515625 72.90625 \r\nL 43.109375 23.296875 \r\nL 61.8125 72.90625 \r\nL 76.515625 72.90625 \r\nL 76.515625 0 \r\nL 66.890625 0 \r\nL 66.890625 64.015625 \r\nL 48.09375 14.015625 \r\nL 38.1875 14.015625 \r\nL 19.390625 64.015625 \r\nL 19.390625 0 \r\nL 9.8125 0 \r\nz\r\n\" id=\"DejaVuSans-77\"/>\r\n       <path d=\"M 54.890625 54.6875 \r\nL 35.109375 28.078125 \r\nL 55.90625 0 \r\nL 45.3125 0 \r\nL 29.390625 21.484375 \r\nL 13.484375 0 \r\nL 2.875 0 \r\nL 24.125 28.609375 \r\nL 4.6875 54.6875 \r\nL 15.28125 54.6875 \r\nL 29.78125 35.203125 \r\nL 44.28125 54.6875 \r\nz\r\n\" id=\"DejaVuSans-120\"/>\r\n      </defs>\r\n      <g transform=\"translate(439.797311 874.92419)rotate(-30)scale(0.1 -0.1)\">\r\n       <use xlink:href=\"#DejaVuSans-77\"/>\r\n       <use x=\"86.279297\" xlink:href=\"#DejaVuSans-101\"/>\r\n       <use x=\"147.787109\" xlink:href=\"#DejaVuSans-120\"/>\r\n       <use x=\"206.966797\" xlink:href=\"#DejaVuSans-105\"/>\r\n       <use x=\"234.75\" xlink:href=\"#DejaVuSans-99\"/>\r\n       <use x=\"289.730469\" xlink:href=\"#DejaVuSans-111\"/>\r\n      </g>\r\n     </g>\r\n    </g>\r\n    <g id=\"xtick_21\">\r\n     <g id=\"line2d_21\">\r\n      <g>\r\n       <use style=\"stroke:#000000;stroke-width:0.8;\" x=\"490.144488\" xlink:href=\"#m8f8433e071\" y=\"843.796875\"/>\r\n      </g>\r\n     </g>\r\n     <g id=\"text_21\">\r\n      <!-- Colombia -->\r\n      <defs>\r\n       <path d=\"M 48.6875 27.296875 \r\nQ 48.6875 37.203125 44.609375 42.84375 \r\nQ 40.53125 48.484375 33.40625 48.484375 \r\nQ 26.265625 48.484375 22.1875 42.84375 \r\nQ 18.109375 37.203125 18.109375 27.296875 \r\nQ 18.109375 17.390625 22.1875 11.75 \r\nQ 26.265625 6.109375 33.40625 6.109375 \r\nQ 40.53125 6.109375 44.609375 11.75 \r\nQ 48.6875 17.390625 48.6875 27.296875 \r\nz\r\nM 18.109375 46.390625 \r\nQ 20.953125 51.265625 25.265625 53.625 \r\nQ 29.59375 56 35.59375 56 \r\nQ 45.5625 56 51.78125 48.09375 \r\nQ 58.015625 40.1875 58.015625 27.296875 \r\nQ 58.015625 14.40625 51.78125 6.484375 \r\nQ 45.5625 -1.421875 35.59375 -1.421875 \r\nQ 29.59375 -1.421875 25.265625 0.953125 \r\nQ 20.953125 3.328125 18.109375 8.203125 \r\nL 18.109375 0 \r\nL 9.078125 0 \r\nL 9.078125 75.984375 \r\nL 18.109375 75.984375 \r\nz\r\n\" id=\"DejaVuSans-98\"/>\r\n      </defs>\r\n      <g transform=\"translate(448.406863 880.87419)rotate(-30)scale(0.1 -0.1)\">\r\n       <use xlink:href=\"#DejaVuSans-67\"/>\r\n       <use x=\"69.824219\" xlink:href=\"#DejaVuSans-111\"/>\r\n       <use x=\"131.005859\" xlink:href=\"#DejaVuSans-108\"/>\r\n       <use x=\"158.789062\" xlink:href=\"#DejaVuSans-111\"/>\r\n       <use x=\"219.970703\" xlink:href=\"#DejaVuSans-109\"/>\r\n       <use x=\"317.382812\" xlink:href=\"#DejaVuSans-98\"/>\r\n       <use x=\"380.859375\" xlink:href=\"#DejaVuSans-105\"/>\r\n       <use x=\"408.642578\" xlink:href=\"#DejaVuSans-97\"/>\r\n      </g>\r\n     </g>\r\n    </g>\r\n    <g id=\"xtick_22\">\r\n     <g id=\"line2d_22\">\r\n      <g>\r\n       <use style=\"stroke:#000000;stroke-width:0.8;\" x=\"509.059743\" xlink:href=\"#m8f8433e071\" y=\"843.796875\"/>\r\n      </g>\r\n     </g>\r\n     <g id=\"text_22\">\r\n      <!-- Pakistan -->\r\n      <g transform=\"translate(471.373493 878.535127)rotate(-30)scale(0.1 -0.1)\">\r\n       <use xlink:href=\"#DejaVuSans-80\"/>\r\n       <use x=\"60.240234\" xlink:href=\"#DejaVuSans-97\"/>\r\n       <use x=\"121.519531\" xlink:href=\"#DejaVuSans-107\"/>\r\n       <use x=\"179.429688\" xlink:href=\"#DejaVuSans-105\"/>\r\n       <use x=\"207.212891\" xlink:href=\"#DejaVuSans-115\"/>\r\n       <use x=\"259.3125\" xlink:href=\"#DejaVuSans-116\"/>\r\n       <use x=\"298.521484\" xlink:href=\"#DejaVuSans-97\"/>\r\n       <use x=\"359.800781\" xlink:href=\"#DejaVuSans-110\"/>\r\n      </g>\r\n     </g>\r\n    </g>\r\n    <g id=\"xtick_23\">\r\n     <g id=\"line2d_23\">\r\n      <g>\r\n       <use style=\"stroke:#000000;stroke-width:0.8;\" x=\"527.974997\" xlink:href=\"#m8f8433e071\" y=\"843.796875\"/>\r\n      </g>\r\n     </g>\r\n     <g id=\"text_23\">\r\n      <!-- Netherlands -->\r\n      <g transform=\"translate(474.144139 887.856221)rotate(-30)scale(0.1 -0.1)\">\r\n       <use xlink:href=\"#DejaVuSans-78\"/>\r\n       <use x=\"74.804688\" xlink:href=\"#DejaVuSans-101\"/>\r\n       <use x=\"136.328125\" xlink:href=\"#DejaVuSans-116\"/>\r\n       <use x=\"175.537109\" xlink:href=\"#DejaVuSans-104\"/>\r\n       <use x=\"238.916016\" xlink:href=\"#DejaVuSans-101\"/>\r\n       <use x=\"300.439453\" xlink:href=\"#DejaVuSans-114\"/>\r\n       <use x=\"341.552734\" xlink:href=\"#DejaVuSans-108\"/>\r\n       <use x=\"369.335938\" xlink:href=\"#DejaVuSans-97\"/>\r\n       <use x=\"430.615234\" xlink:href=\"#DejaVuSans-110\"/>\r\n       <use x=\"493.994141\" xlink:href=\"#DejaVuSans-100\"/>\r\n       <use x=\"557.470703\" xlink:href=\"#DejaVuSans-115\"/>\r\n      </g>\r\n     </g>\r\n    </g>\r\n    <g id=\"xtick_24\">\r\n     <g id=\"line2d_24\">\r\n      <g>\r\n       <use style=\"stroke:#000000;stroke-width:0.8;\" x=\"546.890251\" xlink:href=\"#m8f8433e071\" y=\"843.796875\"/>\r\n      </g>\r\n     </g>\r\n     <g id=\"text_24\">\r\n      <!-- South Korea -->\r\n      <g transform=\"translate(492.764403 888.026534)rotate(-30)scale(0.1 -0.1)\">\r\n       <use xlink:href=\"#DejaVuSans-83\"/>\r\n       <use x=\"63.476562\" xlink:href=\"#DejaVuSans-111\"/>\r\n       <use x=\"124.658203\" xlink:href=\"#DejaVuSans-117\"/>\r\n       <use x=\"188.037109\" xlink:href=\"#DejaVuSans-116\"/>\r\n       <use x=\"227.246094\" xlink:href=\"#DejaVuSans-104\"/>\r\n       <use x=\"290.625\" xlink:href=\"#DejaVuSans-32\"/>\r\n       <use x=\"322.412109\" xlink:href=\"#DejaVuSans-75\"/>\r\n       <use x=\"387.910156\" xlink:href=\"#DejaVuSans-111\"/>\r\n       <use x=\"449.091797\" xlink:href=\"#DejaVuSans-114\"/>\r\n       <use x=\"490.173828\" xlink:href=\"#DejaVuSans-101\"/>\r\n       <use x=\"551.697266\" xlink:href=\"#DejaVuSans-97\"/>\r\n      </g>\r\n     </g>\r\n    </g>\r\n    <g id=\"xtick_25\">\r\n     <g id=\"line2d_25\">\r\n      <g>\r\n       <use style=\"stroke:#000000;stroke-width:0.8;\" x=\"565.805505\" xlink:href=\"#m8f8433e071\" y=\"843.796875\"/>\r\n      </g>\r\n     </g>\r\n     <g id=\"text_25\">\r\n      <!-- Indonesia -->\r\n      <g transform=\"translate(522.883861 881.557784)rotate(-30)scale(0.1 -0.1)\">\r\n       <use xlink:href=\"#DejaVuSans-73\"/>\r\n       <use x=\"29.492188\" xlink:href=\"#DejaVuSans-110\"/>\r\n       <use x=\"92.871094\" xlink:href=\"#DejaVuSans-100\"/>\r\n       <use x=\"156.347656\" xlink:href=\"#DejaVuSans-111\"/>\r\n       <use x=\"217.529297\" xlink:href=\"#DejaVuSans-110\"/>\r\n       <use x=\"280.908203\" xlink:href=\"#DejaVuSans-101\"/>\r\n       <use x=\"342.431641\" xlink:href=\"#DejaVuSans-115\"/>\r\n       <use x=\"394.53125\" xlink:href=\"#DejaVuSans-105\"/>\r\n       <use x=\"422.314453\" xlink:href=\"#DejaVuSans-97\"/>\r\n      </g>\r\n     </g>\r\n    </g>\r\n    <g id=\"xtick_26\">\r\n     <g id=\"line2d_26\">\r\n      <g>\r\n       <use style=\"stroke:#000000;stroke-width:0.8;\" x=\"584.72076\" xlink:href=\"#m8f8433e071\" y=\"843.796875\"/>\r\n      </g>\r\n     </g>\r\n     <g id=\"text_26\">\r\n      <!-- Singapore -->\r\n      <g transform=\"translate(539.800491 882.71169)rotate(-30)scale(0.1 -0.1)\">\r\n       <use xlink:href=\"#DejaVuSans-83\"/>\r\n       <use x=\"63.476562\" xlink:href=\"#DejaVuSans-105\"/>\r\n       <use x=\"91.259766\" xlink:href=\"#DejaVuSans-110\"/>\r\n       <use x=\"154.638672\" xlink:href=\"#DejaVuSans-103\"/>\r\n       <use x=\"218.115234\" xlink:href=\"#DejaVuSans-97\"/>\r\n       <use x=\"279.394531\" xlink:href=\"#DejaVuSans-112\"/>\r\n       <use x=\"342.871094\" xlink:href=\"#DejaVuSans-111\"/>\r\n       <use x=\"404.052734\" xlink:href=\"#DejaVuSans-114\"/>\r\n       <use x=\"445.134766\" xlink:href=\"#DejaVuSans-101\"/>\r\n      </g>\r\n     </g>\r\n    </g>\r\n    <g id=\"xtick_27\">\r\n     <g id=\"line2d_27\">\r\n      <g>\r\n       <use style=\"stroke:#000000;stroke-width:0.8;\" x=\"603.636014\" xlink:href=\"#m8f8433e071\" y=\"843.796875\"/>\r\n      </g>\r\n     </g>\r\n     <g id=\"text_27\">\r\n      <!-- Argentina -->\r\n      <g transform=\"translate(560.20152 881.853877)rotate(-30)scale(0.1 -0.1)\">\r\n       <use xlink:href=\"#DejaVuSans-65\"/>\r\n       <use x=\"68.408203\" xlink:href=\"#DejaVuSans-114\"/>\r\n       <use x=\"109.505859\" xlink:href=\"#DejaVuSans-103\"/>\r\n       <use x=\"172.982422\" xlink:href=\"#DejaVuSans-101\"/>\r\n       <use x=\"234.505859\" xlink:href=\"#DejaVuSans-110\"/>\r\n       <use x=\"297.884766\" xlink:href=\"#DejaVuSans-116\"/>\r\n       <use x=\"337.09375\" xlink:href=\"#DejaVuSans-105\"/>\r\n       <use x=\"364.876953\" xlink:href=\"#DejaVuSans-110\"/>\r\n       <use x=\"428.255859\" xlink:href=\"#DejaVuSans-97\"/>\r\n      </g>\r\n     </g>\r\n    </g>\r\n    <g id=\"xtick_28\">\r\n     <g id=\"line2d_28\">\r\n      <g>\r\n       <use style=\"stroke:#000000;stroke-width:0.8;\" x=\"622.551268\" xlink:href=\"#m8f8433e071\" y=\"843.796875\"/>\r\n      </g>\r\n     </g>\r\n     <g id=\"text_28\">\r\n      <!-- Portugal -->\r\n      <g transform=\"translate(585.339979 878.260909)rotate(-30)scale(0.1 -0.1)\">\r\n       <use xlink:href=\"#DejaVuSans-80\"/>\r\n       <use x=\"60.255859\" xlink:href=\"#DejaVuSans-111\"/>\r\n       <use x=\"121.4375\" xlink:href=\"#DejaVuSans-114\"/>\r\n       <use x=\"162.550781\" xlink:href=\"#DejaVuSans-116\"/>\r\n       <use x=\"201.759766\" xlink:href=\"#DejaVuSans-117\"/>\r\n       <use x=\"265.138672\" xlink:href=\"#DejaVuSans-103\"/>\r\n       <use x=\"328.615234\" xlink:href=\"#DejaVuSans-97\"/>\r\n       <use x=\"389.894531\" xlink:href=\"#DejaVuSans-108\"/>\r\n      </g>\r\n     </g>\r\n    </g>\r\n    <g id=\"xtick_29\">\r\n     <g id=\"line2d_29\">\r\n      <g>\r\n       <use style=\"stroke:#000000;stroke-width:0.8;\" x=\"641.466522\" xlink:href=\"#m8f8433e071\" y=\"843.796875\"/>\r\n      </g>\r\n     </g>\r\n     <g id=\"text_29\">\r\n      <!-- South Africa -->\r\n      <g transform=\"translate(587.501701 887.933565)rotate(-30)scale(0.1 -0.1)\">\r\n       <use xlink:href=\"#DejaVuSans-83\"/>\r\n       <use x=\"63.476562\" xlink:href=\"#DejaVuSans-111\"/>\r\n       <use x=\"124.658203\" xlink:href=\"#DejaVuSans-117\"/>\r\n       <use x=\"188.037109\" xlink:href=\"#DejaVuSans-116\"/>\r\n       <use x=\"227.246094\" xlink:href=\"#DejaVuSans-104\"/>\r\n       <use x=\"290.625\" xlink:href=\"#DejaVuSans-32\"/>\r\n       <use x=\"322.412109\" xlink:href=\"#DejaVuSans-65\"/>\r\n       <use x=\"390.773438\" xlink:href=\"#DejaVuSans-102\"/>\r\n       <use x=\"425.978516\" xlink:href=\"#DejaVuSans-114\"/>\r\n       <use x=\"467.091797\" xlink:href=\"#DejaVuSans-105\"/>\r\n       <use x=\"494.875\" xlink:href=\"#DejaVuSans-99\"/>\r\n       <use x=\"549.855469\" xlink:href=\"#DejaVuSans-97\"/>\r\n      </g>\r\n     </g>\r\n    </g>\r\n    <g id=\"xtick_30\">\r\n     <g id=\"line2d_30\">\r\n      <g>\r\n       <use style=\"stroke:#000000;stroke-width:0.8;\" x=\"660.381777\" xlink:href=\"#m8f8433e071\" y=\"843.796875\"/>\r\n      </g>\r\n     </g>\r\n     <g id=\"text_30\">\r\n      <!-- Israel -->\r\n      <g transform=\"translate(635.673729 871.042159)rotate(-30)scale(0.1 -0.1)\">\r\n       <use xlink:href=\"#DejaVuSans-73\"/>\r\n       <use x=\"29.492188\" xlink:href=\"#DejaVuSans-115\"/>\r\n       <use x=\"81.591797\" xlink:href=\"#DejaVuSans-114\"/>\r\n       <use x=\"122.705078\" xlink:href=\"#DejaVuSans-97\"/>\r\n       <use x=\"183.984375\" xlink:href=\"#DejaVuSans-101\"/>\r\n       <use x=\"245.507812\" xlink:href=\"#DejaVuSans-108\"/>\r\n      </g>\r\n     </g>\r\n    </g>\r\n    <g id=\"xtick_31\">\r\n     <g id=\"line2d_31\">\r\n      <g>\r\n       <use style=\"stroke:#000000;stroke-width:0.8;\" x=\"679.297031\" xlink:href=\"#m8f8433e071\" y=\"843.796875\"/>\r\n      </g>\r\n     </g>\r\n     <g id=\"text_31\">\r\n      <!-- Chile -->\r\n      <g transform=\"translate(656.580842 869.892159)rotate(-30)scale(0.1 -0.1)\">\r\n       <use xlink:href=\"#DejaVuSans-67\"/>\r\n       <use x=\"69.824219\" xlink:href=\"#DejaVuSans-104\"/>\r\n       <use x=\"133.203125\" xlink:href=\"#DejaVuSans-105\"/>\r\n       <use x=\"160.986328\" xlink:href=\"#DejaVuSans-108\"/>\r\n       <use x=\"188.769531\" xlink:href=\"#DejaVuSans-101\"/>\r\n      </g>\r\n     </g>\r\n    </g>\r\n    <g id=\"xtick_32\">\r\n     <g id=\"line2d_32\">\r\n      <g>\r\n       <use style=\"stroke:#000000;stroke-width:0.8;\" x=\"698.212285\" xlink:href=\"#m8f8433e071\" y=\"843.796875\"/>\r\n      </g>\r\n     </g>\r\n     <g id=\"text_32\">\r\n      <!-- Viet Nam -->\r\n      <defs>\r\n       <path d=\"M 28.609375 0 \r\nL 0.78125 72.90625 \r\nL 11.078125 72.90625 \r\nL 34.1875 11.53125 \r\nL 57.328125 72.90625 \r\nL 67.578125 72.90625 \r\nL 39.796875 0 \r\nz\r\n\" id=\"DejaVuSans-86\"/>\r\n      </defs>\r\n      <g transform=\"translate(657.147183 880.485909)rotate(-30)scale(0.1 -0.1)\">\r\n       <use xlink:href=\"#DejaVuSans-86\"/>\r\n       <use x=\"68.376953\" xlink:href=\"#DejaVuSans-105\"/>\r\n       <use x=\"96.160156\" xlink:href=\"#DejaVuSans-101\"/>\r\n       <use x=\"157.683594\" xlink:href=\"#DejaVuSans-116\"/>\r\n       <use x=\"196.892578\" xlink:href=\"#DejaVuSans-32\"/>\r\n       <use x=\"228.679688\" xlink:href=\"#DejaVuSans-78\"/>\r\n       <use x=\"303.484375\" xlink:href=\"#DejaVuSans-97\"/>\r\n       <use x=\"364.763672\" xlink:href=\"#DejaVuSans-109\"/>\r\n      </g>\r\n     </g>\r\n    </g>\r\n    <g id=\"xtick_33\">\r\n     <g id=\"line2d_33\">\r\n      <g>\r\n       <use style=\"stroke:#000000;stroke-width:0.8;\" x=\"717.127539\" xlink:href=\"#m8f8433e071\" y=\"843.796875\"/>\r\n      </g>\r\n     </g>\r\n     <g id=\"text_33\">\r\n      <!-- Switzerland -->\r\n      <g transform=\"translate(665.572704 886.542159)rotate(-30)scale(0.1 -0.1)\">\r\n       <use xlink:href=\"#DejaVuSans-83\"/>\r\n       <use x=\"63.476562\" xlink:href=\"#DejaVuSans-119\"/>\r\n       <use x=\"145.263672\" xlink:href=\"#DejaVuSans-105\"/>\r\n       <use x=\"173.046875\" xlink:href=\"#DejaVuSans-116\"/>\r\n       <use x=\"212.255859\" xlink:href=\"#DejaVuSans-122\"/>\r\n       <use x=\"264.746094\" xlink:href=\"#DejaVuSans-101\"/>\r\n       <use x=\"326.269531\" xlink:href=\"#DejaVuSans-114\"/>\r\n       <use x=\"367.382812\" xlink:href=\"#DejaVuSans-108\"/>\r\n       <use x=\"395.166016\" xlink:href=\"#DejaVuSans-97\"/>\r\n       <use x=\"456.445312\" xlink:href=\"#DejaVuSans-110\"/>\r\n       <use x=\"519.824219\" xlink:href=\"#DejaVuSans-100\"/>\r\n      </g>\r\n     </g>\r\n    </g>\r\n    <g id=\"xtick_34\">\r\n     <g id=\"line2d_34\">\r\n      <g>\r\n       <use style=\"stroke:#000000;stroke-width:0.8;\" x=\"736.042794\" xlink:href=\"#m8f8433e071\" y=\"843.796875\"/>\r\n      </g>\r\n     </g>\r\n     <g id=\"text_34\">\r\n      <!-- Kenya -->\r\n      <g transform=\"translate(708.080385 872.921065)rotate(-30)scale(0.1 -0.1)\">\r\n       <use xlink:href=\"#DejaVuSans-75\"/>\r\n       <use x=\"65.498047\" xlink:href=\"#DejaVuSans-101\"/>\r\n       <use x=\"127.021484\" xlink:href=\"#DejaVuSans-110\"/>\r\n       <use x=\"190.400391\" xlink:href=\"#DejaVuSans-121\"/>\r\n       <use x=\"249.580078\" xlink:href=\"#DejaVuSans-97\"/>\r\n      </g>\r\n     </g>\r\n    </g>\r\n    <g id=\"xtick_35\">\r\n     <g id=\"line2d_35\">\r\n      <g>\r\n       <use style=\"stroke:#000000;stroke-width:0.8;\" x=\"754.958048\" xlink:href=\"#m8f8433e071\" y=\"843.796875\"/>\r\n      </g>\r\n     </g>\r\n     <g id=\"text_35\">\r\n      <!-- Greece -->\r\n      <g transform=\"translate(722.902316 875.284346)rotate(-30)scale(0.1 -0.1)\">\r\n       <use xlink:href=\"#DejaVuSans-71\"/>\r\n       <use x=\"77.490234\" xlink:href=\"#DejaVuSans-114\"/>\r\n       <use x=\"118.572266\" xlink:href=\"#DejaVuSans-101\"/>\r\n       <use x=\"180.095703\" xlink:href=\"#DejaVuSans-101\"/>\r\n       <use x=\"241.619141\" xlink:href=\"#DejaVuSans-99\"/>\r\n       <use x=\"296.599609\" xlink:href=\"#DejaVuSans-101\"/>\r\n      </g>\r\n     </g>\r\n    </g>\r\n    <g id=\"xtick_36\">\r\n     <g id=\"line2d_36\">\r\n      <g>\r\n       <use style=\"stroke:#000000;stroke-width:0.8;\" x=\"773.873302\" xlink:href=\"#m8f8433e071\" y=\"843.796875\"/>\r\n      </g>\r\n     </g>\r\n     <g id=\"text_36\">\r\n      <!-- Morocco -->\r\n      <g transform=\"translate(736.383261 878.421846)rotate(-30)scale(0.1 -0.1)\">\r\n       <use xlink:href=\"#DejaVuSans-77\"/>\r\n       <use x=\"86.279297\" xlink:href=\"#DejaVuSans-111\"/>\r\n       <use x=\"147.460938\" xlink:href=\"#DejaVuSans-114\"/>\r\n       <use x=\"188.542969\" xlink:href=\"#DejaVuSans-111\"/>\r\n       <use x=\"249.724609\" xlink:href=\"#DejaVuSans-99\"/>\r\n       <use x=\"304.705078\" xlink:href=\"#DejaVuSans-99\"/>\r\n       <use x=\"359.685547\" xlink:href=\"#DejaVuSans-111\"/>\r\n      </g>\r\n     </g>\r\n    </g>\r\n    <g id=\"xtick_37\">\r\n     <g id=\"line2d_37\">\r\n      <g>\r\n       <use style=\"stroke:#000000;stroke-width:0.8;\" x=\"792.788556\" xlink:href=\"#m8f8433e071\" y=\"843.796875\"/>\r\n      </g>\r\n     </g>\r\n     <g id=\"text_37\">\r\n      <!-- Sweden -->\r\n      <g transform=\"translate(757.524471 877.13669)rotate(-30)scale(0.1 -0.1)\">\r\n       <use xlink:href=\"#DejaVuSans-83\"/>\r\n       <use x=\"63.476562\" xlink:href=\"#DejaVuSans-119\"/>\r\n       <use x=\"145.263672\" xlink:href=\"#DejaVuSans-101\"/>\r\n       <use x=\"206.787109\" xlink:href=\"#DejaVuSans-100\"/>\r\n       <use x=\"270.263672\" xlink:href=\"#DejaVuSans-101\"/>\r\n       <use x=\"331.787109\" xlink:href=\"#DejaVuSans-110\"/>\r\n      </g>\r\n     </g>\r\n    </g>\r\n    <g id=\"xtick_38\">\r\n     <g id=\"line2d_38\">\r\n      <g>\r\n       <use style=\"stroke:#000000;stroke-width:0.8;\" x=\"811.703811\" xlink:href=\"#m8f8433e071\" y=\"843.796875\"/>\r\n      </g>\r\n     </g>\r\n     <g id=\"text_38\">\r\n      <!-- Egypt -->\r\n      <defs>\r\n       <path d=\"M 9.8125 72.90625 \r\nL 55.90625 72.90625 \r\nL 55.90625 64.59375 \r\nL 19.671875 64.59375 \r\nL 19.671875 43.015625 \r\nL 54.390625 43.015625 \r\nL 54.390625 34.71875 \r\nL 19.671875 34.71875 \r\nL 19.671875 8.296875 \r\nL 56.78125 8.296875 \r\nL 56.78125 0 \r\nL 9.8125 0 \r\nz\r\n\" id=\"DejaVuSans-69\"/>\r\n      </defs>\r\n      <g transform=\"translate(785.675074 871.804659)rotate(-30)scale(0.1 -0.1)\">\r\n       <use xlink:href=\"#DejaVuSans-69\"/>\r\n       <use x=\"63.183594\" xlink:href=\"#DejaVuSans-103\"/>\r\n       <use x=\"126.660156\" xlink:href=\"#DejaVuSans-121\"/>\r\n       <use x=\"185.839844\" xlink:href=\"#DejaVuSans-112\"/>\r\n       <use x=\"249.316406\" xlink:href=\"#DejaVuSans-116\"/>\r\n      </g>\r\n     </g>\r\n    </g>\r\n    <g id=\"xtick_39\">\r\n     <g id=\"line2d_39\">\r\n      <g>\r\n       <use style=\"stroke:#000000;stroke-width:0.8;\" x=\"830.619065\" xlink:href=\"#m8f8433e071\" y=\"843.796875\"/>\r\n      </g>\r\n     </g>\r\n     <g id=\"text_39\">\r\n      <!-- Bangladesh -->\r\n      <g transform=\"translate(778.804422 886.692159)rotate(-30)scale(0.1 -0.1)\">\r\n       <use xlink:href=\"#DejaVuSans-66\"/>\r\n       <use x=\"68.603516\" xlink:href=\"#DejaVuSans-97\"/>\r\n       <use x=\"129.882812\" xlink:href=\"#DejaVuSans-110\"/>\r\n       <use x=\"193.261719\" xlink:href=\"#DejaVuSans-103\"/>\r\n       <use x=\"256.738281\" xlink:href=\"#DejaVuSans-108\"/>\r\n       <use x=\"284.521484\" xlink:href=\"#DejaVuSans-97\"/>\r\n       <use x=\"345.800781\" xlink:href=\"#DejaVuSans-100\"/>\r\n       <use x=\"409.277344\" xlink:href=\"#DejaVuSans-101\"/>\r\n       <use x=\"470.800781\" xlink:href=\"#DejaVuSans-115\"/>\r\n       <use x=\"522.900391\" xlink:href=\"#DejaVuSans-104\"/>\r\n      </g>\r\n     </g>\r\n    </g>\r\n    <g id=\"xtick_40\">\r\n     <g id=\"line2d_40\">\r\n      <g>\r\n       <use style=\"stroke:#000000;stroke-width:0.8;\" x=\"849.534319\" xlink:href=\"#m8f8433e071\" y=\"843.796875\"/>\r\n      </g>\r\n     </g>\r\n     <g id=\"text_40\">\r\n      <!-- Belgium -->\r\n      <g transform=\"translate(812.99014 877.875752)rotate(-30)scale(0.1 -0.1)\">\r\n       <use xlink:href=\"#DejaVuSans-66\"/>\r\n       <use x=\"68.603516\" xlink:href=\"#DejaVuSans-101\"/>\r\n       <use x=\"130.126953\" xlink:href=\"#DejaVuSans-108\"/>\r\n       <use x=\"157.910156\" xlink:href=\"#DejaVuSans-103\"/>\r\n       <use x=\"221.386719\" xlink:href=\"#DejaVuSans-105\"/>\r\n       <use x=\"249.169922\" xlink:href=\"#DejaVuSans-117\"/>\r\n       <use x=\"312.548828\" xlink:href=\"#DejaVuSans-109\"/>\r\n      </g>\r\n     </g>\r\n    </g>\r\n    <g id=\"xtick_41\">\r\n     <g id=\"line2d_41\">\r\n      <g>\r\n       <use style=\"stroke:#000000;stroke-width:0.8;\" x=\"868.449573\" xlink:href=\"#m8f8433e071\" y=\"843.796875\"/>\r\n      </g>\r\n     </g>\r\n     <g id=\"text_41\">\r\n      <!-- Iran, Islamic Republic of... -->\r\n      <defs>\r\n       <path d=\"M 11.71875 12.40625 \r\nL 22.015625 12.40625 \r\nL 22.015625 4 \r\nL 14.015625 -11.625 \r\nL 7.71875 -11.625 \r\nL 11.71875 4 \r\nz\r\n\" id=\"DejaVuSans-44\"/>\r\n       <path d=\"M 10.6875 12.40625 \r\nL 21 12.40625 \r\nL 21 0 \r\nL 10.6875 0 \r\nz\r\n\" id=\"DejaVuSans-46\"/>\r\n      </defs>\r\n      <g transform=\"translate(755.113298 922.21169)rotate(-30)scale(0.1 -0.1)\">\r\n       <use xlink:href=\"#DejaVuSans-73\"/>\r\n       <use x=\"29.492188\" xlink:href=\"#DejaVuSans-114\"/>\r\n       <use x=\"70.605469\" xlink:href=\"#DejaVuSans-97\"/>\r\n       <use x=\"131.884766\" xlink:href=\"#DejaVuSans-110\"/>\r\n       <use x=\"195.263672\" xlink:href=\"#DejaVuSans-44\"/>\r\n       <use x=\"227.050781\" xlink:href=\"#DejaVuSans-32\"/>\r\n       <use x=\"258.837891\" xlink:href=\"#DejaVuSans-73\"/>\r\n       <use x=\"288.330078\" xlink:href=\"#DejaVuSans-115\"/>\r\n       <use x=\"340.429688\" xlink:href=\"#DejaVuSans-108\"/>\r\n       <use x=\"368.212891\" xlink:href=\"#DejaVuSans-97\"/>\r\n       <use x=\"429.492188\" xlink:href=\"#DejaVuSans-109\"/>\r\n       <use x=\"526.904297\" xlink:href=\"#DejaVuSans-105\"/>\r\n       <use x=\"554.6875\" xlink:href=\"#DejaVuSans-99\"/>\r\n       <use x=\"609.667969\" xlink:href=\"#DejaVuSans-32\"/>\r\n       <use x=\"641.455078\" xlink:href=\"#DejaVuSans-82\"/>\r\n       <use x=\"710.875\" xlink:href=\"#DejaVuSans-101\"/>\r\n       <use x=\"772.398438\" xlink:href=\"#DejaVuSans-112\"/>\r\n       <use x=\"835.875\" xlink:href=\"#DejaVuSans-117\"/>\r\n       <use x=\"899.253906\" xlink:href=\"#DejaVuSans-98\"/>\r\n       <use x=\"962.730469\" xlink:href=\"#DejaVuSans-108\"/>\r\n       <use x=\"990.513672\" xlink:href=\"#DejaVuSans-105\"/>\r\n       <use x=\"1018.296875\" xlink:href=\"#DejaVuSans-99\"/>\r\n       <use x=\"1073.277344\" xlink:href=\"#DejaVuSans-32\"/>\r\n       <use x=\"1105.064453\" xlink:href=\"#DejaVuSans-111\"/>\r\n       <use x=\"1166.246094\" xlink:href=\"#DejaVuSans-102\"/>\r\n       <use x=\"1201.341797\" xlink:href=\"#DejaVuSans-46\"/>\r\n       <use x=\"1233.128906\" xlink:href=\"#DejaVuSans-46\"/>\r\n       <use x=\"1264.916016\" xlink:href=\"#DejaVuSans-46\"/>\r\n      </g>\r\n     </g>\r\n    </g>\r\n    <g id=\"xtick_42\">\r\n     <g id=\"line2d_42\">\r\n      <g>\r\n       <use style=\"stroke:#000000;stroke-width:0.8;\" x=\"887.364827\" xlink:href=\"#m8f8433e071\" y=\"843.796875\"/>\r\n      </g>\r\n     </g>\r\n     <g id=\"text_42\">\r\n      <!-- Peru -->\r\n      <g transform=\"translate(866.729806 868.690596)rotate(-30)scale(0.1 -0.1)\">\r\n       <use xlink:href=\"#DejaVuSans-80\"/>\r\n       <use x=\"60.255859\" xlink:href=\"#DejaVuSans-101\"/>\r\n       <use x=\"121.779297\" xlink:href=\"#DejaVuSans-114\"/>\r\n       <use x=\"162.892578\" xlink:href=\"#DejaVuSans-117\"/>\r\n      </g>\r\n     </g>\r\n    </g>\r\n    <g id=\"xtick_43\">\r\n     <g id=\"line2d_43\">\r\n      <g>\r\n       <use style=\"stroke:#000000;stroke-width:0.8;\" x=\"906.280082\" xlink:href=\"#m8f8433e071\" y=\"843.796875\"/>\r\n      </g>\r\n     </g>\r\n     <g id=\"text_43\">\r\n      <!-- Ireland -->\r\n      <g transform=\"translate(875.099848 874.778877)rotate(-30)scale(0.1 -0.1)\">\r\n       <use xlink:href=\"#DejaVuSans-73\"/>\r\n       <use x=\"29.492188\" xlink:href=\"#DejaVuSans-114\"/>\r\n       <use x=\"70.574219\" xlink:href=\"#DejaVuSans-101\"/>\r\n       <use x=\"132.097656\" xlink:href=\"#DejaVuSans-108\"/>\r\n       <use x=\"159.880859\" xlink:href=\"#DejaVuSans-97\"/>\r\n       <use x=\"221.160156\" xlink:href=\"#DejaVuSans-110\"/>\r\n       <use x=\"284.539062\" xlink:href=\"#DejaVuSans-100\"/>\r\n      </g>\r\n     </g>\r\n    </g>\r\n    <g id=\"xtick_44\">\r\n     <g id=\"line2d_44\">\r\n      <g>\r\n       <use style=\"stroke:#000000;stroke-width:0.8;\" x=\"925.195336\" xlink:href=\"#m8f8433e071\" y=\"843.796875\"/>\r\n      </g>\r\n     </g>\r\n     <g id=\"text_44\">\r\n      <!-- Hong Kong (S.A.R.) -->\r\n      <defs>\r\n       <path d=\"M 9.8125 72.90625 \r\nL 19.671875 72.90625 \r\nL 19.671875 43.015625 \r\nL 55.515625 43.015625 \r\nL 55.515625 72.90625 \r\nL 65.375 72.90625 \r\nL 65.375 0 \r\nL 55.515625 0 \r\nL 55.515625 34.71875 \r\nL 19.671875 34.71875 \r\nL 19.671875 0 \r\nL 9.8125 0 \r\nz\r\n\" id=\"DejaVuSans-72\"/>\r\n       <path d=\"M 31 75.875 \r\nQ 24.46875 64.65625 21.28125 53.65625 \r\nQ 18.109375 42.671875 18.109375 31.390625 \r\nQ 18.109375 20.125 21.3125 9.0625 \r\nQ 24.515625 -2 31 -13.1875 \r\nL 23.1875 -13.1875 \r\nQ 15.875 -1.703125 12.234375 9.375 \r\nQ 8.59375 20.453125 8.59375 31.390625 \r\nQ 8.59375 42.28125 12.203125 53.3125 \r\nQ 15.828125 64.359375 23.1875 75.875 \r\nz\r\n\" id=\"DejaVuSans-40\"/>\r\n       <path d=\"M 8.015625 75.875 \r\nL 15.828125 75.875 \r\nQ 23.140625 64.359375 26.78125 53.3125 \r\nQ 30.421875 42.28125 30.421875 31.390625 \r\nQ 30.421875 20.453125 26.78125 9.375 \r\nQ 23.140625 -1.703125 15.828125 -13.1875 \r\nL 8.015625 -13.1875 \r\nQ 14.5 -2 17.703125 9.0625 \r\nQ 20.90625 20.125 20.90625 31.390625 \r\nQ 20.90625 42.671875 17.703125 53.65625 \r\nQ 14.5 64.65625 8.015625 75.875 \r\nz\r\n\" id=\"DejaVuSans-41\"/>\r\n      </defs>\r\n      <g transform=\"translate(841.446007 905.129659)rotate(-30)scale(0.1 -0.1)\">\r\n       <use xlink:href=\"#DejaVuSans-72\"/>\r\n       <use x=\"75.195312\" xlink:href=\"#DejaVuSans-111\"/>\r\n       <use x=\"136.376953\" xlink:href=\"#DejaVuSans-110\"/>\r\n       <use x=\"199.755859\" xlink:href=\"#DejaVuSans-103\"/>\r\n       <use x=\"263.232422\" xlink:href=\"#DejaVuSans-32\"/>\r\n       <use x=\"295.019531\" xlink:href=\"#DejaVuSans-75\"/>\r\n       <use x=\"360.517578\" xlink:href=\"#DejaVuSans-111\"/>\r\n       <use x=\"421.699219\" xlink:href=\"#DejaVuSans-110\"/>\r\n       <use x=\"485.078125\" xlink:href=\"#DejaVuSans-103\"/>\r\n       <use x=\"548.554688\" xlink:href=\"#DejaVuSans-32\"/>\r\n       <use x=\"580.341797\" xlink:href=\"#DejaVuSans-40\"/>\r\n       <use x=\"619.355469\" xlink:href=\"#DejaVuSans-83\"/>\r\n       <use x=\"682.832031\" xlink:href=\"#DejaVuSans-46\"/>\r\n       <use x=\"714.619141\" xlink:href=\"#DejaVuSans-65\"/>\r\n       <use x=\"783.011719\" xlink:href=\"#DejaVuSans-46\"/>\r\n       <use x=\"814.798828\" xlink:href=\"#DejaVuSans-82\"/>\r\n       <use x=\"884.234375\" xlink:href=\"#DejaVuSans-46\"/>\r\n       <use x=\"916.021484\" xlink:href=\"#DejaVuSans-41\"/>\r\n      </g>\r\n     </g>\r\n    </g>\r\n    <g id=\"xtick_45\">\r\n     <g id=\"line2d_45\">\r\n      <g>\r\n       <use style=\"stroke:#000000;stroke-width:0.8;\" x=\"944.11059\" xlink:href=\"#m8f8433e071\" y=\"843.796875\"/>\r\n      </g>\r\n     </g>\r\n     <g id=\"text_45\">\r\n      <!-- Malaysia -->\r\n      <g transform=\"translate(905.228143 879.225752)rotate(-30)scale(0.1 -0.1)\">\r\n       <use xlink:href=\"#DejaVuSans-77\"/>\r\n       <use x=\"86.279297\" xlink:href=\"#DejaVuSans-97\"/>\r\n       <use x=\"147.558594\" xlink:href=\"#DejaVuSans-108\"/>\r\n       <use x=\"175.341797\" xlink:href=\"#DejaVuSans-97\"/>\r\n       <use x=\"236.621094\" xlink:href=\"#DejaVuSans-121\"/>\r\n       <use x=\"295.800781\" xlink:href=\"#DejaVuSans-115\"/>\r\n       <use x=\"347.900391\" xlink:href=\"#DejaVuSans-105\"/>\r\n       <use x=\"375.683594\" xlink:href=\"#DejaVuSans-97\"/>\r\n      </g>\r\n     </g>\r\n    </g>\r\n    <g id=\"xtick_46\">\r\n     <g id=\"line2d_46\">\r\n      <g>\r\n       <use style=\"stroke:#000000;stroke-width:0.8;\" x=\"963.025844\" xlink:href=\"#m8f8433e071\" y=\"843.796875\"/>\r\n      </g>\r\n     </g>\r\n     <g id=\"text_46\">\r\n      <!-- Republic of Korea -->\r\n      <g transform=\"translate(885.570084 901.496065)rotate(-30)scale(0.1 -0.1)\">\r\n       <use xlink:href=\"#DejaVuSans-82\"/>\r\n       <use x=\"69.419922\" xlink:href=\"#DejaVuSans-101\"/>\r\n       <use x=\"130.943359\" xlink:href=\"#DejaVuSans-112\"/>\r\n       <use x=\"194.419922\" xlink:href=\"#DejaVuSans-117\"/>\r\n       <use x=\"257.798828\" xlink:href=\"#DejaVuSans-98\"/>\r\n       <use x=\"321.275391\" xlink:href=\"#DejaVuSans-108\"/>\r\n       <use x=\"349.058594\" xlink:href=\"#DejaVuSans-105\"/>\r\n       <use x=\"376.841797\" xlink:href=\"#DejaVuSans-99\"/>\r\n       <use x=\"431.822266\" xlink:href=\"#DejaVuSans-32\"/>\r\n       <use x=\"463.609375\" xlink:href=\"#DejaVuSans-111\"/>\r\n       <use x=\"524.791016\" xlink:href=\"#DejaVuSans-102\"/>\r\n       <use x=\"559.996094\" xlink:href=\"#DejaVuSans-32\"/>\r\n       <use x=\"591.783203\" xlink:href=\"#DejaVuSans-75\"/>\r\n       <use x=\"657.28125\" xlink:href=\"#DejaVuSans-111\"/>\r\n       <use x=\"718.462891\" xlink:href=\"#DejaVuSans-114\"/>\r\n       <use x=\"759.544922\" xlink:href=\"#DejaVuSans-101\"/>\r\n       <use x=\"821.068359\" xlink:href=\"#DejaVuSans-97\"/>\r\n      </g>\r\n     </g>\r\n    </g>\r\n    <g id=\"xtick_47\">\r\n     <g id=\"line2d_47\">\r\n      <g>\r\n       <use style=\"stroke:#000000;stroke-width:0.8;\" x=\"981.941099\" xlink:href=\"#m8f8433e071\" y=\"843.796875\"/>\r\n      </g>\r\n     </g>\r\n     <g id=\"text_47\">\r\n      <!-- Belarus -->\r\n      <g transform=\"translate(948.357644 876.166377)rotate(-30)scale(0.1 -0.1)\">\r\n       <use xlink:href=\"#DejaVuSans-66\"/>\r\n       <use x=\"68.603516\" xlink:href=\"#DejaVuSans-101\"/>\r\n       <use x=\"130.126953\" xlink:href=\"#DejaVuSans-108\"/>\r\n       <use x=\"157.910156\" xlink:href=\"#DejaVuSans-97\"/>\r\n       <use x=\"219.189453\" xlink:href=\"#DejaVuSans-114\"/>\r\n       <use x=\"260.302734\" xlink:href=\"#DejaVuSans-117\"/>\r\n       <use x=\"323.681641\" xlink:href=\"#DejaVuSans-115\"/>\r\n      </g>\r\n     </g>\r\n    </g>\r\n    <g id=\"xtick_48\">\r\n     <g id=\"line2d_48\">\r\n      <g>\r\n       <use style=\"stroke:#000000;stroke-width:0.8;\" x=\"1000.856353\" xlink:href=\"#m8f8433e071\" y=\"843.796875\"/>\r\n      </g>\r\n     </g>\r\n     <g id=\"text_48\">\r\n      <!-- Romania -->\r\n      <g transform=\"translate(961.56119 879.464034)rotate(-30)scale(0.1 -0.1)\">\r\n       <use xlink:href=\"#DejaVuSans-82\"/>\r\n       <use x=\"69.419922\" xlink:href=\"#DejaVuSans-111\"/>\r\n       <use x=\"130.601562\" xlink:href=\"#DejaVuSans-109\"/>\r\n       <use x=\"228.013672\" xlink:href=\"#DejaVuSans-97\"/>\r\n       <use x=\"289.292969\" xlink:href=\"#DejaVuSans-110\"/>\r\n       <use x=\"352.671875\" xlink:href=\"#DejaVuSans-105\"/>\r\n       <use x=\"380.455078\" xlink:href=\"#DejaVuSans-97\"/>\r\n      </g>\r\n     </g>\r\n    </g>\r\n    <g id=\"xtick_49\">\r\n     <g id=\"line2d_49\">\r\n      <g>\r\n       <use style=\"stroke:#000000;stroke-width:0.8;\" x=\"1019.771607\" xlink:href=\"#m8f8433e071\" y=\"843.796875\"/>\r\n      </g>\r\n     </g>\r\n     <g id=\"text_49\">\r\n      <!-- Thailand -->\r\n      <g transform=\"translate(981.541385 878.84919)rotate(-30)scale(0.1 -0.1)\">\r\n       <use xlink:href=\"#DejaVuSans-84\"/>\r\n       <use x=\"61.083984\" xlink:href=\"#DejaVuSans-104\"/>\r\n       <use x=\"124.462891\" xlink:href=\"#DejaVuSans-97\"/>\r\n       <use x=\"185.742188\" xlink:href=\"#DejaVuSans-105\"/>\r\n       <use x=\"213.525391\" xlink:href=\"#DejaVuSans-108\"/>\r\n       <use x=\"241.308594\" xlink:href=\"#DejaVuSans-97\"/>\r\n       <use x=\"302.587891\" xlink:href=\"#DejaVuSans-110\"/>\r\n       <use x=\"365.966797\" xlink:href=\"#DejaVuSans-100\"/>\r\n      </g>\r\n     </g>\r\n    </g>\r\n    <g id=\"xtick_50\">\r\n     <g id=\"line2d_50\">\r\n      <g>\r\n       <use style=\"stroke:#000000;stroke-width:0.8;\" x=\"1038.686861\" xlink:href=\"#m8f8433e071\" y=\"843.796875\"/>\r\n      </g>\r\n     </g>\r\n     <g id=\"text_50\">\r\n      <!-- Austria -->\r\n      <g transform=\"translate(1007.05467 875.039815)rotate(-30)scale(0.1 -0.1)\">\r\n       <use xlink:href=\"#DejaVuSans-65\"/>\r\n       <use x=\"68.408203\" xlink:href=\"#DejaVuSans-117\"/>\r\n       <use x=\"131.787109\" xlink:href=\"#DejaVuSans-115\"/>\r\n       <use x=\"183.886719\" xlink:href=\"#DejaVuSans-116\"/>\r\n       <use x=\"223.095703\" xlink:href=\"#DejaVuSans-114\"/>\r\n       <use x=\"264.208984\" xlink:href=\"#DejaVuSans-105\"/>\r\n       <use x=\"291.992188\" xlink:href=\"#DejaVuSans-97\"/>\r\n      </g>\r\n     </g>\r\n    </g>\r\n    <g id=\"xtick_51\">\r\n     <g id=\"line2d_51\">\r\n      <g>\r\n       <use style=\"stroke:#000000;stroke-width:0.8;\" x=\"1057.602116\" xlink:href=\"#m8f8433e071\" y=\"843.796875\"/>\r\n      </g>\r\n     </g>\r\n     <g id=\"text_51\">\r\n      <!-- Hungary -->\r\n      <g transform=\"translate(1019.581634 878.728096)rotate(-30)scale(0.1 -0.1)\">\r\n       <use xlink:href=\"#DejaVuSans-72\"/>\r\n       <use x=\"75.195312\" xlink:href=\"#DejaVuSans-117\"/>\r\n       <use x=\"138.574219\" xlink:href=\"#DejaVuSans-110\"/>\r\n       <use x=\"201.953125\" xlink:href=\"#DejaVuSans-103\"/>\r\n       <use x=\"265.429688\" xlink:href=\"#DejaVuSans-97\"/>\r\n       <use x=\"326.708984\" xlink:href=\"#DejaVuSans-114\"/>\r\n       <use x=\"367.822266\" xlink:href=\"#DejaVuSans-121\"/>\r\n      </g>\r\n     </g>\r\n    </g>\r\n    <g id=\"xtick_52\">\r\n     <g id=\"line2d_52\">\r\n      <g>\r\n       <use style=\"stroke:#000000;stroke-width:0.8;\" x=\"1076.51737\" xlink:href=\"#m8f8433e071\" y=\"843.796875\"/>\r\n      </g>\r\n     </g>\r\n     <g id=\"text_52\">\r\n      <!-- Philippines -->\r\n      <g transform=\"translate(1028.819054 884.315596)rotate(-30)scale(0.1 -0.1)\">\r\n       <use xlink:href=\"#DejaVuSans-80\"/>\r\n       <use x=\"60.302734\" xlink:href=\"#DejaVuSans-104\"/>\r\n       <use x=\"123.681641\" xlink:href=\"#DejaVuSans-105\"/>\r\n       <use x=\"151.464844\" xlink:href=\"#DejaVuSans-108\"/>\r\n       <use x=\"179.248047\" xlink:href=\"#DejaVuSans-105\"/>\r\n       <use x=\"207.03125\" xlink:href=\"#DejaVuSans-112\"/>\r\n       <use x=\"270.507812\" xlink:href=\"#DejaVuSans-112\"/>\r\n       <use x=\"333.984375\" xlink:href=\"#DejaVuSans-105\"/>\r\n       <use x=\"361.767578\" xlink:href=\"#DejaVuSans-110\"/>\r\n       <use x=\"425.146484\" xlink:href=\"#DejaVuSans-101\"/>\r\n       <use x=\"486.669922\" xlink:href=\"#DejaVuSans-115\"/>\r\n      </g>\r\n     </g>\r\n    </g>\r\n    <g id=\"xtick_53\">\r\n     <g id=\"line2d_53\">\r\n      <g>\r\n       <use style=\"stroke:#000000;stroke-width:0.8;\" x=\"1095.432624\" xlink:href=\"#m8f8433e071\" y=\"843.796875\"/>\r\n      </g>\r\n     </g>\r\n     <g id=\"text_53\">\r\n      <!-- Norway -->\r\n      <g transform=\"translate(1061.539295 876.345284)rotate(-30)scale(0.1 -0.1)\">\r\n       <use xlink:href=\"#DejaVuSans-78\"/>\r\n       <use x=\"74.804688\" xlink:href=\"#DejaVuSans-111\"/>\r\n       <use x=\"135.986328\" xlink:href=\"#DejaVuSans-114\"/>\r\n       <use x=\"177.099609\" xlink:href=\"#DejaVuSans-119\"/>\r\n       <use x=\"258.886719\" xlink:href=\"#DejaVuSans-97\"/>\r\n       <use x=\"320.166016\" xlink:href=\"#DejaVuSans-121\"/>\r\n      </g>\r\n     </g>\r\n    </g>\r\n    <g id=\"xtick_54\">\r\n     <g id=\"line2d_54\">\r\n      <g>\r\n       <use style=\"stroke:#000000;stroke-width:0.8;\" x=\"1114.347878\" xlink:href=\"#m8f8433e071\" y=\"843.796875\"/>\r\n      </g>\r\n     </g>\r\n     <g id=\"text_54\">\r\n      <!-- New Zealand -->\r\n      <defs>\r\n       <path d=\"M 5.609375 72.90625 \r\nL 62.890625 72.90625 \r\nL 62.890625 65.375 \r\nL 16.796875 8.296875 \r\nL 64.015625 8.296875 \r\nL 64.015625 0 \r\nL 4.5 0 \r\nL 4.5 7.515625 \r\nL 50.59375 64.59375 \r\nL 5.609375 64.59375 \r\nz\r\n\" id=\"DejaVuSans-90\"/>\r\n      </defs>\r\n      <g transform=\"translate(1056.397987 890.234346)rotate(-30)scale(0.1 -0.1)\">\r\n       <use xlink:href=\"#DejaVuSans-78\"/>\r\n       <use x=\"74.804688\" xlink:href=\"#DejaVuSans-101\"/>\r\n       <use x=\"136.328125\" xlink:href=\"#DejaVuSans-119\"/>\r\n       <use x=\"218.115234\" xlink:href=\"#DejaVuSans-32\"/>\r\n       <use x=\"249.902344\" xlink:href=\"#DejaVuSans-90\"/>\r\n       <use x=\"318.408203\" xlink:href=\"#DejaVuSans-101\"/>\r\n       <use x=\"379.931641\" xlink:href=\"#DejaVuSans-97\"/>\r\n       <use x=\"441.210938\" xlink:href=\"#DejaVuSans-108\"/>\r\n       <use x=\"468.994141\" xlink:href=\"#DejaVuSans-97\"/>\r\n       <use x=\"530.273438\" xlink:href=\"#DejaVuSans-110\"/>\r\n       <use x=\"593.652344\" xlink:href=\"#DejaVuSans-100\"/>\r\n      </g>\r\n     </g>\r\n    </g>\r\n    <g id=\"xtick_55\">\r\n     <g id=\"line2d_55\">\r\n      <g>\r\n       <use style=\"stroke:#000000;stroke-width:0.8;\" x=\"1133.263133\" xlink:href=\"#m8f8433e071\" y=\"843.796875\"/>\r\n      </g>\r\n     </g>\r\n     <g id=\"text_55\">\r\n      <!-- Denmark -->\r\n      <defs>\r\n       <path d=\"M 19.671875 64.796875 \r\nL 19.671875 8.109375 \r\nL 31.59375 8.109375 \r\nQ 46.6875 8.109375 53.6875 14.9375 \r\nQ 60.6875 21.78125 60.6875 36.53125 \r\nQ 60.6875 51.171875 53.6875 57.984375 \r\nQ 46.6875 64.796875 31.59375 64.796875 \r\nz\r\nM 9.8125 72.90625 \r\nL 30.078125 72.90625 \r\nQ 51.265625 72.90625 61.171875 64.09375 \r\nQ 71.09375 55.28125 71.09375 36.53125 \r\nQ 71.09375 17.671875 61.125 8.828125 \r\nQ 51.171875 0 30.078125 0 \r\nL 9.8125 0 \r\nz\r\n\" id=\"DejaVuSans-68\"/>\r\n      </defs>\r\n      <g transform=\"translate(1092.419949 880.357784)rotate(-30)scale(0.1 -0.1)\">\r\n       <use xlink:href=\"#DejaVuSans-68\"/>\r\n       <use x=\"77.001953\" xlink:href=\"#DejaVuSans-101\"/>\r\n       <use x=\"138.525391\" xlink:href=\"#DejaVuSans-110\"/>\r\n       <use x=\"201.904297\" xlink:href=\"#DejaVuSans-109\"/>\r\n       <use x=\"299.316406\" xlink:href=\"#DejaVuSans-97\"/>\r\n       <use x=\"360.595703\" xlink:href=\"#DejaVuSans-114\"/>\r\n       <use x=\"401.708984\" xlink:href=\"#DejaVuSans-107\"/>\r\n      </g>\r\n     </g>\r\n    </g>\r\n    <g id=\"xtick_56\">\r\n     <g id=\"line2d_56\">\r\n      <g>\r\n       <use style=\"stroke:#000000;stroke-width:0.8;\" x=\"1152.178387\" xlink:href=\"#m8f8433e071\" y=\"843.796875\"/>\r\n      </g>\r\n     </g>\r\n     <g id=\"text_56\">\r\n      <!-- Czech Republic -->\r\n      <g transform=\"translate(1084.815882 895.668721)rotate(-30)scale(0.1 -0.1)\">\r\n       <use xlink:href=\"#DejaVuSans-67\"/>\r\n       <use x=\"69.824219\" xlink:href=\"#DejaVuSans-122\"/>\r\n       <use x=\"122.314453\" xlink:href=\"#DejaVuSans-101\"/>\r\n       <use x=\"183.837891\" xlink:href=\"#DejaVuSans-99\"/>\r\n       <use x=\"238.818359\" xlink:href=\"#DejaVuSans-104\"/>\r\n       <use x=\"302.197266\" xlink:href=\"#DejaVuSans-32\"/>\r\n       <use x=\"333.984375\" xlink:href=\"#DejaVuSans-82\"/>\r\n       <use x=\"403.404297\" xlink:href=\"#DejaVuSans-101\"/>\r\n       <use x=\"464.927734\" xlink:href=\"#DejaVuSans-112\"/>\r\n       <use x=\"528.404297\" xlink:href=\"#DejaVuSans-117\"/>\r\n       <use x=\"591.783203\" xlink:href=\"#DejaVuSans-98\"/>\r\n       <use x=\"655.259766\" xlink:href=\"#DejaVuSans-108\"/>\r\n       <use x=\"683.042969\" xlink:href=\"#DejaVuSans-105\"/>\r\n       <use x=\"710.826172\" xlink:href=\"#DejaVuSans-99\"/>\r\n      </g>\r\n     </g>\r\n    </g>\r\n    <g id=\"xtick_57\">\r\n     <g id=\"line2d_57\">\r\n      <g>\r\n       <use style=\"stroke:#000000;stroke-width:0.8;\" x=\"1171.093641\" xlink:href=\"#m8f8433e071\" y=\"843.796875\"/>\r\n      </g>\r\n     </g>\r\n     <g id=\"text_57\">\r\n      <!-- Saudi Arabia -->\r\n      <g transform=\"translate(1115.101779 889.103877)rotate(-30)scale(0.1 -0.1)\">\r\n       <use xlink:href=\"#DejaVuSans-83\"/>\r\n       <use x=\"63.476562\" xlink:href=\"#DejaVuSans-97\"/>\r\n       <use x=\"124.755859\" xlink:href=\"#DejaVuSans-117\"/>\r\n       <use x=\"188.134766\" xlink:href=\"#DejaVuSans-100\"/>\r\n       <use x=\"251.611328\" xlink:href=\"#DejaVuSans-105\"/>\r\n       <use x=\"279.394531\" xlink:href=\"#DejaVuSans-32\"/>\r\n       <use x=\"311.181641\" xlink:href=\"#DejaVuSans-65\"/>\r\n       <use x=\"379.589844\" xlink:href=\"#DejaVuSans-114\"/>\r\n       <use x=\"420.703125\" xlink:href=\"#DejaVuSans-97\"/>\r\n       <use x=\"481.982422\" xlink:href=\"#DejaVuSans-98\"/>\r\n       <use x=\"545.458984\" xlink:href=\"#DejaVuSans-105\"/>\r\n       <use x=\"573.242188\" xlink:href=\"#DejaVuSans-97\"/>\r\n      </g>\r\n     </g>\r\n    </g>\r\n    <g id=\"xtick_58\">\r\n     <g id=\"line2d_58\">\r\n      <g>\r\n       <use style=\"stroke:#000000;stroke-width:0.8;\" x=\"1190.008895\" xlink:href=\"#m8f8433e071\" y=\"843.796875\"/>\r\n      </g>\r\n     </g>\r\n     <g id=\"text_58\">\r\n      <!-- Algeria -->\r\n      <g transform=\"translate(1158.539084 874.946065)rotate(-30)scale(0.1 -0.1)\">\r\n       <use xlink:href=\"#DejaVuSans-65\"/>\r\n       <use x=\"68.408203\" xlink:href=\"#DejaVuSans-108\"/>\r\n       <use x=\"96.191406\" xlink:href=\"#DejaVuSans-103\"/>\r\n       <use x=\"159.667969\" xlink:href=\"#DejaVuSans-101\"/>\r\n       <use x=\"221.191406\" xlink:href=\"#DejaVuSans-114\"/>\r\n       <use x=\"262.304688\" xlink:href=\"#DejaVuSans-105\"/>\r\n       <use x=\"290.087891\" xlink:href=\"#DejaVuSans-97\"/>\r\n      </g>\r\n     </g>\r\n    </g>\r\n    <g id=\"xtick_59\">\r\n     <g id=\"line2d_59\">\r\n      <g>\r\n       <use style=\"stroke:#000000;stroke-width:0.8;\" x=\"1208.924149\" xlink:href=\"#m8f8433e071\" y=\"843.796875\"/>\r\n      </g>\r\n     </g>\r\n     <g id=\"text_59\">\r\n      <!-- Tunisia -->\r\n      <g transform=\"translate(1177.007794 875.203877)rotate(-30)scale(0.1 -0.1)\">\r\n       <use xlink:href=\"#DejaVuSans-84\"/>\r\n       <use x=\"60.849609\" xlink:href=\"#DejaVuSans-117\"/>\r\n       <use x=\"124.228516\" xlink:href=\"#DejaVuSans-110\"/>\r\n       <use x=\"187.607422\" xlink:href=\"#DejaVuSans-105\"/>\r\n       <use x=\"215.390625\" xlink:href=\"#DejaVuSans-115\"/>\r\n       <use x=\"267.490234\" xlink:href=\"#DejaVuSans-105\"/>\r\n       <use x=\"295.273438\" xlink:href=\"#DejaVuSans-97\"/>\r\n      </g>\r\n     </g>\r\n    </g>\r\n    <g id=\"text_60\">\r\n     <!-- Country -->\r\n     <g transform=\"translate(640.518495 1004.841658)scale(0.1 -0.1)\">\r\n      <use xlink:href=\"#DejaVuSans-67\"/>\r\n      <use x=\"69.824219\" xlink:href=\"#DejaVuSans-111\"/>\r\n      <use x=\"131.005859\" xlink:href=\"#DejaVuSans-117\"/>\r\n      <use x=\"194.384766\" xlink:href=\"#DejaVuSans-110\"/>\r\n      <use x=\"257.763672\" xlink:href=\"#DejaVuSans-116\"/>\r\n      <use x=\"296.972656\" xlink:href=\"#DejaVuSans-114\"/>\r\n      <use x=\"338.085938\" xlink:href=\"#DejaVuSans-121\"/>\r\n     </g>\r\n    </g>\r\n   </g>\r\n   <g id=\"matplotlib.axis_2\">\r\n    <g id=\"ytick_1\">\r\n     <g id=\"line2d_60\">\r\n      <defs>\r\n       <path d=\"M 0 0 \r\nL -3.5 0 \r\n\" id=\"m9aa9646315\" style=\"stroke:#000000;stroke-width:0.8;\"/>\r\n      </defs>\r\n      <g>\r\n       <use style=\"stroke:#000000;stroke-width:0.8;\" x=\"102.381777\" xlink:href=\"#m9aa9646315\" y=\"843.796875\"/>\r\n      </g>\r\n     </g>\r\n     <g id=\"text_61\">\r\n      <!-- 0 -->\r\n      <defs>\r\n       <path d=\"M 31.78125 66.40625 \r\nQ 24.171875 66.40625 20.328125 58.90625 \r\nQ 16.5 51.421875 16.5 36.375 \r\nQ 16.5 21.390625 20.328125 13.890625 \r\nQ 24.171875 6.390625 31.78125 6.390625 \r\nQ 39.453125 6.390625 43.28125 13.890625 \r\nQ 47.125 21.390625 47.125 36.375 \r\nQ 47.125 51.421875 43.28125 58.90625 \r\nQ 39.453125 66.40625 31.78125 66.40625 \r\nz\r\nM 31.78125 74.21875 \r\nQ 44.046875 74.21875 50.515625 64.515625 \r\nQ 56.984375 54.828125 56.984375 36.375 \r\nQ 56.984375 17.96875 50.515625 8.265625 \r\nQ 44.046875 -1.421875 31.78125 -1.421875 \r\nQ 19.53125 -1.421875 13.0625 8.265625 \r\nQ 6.59375 17.96875 6.59375 36.375 \r\nQ 6.59375 54.828125 13.0625 64.515625 \r\nQ 19.53125 74.21875 31.78125 74.21875 \r\nz\r\n\" id=\"DejaVuSans-48\"/>\r\n      </defs>\r\n      <g transform=\"translate(89.019277 847.596094)scale(0.1 -0.1)\">\r\n       <use xlink:href=\"#DejaVuSans-48\"/>\r\n      </g>\r\n     </g>\r\n    </g>\r\n    <g id=\"ytick_2\">\r\n     <g id=\"line2d_61\">\r\n      <g>\r\n       <use style=\"stroke:#000000;stroke-width:0.8;\" x=\"102.381777\" xlink:href=\"#m9aa9646315\" y=\"687.04043\"/>\r\n      </g>\r\n     </g>\r\n     <g id=\"text_62\">\r\n      <!-- 500 -->\r\n      <defs>\r\n       <path d=\"M 10.796875 72.90625 \r\nL 49.515625 72.90625 \r\nL 49.515625 64.59375 \r\nL 19.828125 64.59375 \r\nL 19.828125 46.734375 \r\nQ 21.96875 47.46875 24.109375 47.828125 \r\nQ 26.265625 48.1875 28.421875 48.1875 \r\nQ 40.625 48.1875 47.75 41.5 \r\nQ 54.890625 34.8125 54.890625 23.390625 \r\nQ 54.890625 11.625 47.5625 5.09375 \r\nQ 40.234375 -1.421875 26.90625 -1.421875 \r\nQ 22.3125 -1.421875 17.546875 -0.640625 \r\nQ 12.796875 0.140625 7.71875 1.703125 \r\nL 7.71875 11.625 \r\nQ 12.109375 9.234375 16.796875 8.0625 \r\nQ 21.484375 6.890625 26.703125 6.890625 \r\nQ 35.15625 6.890625 40.078125 11.328125 \r\nQ 45.015625 15.765625 45.015625 23.390625 \r\nQ 45.015625 31 40.078125 35.4375 \r\nQ 35.15625 39.890625 26.703125 39.890625 \r\nQ 22.75 39.890625 18.8125 39.015625 \r\nQ 14.890625 38.140625 10.796875 36.28125 \r\nz\r\n\" id=\"DejaVuSans-53\"/>\r\n      </defs>\r\n      <g transform=\"translate(76.294277 690.839649)scale(0.1 -0.1)\">\r\n       <use xlink:href=\"#DejaVuSans-53\"/>\r\n       <use x=\"63.623047\" xlink:href=\"#DejaVuSans-48\"/>\r\n       <use x=\"127.246094\" xlink:href=\"#DejaVuSans-48\"/>\r\n      </g>\r\n     </g>\r\n    </g>\r\n    <g id=\"ytick_3\">\r\n     <g id=\"line2d_62\">\r\n      <g>\r\n       <use style=\"stroke:#000000;stroke-width:0.8;\" x=\"102.381777\" xlink:href=\"#m9aa9646315\" y=\"530.283985\"/>\r\n      </g>\r\n     </g>\r\n     <g id=\"text_63\">\r\n      <!-- 1000 -->\r\n      <defs>\r\n       <path d=\"M 12.40625 8.296875 \r\nL 28.515625 8.296875 \r\nL 28.515625 63.921875 \r\nL 10.984375 60.40625 \r\nL 10.984375 69.390625 \r\nL 28.421875 72.90625 \r\nL 38.28125 72.90625 \r\nL 38.28125 8.296875 \r\nL 54.390625 8.296875 \r\nL 54.390625 0 \r\nL 12.40625 0 \r\nz\r\n\" id=\"DejaVuSans-49\"/>\r\n      </defs>\r\n      <g transform=\"translate(69.931777 534.083204)scale(0.1 -0.1)\">\r\n       <use xlink:href=\"#DejaVuSans-49\"/>\r\n       <use x=\"63.623047\" xlink:href=\"#DejaVuSans-48\"/>\r\n       <use x=\"127.246094\" xlink:href=\"#DejaVuSans-48\"/>\r\n       <use x=\"190.869141\" xlink:href=\"#DejaVuSans-48\"/>\r\n      </g>\r\n     </g>\r\n    </g>\r\n    <g id=\"ytick_4\">\r\n     <g id=\"line2d_63\">\r\n      <g>\r\n       <use style=\"stroke:#000000;stroke-width:0.8;\" x=\"102.381777\" xlink:href=\"#m9aa9646315\" y=\"373.52754\"/>\r\n      </g>\r\n     </g>\r\n     <g id=\"text_64\">\r\n      <!-- 1500 -->\r\n      <g transform=\"translate(69.931777 377.326759)scale(0.1 -0.1)\">\r\n       <use xlink:href=\"#DejaVuSans-49\"/>\r\n       <use x=\"63.623047\" xlink:href=\"#DejaVuSans-53\"/>\r\n       <use x=\"127.246094\" xlink:href=\"#DejaVuSans-48\"/>\r\n       <use x=\"190.869141\" xlink:href=\"#DejaVuSans-48\"/>\r\n      </g>\r\n     </g>\r\n    </g>\r\n    <g id=\"ytick_5\">\r\n     <g id=\"line2d_64\">\r\n      <g>\r\n       <use style=\"stroke:#000000;stroke-width:0.8;\" x=\"102.381777\" xlink:href=\"#m9aa9646315\" y=\"216.771095\"/>\r\n      </g>\r\n     </g>\r\n     <g id=\"text_65\">\r\n      <!-- 2000 -->\r\n      <defs>\r\n       <path d=\"M 19.1875 8.296875 \r\nL 53.609375 8.296875 \r\nL 53.609375 0 \r\nL 7.328125 0 \r\nL 7.328125 8.296875 \r\nQ 12.9375 14.109375 22.625 23.890625 \r\nQ 32.328125 33.6875 34.8125 36.53125 \r\nQ 39.546875 41.84375 41.421875 45.53125 \r\nQ 43.3125 49.21875 43.3125 52.78125 \r\nQ 43.3125 58.59375 39.234375 62.25 \r\nQ 35.15625 65.921875 28.609375 65.921875 \r\nQ 23.96875 65.921875 18.8125 64.3125 \r\nQ 13.671875 62.703125 7.8125 59.421875 \r\nL 7.8125 69.390625 \r\nQ 13.765625 71.78125 18.9375 73 \r\nQ 24.125 74.21875 28.421875 74.21875 \r\nQ 39.75 74.21875 46.484375 68.546875 \r\nQ 53.21875 62.890625 53.21875 53.421875 \r\nQ 53.21875 48.921875 51.53125 44.890625 \r\nQ 49.859375 40.875 45.40625 35.40625 \r\nQ 44.1875 33.984375 37.640625 27.21875 \r\nQ 31.109375 20.453125 19.1875 8.296875 \r\nz\r\n\" id=\"DejaVuSans-50\"/>\r\n      </defs>\r\n      <g transform=\"translate(69.931777 220.570314)scale(0.1 -0.1)\">\r\n       <use xlink:href=\"#DejaVuSans-50\"/>\r\n       <use x=\"63.623047\" xlink:href=\"#DejaVuSans-48\"/>\r\n       <use x=\"127.246094\" xlink:href=\"#DejaVuSans-48\"/>\r\n       <use x=\"190.869141\" xlink:href=\"#DejaVuSans-48\"/>\r\n      </g>\r\n     </g>\r\n    </g>\r\n    <g id=\"ytick_6\">\r\n     <g id=\"line2d_65\">\r\n      <g>\r\n       <use style=\"stroke:#000000;stroke-width:0.8;\" x=\"102.381777\" xlink:href=\"#m9aa9646315\" y=\"60.01465\"/>\r\n      </g>\r\n     </g>\r\n     <g id=\"text_66\">\r\n      <!-- 2500 -->\r\n      <g transform=\"translate(69.931777 63.813869)scale(0.1 -0.1)\">\r\n       <use xlink:href=\"#DejaVuSans-50\"/>\r\n       <use x=\"63.623047\" xlink:href=\"#DejaVuSans-53\"/>\r\n       <use x=\"127.246094\" xlink:href=\"#DejaVuSans-48\"/>\r\n       <use x=\"190.869141\" xlink:href=\"#DejaVuSans-48\"/>\r\n      </g>\r\n     </g>\r\n    </g>\r\n    <g id=\"text_67\">\r\n     <!-- Count -->\r\n     <g transform=\"translate(63.852089 450.945312)rotate(-90)scale(0.1 -0.1)\">\r\n      <use xlink:href=\"#DejaVuSans-67\"/>\r\n      <use x=\"69.824219\" xlink:href=\"#DejaVuSans-111\"/>\r\n      <use x=\"131.005859\" xlink:href=\"#DejaVuSans-117\"/>\r\n      <use x=\"194.384766\" xlink:href=\"#DejaVuSans-110\"/>\r\n      <use x=\"257.763672\" xlink:href=\"#DejaVuSans-116\"/>\r\n     </g>\r\n    </g>\r\n   </g>\r\n   <g id=\"patch_62\">\r\n    <path d=\"M 102.381777 843.796875 \r\nL 102.381777 28.396875 \r\n\" style=\"fill:none;stroke:#000000;stroke-linecap:square;stroke-linejoin:miter;stroke-width:0.8;\"/>\r\n   </g>\r\n   <g id=\"patch_63\">\r\n    <path d=\"M 1218.381777 843.796875 \r\nL 1218.381777 28.396875 \r\n\" style=\"fill:none;stroke:#000000;stroke-linecap:square;stroke-linejoin:miter;stroke-width:0.8;\"/>\r\n   </g>\r\n   <g id=\"patch_64\">\r\n    <path d=\"M 102.381777 843.796875 \r\nL 1218.381777 843.796875 \r\n\" style=\"fill:none;stroke:#000000;stroke-linecap:square;stroke-linejoin:miter;stroke-width:0.8;\"/>\r\n   </g>\r\n   <g id=\"patch_65\">\r\n    <path d=\"M 102.381777 28.396875 \r\nL 1218.381777 28.396875 \r\n\" style=\"fill:none;stroke:#000000;stroke-linecap:square;stroke-linejoin:miter;stroke-width:0.8;\"/>\r\n   </g>\r\n   <g id=\"text_68\">\r\n    <!-- Countplot of Country Data -->\r\n    <g transform=\"translate(528.742714 22.396875)scale(0.2 -0.2)\">\r\n     <use xlink:href=\"#DejaVuSans-67\"/>\r\n     <use x=\"69.824219\" xlink:href=\"#DejaVuSans-111\"/>\r\n     <use x=\"131.005859\" xlink:href=\"#DejaVuSans-117\"/>\r\n     <use x=\"194.384766\" xlink:href=\"#DejaVuSans-110\"/>\r\n     <use x=\"257.763672\" xlink:href=\"#DejaVuSans-116\"/>\r\n     <use x=\"296.972656\" xlink:href=\"#DejaVuSans-112\"/>\r\n     <use x=\"360.449219\" xlink:href=\"#DejaVuSans-108\"/>\r\n     <use x=\"388.232422\" xlink:href=\"#DejaVuSans-111\"/>\r\n     <use x=\"449.414062\" xlink:href=\"#DejaVuSans-116\"/>\r\n     <use x=\"488.623047\" xlink:href=\"#DejaVuSans-32\"/>\r\n     <use x=\"520.410156\" xlink:href=\"#DejaVuSans-111\"/>\r\n     <use x=\"581.591797\" xlink:href=\"#DejaVuSans-102\"/>\r\n     <use x=\"616.796875\" xlink:href=\"#DejaVuSans-32\"/>\r\n     <use x=\"648.583984\" xlink:href=\"#DejaVuSans-67\"/>\r\n     <use x=\"718.408203\" xlink:href=\"#DejaVuSans-111\"/>\r\n     <use x=\"779.589844\" xlink:href=\"#DejaVuSans-117\"/>\r\n     <use x=\"842.96875\" xlink:href=\"#DejaVuSans-110\"/>\r\n     <use x=\"906.347656\" xlink:href=\"#DejaVuSans-116\"/>\r\n     <use x=\"945.556641\" xlink:href=\"#DejaVuSans-114\"/>\r\n     <use x=\"986.669922\" xlink:href=\"#DejaVuSans-121\"/>\r\n     <use x=\"1045.849609\" xlink:href=\"#DejaVuSans-32\"/>\r\n     <use x=\"1077.636719\" xlink:href=\"#DejaVuSans-68\"/>\r\n     <use x=\"1154.638672\" xlink:href=\"#DejaVuSans-97\"/>\r\n     <use x=\"1215.917969\" xlink:href=\"#DejaVuSans-116\"/>\r\n     <use x=\"1255.126953\" xlink:href=\"#DejaVuSans-97\"/>\r\n    </g>\r\n   </g>\r\n  </g>\r\n </g>\r\n <defs>\r\n  <clipPath id=\"p80ae2f97d9\">\r\n   <rect height=\"815.4\" width=\"1116\" x=\"102.381777\" y=\"28.396875\"/>\r\n  </clipPath>\r\n </defs>\r\n</svg>\r\n",
      "image/png": "[encoded data removed]"
     },
     "metadata": {
      "needs_background": "light"
     }
    }
   ]
  },
  {
   "source": [
    "From the above plot we can see that the 9 most popular non-'Other' countries are India, USA, Brazil, Japan, Russia, Germany, United Kingdom of Great Britain and Northern Ireland, Spain, and Canada. These countries will each be given their own column while the other countries will be aggregated into the 'Other' column."
   ],
   "cell_type": "markdown",
   "metadata": {}
  },
  {
   "cell_type": "code",
   "execution_count": 115,
   "metadata": {},
   "outputs": [
    {
     "output_type": "stream",
     "name": "stdout",
     "text": [
      "count     12497\nunique       59\ntop       India\nfreq       2477\nName: Q3, dtype: object\n"
     ]
    },
    {
     "output_type": "execute_result",
     "data": {
      "text/plain": [
       "  Time from Start to Finish (seconds)     Q1                   Q4  \\\n",
       "1                                 510  22-24      Master’s degree   \n",
       "2                                 423  40-44  Professional degree   \n",
       "3                                 391  40-44      Master’s degree   \n",
       "4                                 392  22-24    Bachelor’s degree   \n",
       "5                                 470  50-54      Master’s degree   \n",
       "\n",
       "                     Q6   Q7 Q9_Part_1 Q9_Part_2 Q9_Part_3 Q9_Part_4  \\\n",
       "1  1000-9,999 employees    0         0         0         0         0   \n",
       "2    > 10,000 employees  20+         1         1         1         1   \n",
       "3    > 10,000 employees  20+         0         0         0         0   \n",
       "4        0-49 employees    0         0         0         0         0   \n",
       "5        0-49 employees  3-4         0         0         1         0   \n",
       "\n",
       "  Q9_Part_5  ... Q19_C++ Q19_Java Q19_Javascript Q19_MATLAB Q19_None  \\\n",
       "1         0  ...       0        0              0          0        0   \n",
       "2         0  ...       0        0              0          0        0   \n",
       "3         0  ...       0        0              0          0        0   \n",
       "4         0  ...       0        0              0          0        0   \n",
       "5         0  ...       0        1              0          0        0   \n",
       "\n",
       "  Q19_Other Q19_Python Q19_R Q19_SQL Q19_TypeScript  \n",
       "1         0          1     0       0              0  \n",
       "2         0          0     0       0              0  \n",
       "3         0          1     0       0              0  \n",
       "4         0          1     0       0              0  \n",
       "5         0          0     0       0              0  \n",
       "\n",
       "[5 rows x 261 columns]"
      ],
      "text/html": "<div>\n<style scoped>\n    .dataframe tbody tr th:only-of-type {\n        vertical-align: middle;\n    }\n\n    .dataframe tbody tr th {\n        vertical-align: top;\n    }\n\n    .dataframe thead th {\n        text-align: right;\n    }\n</style>\n<table border=\"1\" class=\"dataframe\">\n  <thead>\n    <tr style=\"text-align: right;\">\n      <th></th>\n      <th>Time from Start to Finish (seconds)</th>\n      <th>Q1</th>\n      <th>Q4</th>\n      <th>Q6</th>\n      <th>Q7</th>\n      <th>Q9_Part_1</th>\n      <th>Q9_Part_2</th>\n      <th>Q9_Part_3</th>\n      <th>Q9_Part_4</th>\n      <th>Q9_Part_5</th>\n      <th>...</th>\n      <th>Q19_C++</th>\n      <th>Q19_Java</th>\n      <th>Q19_Javascript</th>\n      <th>Q19_MATLAB</th>\n      <th>Q19_None</th>\n      <th>Q19_Other</th>\n      <th>Q19_Python</th>\n      <th>Q19_R</th>\n      <th>Q19_SQL</th>\n      <th>Q19_TypeScript</th>\n    </tr>\n  </thead>\n  <tbody>\n    <tr>\n      <th>1</th>\n      <td>510</td>\n      <td>22-24</td>\n      <td>Master’s degree</td>\n      <td>1000-9,999 employees</td>\n      <td>0</td>\n      <td>0</td>\n      <td>0</td>\n      <td>0</td>\n      <td>0</td>\n      <td>0</td>\n      <td>...</td>\n      <td>0</td>\n      <td>0</td>\n      <td>0</td>\n      <td>0</td>\n      <td>0</td>\n      <td>0</td>\n      <td>1</td>\n      <td>0</td>\n      <td>0</td>\n      <td>0</td>\n    </tr>\n    <tr>\n      <th>2</th>\n      <td>423</td>\n      <td>40-44</td>\n      <td>Professional degree</td>\n      <td>&gt; 10,000 employees</td>\n      <td>20+</td>\n      <td>1</td>\n      <td>1</td>\n      <td>1</td>\n      <td>1</td>\n      <td>0</td>\n      <td>...</td>\n      <td>0</td>\n      <td>0</td>\n      <td>0</td>\n      <td>0</td>\n      <td>0</td>\n      <td>0</td>\n      <td>0</td>\n      <td>0</td>\n      <td>0</td>\n      <td>0</td>\n    </tr>\n    <tr>\n      <th>3</th>\n      <td>391</td>\n      <td>40-44</td>\n      <td>Master’s degree</td>\n      <td>&gt; 10,000 employees</td>\n      <td>20+</td>\n      <td>0</td>\n      <td>0</td>\n      <td>0</td>\n      <td>0</td>\n      <td>0</td>\n      <td>...</td>\n      <td>0</td>\n      <td>0</td>\n      <td>0</td>\n      <td>0</td>\n      <td>0</td>\n      <td>0</td>\n      <td>1</td>\n      <td>0</td>\n      <td>0</td>\n      <td>0</td>\n    </tr>\n    <tr>\n      <th>4</th>\n      <td>392</td>\n      <td>22-24</td>\n      <td>Bachelor’s degree</td>\n      <td>0-49 employees</td>\n      <td>0</td>\n      <td>0</td>\n      <td>0</td>\n      <td>0</td>\n      <td>0</td>\n      <td>0</td>\n      <td>...</td>\n      <td>0</td>\n      <td>0</td>\n      <td>0</td>\n      <td>0</td>\n      <td>0</td>\n      <td>0</td>\n      <td>1</td>\n      <td>0</td>\n      <td>0</td>\n      <td>0</td>\n    </tr>\n    <tr>\n      <th>5</th>\n      <td>470</td>\n      <td>50-54</td>\n      <td>Master’s degree</td>\n      <td>0-49 employees</td>\n      <td>3-4</td>\n      <td>0</td>\n      <td>0</td>\n      <td>1</td>\n      <td>0</td>\n      <td>0</td>\n      <td>...</td>\n      <td>0</td>\n      <td>1</td>\n      <td>0</td>\n      <td>0</td>\n      <td>0</td>\n      <td>0</td>\n      <td>0</td>\n      <td>0</td>\n      <td>0</td>\n      <td>0</td>\n    </tr>\n  </tbody>\n</table>\n<p>5 rows × 261 columns</p>\n</div>"
     },
     "metadata": {},
     "execution_count": 115
    }
   ],
   "source": [
    "print(df[\"Q3\"].describe())\n",
    "\n",
    "top_countries = set([\"India\", \"United States of America\", \"Brazil\", \"Japan\", \"Russia\", \"Germany\", \"United Kingdom of Great Britain and Northern Ireland\", \"Spain\", \"Canada\"])\n",
    "\n",
    "def reduce_countries(element):\n",
    "    if element not in top_countries:\n",
    "        return 'Other'\n",
    "    return element\n",
    "\n",
    "df[\"Q3\"] = df[\"Q3\"].map(reduce_countries)\n",
    "\n",
    "# one-hot columns:\n",
    "one_hot_columns = [\"Q2\", \"Q3\", \"Q5\", \"Q8\", \"Q14\", \"Q19\"]\n",
    "\n",
    "# numerical columns:\n",
    "numerical_columns = [\"Q1\", \"Q4\", \"Q6\", \"Q7\", \"Q11\", \"Q15\", \"Q22\", \"Q23\"]\n",
    "\n",
    "\n",
    "for column in one_hot_columns:\n",
    "    df = pd.concat([df, pd.get_dummies(df[column], prefix=column)], axis=1)\n",
    "    df.drop([column], axis=1, inplace=True)\n",
    "df.head()"
   ]
  },
  {
   "cell_type": "code",
   "execution_count": 116,
   "metadata": {},
   "outputs": [
    {
     "output_type": "stream",
     "name": "stdout",
     "text": [
      "Q1\n['22-24' '40-44' '50-54' '55-59' '30-34' '18-21' '35-39' '25-29' '45-49'\n '60-69' '70+']\nQ4\n['Master’s degree' 'Professional degree' 'Bachelor’s degree'\n 'Doctoral degree'\n 'Some college/university study without earning a bachelor’s degree'\n 'I prefer not to answer' 'No formal education past high school']\nQ6\n['1000-9,999 employees' '> 10,000 employees' '0-49 employees'\n '50-249 employees' '250-999 employees']\nQ7\n['0' '20+' '3-4' '1-2' '5-9' '10-14' '15-19']\nQ11\n['$0 (USD)' '> $100,000 ($USD)' '$10,000-$99,999' '$100-$999'\n '$1000-$9,999' '$1-$99' nan]\nQ15\n['1-2 years' 'I have never written code' '< 1 years' '20+ years'\n '3-5 years' '5-10 years' '10-20 years' nan]\nQ22\n['Never' nan 'Once' '6-24 times' '2-5 times' '> 25 times']\nQ23\n['1-2 years' nan '2-3 years' '< 1 years' '10-15 years' '3-4 years'\n '4-5 years' '5-10 years' '20+ years']\n"
     ]
    }
   ],
   "source": [
    "for column in numerical_columns:\n",
    "    print(column)\n",
    "    print(df[column].unique())"
   ]
  },
  {
   "cell_type": "code",
   "execution_count": 117,
   "metadata": {},
   "outputs": [
    {
     "output_type": "stream",
     "name": "stdout",
     "text": [
      "count        12250\n",
      "unique           6\n",
      "top       $0 (USD)\n",
      "freq          4038\n",
      "Name: Q11, dtype: object \n",
      "\n",
      "count         11422\n",
      "unique            7\n",
      "top       3-5 years\n",
      "freq           2818\n",
      "Name: Q15, dtype: object\n"
     ]
    },
    {
     "output_type": "execute_result",
     "data": {
      "text/plain": [
       "  Time from Start to Finish (seconds)  Q1  Q4  Q6  Q7 Q9_Part_1 Q9_Part_2  \\\n",
       "1                                 510   1   4   3   0         0         0   \n",
       "2                                 423   5   2   4   6         1         1   \n",
       "3                                 391   5   4   4   6         0         0   \n",
       "4                                 392   1   3   0   0         0         0   \n",
       "5                                 470   7   4   0   2         0         0   \n",
       "\n",
       "  Q9_Part_3 Q9_Part_4 Q9_Part_5  ... Q19_C++ Q19_Java Q19_Javascript  \\\n",
       "1         0         0         0  ...       0        0              0   \n",
       "2         1         1         0  ...       0        0              0   \n",
       "3         0         0         0  ...       0        0              0   \n",
       "4         0         0         0  ...       0        0              0   \n",
       "5         1         0         0  ...       0        1              0   \n",
       "\n",
       "  Q19_MATLAB  Q19_None Q19_Other Q19_Python Q19_R Q19_SQL Q19_TypeScript  \n",
       "1          0         0         0          1     0       0              0  \n",
       "2          0         0         0          0     0       0              0  \n",
       "3          0         0         0          1     0       0              0  \n",
       "4          0         0         0          1     0       0              0  \n",
       "5          0         0         0          0     0       0              0  \n",
       "\n",
       "[5 rows x 261 columns]"
      ],
      "text/html": "<div>\n<style scoped>\n    .dataframe tbody tr th:only-of-type {\n        vertical-align: middle;\n    }\n\n    .dataframe tbody tr th {\n        vertical-align: top;\n    }\n\n    .dataframe thead th {\n        text-align: right;\n    }\n</style>\n<table border=\"1\" class=\"dataframe\">\n  <thead>\n    <tr style=\"text-align: right;\">\n      <th></th>\n      <th>Time from Start to Finish (seconds)</th>\n      <th>Q1</th>\n      <th>Q4</th>\n      <th>Q6</th>\n      <th>Q7</th>\n      <th>Q9_Part_1</th>\n      <th>Q9_Part_2</th>\n      <th>Q9_Part_3</th>\n      <th>Q9_Part_4</th>\n      <th>Q9_Part_5</th>\n      <th>...</th>\n      <th>Q19_C++</th>\n      <th>Q19_Java</th>\n      <th>Q19_Javascript</th>\n      <th>Q19_MATLAB</th>\n      <th>Q19_None</th>\n      <th>Q19_Other</th>\n      <th>Q19_Python</th>\n      <th>Q19_R</th>\n      <th>Q19_SQL</th>\n      <th>Q19_TypeScript</th>\n    </tr>\n  </thead>\n  <tbody>\n    <tr>\n      <th>1</th>\n      <td>510</td>\n      <td>1</td>\n      <td>4</td>\n      <td>3</td>\n      <td>0</td>\n      <td>0</td>\n      <td>0</td>\n      <td>0</td>\n      <td>0</td>\n      <td>0</td>\n      <td>...</td>\n      <td>0</td>\n      <td>0</td>\n      <td>0</td>\n      <td>0</td>\n      <td>0</td>\n      <td>0</td>\n      <td>1</td>\n      <td>0</td>\n      <td>0</td>\n      <td>0</td>\n    </tr>\n    <tr>\n      <th>2</th>\n      <td>423</td>\n      <td>5</td>\n      <td>2</td>\n      <td>4</td>\n      <td>6</td>\n      <td>1</td>\n      <td>1</td>\n      <td>1</td>\n      <td>1</td>\n      <td>0</td>\n      <td>...</td>\n      <td>0</td>\n      <td>0</td>\n      <td>0</td>\n      <td>0</td>\n      <td>0</td>\n      <td>0</td>\n      <td>0</td>\n      <td>0</td>\n      <td>0</td>\n      <td>0</td>\n    </tr>\n    <tr>\n      <th>3</th>\n      <td>391</td>\n      <td>5</td>\n      <td>4</td>\n      <td>4</td>\n      <td>6</td>\n      <td>0</td>\n      <td>0</td>\n      <td>0</td>\n      <td>0</td>\n      <td>0</td>\n      <td>...</td>\n      <td>0</td>\n      <td>0</td>\n      <td>0</td>\n      <td>0</td>\n      <td>0</td>\n      <td>0</td>\n      <td>1</td>\n      <td>0</td>\n      <td>0</td>\n      <td>0</td>\n    </tr>\n    <tr>\n      <th>4</th>\n      <td>392</td>\n      <td>1</td>\n      <td>3</td>\n      <td>0</td>\n      <td>0</td>\n      <td>0</td>\n      <td>0</td>\n      <td>0</td>\n      <td>0</td>\n      <td>0</td>\n      <td>...</td>\n      <td>0</td>\n      <td>0</td>\n      <td>0</td>\n      <td>0</td>\n      <td>0</td>\n      <td>0</td>\n      <td>1</td>\n      <td>0</td>\n      <td>0</td>\n      <td>0</td>\n    </tr>\n    <tr>\n      <th>5</th>\n      <td>470</td>\n      <td>7</td>\n      <td>4</td>\n      <td>0</td>\n      <td>2</td>\n      <td>0</td>\n      <td>0</td>\n      <td>1</td>\n      <td>0</td>\n      <td>0</td>\n      <td>...</td>\n      <td>0</td>\n      <td>1</td>\n      <td>0</td>\n      <td>0</td>\n      <td>0</td>\n      <td>0</td>\n      <td>0</td>\n      <td>0</td>\n      <td>0</td>\n      <td>0</td>\n    </tr>\n  </tbody>\n</table>\n<p>5 rows × 261 columns</p>\n</div>"
     },
     "metadata": {},
     "execution_count": 117
    }
   ],
   "source": [
    "\n",
    "q1_map = {\"Q1\": {'18-21': 0, '22-24': 1, '25-29': 2, '30-34': 3, '35-39': 4, '40-44': 5, '45-49': 6, '50-54': 7, '55-59': 8, '60-69': 9, '70+': 10}}\n",
    "df = df.replace(q1_map)\n",
    "\n",
    "q4_map = {\"Q4\": {\"I prefer not to answer\": 0, \"No formal education past high school\": 0, \"Some college/university study without earning a bachelor’s degree\": 1, \"Professional degree\": 2, \"Bachelor’s degree\": 3, \"Master’s degree\": 4, \"Doctoral degree\": 5}}\n",
    "df = df.replace(q4_map)\n",
    "\n",
    "q6_map = {\"Q6\": {\"0-49 employees\": 0, '50-249 employees': 1, '250-999 employees': 2, '1000-9,999 employees': 3, '> 10,000 employees': 4}}\n",
    "df = df.replace(q6_map)\n",
    "\n",
    "q7_map = {\"Q7\": {'0': 0, '1-2': 1, '3-4': 2, '5-9': 3, '10-14': 4, '15-19': 5, '20+': 6}}\n",
    "df = df.replace(q7_map)\n",
    "\n",
    "# For the mode of Q11\n",
    "print(df[\"Q11\"].describe(), \"\\n\")\n",
    "# nan's exist\n",
    "q11_map = {\"Q11\": {'$0 (USD)': 0, '$1-$99': 1, '$100-$999': 2, '$1000-$9,999': 3, '$10,000-$99,999': 4, '> $100,000 ($USD)': 5}}\n",
    "df = df.replace(q11_map)\n",
    "\n",
    "# For the mode of Q15\n",
    "print(df[\"Q15\"].describe())\n",
    "# nan's exist\n",
    "q15_map = {\"Q15\": {'I have never written code': 0, '< 1 years': 1, '1-2 years': 2, '3-5 years': 3, '5-10 years': 4, '10-20 years': 5, '20+ years': 6}}\n",
    "df = df.replace(q15_map)\n",
    "\n",
    "# nan's exist\n",
    "q22_map = {\"Q22\": {'Never': 0, 'Once': 1, '2-5 times': 2, '6-24 times': 3, '> 25 times': 4}}\n",
    "df = df.replace(q22_map)\n",
    "\n",
    "# nan's exist\n",
    "q23_map = {\"Q23\": {'< 1 years': 0, '1-2 years': 1, '2-3 years': 2, '3-4 years': 3, '4-5 years': 4, '5-10 years': 5, '10-15 years': 6, '20+ years': 8}}\n",
    "df = df.replace(q23_map)\n",
    "df.head()\n",
    "\n",
    "\n"
   ]
  },
  {
   "cell_type": "code",
   "execution_count": 118,
   "metadata": {},
   "outputs": [
    {
     "output_type": "stream",
     "name": "stdout",
     "text": [
      "12250\n11422\n10550\n10541\n"
     ]
    }
   ],
   "source": [
    "print(df[\"Q11\"].dropna().count())\n",
    "print(df[\"Q15\"].dropna().count())\n",
    "print(df[\"Q22\"].dropna().count())\n",
    "print(df[\"Q23\"].dropna().count())"
   ]
  },
  {
   "source": [
    "By dropping all of the NaN values we lose about 1.7k survey results. This is too many results to sacrifice. We could choose to set all of the NaN values to the mode of the categorical data, however, give the sheer magnitude of the NaN values we would just be enforcing the mode and creating potentially statistically significant results based off of nothing. The columns that contain the most amount of NaN values are Q22 and Q23. We will drop these columns and replace the NaN values present in the other numerically encoded data with the modes of each column. "
   ],
   "cell_type": "markdown",
   "metadata": {}
  },
  {
   "cell_type": "code",
   "execution_count": 119,
   "metadata": {},
   "outputs": [
    {
     "output_type": "execute_result",
     "data": {
      "text/plain": [
       "  Time from Start to Finish (seconds)  Q1  Q4  Q6  Q7 Q9_Part_1 Q9_Part_2  \\\n",
       "1                                 510   1   4   3   0         0         0   \n",
       "2                                 423   5   2   4   6         1         1   \n",
       "3                                 391   5   4   4   6         0         0   \n",
       "4                                 392   1   3   0   0         0         0   \n",
       "5                                 470   7   4   0   2         0         0   \n",
       "\n",
       "  Q9_Part_3 Q9_Part_4 Q9_Part_5  ... Q19_C++ Q19_Java Q19_Javascript  \\\n",
       "1         0         0         0  ...       0        0              0   \n",
       "2         1         1         0  ...       0        0              0   \n",
       "3         0         0         0  ...       0        0              0   \n",
       "4         0         0         0  ...       0        0              0   \n",
       "5         1         0         0  ...       0        1              0   \n",
       "\n",
       "  Q19_MATLAB  Q19_None Q19_Other Q19_Python Q19_R Q19_SQL Q19_TypeScript  \n",
       "1          0         0         0          1     0       0              0  \n",
       "2          0         0         0          0     0       0              0  \n",
       "3          0         0         0          1     0       0              0  \n",
       "4          0         0         0          1     0       0              0  \n",
       "5          0         0         0          0     0       0              0  \n",
       "\n",
       "[5 rows x 259 columns]"
      ],
      "text/html": "<div>\n<style scoped>\n    .dataframe tbody tr th:only-of-type {\n        vertical-align: middle;\n    }\n\n    .dataframe tbody tr th {\n        vertical-align: top;\n    }\n\n    .dataframe thead th {\n        text-align: right;\n    }\n</style>\n<table border=\"1\" class=\"dataframe\">\n  <thead>\n    <tr style=\"text-align: right;\">\n      <th></th>\n      <th>Time from Start to Finish (seconds)</th>\n      <th>Q1</th>\n      <th>Q4</th>\n      <th>Q6</th>\n      <th>Q7</th>\n      <th>Q9_Part_1</th>\n      <th>Q9_Part_2</th>\n      <th>Q9_Part_3</th>\n      <th>Q9_Part_4</th>\n      <th>Q9_Part_5</th>\n      <th>...</th>\n      <th>Q19_C++</th>\n      <th>Q19_Java</th>\n      <th>Q19_Javascript</th>\n      <th>Q19_MATLAB</th>\n      <th>Q19_None</th>\n      <th>Q19_Other</th>\n      <th>Q19_Python</th>\n      <th>Q19_R</th>\n      <th>Q19_SQL</th>\n      <th>Q19_TypeScript</th>\n    </tr>\n  </thead>\n  <tbody>\n    <tr>\n      <th>1</th>\n      <td>510</td>\n      <td>1</td>\n      <td>4</td>\n      <td>3</td>\n      <td>0</td>\n      <td>0</td>\n      <td>0</td>\n      <td>0</td>\n      <td>0</td>\n      <td>0</td>\n      <td>...</td>\n      <td>0</td>\n      <td>0</td>\n      <td>0</td>\n      <td>0</td>\n      <td>0</td>\n      <td>0</td>\n      <td>1</td>\n      <td>0</td>\n      <td>0</td>\n      <td>0</td>\n    </tr>\n    <tr>\n      <th>2</th>\n      <td>423</td>\n      <td>5</td>\n      <td>2</td>\n      <td>4</td>\n      <td>6</td>\n      <td>1</td>\n      <td>1</td>\n      <td>1</td>\n      <td>1</td>\n      <td>0</td>\n      <td>...</td>\n      <td>0</td>\n      <td>0</td>\n      <td>0</td>\n      <td>0</td>\n      <td>0</td>\n      <td>0</td>\n      <td>0</td>\n      <td>0</td>\n      <td>0</td>\n      <td>0</td>\n    </tr>\n    <tr>\n      <th>3</th>\n      <td>391</td>\n      <td>5</td>\n      <td>4</td>\n      <td>4</td>\n      <td>6</td>\n      <td>0</td>\n      <td>0</td>\n      <td>0</td>\n      <td>0</td>\n      <td>0</td>\n      <td>...</td>\n      <td>0</td>\n      <td>0</td>\n      <td>0</td>\n      <td>0</td>\n      <td>0</td>\n      <td>0</td>\n      <td>1</td>\n      <td>0</td>\n      <td>0</td>\n      <td>0</td>\n    </tr>\n    <tr>\n      <th>4</th>\n      <td>392</td>\n      <td>1</td>\n      <td>3</td>\n      <td>0</td>\n      <td>0</td>\n      <td>0</td>\n      <td>0</td>\n      <td>0</td>\n      <td>0</td>\n      <td>0</td>\n      <td>...</td>\n      <td>0</td>\n      <td>0</td>\n      <td>0</td>\n      <td>0</td>\n      <td>0</td>\n      <td>0</td>\n      <td>1</td>\n      <td>0</td>\n      <td>0</td>\n      <td>0</td>\n    </tr>\n    <tr>\n      <th>5</th>\n      <td>470</td>\n      <td>7</td>\n      <td>4</td>\n      <td>0</td>\n      <td>2</td>\n      <td>0</td>\n      <td>0</td>\n      <td>1</td>\n      <td>0</td>\n      <td>0</td>\n      <td>...</td>\n      <td>0</td>\n      <td>1</td>\n      <td>0</td>\n      <td>0</td>\n      <td>0</td>\n      <td>0</td>\n      <td>0</td>\n      <td>0</td>\n      <td>0</td>\n      <td>0</td>\n    </tr>\n  </tbody>\n</table>\n<p>5 rows × 259 columns</p>\n</div>"
     },
     "metadata": {},
     "execution_count": 119
    }
   ],
   "source": [
    "df.drop([\"Q22\", \"Q23\"], axis=1, inplace=True)\n",
    "numerical_columns.remove(\"Q22\")\n",
    "numerical_columns.remove(\"Q23\")\n",
    "\n",
    "# Replacing NaN values present in Q11 and Q15 with their respective modes:\n",
    "df[\"Q11\"] = df[\"Q11\"].replace(np.nan, 0)\n",
    "df[\"Q15\"] = df[\"Q15\"].replace(np.nan, 3)\n",
    "\n",
    "df.head()"
   ]
  },
  {
   "source": [
    "There are now no NaN values left in the dataset and our entire dataset is numerical with the exception of our target variable, Q10. Q10 has been numerically encoded and appended to the dataset as a new column called \"Q10_Encoded\". Given that sklearn uses an output variable that is numerically encoded, we will use \"Q10_Encoded\" as our output variable."
   ],
   "cell_type": "markdown",
   "metadata": {}
  },
  {
   "cell_type": "code",
   "execution_count": 120,
   "metadata": {},
   "outputs": [
    {
     "output_type": "stream",
     "name": "stdout",
     "text": [
      "Unique Income Buckets = [ 3.  0. 14.  6.  1.  8.  7.  9. 11.  4.  2. 10. 12. 13.  5.]\n"
     ]
    },
    {
     "output_type": "execute_result",
     "data": {
      "text/plain": [
       "  Time from Start to Finish (seconds)  Q1  Q4  Q6  Q7 Q9_Part_1 Q9_Part_2  \\\n",
       "1                                 510   1   4   3   0         0         0   \n",
       "2                                 423   5   2   4   6         1         1   \n",
       "3                                 391   5   4   4   6         0         0   \n",
       "4                                 392   1   3   0   0         0         0   \n",
       "5                                 470   7   4   0   2         0         0   \n",
       "\n",
       "  Q9_Part_3 Q9_Part_4 Q9_Part_5  ... Q19_C++ Q19_Java Q19_Javascript  \\\n",
       "1         0         0         0  ...       0        0              0   \n",
       "2         1         1         0  ...       0        0              0   \n",
       "3         0         0         0  ...       0        0              0   \n",
       "4         0         0         0  ...       0        0              0   \n",
       "5         1         0         0  ...       0        1              0   \n",
       "\n",
       "   Q19_MATLAB Q19_None Q19_Other Q19_Python Q19_R Q19_SQL Q19_TypeScript  \n",
       "1           0        0         0          1     0       0              0  \n",
       "2           0        0         0          0     0       0              0  \n",
       "3           0        0         0          1     0       0              0  \n",
       "4           0        0         0          1     0       0              0  \n",
       "5           0        0         0          0     0       0              0  \n",
       "\n",
       "[5 rows x 257 columns]"
      ],
      "text/html": "<div>\n<style scoped>\n    .dataframe tbody tr th:only-of-type {\n        vertical-align: middle;\n    }\n\n    .dataframe tbody tr th {\n        vertical-align: top;\n    }\n\n    .dataframe thead th {\n        text-align: right;\n    }\n</style>\n<table border=\"1\" class=\"dataframe\">\n  <thead>\n    <tr style=\"text-align: right;\">\n      <th></th>\n      <th>Time from Start to Finish (seconds)</th>\n      <th>Q1</th>\n      <th>Q4</th>\n      <th>Q6</th>\n      <th>Q7</th>\n      <th>Q9_Part_1</th>\n      <th>Q9_Part_2</th>\n      <th>Q9_Part_3</th>\n      <th>Q9_Part_4</th>\n      <th>Q9_Part_5</th>\n      <th>...</th>\n      <th>Q19_C++</th>\n      <th>Q19_Java</th>\n      <th>Q19_Javascript</th>\n      <th>Q19_MATLAB</th>\n      <th>Q19_None</th>\n      <th>Q19_Other</th>\n      <th>Q19_Python</th>\n      <th>Q19_R</th>\n      <th>Q19_SQL</th>\n      <th>Q19_TypeScript</th>\n    </tr>\n  </thead>\n  <tbody>\n    <tr>\n      <th>1</th>\n      <td>510</td>\n      <td>1</td>\n      <td>4</td>\n      <td>3</td>\n      <td>0</td>\n      <td>0</td>\n      <td>0</td>\n      <td>0</td>\n      <td>0</td>\n      <td>0</td>\n      <td>...</td>\n      <td>0</td>\n      <td>0</td>\n      <td>0</td>\n      <td>0</td>\n      <td>0</td>\n      <td>0</td>\n      <td>1</td>\n      <td>0</td>\n      <td>0</td>\n      <td>0</td>\n    </tr>\n    <tr>\n      <th>2</th>\n      <td>423</td>\n      <td>5</td>\n      <td>2</td>\n      <td>4</td>\n      <td>6</td>\n      <td>1</td>\n      <td>1</td>\n      <td>1</td>\n      <td>1</td>\n      <td>0</td>\n      <td>...</td>\n      <td>0</td>\n      <td>0</td>\n      <td>0</td>\n      <td>0</td>\n      <td>0</td>\n      <td>0</td>\n      <td>0</td>\n      <td>0</td>\n      <td>0</td>\n      <td>0</td>\n    </tr>\n    <tr>\n      <th>3</th>\n      <td>391</td>\n      <td>5</td>\n      <td>4</td>\n      <td>4</td>\n      <td>6</td>\n      <td>0</td>\n      <td>0</td>\n      <td>0</td>\n      <td>0</td>\n      <td>0</td>\n      <td>...</td>\n      <td>0</td>\n      <td>0</td>\n      <td>0</td>\n      <td>0</td>\n      <td>0</td>\n      <td>0</td>\n      <td>1</td>\n      <td>0</td>\n      <td>0</td>\n      <td>0</td>\n    </tr>\n    <tr>\n      <th>4</th>\n      <td>392</td>\n      <td>1</td>\n      <td>3</td>\n      <td>0</td>\n      <td>0</td>\n      <td>0</td>\n      <td>0</td>\n      <td>0</td>\n      <td>0</td>\n      <td>0</td>\n      <td>...</td>\n      <td>0</td>\n      <td>0</td>\n      <td>0</td>\n      <td>0</td>\n      <td>0</td>\n      <td>0</td>\n      <td>1</td>\n      <td>0</td>\n      <td>0</td>\n      <td>0</td>\n    </tr>\n    <tr>\n      <th>5</th>\n      <td>470</td>\n      <td>7</td>\n      <td>4</td>\n      <td>0</td>\n      <td>2</td>\n      <td>0</td>\n      <td>0</td>\n      <td>1</td>\n      <td>0</td>\n      <td>0</td>\n      <td>...</td>\n      <td>0</td>\n      <td>1</td>\n      <td>0</td>\n      <td>0</td>\n      <td>0</td>\n      <td>0</td>\n      <td>0</td>\n      <td>0</td>\n      <td>0</td>\n      <td>0</td>\n    </tr>\n  </tbody>\n</table>\n<p>5 rows × 257 columns</p>\n</div>"
     },
     "metadata": {},
     "execution_count": 120
    }
   ],
   "source": [
    "print(\"Unique Income Buckets = {}\".format(df[\"Q10_Encoded\"].unique()))\n",
    "df.drop([\"Q10\", \"Q10_buckets\"], axis=1, inplace=True)\n",
    "\n",
    "\n",
    "# df.to_csv(datasets + \"parsed_dataset.csv\")\n",
    "\n",
    "df.head()"
   ]
  },
  {
   "source": [
    "Now that the dataset has no NaN values, the dependent variables are encoded properly, and the independent target variable is encoded properly, we can begin our analysis. Our parsed dataset has 12497 entries and 257 columns. Our original dataset had 12497 entries as well. We were able to take our original dataset that was contaminated with NaN values and messy encodings and transform it into a usable dataset with the same number of entires. While our column space grew from 248 to 257, a column explosion resulting from the one-hot encoding of every unique survey response and origin country was avoided. "
   ],
   "cell_type": "markdown",
   "metadata": {}
  },
  {
   "cell_type": "code",
   "execution_count": 121,
   "metadata": {},
   "outputs": [
    {
     "output_type": "stream",
     "name": "stdout",
     "text": [
      "Shape of parsed df = (12497, 257)\n"
     ]
    }
   ],
   "source": [
    "print(\"Shape of parsed df = {}\".format(df.shape))"
   ]
  },
  {
   "source": [
    "We will now split our data up into input variables and output variables:"
   ],
   "cell_type": "markdown",
   "metadata": {}
  },
  {
   "cell_type": "code",
   "execution_count": 122,
   "metadata": {},
   "outputs": [
    {
     "output_type": "stream",
     "name": "stdout",
     "text": [
      "(12497, 256)\n(12497,)\n(12497, 257)\n"
     ]
    }
   ],
   "source": [
    "dfx = df.drop([\"Q10_Encoded\"], axis=1)\n",
    "dfy = df[\"Q10_Encoded\"]\n",
    "\n",
    "print(dfx.shape)\n",
    "print(dfy.shape)\n",
    "print(df.shape)"
   ]
  },
  {
   "source": [
    "## Feature Selection\n",
    "Prior to implementing a model, it is a good idea to discuss and visualize the dependence of the various features on the dependent variable. We will visualize the relationships present within our data between both the categorical variables and the output variable and the numerical variables and the output variable. Since our output variable is categorical, scatter plots don't provide us with useful information. Further, the r-value, which is a measure of the correlation between numerical variables, is not relevant either.\n",
    "\n",
    "We must make use of statistics that allow us to characterize the relationships of numerical-categorical variable pairs and categorical-categorical variable pairs. These statistics will be explained in detail below.\n",
    "\n",
    "### Categorical Variable Pairs\n",
    "We can use the Pearson's Chi-Squared test to perform a test for independence. We perform this test to compare two categorical variables from a single population to determine if there is significant association between the two variables. The null hypothesis for this test is that the two categorical variables are independent. Thus, the alternate hypothesis is that they are associated with each other. We use this test when the sampling method is simple random sampling, the variables in question are categorical, and the expected frequency count for each cell in the contingency table is at least 5. \n",
    "\n",
    "The first step is to compute the degrees of freedom. The degrees of freedom will later be used in conjunction with the chi-squared value to determine the p-value. \n",
    "\n",
    "$DF = (N_r - 1) \\cdot (N_c - 1)$\n",
    "\n",
    "$N_r$ is the number of levels for the first categorical variable and $N_c$ is the number of levels for the second categorical variable. After computing the degrees of freedom, the expected frequencies for every level of the first and second categorical variables must be computed:\n",
    "\n",
    "$E_{r, c} = \\frac{(n_r \\cdot n_c)}{N}$\n",
    "\n",
    "$n_r$ is the total number of $r$-th level sample observations of the first categorical variable and $n_c$ is the total number of $c$-th level sample observations of the second categorical variable. $N$ is the sample size. After these values are computed for all $r$ and $c$, the chi-squared statistic can be computed:\n",
    "\n",
    "$\\chi^2 = \\sum_{r, c}\\frac{(O_{r, c} - E_{r, c})^2}{E_{r, c}}$\n",
    "\n",
    "The observed frequency at $r$ and $c$, $E_{r, c}$, is the total number of observations in which both $r$ and $c$ were observed simultaneously. After computing the chi-squared value we can use this value in conjunction with the number of degrees of freedom to determine the p-value. From the p-value we can then decide if we should reject or accept the null hypothesis. \n",
    "\n",
    "### Numerical-Categorical Variable Pairs\n",
    "Typically, we use a one way ANalysis Of VAriance (ANOVA) to determine if the difference between the means of two or more groups is statistically significant. To do this, we compute the F-statistic. The F-statistic is the ratio of the variance of the between group means to the mean of the within group variances. If the variance between the samples is greater than the variance within the samples then the samples are not drawn from the same population. The null hypothesis for an ANOVA is that all of the population means are equal. The alternative hypothesis is that at least one of the means is different. We can use an ANOVA when the populations from which the samples were obtained are approximately normal, the samples are independent, and the variances of the populations are equal. To conduct an ANOVA, we must first determine the grand mean, $x_{GM}$, of the samples, the sum of squares total, $SS(T)$, the within group variation, $SS(W)$, and the between group variation, $SS(B)$:\n",
    "\n",
    "$\\overline{x}_{GM} = \\sum_{i=1}^{N}\\frac{x_i}{N}$\n",
    "\n",
    "The grand mean is the mean of all of the elements from all of the samples mixed into one group.\n",
    "\n",
    "$SS(T) = \\sum_{i=1}^N(x_i - \\overline{x}_{GM})^2$\n",
    "$DF(T) = M \\cdot N - 1$\n",
    "\n",
    "The total variation is the variation of all of the samples in this collective group. The number of degrees of freedom for this calculation is equal to the number of samples, $M$, times the total number of elements in each sample, $N$, minus 1. I.e., $DF = M \\cdot N - 1$. This is because if we knew the grand mean and we knew all of the data points except for 1 we could figure out the last one. \n",
    "\n",
    "$SS(W) = \\sum_{i, c}(x_{i, c} - \\overline{x}_c)^2$\n",
    "$DF(W) = M \\cdot (N - 1)$\n",
    "\n",
    "The within group variation is the variation that exists within each sample. For each sample group, we have $N - 1$ degrees of freedom because if we know the means of each group and $N - 1$ of the elements in each group, we could determine the final element. If we have $M$ groups, we have $M \\cdot (N - 1)$ degrees of freedom. The within group variation is calculated for each sample, $c$, and aggregated.\n",
    "\n",
    "$SS(B) = \\sum_{c} N_c \\cdot (\\overline{x}_c - \\overline{x}_{GM})^2$\n",
    "$DF(B) = M - 1$\n",
    "\n",
    "The sum of squares between is the total variation due to the differences between the means. To compute this, we sum over all of the squared differences between the means of each sample and the grand mean $N_c$ times for each sample group, $c$. For this calculation, assuming we know the mean of means, we can calculate one of the sample means if we have the other two sample means. Thus, the number of degrees of freedom in this calculation is equal to $M - 1$. Given the above metrics, an interesting relationship occurs:\n",
    "\n",
    "$SS(T) = SS(W) + SS(B)$\n",
    "\n",
    "Thus, the total variation in the data can be described as the sum of the variation within each of these groups plus the sum of the variation between the groups. This is useful because it shows that we can split up the total variation of the samples into the variations between the groups and the variation within the groups. The degrees of freedom of the calculations of the variations also add up:\n",
    "\n",
    "$DF(W) + DF(B) = M \\cdot (N - 1) + (M - 1) = M \\cdot N - M + M - 1 = M \\cdot N - 1 = DF(T)$\n",
    "\n",
    "Using the variations defined above, we can compute the F-statistic:\n",
    "\n",
    "$F  = \\frac{\\frac{SS(B)}{DF(B)}}{\\frac{SS(W)}{DF(W)}}$\n",
    "\n",
    "If the numerator is greater than the denominator then the variation present in the data is due primarily to the variation between the groups. Thus, a large F-statistic indicates that the considered samples do not have the same mean. Conversely, an F-statistic less than 1 shows that the variation of the data is explained more so by the variation within each sample. Thus, it is more likely that the samples have the same mean. Using the F-statistic we can compute the p-value. From the p-value and our threshold value (typically 0.05), we can determine if the observed results are statistically significant. Note that the F table is dependent on both the degrees of freedom of the numerator ($DF(B)$) and the denominator ($DF(W)$). \n",
    "\n",
    "When comparing a numerical and categorical variable, we split the numerical variable up into the various categories delineated by the unique values of the categorical variable. Then, to determine if the numerical and categorical variable are dependent, we conduct an ANOVA.  \n"
   ],
   "cell_type": "markdown",
   "metadata": {}
  },
  {
   "source": [
    "### Feature Importance Visualization\n",
    "To analyze the statistics for each column we will start by constructing a column groups dictionary that creates a list of question parts/options corresponding to each question. We can use this dictionary to compute the statistics for the question groups. Unfortunately, since the SkLearn functions that compute various statistics about the categorical variables only accept categorical variables that are numerically encoded, we must reformat the one-hot encoded questions into numerically encoded columns. "
   ],
   "cell_type": "markdown",
   "metadata": {}
  },
  {
   "cell_type": "code",
   "execution_count": 123,
   "metadata": {},
   "outputs": [
    {
     "output_type": "stream",
     "name": "stdout",
     "text": [
      "All categorical variables for Q9_:\n\n ['Q9_Part_1', 'Q9_Part_2', 'Q9_Part_3', 'Q9_Part_4', 'Q9_Part_5', 'Q9_Part_6', 'Q9_Part_7', 'Q9_Part_8']\n\n\nAll categorical variables for Q12_:\n\n ['Q12_Part_1', 'Q12_Part_2', 'Q12_Part_3', 'Q12_Part_4', 'Q12_Part_5', 'Q12_Part_6', 'Q12_Part_7', 'Q12_Part_8', 'Q12_Part_9', 'Q12_Part_10', 'Q12_Part_11', 'Q12_Part_12']\n"
     ]
    }
   ],
   "source": [
    "column_groups_dict = dict()\n",
    "\n",
    "for i in range(dfx.shape[1]):\n",
    "    if column_groups_dict.get(dfx.columns[i][:3]) is not None:\n",
    "        column_groups_dict[dfx.columns[i][:3]].append(dfx.columns[i])\n",
    "    else:\n",
    "        column_groups_dict[dfx.columns[i][:3]] = [dfx.columns[i]]\n",
    "\n",
    "\n",
    "select_multiple_groups = set([\"Q9_\", \"Q12\", \"Q13\", \"Q16\", \"Q17\", \"Q18\", \"Q20\", \"Q21\", \"Q24\", \"Q25\", \"Q26\", \"Q27\", \"Q28\", \"Q29\", \"Q30\", \"Q31\", \"Q32\", \"Q33\", \"Q34\"])\n",
    "\n",
    "\n",
    "print(\"All categorical variables for Q9_:\\n\\n\", column_groups_dict[\"Q9_\"])\n",
    "\n",
    "print(\"\\n\\nAll categorical variables for Q12_:\\n\\n\", column_groups_dict[\"Q12\"])\n"
   ]
  },
  {
   "source": [
    "Now we can visualize all of the questions and the various question types:"
   ],
   "cell_type": "markdown",
   "metadata": {}
  },
  {
   "cell_type": "code",
   "execution_count": 124,
   "metadata": {},
   "outputs": [
    {
     "output_type": "stream",
     "name": "stdout",
     "text": [
      "Manually one-hot encoded columns:\n ['Q2', 'Q3', 'Q5', 'Q8', 'Q14', 'Q19']\n\nManually numerically encoded columns:\n ['Q1', 'Q4', 'Q6', 'Q7', 'Q11', 'Q15']\n\nColumns that have the 'select all that apply' property:\n ['Q28', 'Q29', 'Q20', 'Q24', 'Q13', 'Q17', 'Q32', 'Q33', 'Q16', 'Q27', 'Q9_', 'Q30', 'Q25', 'Q26', 'Q21', 'Q34', 'Q12', 'Q18', 'Q31']\n\nAll questions remaining in the dataset:\n dict_keys(['Tim', 'Q1', 'Q4', 'Q6', 'Q7', 'Q9_', 'Q11', 'Q12', 'Q13', 'Q15', 'Q16', 'Q17', 'Q18', 'Q20', 'Q21', 'Q24', 'Q25', 'Q26', 'Q27', 'Q28', 'Q29', 'Q30', 'Q31', 'Q32', 'Q33', 'Q34', 'Q2_', 'Q3_', 'Q5_', 'Q8_', 'Q14', 'Q19'])\n\nIntersection between one-hot columns that are not 'select all' and one-hot columns that are 'select all':\n 0 \n\n\nNumber of questions remaining in the dataset = 32\nNumber of one-hot encoded questions = 6\nNumber of numerically encoded questions = 6\nNumber of 'select all that apply' questions = 19\nSum of question categories (not including time of survey column) = 31\n"
     ]
    }
   ],
   "source": [
    "print(\"Manually one-hot encoded columns:\\n\", one_hot_columns)\n",
    "print(\"\\nManually numerically encoded columns:\\n\", numerical_columns)\n",
    "print(\"\\nColumns that have the 'select all that apply' property:\\n\", list(select_multiple_groups))\n",
    "print(\"\\nAll questions remaining in the dataset:\\n\", column_groups_dict.keys())\n",
    "\n",
    "print(\"\\nIntersection between one-hot columns that are not 'select all' and one-hot columns that are 'select all':\\n\", len(set(one_hot_columns).intersection(set(select_multiple_groups))), \"\\n\")\n",
    "\n",
    "print(\"\\nNumber of questions remaining in the dataset =\", len(column_groups_dict.keys()))\n",
    "print(\"Number of one-hot encoded questions =\", len(one_hot_columns))\n",
    "print(\"Number of numerically encoded questions =\", len(numerical_columns))\n",
    "print(\"Number of 'select all that apply' questions =\", len(list(select_multiple_groups)))\n",
    "print(\"Sum of question categories (not including time of survey column) =\", sum([len(one_hot_columns), len(numerical_columns), len(list(select_multiple_groups))]))"
   ]
  },
  {
   "source": [
    "For the multiple choice questions in which only one response was possible we can use a chi-squared test for independence to determine if a significant enough relationship exists. First we will define a function that can convert a set of one-hot columns into one ordinally encoded column:"
   ],
   "cell_type": "markdown",
   "metadata": {}
  },
  {
   "cell_type": "code",
   "execution_count": 125,
   "metadata": {},
   "outputs": [],
   "source": [
    "def create_ordinal_encoding(df_one_hot_columns):\n",
    "    return_df = np.zeros((df_one_hot_columns.shape[0], 1))\n",
    "    for i in range(df_one_hot_columns.shape[1]):\n",
    "        return_df = return_df + i * np.array(df_one_hot_columns.iloc[:, i]).reshape(-1, 1)\n",
    "    return return_df"
   ]
  },
  {
   "source": [
    "Now, we can compute the chi-squared value and the p-value for all of the questions devoid of the 'select all that apply' property:"
   ],
   "cell_type": "markdown",
   "metadata": {}
  },
  {
   "cell_type": "code",
   "execution_count": 126,
   "metadata": {},
   "outputs": [],
   "source": [
    "one_hot_chi_squared_dict = dict()\n",
    "for one_hot_column in one_hot_columns:\n",
    "    if len(one_hot_column) == 2:\n",
    "         one_hot_column = one_hot_column + \"_\"\n",
    "    dfx_splice = dfx[column_groups_dict[one_hot_column]]\n",
    "    ordinal_encoding = create_ordinal_encoding(dfx_splice)\n",
    "    chi2, pval = sklearn.feature_selection.chi2(ordinal_encoding, dfy)\n",
    "    one_hot_chi_squared_dict[one_hot_column] = [chi2, pval]"
   ]
  },
  {
   "source": [
    "We can threshold the columns on the typical p-value threshold of 0.05:"
   ],
   "cell_type": "markdown",
   "metadata": {}
  },
  {
   "cell_type": "code",
   "execution_count": 127,
   "metadata": {},
   "outputs": [
    {
     "output_type": "stream",
     "name": "stdout",
     "text": [
      "Removed questions:\n\nQ2_, P-Value = [0.40224756]\n\nRemaining questions that are not independent of the output variable:\n\nQ3_\nQ5_\nQ8_\nQ14\nQ19\n"
     ]
    },
    {
     "output_type": "execute_result",
     "data": {
      "text/plain": [
       "  Time from Start to Finish (seconds)  Q1  Q4  Q6  Q7 Q9_Part_1 Q9_Part_2  \\\n",
       "1                                 510   1   4   3   0         0         0   \n",
       "2                                 423   5   2   4   6         1         1   \n",
       "3                                 391   5   4   4   6         0         0   \n",
       "4                                 392   1   3   0   0         0         0   \n",
       "5                                 470   7   4   0   2         0         0   \n",
       "\n",
       "  Q9_Part_3 Q9_Part_4 Q9_Part_5  ... Q19_C++ Q19_Java Q19_Javascript  \\\n",
       "1         0         0         0  ...       0        0              0   \n",
       "2         1         1         0  ...       0        0              0   \n",
       "3         0         0         0  ...       0        0              0   \n",
       "4         0         0         0  ...       0        0              0   \n",
       "5         1         0         0  ...       0        1              0   \n",
       "\n",
       "   Q19_MATLAB Q19_None Q19_Other Q19_Python Q19_R Q19_SQL Q19_TypeScript  \n",
       "1           0        0         0          1     0       0              0  \n",
       "2           0        0         0          0     0       0              0  \n",
       "3           0        0         0          1     0       0              0  \n",
       "4           0        0         0          1     0       0              0  \n",
       "5           0        0         0          0     0       0              0  \n",
       "\n",
       "[5 rows x 257 columns]"
      ],
      "text/html": "<div>\n<style scoped>\n    .dataframe tbody tr th:only-of-type {\n        vertical-align: middle;\n    }\n\n    .dataframe tbody tr th {\n        vertical-align: top;\n    }\n\n    .dataframe thead th {\n        text-align: right;\n    }\n</style>\n<table border=\"1\" class=\"dataframe\">\n  <thead>\n    <tr style=\"text-align: right;\">\n      <th></th>\n      <th>Time from Start to Finish (seconds)</th>\n      <th>Q1</th>\n      <th>Q4</th>\n      <th>Q6</th>\n      <th>Q7</th>\n      <th>Q9_Part_1</th>\n      <th>Q9_Part_2</th>\n      <th>Q9_Part_3</th>\n      <th>Q9_Part_4</th>\n      <th>Q9_Part_5</th>\n      <th>...</th>\n      <th>Q19_C++</th>\n      <th>Q19_Java</th>\n      <th>Q19_Javascript</th>\n      <th>Q19_MATLAB</th>\n      <th>Q19_None</th>\n      <th>Q19_Other</th>\n      <th>Q19_Python</th>\n      <th>Q19_R</th>\n      <th>Q19_SQL</th>\n      <th>Q19_TypeScript</th>\n    </tr>\n  </thead>\n  <tbody>\n    <tr>\n      <th>1</th>\n      <td>510</td>\n      <td>1</td>\n      <td>4</td>\n      <td>3</td>\n      <td>0</td>\n      <td>0</td>\n      <td>0</td>\n      <td>0</td>\n      <td>0</td>\n      <td>0</td>\n      <td>...</td>\n      <td>0</td>\n      <td>0</td>\n      <td>0</td>\n      <td>0</td>\n      <td>0</td>\n      <td>0</td>\n      <td>1</td>\n      <td>0</td>\n      <td>0</td>\n      <td>0</td>\n    </tr>\n    <tr>\n      <th>2</th>\n      <td>423</td>\n      <td>5</td>\n      <td>2</td>\n      <td>4</td>\n      <td>6</td>\n      <td>1</td>\n      <td>1</td>\n      <td>1</td>\n      <td>1</td>\n      <td>0</td>\n      <td>...</td>\n      <td>0</td>\n      <td>0</td>\n      <td>0</td>\n      <td>0</td>\n      <td>0</td>\n      <td>0</td>\n      <td>0</td>\n      <td>0</td>\n      <td>0</td>\n      <td>0</td>\n    </tr>\n    <tr>\n      <th>3</th>\n      <td>391</td>\n      <td>5</td>\n      <td>4</td>\n      <td>4</td>\n      <td>6</td>\n      <td>0</td>\n      <td>0</td>\n      <td>0</td>\n      <td>0</td>\n      <td>0</td>\n      <td>...</td>\n      <td>0</td>\n      <td>0</td>\n      <td>0</td>\n      <td>0</td>\n      <td>0</td>\n      <td>0</td>\n      <td>1</td>\n      <td>0</td>\n      <td>0</td>\n      <td>0</td>\n    </tr>\n    <tr>\n      <th>4</th>\n      <td>392</td>\n      <td>1</td>\n      <td>3</td>\n      <td>0</td>\n      <td>0</td>\n      <td>0</td>\n      <td>0</td>\n      <td>0</td>\n      <td>0</td>\n      <td>0</td>\n      <td>...</td>\n      <td>0</td>\n      <td>0</td>\n      <td>0</td>\n      <td>0</td>\n      <td>0</td>\n      <td>0</td>\n      <td>1</td>\n      <td>0</td>\n      <td>0</td>\n      <td>0</td>\n    </tr>\n    <tr>\n      <th>5</th>\n      <td>470</td>\n      <td>7</td>\n      <td>4</td>\n      <td>0</td>\n      <td>2</td>\n      <td>0</td>\n      <td>0</td>\n      <td>1</td>\n      <td>0</td>\n      <td>0</td>\n      <td>...</td>\n      <td>0</td>\n      <td>1</td>\n      <td>0</td>\n      <td>0</td>\n      <td>0</td>\n      <td>0</td>\n      <td>0</td>\n      <td>0</td>\n      <td>0</td>\n      <td>0</td>\n    </tr>\n  </tbody>\n</table>\n<p>5 rows × 257 columns</p>\n</div>"
     },
     "metadata": {},
     "execution_count": 127
    }
   ],
   "source": [
    "remove_key_list = []\n",
    "print(\"Removed questions:\\n\")\n",
    "for (key, value) in one_hot_chi_squared_dict.items():\n",
    "    if value[1] > 0.05:\n",
    "        print(\"{}, P-Value = {}\".format(key, value[1]))\n",
    "        remove_key_list.append(key)\n",
    "\n",
    "\n",
    "for element in remove_key_list:\n",
    "    del one_hot_chi_squared_dict[element]\n",
    "\n",
    "print(\"\\nRemaining questions that are not independent of the output variable:\\n\")\n",
    "for (key, value) in one_hot_chi_squared_dict.items():\n",
    "    print(key)\n",
    "\n",
    "for removed_question in remove_key_list:\n",
    "    for removed_question_part in column_groups_dict[removed_question]:\n",
    "        dfx.drop(removed_question_part, axis=1, inplace=True)\n",
    "\n",
    "df.head()"
   ]
  },
  {
   "source": [
    "We will now perform an ANOVA/F-test to determine if the ordinally encoded columns in the dataset are statistically independent of the output variable:"
   ],
   "cell_type": "markdown",
   "metadata": {}
  },
  {
   "cell_type": "code",
   "execution_count": 128,
   "metadata": {},
   "outputs": [
    {
     "output_type": "stream",
     "name": "stdout",
     "text": [
      "F-Statistics: [145.89996572  24.17625414  44.13706727  51.60818088 120.11461939\n 189.35089532]\nP-Values: [0.00000000e+000 8.75893571e-063 1.00528615e-119 6.79932185e-141\n 0.00000000e+000 0.00000000e+000]\n"
     ]
    }
   ],
   "source": [
    "f_stat_numerical_dict = dict()\n",
    "\n",
    "f_stats, p_stats = sklearn.feature_selection.f_classif(dfx[numerical_columns], dfy)\n",
    "\n",
    "print(\"F-Statistics:\", f_stats)\n",
    "print(\"P-Values:\", p_stats)"
   ]
  },
  {
   "source": [
    "From the p-values above, we can see that all of the numerical features have unique means for the classes defined by dfy. Thus, we will not remove any columns from this dataset. All of these columns may aid our model's accuracy. \n",
    "\n",
    "The remaining columns are multiple-choice columns with the 'select all that apply' property. We will use the chi-squared test on all of these columns and we will remove the columns below the p-value threshold:"
   ],
   "cell_type": "markdown",
   "metadata": {}
  },
  {
   "cell_type": "code",
   "execution_count": 129,
   "metadata": {},
   "outputs": [
    {
     "output_type": "stream",
     "name": "stdout",
     "text": [
      "Removed questions:\n\n\nRemaining questions that are not independent of the output variable:\n\nQ28\nQ29\nQ20\nQ24\nQ13\nQ17\nQ32\nQ33\nQ16\nQ27\nQ9_\nQ30\nQ25\nQ26\nQ21\nQ34\nQ12\nQ18\nQ31\n"
     ]
    },
    {
     "output_type": "execute_result",
     "data": {
      "text/plain": [
       "  Time from Start to Finish (seconds)  Q1  Q4  Q6  Q7 Q9_Part_1 Q9_Part_2  \\\n",
       "1                                 510   1   4   3   0         0         0   \n",
       "2                                 423   5   2   4   6         1         1   \n",
       "3                                 391   5   4   4   6         0         0   \n",
       "4                                 392   1   3   0   0         0         0   \n",
       "5                                 470   7   4   0   2         0         0   \n",
       "\n",
       "  Q9_Part_3 Q9_Part_4 Q9_Part_5  ... Q19_C++ Q19_Java Q19_Javascript  \\\n",
       "1         0         0         0  ...       0        0              0   \n",
       "2         1         1         0  ...       0        0              0   \n",
       "3         0         0         0  ...       0        0              0   \n",
       "4         0         0         0  ...       0        0              0   \n",
       "5         1         0         0  ...       0        1              0   \n",
       "\n",
       "   Q19_MATLAB Q19_None Q19_Other Q19_Python Q19_R Q19_SQL Q19_TypeScript  \n",
       "1           0        0         0          1     0       0              0  \n",
       "2           0        0         0          0     0       0              0  \n",
       "3           0        0         0          1     0       0              0  \n",
       "4           0        0         0          1     0       0              0  \n",
       "5           0        0         0          0     0       0              0  \n",
       "\n",
       "[5 rows x 253 columns]"
      ],
      "text/html": "<div>\n<style scoped>\n    .dataframe tbody tr th:only-of-type {\n        vertical-align: middle;\n    }\n\n    .dataframe tbody tr th {\n        vertical-align: top;\n    }\n\n    .dataframe thead th {\n        text-align: right;\n    }\n</style>\n<table border=\"1\" class=\"dataframe\">\n  <thead>\n    <tr style=\"text-align: right;\">\n      <th></th>\n      <th>Time from Start to Finish (seconds)</th>\n      <th>Q1</th>\n      <th>Q4</th>\n      <th>Q6</th>\n      <th>Q7</th>\n      <th>Q9_Part_1</th>\n      <th>Q9_Part_2</th>\n      <th>Q9_Part_3</th>\n      <th>Q9_Part_4</th>\n      <th>Q9_Part_5</th>\n      <th>...</th>\n      <th>Q19_C++</th>\n      <th>Q19_Java</th>\n      <th>Q19_Javascript</th>\n      <th>Q19_MATLAB</th>\n      <th>Q19_None</th>\n      <th>Q19_Other</th>\n      <th>Q19_Python</th>\n      <th>Q19_R</th>\n      <th>Q19_SQL</th>\n      <th>Q19_TypeScript</th>\n    </tr>\n  </thead>\n  <tbody>\n    <tr>\n      <th>1</th>\n      <td>510</td>\n      <td>1</td>\n      <td>4</td>\n      <td>3</td>\n      <td>0</td>\n      <td>0</td>\n      <td>0</td>\n      <td>0</td>\n      <td>0</td>\n      <td>0</td>\n      <td>...</td>\n      <td>0</td>\n      <td>0</td>\n      <td>0</td>\n      <td>0</td>\n      <td>0</td>\n      <td>0</td>\n      <td>1</td>\n      <td>0</td>\n      <td>0</td>\n      <td>0</td>\n    </tr>\n    <tr>\n      <th>2</th>\n      <td>423</td>\n      <td>5</td>\n      <td>2</td>\n      <td>4</td>\n      <td>6</td>\n      <td>1</td>\n      <td>1</td>\n      <td>1</td>\n      <td>1</td>\n      <td>0</td>\n      <td>...</td>\n      <td>0</td>\n      <td>0</td>\n      <td>0</td>\n      <td>0</td>\n      <td>0</td>\n      <td>0</td>\n      <td>0</td>\n      <td>0</td>\n      <td>0</td>\n      <td>0</td>\n    </tr>\n    <tr>\n      <th>3</th>\n      <td>391</td>\n      <td>5</td>\n      <td>4</td>\n      <td>4</td>\n      <td>6</td>\n      <td>0</td>\n      <td>0</td>\n      <td>0</td>\n      <td>0</td>\n      <td>0</td>\n      <td>...</td>\n      <td>0</td>\n      <td>0</td>\n      <td>0</td>\n      <td>0</td>\n      <td>0</td>\n      <td>0</td>\n      <td>1</td>\n      <td>0</td>\n      <td>0</td>\n      <td>0</td>\n    </tr>\n    <tr>\n      <th>4</th>\n      <td>392</td>\n      <td>1</td>\n      <td>3</td>\n      <td>0</td>\n      <td>0</td>\n      <td>0</td>\n      <td>0</td>\n      <td>0</td>\n      <td>0</td>\n      <td>0</td>\n      <td>...</td>\n      <td>0</td>\n      <td>0</td>\n      <td>0</td>\n      <td>0</td>\n      <td>0</td>\n      <td>0</td>\n      <td>1</td>\n      <td>0</td>\n      <td>0</td>\n      <td>0</td>\n    </tr>\n    <tr>\n      <th>5</th>\n      <td>470</td>\n      <td>7</td>\n      <td>4</td>\n      <td>0</td>\n      <td>2</td>\n      <td>0</td>\n      <td>0</td>\n      <td>1</td>\n      <td>0</td>\n      <td>0</td>\n      <td>...</td>\n      <td>0</td>\n      <td>1</td>\n      <td>0</td>\n      <td>0</td>\n      <td>0</td>\n      <td>0</td>\n      <td>0</td>\n      <td>0</td>\n      <td>0</td>\n      <td>0</td>\n    </tr>\n  </tbody>\n</table>\n<p>5 rows × 253 columns</p>\n</div>"
     },
     "metadata": {},
     "execution_count": 129
    }
   ],
   "source": [
    "select_all_chi_squared_dict = dict()\n",
    "for select_multiple_group in select_multiple_groups:\n",
    "    dfx_splice = dfx[column_groups_dict[select_multiple_group]]\n",
    "    ordinal_encoding = create_ordinal_encoding(dfx_splice)\n",
    "    chi2, pval = sklearn.feature_selection.chi2(ordinal_encoding, dfy)\n",
    "    select_all_chi_squared_dict[select_multiple_group] = [chi2, pval]\n",
    "\n",
    "select_all_remove_key_list = []\n",
    "print(\"Removed questions:\\n\")\n",
    "for (key, value) in select_all_chi_squared_dict.items():\n",
    "    if value[1] > 0.05:\n",
    "        print(\"{}, P-Value = {}\".format(key, value[1]))\n",
    "        select_all_remove_key_list.append(key)\n",
    "\n",
    "\n",
    "for element in select_all_remove_key_list:\n",
    "    del select_all_chi_squared_dict[element]\n",
    "\n",
    "print(\"\\nRemaining questions that are not independent of the output variable:\\n\")\n",
    "for (key, value) in select_all_chi_squared_dict.items():\n",
    "    print(key)\n",
    "\n",
    "for removed_question in select_all_remove_key_list:\n",
    "    for removed_question_part in column_groups_dict[removed_question]:\n",
    "        dfx.drop(removed_question_part, axis=1, inplace=True)\n",
    "\n",
    "dfx.head()"
   ]
  },
  {
   "source": [
    "No questions were removed as a result of this process. \n",
    "\n",
    "### Feature Selection Algorithm: Recursive Feature Selection\n",
    "After computing the statistics associated with each question, we will now implement the feature selection algorithm recursive feature selection (RFE). RFE recursively removes attributes by identifying the attributes that contribute the most to predicting the target attribute. This algorithm is illustrated below (Note that this code has been commented out because it takes a long time to run):"
   ],
   "cell_type": "markdown",
   "metadata": {}
  },
  {
   "cell_type": "code",
   "execution_count": 130,
   "metadata": {},
   "outputs": [],
   "source": [
    "# model = LogisticRegression(solver='lbfgs')\n",
    "# rfe = sklearn.feature_selection.RFE(model, 150)\n",
    "# fit = rfe.fit(dfx, dfy)\n",
    "# print(fit.n_features_)\n",
    "# print(fit.support_)\n",
    "# print(fit.ranking_)"
   ]
  },
  {
   "source": [
    "The algorithm selected the best 150 features for predicting on dfy and created a support_ mask that we can use to transform our original dataset into a more concise one. The most impactful columns are delineated below:"
   ],
   "cell_type": "markdown",
   "metadata": {}
  },
  {
   "cell_type": "code",
   "execution_count": 131,
   "metadata": {},
   "outputs": [],
   "source": [
    "# print(dfx.columns[fit.support_][:75])\n",
    "# print(dfx.columns[fit.support_][75:])\n",
    "\n",
    "updated_columns = ['Q9_Part_8', 'Q11', 'Q12_Part_2', 'Q12_Part_11', 'Q13_Part_5',\n",
    "       'Q13_Part_7', 'Q13_Part_11', 'Q13_Part_12', 'Q15', 'Q16_Part_5',\n",
    "       'Q16_Part_9', 'Q16_Part_11', 'Q17_Part_2', 'Q17_Part_3', 'Q17_Part_4',\n",
    "       'Q17_Part_5', 'Q17_Part_8', 'Q17_Part_10', 'Q17_Part_12', 'Q18_Part_5',\n",
    "       'Q18_Part_10', 'Q18_Part_11', 'Q18_Part_12', 'Q20_Part_3', 'Q20_Part_4',\n",
    "       'Q20_Part_7', 'Q20_Part_9', 'Q20_Part_10', 'Q20_Part_12', 'Q21_Part_1',\n",
    "       'Q21_Part_3', 'Q21_Part_4', 'Q21_Part_5', 'Q24_Part_5', 'Q24_Part_7',\n",
    "       'Q24_Part_8', 'Q24_Part_10', 'Q24_Part_11', 'Q24_Part_12', 'Q25_Part_2',\n",
    "       'Q25_Part_3', 'Q25_Part_4', 'Q25_Part_7', 'Q25_Part_8', 'Q26_Part_1',\n",
    "       'Q26_Part_2', 'Q26_Part_3', 'Q26_Part_4', 'Q26_Part_5', 'Q26_Part_6',\n",
    "       'Q26_Part_7', 'Q27_Part_2', 'Q27_Part_3', 'Q27_Part_4', 'Q27_Part_5',\n",
    "       'Q27_Part_6', 'Q28_Part_10', 'Q28_Part_12', 'Q29_Part_1', 'Q29_Part_2',\n",
    "       'Q29_Part_3', 'Q29_Part_4', 'Q29_Part_5', 'Q29_Part_7', 'Q29_Part_9',\n",
    "       'Q29_Part_12', 'Q30_Part_1', 'Q30_Part_2', 'Q30_Part_3', 'Q30_Part_4',\n",
    "       'Q30_Part_5', 'Q30_Part_6', 'Q30_Part_7', 'Q30_Part_8', 'Q30_Part_9',\n",
    "       'Q30_Part_10', 'Q30_Part_11', 'Q30_Part_12', 'Q31_Part_1', 'Q31_Part_2',\n",
    "       'Q31_Part_4', 'Q31_Part_5', 'Q31_Part_6', 'Q31_Part_7', 'Q31_Part_8',\n",
    "       'Q31_Part_9', 'Q31_Part_10', 'Q31_Part_12', 'Q32_Part_1', 'Q32_Part_2',\n",
    "       'Q32_Part_3', 'Q32_Part_4', 'Q32_Part_5', 'Q32_Part_6', 'Q32_Part_8',\n",
    "       'Q32_Part_9', 'Q32_Part_10', 'Q32_Part_12', 'Q33_Part_1', 'Q33_Part_2',\n",
    "       'Q33_Part_3', 'Q33_Part_4', 'Q33_Part_5', 'Q33_Part_6', 'Q33_Part_7',\n",
    "       'Q33_Part_8', 'Q33_Part_9', 'Q33_Part_10', 'Q33_Part_11', 'Q33_Part_12',\n",
    "       'Q34_Part_1', 'Q34_Part_6', 'Q34_Part_7', 'Q34_Part_8', 'Q34_Part_9',\n",
    "       'Q34_Part_10', 'Q34_Part_11', 'Q34_Part_12', 'Q3_Brazil', 'Q3_Canada',\n",
    "       'Q3_Germany', 'Q3_India', 'Q3_Japan', 'Q3_Other', 'Q3_Russia',\n",
    "       'Q3_Spain', 'Q3_United Kingdom of Great Britain and Northern Ireland',\n",
    "       'Q3_United States of America', 'Q5_Business Analyst',\n",
    "       'Q5_DBA/Database Engineer', 'Q5_Data Analyst', 'Q5_Data Engineer',\n",
    "       'Q5_Other', 'Q5_Product/Project Manager', 'Q5_Research Scientist',\n",
    "       'Q5_Statistician', 'Q8_I do not know',\n",
    "       'Q8_No (we do not use ML methods)',\n",
    "       'Q8_We are exploring ML methods (and may one day put a model into production)',\n",
    "       'Q8_We recently started using ML methods (i.e., models in production for less than 2 years)',\n",
    "       'Q8_We use ML methods for generating insights (but do not put working models into production)',\n",
    "       'Q14_Basic statistical software (Microsoft Excel, Google Sheets, etc.)',\n",
    "       'Q14_Business intelligence software (Salesforce, Tableau, Spotfire, etc.)',\n",
    "       'Q14_Cloud-based data software & APIs (AWS, GCP, Azure, etc.)',\n",
    "       'Q19_Bash', 'Q19_C', 'Q19_C++', 'Q19_Java', 'Q19_MATLAB', 'Q19_Other']"
   ]
  },
  {
   "source": [
    "We could have used l1 regularization for feature selection. L1 (lasso) regularization is able to shrink the coefficients of the less important features to zero. However, after trying l1 regularization some features were removed that contributed to the success of the model. \n",
    "\n",
    "I determined that by keeping a significant number of features (150), the model was able to learn some of the more complex relationships present in the data. Originally, I tried 30 features, then 100, then 150, and finally 200. I found that using 30, 50, or 100 features resulted in a simple model that plateaued after using 10% of the training data. Using 200 features the model failed to generalize properly. 150 features seemed to be the soft spot between generalizability and complexity. \n",
    "\n",
    "### RFE Improvement Illustration\n",
    "Using a logistic regression model and all of the columns from the dataset we achieve an accuracy of 75.42% when using the entire dataset to train the model and then test the model on the same data:"
   ],
   "cell_type": "markdown",
   "metadata": {}
  },
  {
   "cell_type": "code",
   "execution_count": 132,
   "metadata": {},
   "outputs": [
    {
     "output_type": "stream",
     "name": "stdout",
     "text": [
      "This model got an accuracy of 75.42% on the entire dataset\n"
     ]
    }
   ],
   "source": [
    "model = LogisticRegression(multi_class=\"auto\", solver=\"liblinear\")\n",
    "model.fit(dfx, dfy)\n",
    "predictions = model.predict(dfx)\n",
    "\n",
    "TN = confusion_matrix(dfy, predictions)[0][0]\n",
    "FP = confusion_matrix(dfy, predictions)[0][1]\n",
    "FN = confusion_matrix(dfy, predictions)[1][0]\n",
    "TP = confusion_matrix(dfy, predictions)[1][1]\n",
    "\n",
    "total = TN + FP + FN + TP\n",
    "ACC = (TP + TN) / float(total)\n",
    "\n",
    "print (\"This model got an accuracy of {}% on the entire dataset\".format(round(ACC*100,2)))  "
   ]
  },
  {
   "source": [
    "Using the features from the RFE algorithm we obtain an accuracy of 75.76%, which is higher:"
   ],
   "cell_type": "markdown",
   "metadata": {}
  },
  {
   "cell_type": "code",
   "execution_count": 133,
   "metadata": {},
   "outputs": [
    {
     "output_type": "stream",
     "name": "stdout",
     "text": [
      "This model got an accuracy of 75.76% on the entire dataset\n"
     ]
    }
   ],
   "source": [
    "dfx = dfx[updated_columns]\n",
    "\n",
    "model = LogisticRegression(multi_class=\"auto\", solver=\"liblinear\")\n",
    "model.fit(dfx, dfy)\n",
    "predictions = model.predict(dfx)\n",
    "\n",
    "TN = confusion_matrix(dfy, predictions)[0][0]\n",
    "FP = confusion_matrix(dfy, predictions)[0][1]\n",
    "FN = confusion_matrix(dfy, predictions)[1][0]\n",
    "TP = confusion_matrix(dfy, predictions)[1][1]\n",
    "\n",
    "total = TN + FP + FN + TP\n",
    "ACC = (TP + TN) / float(total)\n",
    "\n",
    "print (\"This model got an accuracy of {}% on the entire dataset\".format(round(ACC*100,2)))  "
   ]
  },
  {
   "source": [
    "## Model Implementation\n",
    "### Data Splitting\n",
    "First, we will split our data into training and testing data. We will use 70% of our data for training and 30% of our data for testing:"
   ],
   "cell_type": "markdown",
   "metadata": {}
  },
  {
   "cell_type": "code",
   "execution_count": 134,
   "metadata": {},
   "outputs": [],
   "source": [
    "X_train, X_test, y_train, y_test = train_test_split(dfx, dfy, random_state=88, test_size=0.3)"
   ]
  },
  {
   "source": [
    "### 10-Fold Cross-Validation\n",
    "To start off, we will create a logistic regression model and determine the accuracies of a basic model with an inverse regularization constant, C, of 1, using 10-fold cross-validation:"
   ],
   "cell_type": "markdown",
   "metadata": {}
  },
  {
   "cell_type": "code",
   "execution_count": 135,
   "metadata": {},
   "outputs": [
    {
     "output_type": "stream",
     "name": "stdout",
     "text": [
      "Fold 1: Accuracy: 68.276%\n",
      "Fold 2: Accuracy: 75.641%\n",
      "Fold 3: Accuracy: 76.163%\n",
      "Fold 4: Accuracy: 74.251%\n",
      "Fold 5: Accuracy: 73.18%\n",
      "Fold 6: Accuracy: 75.0%\n",
      "Fold 7: Accuracy: 73.09%\n",
      "Fold 8: Accuracy: 76.727%\n",
      "Fold 9: Accuracy: 75.253%\n",
      "Fold 10: Accuracy: 73.765%\n",
      "Average Score: 74.135%\n",
      "Accuracy Standard Deviation: 2.271\n",
      "Accuracy Variance: 5.158\n"
     ]
    }
   ],
   "source": [
    "model = LogisticRegression(solver=\"liblinear\", multi_class=\"auto\")\n",
    "scaler = StandardScaler()\n",
    "kfold = KFold(n_splits=10)\n",
    "kfold.get_n_splits(X_train)\n",
    "\n",
    "accuracy = np.zeros(10)\n",
    "np_idx = 0\n",
    "\n",
    "for train_idx, test_idx in kfold.split(X_train):\n",
    "    k_X_train, k_X_test = dfx.values[train_idx], dfx.values[test_idx]\n",
    "    k_y_train, k_y_test = dfy.values[train_idx], dfy.values[test_idx]\n",
    "    \n",
    "    k_X_train = scaler.fit_transform(k_X_train.astype(float))\n",
    "    k_X_test = scaler.transform(k_X_test.astype(float))\n",
    "    \n",
    "    model.fit(k_X_train, k_y_train)\n",
    "    \n",
    "    predictions = model.predict(k_X_test)\n",
    "    \n",
    "    TN = confusion_matrix(k_y_test, predictions)[0][0]\n",
    "    FP = confusion_matrix(k_y_test, predictions)[0][1]\n",
    "    FN = confusion_matrix(k_y_test, predictions)[1][0]\n",
    "    TP = confusion_matrix(k_y_test, predictions)[1][1]\n",
    "    total = TN + FP + FN + TP\n",
    "    ACC = (TP + TN) / float(total)\n",
    "    \n",
    "    accuracy[np_idx] = ACC*100\n",
    "    np_idx += 1\n",
    "    \n",
    "    print(\"Fold {}: Accuracy: {}%\".format(np_idx, round(ACC*100,3)))   \n",
    "\n",
    "print(\"Average Score: {}%\".format(round(np.mean(accuracy), 3)))\n",
    "print(\"Accuracy Standard Deviation: {}\".format(round(np.std(accuracy), 3)))\n",
    "print(\"Accuracy Variance: {}\".format(round(np.square(np.std(accuracy)), 3)))"
   ]
  },
  {
   "source": [
    "From the above code snippet we can see that the average accuracy for the 10-fold cross-validation process defined above is 74.135% with a standard deviation of 2.271 and a variance of 5.158. Note that we can also use the ```predict_proba``` sklearn function to extract the probabilistic predictions for the dataset:"
   ],
   "cell_type": "markdown",
   "metadata": {}
  },
  {
   "cell_type": "code",
   "execution_count": 136,
   "metadata": {},
   "outputs": [
    {
     "output_type": "stream",
     "name": "stdout",
     "text": [
      "Shape of probabilistic predictions: (8747, 15)\nFirst 5 probabilistic predictions: [[1.24818028e-01 2.10727785e-02 2.24803010e-02 2.41471912e-02\n  4.60228967e-02 4.50333393e-02 7.05459556e-02 1.42948783e-01\n  8.49920134e-02 3.79799734e-02 1.77542838e-01 7.78933264e-02\n  4.00619605e-02 3.48917511e-02 4.95688641e-02]\n [4.34449777e-01 2.36804914e-02 3.51969712e-02 4.82106216e-02\n  4.64329264e-02 7.62309008e-02 7.79498185e-02 5.30902118e-02\n  9.15899126e-02 3.37533738e-02 4.26130594e-02 8.91987275e-03\n  1.36871870e-02 6.03148736e-03 8.16338887e-03]\n [7.98332281e-01 8.32000698e-02 4.10621669e-02 2.08890168e-02\n  2.42551359e-02 1.27173329e-02 9.25761993e-03 4.51082290e-03\n  1.33056116e-03 2.07896740e-03 1.58412886e-03 5.37384174e-04\n  5.91410145e-05 1.56292539e-05 1.69742262e-04]\n [3.72843438e-01 3.37456553e-01 1.07858990e-01 4.97123241e-02\n  3.42943172e-02 3.24429444e-02 1.93952221e-02 7.09739882e-03\n  4.29050388e-03 3.09532645e-03 2.15302106e-02 8.66745876e-03\n  1.08161009e-03 1.24585858e-04 1.09117569e-04]\n [2.61113555e-02 2.02378653e-02 2.76522175e-02 2.28719216e-02\n  2.91456733e-02 6.98705810e-02 1.00159882e-01 6.21823591e-02\n  1.32630058e-01 1.37680127e-01 2.74840404e-01 7.30066283e-02\n  1.42941738e-02 4.62851789e-03 4.68823633e-03]]\n"
     ]
    }
   ],
   "source": [
    "model = LogisticRegression(solver=\"liblinear\", multi_class=\"auto\")\n",
    "model.fit(X_train, y_train)\n",
    "predictions = model.predict_proba(X_train)\n",
    "\n",
    "print(\"Shape of probabilistic predictions:\", predictions.shape)\n",
    "print(\"First 5 probabilistic predictions:\", predictions[:5])"
   ]
  },
  {
   "source": [
    "The ```predict_proba``` function will be useful in the immediate future because it will allow us to penalize the model when it is certain that it was right and it was wrong, and reward the model when the contrary is true. We may choose not to use it, however, depending on which accuracy metric we use to score the models. \n",
    "\n",
    "\n",
    "## Hyper-Parameter Tuning\n",
    "We will now systematically determine which model we should select through a hyperparameter tuning process. The traditional accuracy metric in which you take the accuracy of your predictions with respect to the target variables is sometimes not very useful. This metric does not characterize the value of true positives, true negatives, false positives, and false negatives for the various classes. Depending on the context, taking these metrics into account may be more insightful. \n",
    "\n",
    "### Performance Metric Discussion\n",
    "The consequences of TPs, TNs, FPs, and FNs are profound in certain contexts. The following discussion highlights some of the performance metric options that exist that we can use to evaluate our classification model: \n",
    "\n",
    "#### Accuracy\n",
    "\n",
    "Measures the total accuracy of the generated model on some data. This metric can be misleading because it weights each correct prediction in the same way. If the data is skewed in a major way then a weak model can obtain very high accuracy.\n",
    "\n",
    "$A = \\frac{C}{T}$\n",
    "\n",
    "$C$ is the number of correct predictions and $T$ is the total number of predictions made. \n",
    "\n",
    "#### Confusion Matrix\n",
    "This performance visualization tool delineates the true postives, true, negatives, false positives, and false negatives for all of the predicted categorical values. This tool is valuable because it speaks to which classes the model is favoring. It also characterizes how well the model is predicting each class. The diagonal elements of the confusion matrix are the occurences where the predictions matched the target values. We can use the confusion matrix to generate other metrics such as precision.\n",
    "\n",
    "#### Precision\n",
    "The precision of a given class is *the number of times that class was correctly predicted divided by the total number of predictions for that particular class*:\n",
    "\n",
    "$P = \\frac{TP}{TP + FP}$\n",
    "\n",
    "This metric is particularly valuable if we know the value of predicting various features. If predicting a certain column is particularly important we can compute the precision of our model on that column and assess our model in that way. Using the confusion matrix we can extract the total number of predictions for a given feature by summing along that prediction row. We can easily extract the number of accurate predictions for feature $i$ by considering the $i$-th column in the $i$-th row. \n",
    "\n",
    "*If we want to minimize the number of false positives for a given target bin we will want to maximize the precision of our model.*\n",
    "\n",
    "#### Recall\n",
    "The recall of a given class is *the number of times that class was correctly predicted divided by the total number of times that class was actually true*:\n",
    "\n",
    "$R = \\frac{TP}{TP + FN}$\n",
    "\n",
    "We can obtain this metric by extracting the diagonal element associated with the $i$-th row in question and dividing by the sum along the $i$-th column. \n",
    "\n",
    "*If we want to minimize the number of false negatives for a given target we will want to maximize the recall of our model.*\n",
    "\n",
    "#### F-Measure\n",
    "The F-Measure combines precision and recall for a given feature into one metric. A model that has excellent precision and excellent recall will have an F-Measure that approaches 1. A model with weak precision or weak recall will have a resultant F-Measure that is closer to 0. To calculate the F-Measure of a feature we use the following formula:\n",
    "\n",
    "$F = \\frac{2 \\cdot P \\cdot R}{P + R}$\n",
    "\n",
    "### Performance Metric Selection\n",
    "Prior to selecting a metric from the ones outlined above, we should first consider the distribution of the target data:"
   ],
   "cell_type": "markdown",
   "metadata": {}
  },
  {
   "cell_type": "code",
   "execution_count": 137,
   "metadata": {},
   "outputs": [
    {
     "output_type": "stream",
     "name": "stdout",
     "text": [
      "Column 0.0 has 32.328% of the target values\nColumn 1.0 has 10.899% of the target values\nColumn 2.0 has 8.066% of the target values\nColumn 3.0 has 5.825% of the target values\nColumn 4.0 has 5.753% of the target values\nColumn 5.0 has 5.633% of the target values\nColumn 6.0 has 4.609% of the target values\nColumn 7.0 has 4.193% of the target values\nColumn 8.0 has 3.241% of the target values\nColumn 9.0 has 3.017% of the target values\nColumn 10.0 has 6.001% of the target values\nColumn 11.0 has 3.865% of the target values\nColumn 12.0 has 3.473% of the target values\nColumn 13.0 has 1.32% of the target values\nColumn 14.0 has 1.776% of the target values\n"
     ]
    }
   ],
   "source": [
    "dfy_one_hot = pd.get_dummies(dfy)\n",
    "dfy_counts = []\n",
    "for column in dfy_one_hot.columns:\n",
    "    dfy_count = round(dfy_one_hot[column][dfy_one_hot[column] == 1].count()/dfy_one_hot.shape[0]*100, 3)\n",
    "    dfy_counts.append(dfy_count)\n",
    "    print(\"Column {} has {}% of the target values\".format(column, dfy_count))"
   ]
  },
  {
   "source": [
    "From the above, we can see that the 0th category contains most of the target values. This is illustrated by the following countplot:"
   ],
   "cell_type": "markdown",
   "metadata": {}
  },
  {
   "cell_type": "code",
   "execution_count": 138,
   "metadata": {},
   "outputs": [
    {
     "output_type": "display_data",
     "data": {
      "text/plain": "<Figure size 1080x720 with 1 Axes>",
      "image/svg+xml": "<?xml version=\"1.0\" encoding=\"utf-8\" standalone=\"no\"?>\r\n<!DOCTYPE svg PUBLIC \"-//W3C//DTD SVG 1.1//EN\"\r\n  \"http://www.w3.org/Graphics/SVG/1.1/DTD/svg11.dtd\">\r\n<!-- Created with matplotlib (https://matplotlib.org/) -->\r\n<svg height=\"603.474375pt\" version=\"1.1\" viewBox=\"0 0 884.803125 603.474375\" width=\"884.803125pt\" xmlns=\"http://www.w3.org/2000/svg\" xmlns:xlink=\"http://www.w3.org/1999/xlink\">\r\n <defs>\r\n  <style type=\"text/css\">\r\n*{stroke-linecap:butt;stroke-linejoin:round;}\r\n  </style>\r\n </defs>\r\n <g id=\"figure_1\">\r\n  <g id=\"patch_1\">\r\n   <path d=\"M 0 603.474375 \r\nL 884.803125 603.474375 \r\nL 884.803125 0 \r\nL 0 0 \r\nz\r\n\" style=\"fill:none;\"/>\r\n  </g>\r\n  <g id=\"axes_1\">\r\n   <g id=\"patch_2\">\r\n    <path d=\"M 40.603125 565.918125 \r\nL 877.603125 565.918125 \r\nL 877.603125 22.318125 \r\nL 40.603125 22.318125 \r\nz\r\n\" style=\"fill:#ffffff;\"/>\r\n   </g>\r\n   <g id=\"patch_3\">\r\n    <path clip-path=\"url(#p8bd57fd73d)\" d=\"M 78.64858 565.918125 \r\nL 119.778801 565.918125 \r\nL 119.778801 48.203839 \r\nL 78.64858 48.203839 \r\nz\r\n\" style=\"fill:#bf00bf;\"/>\r\n   </g>\r\n   <g id=\"patch_4\">\r\n    <path clip-path=\"url(#p8bd57fd73d)\" d=\"M 130.061356 565.918125 \r\nL 171.191577 565.918125 \r\nL 171.191577 391.376922 \r\nL 130.061356 391.376922 \r\nz\r\n\" style=\"fill:#bf00bf;\"/>\r\n   </g>\r\n   <g id=\"patch_5\">\r\n    <path clip-path=\"url(#p8bd57fd73d)\" d=\"M 181.474132 565.918125 \r\nL 222.604354 565.918125 \r\nL 222.604354 436.745784 \r\nL 181.474132 436.745784 \r\nz\r\n\" style=\"fill:#bf00bf;\"/>\r\n   </g>\r\n   <g id=\"patch_6\">\r\n    <path clip-path=\"url(#p8bd57fd73d)\" d=\"M 232.886909 565.918125 \r\nL 274.01713 565.918125 \r\nL 274.01713 472.634108 \r\nL 232.886909 472.634108 \r\nz\r\n\" style=\"fill:#bf00bf;\"/>\r\n   </g>\r\n   <g id=\"patch_7\">\r\n    <path clip-path=\"url(#p8bd57fd73d)\" d=\"M 284.299685 565.918125 \r\nL 325.429906 565.918125 \r\nL 325.429906 473.787146 \r\nL 284.299685 473.787146 \r\nz\r\n\" style=\"fill:#bf00bf;\"/>\r\n   </g>\r\n   <g id=\"patch_8\">\r\n    <path clip-path=\"url(#p8bd57fd73d)\" d=\"M 335.712462 565.918125 \r\nL 376.842683 565.918125 \r\nL 376.842683 475.708877 \r\nL 335.712462 475.708877 \r\nz\r\n\" style=\"fill:#bf00bf;\"/>\r\n   </g>\r\n   <g id=\"patch_9\">\r\n    <path clip-path=\"url(#p8bd57fd73d)\" d=\"M 387.125238 565.918125 \r\nL 428.255459 565.918125 \r\nL 428.255459 492.107647 \r\nL 387.125238 492.107647 \r\nz\r\n\" style=\"fill:#bf00bf;\"/>\r\n   </g>\r\n   <g id=\"patch_10\">\r\n    <path clip-path=\"url(#p8bd57fd73d)\" d=\"M 438.538014 565.918125 \r\nL 479.668236 565.918125 \r\nL 479.668236 498.769647 \r\nL 438.538014 498.769647 \r\nz\r\n\" style=\"fill:#bf00bf;\"/>\r\n   </g>\r\n   <g id=\"patch_11\">\r\n    <path clip-path=\"url(#p8bd57fd73d)\" d=\"M 489.950791 565.918125 \r\nL 531.081012 565.918125 \r\nL 531.081012 514.015378 \r\nL 489.950791 514.015378 \r\nz\r\n\" style=\"fill:#bf00bf;\"/>\r\n   </g>\r\n   <g id=\"patch_12\">\r\n    <path clip-path=\"url(#p8bd57fd73d)\" d=\"M 541.363567 565.918125 \r\nL 582.493788 565.918125 \r\nL 582.493788 517.602609 \r\nL 541.363567 517.602609 \r\nz\r\n\" style=\"fill:#bf00bf;\"/>\r\n   </g>\r\n   <g id=\"patch_13\">\r\n    <path clip-path=\"url(#p8bd57fd73d)\" d=\"M 592.776344 565.918125 \r\nL 633.906565 565.918125 \r\nL 633.906565 469.815569 \r\nL 592.776344 469.815569 \r\nz\r\n\" style=\"fill:#bf00bf;\"/>\r\n   </g>\r\n   <g id=\"patch_14\">\r\n    <path clip-path=\"url(#p8bd57fd73d)\" d=\"M 644.18912 565.918125 \r\nL 685.319341 565.918125 \r\nL 685.319341 504.022378 \r\nL 644.18912 504.022378 \r\nz\r\n\" style=\"fill:#bf00bf;\"/>\r\n   </g>\r\n   <g id=\"patch_15\">\r\n    <path clip-path=\"url(#p8bd57fd73d)\" d=\"M 695.601896 565.918125 \r\nL 736.732118 565.918125 \r\nL 736.732118 510.300032 \r\nL 695.601896 510.300032 \r\nz\r\n\" style=\"fill:#bf00bf;\"/>\r\n   </g>\r\n   <g id=\"patch_16\">\r\n    <path clip-path=\"url(#p8bd57fd73d)\" d=\"M 747.014673 565.918125 \r\nL 788.144894 565.918125 \r\nL 788.144894 544.779086 \r\nL 747.014673 544.779086 \r\nz\r\n\" style=\"fill:#bf00bf;\"/>\r\n   </g>\r\n   <g id=\"patch_17\">\r\n    <path clip-path=\"url(#p8bd57fd73d)\" d=\"M 798.427449 565.918125 \r\nL 839.55767 565.918125 \r\nL 839.55767 537.476509 \r\nL 798.427449 537.476509 \r\nz\r\n\" style=\"fill:#bf00bf;\"/>\r\n   </g>\r\n   <g id=\"matplotlib.axis_1\">\r\n    <g id=\"xtick_1\">\r\n     <g id=\"line2d_1\">\r\n      <path clip-path=\"url(#p8bd57fd73d)\" d=\"M 99.21369 565.918125 \r\nL 99.21369 22.318125 \r\n\" style=\"fill:none;stroke:#b0b0b0;stroke-linecap:square;stroke-width:0.8;\"/>\r\n     </g>\r\n     <g id=\"line2d_2\">\r\n      <defs>\r\n       <path d=\"M 0 0 \r\nL 0 3.5 \r\n\" id=\"m0dbe36d75d\" style=\"stroke:#000000;stroke-width:0.8;\"/>\r\n      </defs>\r\n      <g>\r\n       <use style=\"stroke:#000000;stroke-width:0.8;\" x=\"99.21369\" xlink:href=\"#m0dbe36d75d\" y=\"565.918125\"/>\r\n      </g>\r\n     </g>\r\n     <g id=\"text_1\">\r\n      <!-- 0 -->\r\n      <defs>\r\n       <path d=\"M 31.78125 66.40625 \r\nQ 24.171875 66.40625 20.328125 58.90625 \r\nQ 16.5 51.421875 16.5 36.375 \r\nQ 16.5 21.390625 20.328125 13.890625 \r\nQ 24.171875 6.390625 31.78125 6.390625 \r\nQ 39.453125 6.390625 43.28125 13.890625 \r\nQ 47.125 21.390625 47.125 36.375 \r\nQ 47.125 51.421875 43.28125 58.90625 \r\nQ 39.453125 66.40625 31.78125 66.40625 \r\nz\r\nM 31.78125 74.21875 \r\nQ 44.046875 74.21875 50.515625 64.515625 \r\nQ 56.984375 54.828125 56.984375 36.375 \r\nQ 56.984375 17.96875 50.515625 8.265625 \r\nQ 44.046875 -1.421875 31.78125 -1.421875 \r\nQ 19.53125 -1.421875 13.0625 8.265625 \r\nQ 6.59375 17.96875 6.59375 36.375 \r\nQ 6.59375 54.828125 13.0625 64.515625 \r\nQ 19.53125 74.21875 31.78125 74.21875 \r\nz\r\n\" id=\"DejaVuSans-48\"/>\r\n      </defs>\r\n      <g transform=\"translate(96.03244 580.516562)scale(0.1 -0.1)\">\r\n       <use xlink:href=\"#DejaVuSans-48\"/>\r\n      </g>\r\n     </g>\r\n    </g>\r\n    <g id=\"xtick_2\">\r\n     <g id=\"line2d_3\">\r\n      <path clip-path=\"url(#p8bd57fd73d)\" d=\"M 150.626467 565.918125 \r\nL 150.626467 22.318125 \r\n\" style=\"fill:none;stroke:#b0b0b0;stroke-linecap:square;stroke-width:0.8;\"/>\r\n     </g>\r\n     <g id=\"line2d_4\">\r\n      <g>\r\n       <use style=\"stroke:#000000;stroke-width:0.8;\" x=\"150.626467\" xlink:href=\"#m0dbe36d75d\" y=\"565.918125\"/>\r\n      </g>\r\n     </g>\r\n     <g id=\"text_2\">\r\n      <!-- 1 -->\r\n      <defs>\r\n       <path d=\"M 12.40625 8.296875 \r\nL 28.515625 8.296875 \r\nL 28.515625 63.921875 \r\nL 10.984375 60.40625 \r\nL 10.984375 69.390625 \r\nL 28.421875 72.90625 \r\nL 38.28125 72.90625 \r\nL 38.28125 8.296875 \r\nL 54.390625 8.296875 \r\nL 54.390625 0 \r\nL 12.40625 0 \r\nz\r\n\" id=\"DejaVuSans-49\"/>\r\n      </defs>\r\n      <g transform=\"translate(147.445217 580.516562)scale(0.1 -0.1)\">\r\n       <use xlink:href=\"#DejaVuSans-49\"/>\r\n      </g>\r\n     </g>\r\n    </g>\r\n    <g id=\"xtick_3\">\r\n     <g id=\"line2d_5\">\r\n      <path clip-path=\"url(#p8bd57fd73d)\" d=\"M 202.039243 565.918125 \r\nL 202.039243 22.318125 \r\n\" style=\"fill:none;stroke:#b0b0b0;stroke-linecap:square;stroke-width:0.8;\"/>\r\n     </g>\r\n     <g id=\"line2d_6\">\r\n      <g>\r\n       <use style=\"stroke:#000000;stroke-width:0.8;\" x=\"202.039243\" xlink:href=\"#m0dbe36d75d\" y=\"565.918125\"/>\r\n      </g>\r\n     </g>\r\n     <g id=\"text_3\">\r\n      <!-- 2 -->\r\n      <defs>\r\n       <path d=\"M 19.1875 8.296875 \r\nL 53.609375 8.296875 \r\nL 53.609375 0 \r\nL 7.328125 0 \r\nL 7.328125 8.296875 \r\nQ 12.9375 14.109375 22.625 23.890625 \r\nQ 32.328125 33.6875 34.8125 36.53125 \r\nQ 39.546875 41.84375 41.421875 45.53125 \r\nQ 43.3125 49.21875 43.3125 52.78125 \r\nQ 43.3125 58.59375 39.234375 62.25 \r\nQ 35.15625 65.921875 28.609375 65.921875 \r\nQ 23.96875 65.921875 18.8125 64.3125 \r\nQ 13.671875 62.703125 7.8125 59.421875 \r\nL 7.8125 69.390625 \r\nQ 13.765625 71.78125 18.9375 73 \r\nQ 24.125 74.21875 28.421875 74.21875 \r\nQ 39.75 74.21875 46.484375 68.546875 \r\nQ 53.21875 62.890625 53.21875 53.421875 \r\nQ 53.21875 48.921875 51.53125 44.890625 \r\nQ 49.859375 40.875 45.40625 35.40625 \r\nQ 44.1875 33.984375 37.640625 27.21875 \r\nQ 31.109375 20.453125 19.1875 8.296875 \r\nz\r\n\" id=\"DejaVuSans-50\"/>\r\n      </defs>\r\n      <g transform=\"translate(198.857993 580.516562)scale(0.1 -0.1)\">\r\n       <use xlink:href=\"#DejaVuSans-50\"/>\r\n      </g>\r\n     </g>\r\n    </g>\r\n    <g id=\"xtick_4\">\r\n     <g id=\"line2d_7\">\r\n      <path clip-path=\"url(#p8bd57fd73d)\" d=\"M 253.452019 565.918125 \r\nL 253.452019 22.318125 \r\n\" style=\"fill:none;stroke:#b0b0b0;stroke-linecap:square;stroke-width:0.8;\"/>\r\n     </g>\r\n     <g id=\"line2d_8\">\r\n      <g>\r\n       <use style=\"stroke:#000000;stroke-width:0.8;\" x=\"253.452019\" xlink:href=\"#m0dbe36d75d\" y=\"565.918125\"/>\r\n      </g>\r\n     </g>\r\n     <g id=\"text_4\">\r\n      <!-- 3 -->\r\n      <defs>\r\n       <path d=\"M 40.578125 39.3125 \r\nQ 47.65625 37.796875 51.625 33 \r\nQ 55.609375 28.21875 55.609375 21.1875 \r\nQ 55.609375 10.40625 48.1875 4.484375 \r\nQ 40.765625 -1.421875 27.09375 -1.421875 \r\nQ 22.515625 -1.421875 17.65625 -0.515625 \r\nQ 12.796875 0.390625 7.625 2.203125 \r\nL 7.625 11.71875 \r\nQ 11.71875 9.328125 16.59375 8.109375 \r\nQ 21.484375 6.890625 26.8125 6.890625 \r\nQ 36.078125 6.890625 40.9375 10.546875 \r\nQ 45.796875 14.203125 45.796875 21.1875 \r\nQ 45.796875 27.640625 41.28125 31.265625 \r\nQ 36.765625 34.90625 28.71875 34.90625 \r\nL 20.21875 34.90625 \r\nL 20.21875 43.015625 \r\nL 29.109375 43.015625 \r\nQ 36.375 43.015625 40.234375 45.921875 \r\nQ 44.09375 48.828125 44.09375 54.296875 \r\nQ 44.09375 59.90625 40.109375 62.90625 \r\nQ 36.140625 65.921875 28.71875 65.921875 \r\nQ 24.65625 65.921875 20.015625 65.03125 \r\nQ 15.375 64.15625 9.8125 62.3125 \r\nL 9.8125 71.09375 \r\nQ 15.4375 72.65625 20.34375 73.4375 \r\nQ 25.25 74.21875 29.59375 74.21875 \r\nQ 40.828125 74.21875 47.359375 69.109375 \r\nQ 53.90625 64.015625 53.90625 55.328125 \r\nQ 53.90625 49.265625 50.4375 45.09375 \r\nQ 46.96875 40.921875 40.578125 39.3125 \r\nz\r\n\" id=\"DejaVuSans-51\"/>\r\n      </defs>\r\n      <g transform=\"translate(250.270769 580.516562)scale(0.1 -0.1)\">\r\n       <use xlink:href=\"#DejaVuSans-51\"/>\r\n      </g>\r\n     </g>\r\n    </g>\r\n    <g id=\"xtick_5\">\r\n     <g id=\"line2d_9\">\r\n      <path clip-path=\"url(#p8bd57fd73d)\" d=\"M 304.864796 565.918125 \r\nL 304.864796 22.318125 \r\n\" style=\"fill:none;stroke:#b0b0b0;stroke-linecap:square;stroke-width:0.8;\"/>\r\n     </g>\r\n     <g id=\"line2d_10\">\r\n      <g>\r\n       <use style=\"stroke:#000000;stroke-width:0.8;\" x=\"304.864796\" xlink:href=\"#m0dbe36d75d\" y=\"565.918125\"/>\r\n      </g>\r\n     </g>\r\n     <g id=\"text_5\">\r\n      <!-- 4 -->\r\n      <defs>\r\n       <path d=\"M 37.796875 64.3125 \r\nL 12.890625 25.390625 \r\nL 37.796875 25.390625 \r\nz\r\nM 35.203125 72.90625 \r\nL 47.609375 72.90625 \r\nL 47.609375 25.390625 \r\nL 58.015625 25.390625 \r\nL 58.015625 17.1875 \r\nL 47.609375 17.1875 \r\nL 47.609375 0 \r\nL 37.796875 0 \r\nL 37.796875 17.1875 \r\nL 4.890625 17.1875 \r\nL 4.890625 26.703125 \r\nz\r\n\" id=\"DejaVuSans-52\"/>\r\n      </defs>\r\n      <g transform=\"translate(301.683546 580.516562)scale(0.1 -0.1)\">\r\n       <use xlink:href=\"#DejaVuSans-52\"/>\r\n      </g>\r\n     </g>\r\n    </g>\r\n    <g id=\"xtick_6\">\r\n     <g id=\"line2d_11\">\r\n      <path clip-path=\"url(#p8bd57fd73d)\" d=\"M 356.277572 565.918125 \r\nL 356.277572 22.318125 \r\n\" style=\"fill:none;stroke:#b0b0b0;stroke-linecap:square;stroke-width:0.8;\"/>\r\n     </g>\r\n     <g id=\"line2d_12\">\r\n      <g>\r\n       <use style=\"stroke:#000000;stroke-width:0.8;\" x=\"356.277572\" xlink:href=\"#m0dbe36d75d\" y=\"565.918125\"/>\r\n      </g>\r\n     </g>\r\n     <g id=\"text_6\">\r\n      <!-- 5 -->\r\n      <defs>\r\n       <path d=\"M 10.796875 72.90625 \r\nL 49.515625 72.90625 \r\nL 49.515625 64.59375 \r\nL 19.828125 64.59375 \r\nL 19.828125 46.734375 \r\nQ 21.96875 47.46875 24.109375 47.828125 \r\nQ 26.265625 48.1875 28.421875 48.1875 \r\nQ 40.625 48.1875 47.75 41.5 \r\nQ 54.890625 34.8125 54.890625 23.390625 \r\nQ 54.890625 11.625 47.5625 5.09375 \r\nQ 40.234375 -1.421875 26.90625 -1.421875 \r\nQ 22.3125 -1.421875 17.546875 -0.640625 \r\nQ 12.796875 0.140625 7.71875 1.703125 \r\nL 7.71875 11.625 \r\nQ 12.109375 9.234375 16.796875 8.0625 \r\nQ 21.484375 6.890625 26.703125 6.890625 \r\nQ 35.15625 6.890625 40.078125 11.328125 \r\nQ 45.015625 15.765625 45.015625 23.390625 \r\nQ 45.015625 31 40.078125 35.4375 \r\nQ 35.15625 39.890625 26.703125 39.890625 \r\nQ 22.75 39.890625 18.8125 39.015625 \r\nQ 14.890625 38.140625 10.796875 36.28125 \r\nz\r\n\" id=\"DejaVuSans-53\"/>\r\n      </defs>\r\n      <g transform=\"translate(353.096322 580.516562)scale(0.1 -0.1)\">\r\n       <use xlink:href=\"#DejaVuSans-53\"/>\r\n      </g>\r\n     </g>\r\n    </g>\r\n    <g id=\"xtick_7\">\r\n     <g id=\"line2d_13\">\r\n      <path clip-path=\"url(#p8bd57fd73d)\" d=\"M 407.690349 565.918125 \r\nL 407.690349 22.318125 \r\n\" style=\"fill:none;stroke:#b0b0b0;stroke-linecap:square;stroke-width:0.8;\"/>\r\n     </g>\r\n     <g id=\"line2d_14\">\r\n      <g>\r\n       <use style=\"stroke:#000000;stroke-width:0.8;\" x=\"407.690349\" xlink:href=\"#m0dbe36d75d\" y=\"565.918125\"/>\r\n      </g>\r\n     </g>\r\n     <g id=\"text_7\">\r\n      <!-- 6 -->\r\n      <defs>\r\n       <path d=\"M 33.015625 40.375 \r\nQ 26.375 40.375 22.484375 35.828125 \r\nQ 18.609375 31.296875 18.609375 23.390625 \r\nQ 18.609375 15.53125 22.484375 10.953125 \r\nQ 26.375 6.390625 33.015625 6.390625 \r\nQ 39.65625 6.390625 43.53125 10.953125 \r\nQ 47.40625 15.53125 47.40625 23.390625 \r\nQ 47.40625 31.296875 43.53125 35.828125 \r\nQ 39.65625 40.375 33.015625 40.375 \r\nz\r\nM 52.59375 71.296875 \r\nL 52.59375 62.3125 \r\nQ 48.875 64.0625 45.09375 64.984375 \r\nQ 41.3125 65.921875 37.59375 65.921875 \r\nQ 27.828125 65.921875 22.671875 59.328125 \r\nQ 17.53125 52.734375 16.796875 39.40625 \r\nQ 19.671875 43.65625 24.015625 45.921875 \r\nQ 28.375 48.1875 33.59375 48.1875 \r\nQ 44.578125 48.1875 50.953125 41.515625 \r\nQ 57.328125 34.859375 57.328125 23.390625 \r\nQ 57.328125 12.15625 50.6875 5.359375 \r\nQ 44.046875 -1.421875 33.015625 -1.421875 \r\nQ 20.359375 -1.421875 13.671875 8.265625 \r\nQ 6.984375 17.96875 6.984375 36.375 \r\nQ 6.984375 53.65625 15.1875 63.9375 \r\nQ 23.390625 74.21875 37.203125 74.21875 \r\nQ 40.921875 74.21875 44.703125 73.484375 \r\nQ 48.484375 72.75 52.59375 71.296875 \r\nz\r\n\" id=\"DejaVuSans-54\"/>\r\n      </defs>\r\n      <g transform=\"translate(404.509099 580.516562)scale(0.1 -0.1)\">\r\n       <use xlink:href=\"#DejaVuSans-54\"/>\r\n      </g>\r\n     </g>\r\n    </g>\r\n    <g id=\"xtick_8\">\r\n     <g id=\"line2d_15\">\r\n      <path clip-path=\"url(#p8bd57fd73d)\" d=\"M 459.103125 565.918125 \r\nL 459.103125 22.318125 \r\n\" style=\"fill:none;stroke:#b0b0b0;stroke-linecap:square;stroke-width:0.8;\"/>\r\n     </g>\r\n     <g id=\"line2d_16\">\r\n      <g>\r\n       <use style=\"stroke:#000000;stroke-width:0.8;\" x=\"459.103125\" xlink:href=\"#m0dbe36d75d\" y=\"565.918125\"/>\r\n      </g>\r\n     </g>\r\n     <g id=\"text_8\">\r\n      <!-- 7 -->\r\n      <defs>\r\n       <path d=\"M 8.203125 72.90625 \r\nL 55.078125 72.90625 \r\nL 55.078125 68.703125 \r\nL 28.609375 0 \r\nL 18.3125 0 \r\nL 43.21875 64.59375 \r\nL 8.203125 64.59375 \r\nz\r\n\" id=\"DejaVuSans-55\"/>\r\n      </defs>\r\n      <g transform=\"translate(455.921875 580.516562)scale(0.1 -0.1)\">\r\n       <use xlink:href=\"#DejaVuSans-55\"/>\r\n      </g>\r\n     </g>\r\n    </g>\r\n    <g id=\"xtick_9\">\r\n     <g id=\"line2d_17\">\r\n      <path clip-path=\"url(#p8bd57fd73d)\" d=\"M 510.515901 565.918125 \r\nL 510.515901 22.318125 \r\n\" style=\"fill:none;stroke:#b0b0b0;stroke-linecap:square;stroke-width:0.8;\"/>\r\n     </g>\r\n     <g id=\"line2d_18\">\r\n      <g>\r\n       <use style=\"stroke:#000000;stroke-width:0.8;\" x=\"510.515901\" xlink:href=\"#m0dbe36d75d\" y=\"565.918125\"/>\r\n      </g>\r\n     </g>\r\n     <g id=\"text_9\">\r\n      <!-- 8 -->\r\n      <defs>\r\n       <path d=\"M 31.78125 34.625 \r\nQ 24.75 34.625 20.71875 30.859375 \r\nQ 16.703125 27.09375 16.703125 20.515625 \r\nQ 16.703125 13.921875 20.71875 10.15625 \r\nQ 24.75 6.390625 31.78125 6.390625 \r\nQ 38.8125 6.390625 42.859375 10.171875 \r\nQ 46.921875 13.96875 46.921875 20.515625 \r\nQ 46.921875 27.09375 42.890625 30.859375 \r\nQ 38.875 34.625 31.78125 34.625 \r\nz\r\nM 21.921875 38.8125 \r\nQ 15.578125 40.375 12.03125 44.71875 \r\nQ 8.5 49.078125 8.5 55.328125 \r\nQ 8.5 64.0625 14.71875 69.140625 \r\nQ 20.953125 74.21875 31.78125 74.21875 \r\nQ 42.671875 74.21875 48.875 69.140625 \r\nQ 55.078125 64.0625 55.078125 55.328125 \r\nQ 55.078125 49.078125 51.53125 44.71875 \r\nQ 48 40.375 41.703125 38.8125 \r\nQ 48.828125 37.15625 52.796875 32.3125 \r\nQ 56.78125 27.484375 56.78125 20.515625 \r\nQ 56.78125 9.90625 50.3125 4.234375 \r\nQ 43.84375 -1.421875 31.78125 -1.421875 \r\nQ 19.734375 -1.421875 13.25 4.234375 \r\nQ 6.78125 9.90625 6.78125 20.515625 \r\nQ 6.78125 27.484375 10.78125 32.3125 \r\nQ 14.796875 37.15625 21.921875 38.8125 \r\nz\r\nM 18.3125 54.390625 \r\nQ 18.3125 48.734375 21.84375 45.5625 \r\nQ 25.390625 42.390625 31.78125 42.390625 \r\nQ 38.140625 42.390625 41.71875 45.5625 \r\nQ 45.3125 48.734375 45.3125 54.390625 \r\nQ 45.3125 60.0625 41.71875 63.234375 \r\nQ 38.140625 66.40625 31.78125 66.40625 \r\nQ 25.390625 66.40625 21.84375 63.234375 \r\nQ 18.3125 60.0625 18.3125 54.390625 \r\nz\r\n\" id=\"DejaVuSans-56\"/>\r\n      </defs>\r\n      <g transform=\"translate(507.334651 580.516562)scale(0.1 -0.1)\">\r\n       <use xlink:href=\"#DejaVuSans-56\"/>\r\n      </g>\r\n     </g>\r\n    </g>\r\n    <g id=\"xtick_10\">\r\n     <g id=\"line2d_19\">\r\n      <path clip-path=\"url(#p8bd57fd73d)\" d=\"M 561.928678 565.918125 \r\nL 561.928678 22.318125 \r\n\" style=\"fill:none;stroke:#b0b0b0;stroke-linecap:square;stroke-width:0.8;\"/>\r\n     </g>\r\n     <g id=\"line2d_20\">\r\n      <g>\r\n       <use style=\"stroke:#000000;stroke-width:0.8;\" x=\"561.928678\" xlink:href=\"#m0dbe36d75d\" y=\"565.918125\"/>\r\n      </g>\r\n     </g>\r\n     <g id=\"text_10\">\r\n      <!-- 9 -->\r\n      <defs>\r\n       <path d=\"M 10.984375 1.515625 \r\nL 10.984375 10.5 \r\nQ 14.703125 8.734375 18.5 7.8125 \r\nQ 22.3125 6.890625 25.984375 6.890625 \r\nQ 35.75 6.890625 40.890625 13.453125 \r\nQ 46.046875 20.015625 46.78125 33.40625 \r\nQ 43.953125 29.203125 39.59375 26.953125 \r\nQ 35.25 24.703125 29.984375 24.703125 \r\nQ 19.046875 24.703125 12.671875 31.3125 \r\nQ 6.296875 37.9375 6.296875 49.421875 \r\nQ 6.296875 60.640625 12.9375 67.421875 \r\nQ 19.578125 74.21875 30.609375 74.21875 \r\nQ 43.265625 74.21875 49.921875 64.515625 \r\nQ 56.59375 54.828125 56.59375 36.375 \r\nQ 56.59375 19.140625 48.40625 8.859375 \r\nQ 40.234375 -1.421875 26.421875 -1.421875 \r\nQ 22.703125 -1.421875 18.890625 -0.6875 \r\nQ 15.09375 0.046875 10.984375 1.515625 \r\nz\r\nM 30.609375 32.421875 \r\nQ 37.25 32.421875 41.125 36.953125 \r\nQ 45.015625 41.5 45.015625 49.421875 \r\nQ 45.015625 57.28125 41.125 61.84375 \r\nQ 37.25 66.40625 30.609375 66.40625 \r\nQ 23.96875 66.40625 20.09375 61.84375 \r\nQ 16.21875 57.28125 16.21875 49.421875 \r\nQ 16.21875 41.5 20.09375 36.953125 \r\nQ 23.96875 32.421875 30.609375 32.421875 \r\nz\r\n\" id=\"DejaVuSans-57\"/>\r\n      </defs>\r\n      <g transform=\"translate(558.747428 580.516562)scale(0.1 -0.1)\">\r\n       <use xlink:href=\"#DejaVuSans-57\"/>\r\n      </g>\r\n     </g>\r\n    </g>\r\n    <g id=\"xtick_11\">\r\n     <g id=\"line2d_21\">\r\n      <path clip-path=\"url(#p8bd57fd73d)\" d=\"M 613.341454 565.918125 \r\nL 613.341454 22.318125 \r\n\" style=\"fill:none;stroke:#b0b0b0;stroke-linecap:square;stroke-width:0.8;\"/>\r\n     </g>\r\n     <g id=\"line2d_22\">\r\n      <g>\r\n       <use style=\"stroke:#000000;stroke-width:0.8;\" x=\"613.341454\" xlink:href=\"#m0dbe36d75d\" y=\"565.918125\"/>\r\n      </g>\r\n     </g>\r\n     <g id=\"text_11\">\r\n      <!-- 10 -->\r\n      <g transform=\"translate(606.978954 580.516562)scale(0.1 -0.1)\">\r\n       <use xlink:href=\"#DejaVuSans-49\"/>\r\n       <use x=\"63.623047\" xlink:href=\"#DejaVuSans-48\"/>\r\n      </g>\r\n     </g>\r\n    </g>\r\n    <g id=\"xtick_12\">\r\n     <g id=\"line2d_23\">\r\n      <path clip-path=\"url(#p8bd57fd73d)\" d=\"M 664.754231 565.918125 \r\nL 664.754231 22.318125 \r\n\" style=\"fill:none;stroke:#b0b0b0;stroke-linecap:square;stroke-width:0.8;\"/>\r\n     </g>\r\n     <g id=\"line2d_24\">\r\n      <g>\r\n       <use style=\"stroke:#000000;stroke-width:0.8;\" x=\"664.754231\" xlink:href=\"#m0dbe36d75d\" y=\"565.918125\"/>\r\n      </g>\r\n     </g>\r\n     <g id=\"text_12\">\r\n      <!-- 11 -->\r\n      <g transform=\"translate(658.391731 580.516562)scale(0.1 -0.1)\">\r\n       <use xlink:href=\"#DejaVuSans-49\"/>\r\n       <use x=\"63.623047\" xlink:href=\"#DejaVuSans-49\"/>\r\n      </g>\r\n     </g>\r\n    </g>\r\n    <g id=\"xtick_13\">\r\n     <g id=\"line2d_25\">\r\n      <path clip-path=\"url(#p8bd57fd73d)\" d=\"M 716.167007 565.918125 \r\nL 716.167007 22.318125 \r\n\" style=\"fill:none;stroke:#b0b0b0;stroke-linecap:square;stroke-width:0.8;\"/>\r\n     </g>\r\n     <g id=\"line2d_26\">\r\n      <g>\r\n       <use style=\"stroke:#000000;stroke-width:0.8;\" x=\"716.167007\" xlink:href=\"#m0dbe36d75d\" y=\"565.918125\"/>\r\n      </g>\r\n     </g>\r\n     <g id=\"text_13\">\r\n      <!-- 12 -->\r\n      <g transform=\"translate(709.804507 580.516562)scale(0.1 -0.1)\">\r\n       <use xlink:href=\"#DejaVuSans-49\"/>\r\n       <use x=\"63.623047\" xlink:href=\"#DejaVuSans-50\"/>\r\n      </g>\r\n     </g>\r\n    </g>\r\n    <g id=\"xtick_14\">\r\n     <g id=\"line2d_27\">\r\n      <path clip-path=\"url(#p8bd57fd73d)\" d=\"M 767.579783 565.918125 \r\nL 767.579783 22.318125 \r\n\" style=\"fill:none;stroke:#b0b0b0;stroke-linecap:square;stroke-width:0.8;\"/>\r\n     </g>\r\n     <g id=\"line2d_28\">\r\n      <g>\r\n       <use style=\"stroke:#000000;stroke-width:0.8;\" x=\"767.579783\" xlink:href=\"#m0dbe36d75d\" y=\"565.918125\"/>\r\n      </g>\r\n     </g>\r\n     <g id=\"text_14\">\r\n      <!-- 13 -->\r\n      <g transform=\"translate(761.217283 580.516562)scale(0.1 -0.1)\">\r\n       <use xlink:href=\"#DejaVuSans-49\"/>\r\n       <use x=\"63.623047\" xlink:href=\"#DejaVuSans-51\"/>\r\n      </g>\r\n     </g>\r\n    </g>\r\n    <g id=\"xtick_15\">\r\n     <g id=\"line2d_29\">\r\n      <path clip-path=\"url(#p8bd57fd73d)\" d=\"M 818.99256 565.918125 \r\nL 818.99256 22.318125 \r\n\" style=\"fill:none;stroke:#b0b0b0;stroke-linecap:square;stroke-width:0.8;\"/>\r\n     </g>\r\n     <g id=\"line2d_30\">\r\n      <g>\r\n       <use style=\"stroke:#000000;stroke-width:0.8;\" x=\"818.99256\" xlink:href=\"#m0dbe36d75d\" y=\"565.918125\"/>\r\n      </g>\r\n     </g>\r\n     <g id=\"text_15\">\r\n      <!-- 14 -->\r\n      <g transform=\"translate(812.63006 580.516562)scale(0.1 -0.1)\">\r\n       <use xlink:href=\"#DejaVuSans-49\"/>\r\n       <use x=\"63.623047\" xlink:href=\"#DejaVuSans-52\"/>\r\n      </g>\r\n     </g>\r\n    </g>\r\n    <g id=\"text_16\">\r\n     <!-- Target Index -->\r\n     <defs>\r\n      <path d=\"M -0.296875 72.90625 \r\nL 61.375 72.90625 \r\nL 61.375 64.59375 \r\nL 35.5 64.59375 \r\nL 35.5 0 \r\nL 25.59375 0 \r\nL 25.59375 64.59375 \r\nL -0.296875 64.59375 \r\nz\r\n\" id=\"DejaVuSans-84\"/>\r\n      <path d=\"M 34.28125 27.484375 \r\nQ 23.390625 27.484375 19.1875 25 \r\nQ 14.984375 22.515625 14.984375 16.5 \r\nQ 14.984375 11.71875 18.140625 8.90625 \r\nQ 21.296875 6.109375 26.703125 6.109375 \r\nQ 34.1875 6.109375 38.703125 11.40625 \r\nQ 43.21875 16.703125 43.21875 25.484375 \r\nL 43.21875 27.484375 \r\nz\r\nM 52.203125 31.203125 \r\nL 52.203125 0 \r\nL 43.21875 0 \r\nL 43.21875 8.296875 \r\nQ 40.140625 3.328125 35.546875 0.953125 \r\nQ 30.953125 -1.421875 24.3125 -1.421875 \r\nQ 15.921875 -1.421875 10.953125 3.296875 \r\nQ 6 8.015625 6 15.921875 \r\nQ 6 25.140625 12.171875 29.828125 \r\nQ 18.359375 34.515625 30.609375 34.515625 \r\nL 43.21875 34.515625 \r\nL 43.21875 35.40625 \r\nQ 43.21875 41.609375 39.140625 45 \r\nQ 35.0625 48.390625 27.6875 48.390625 \r\nQ 23 48.390625 18.546875 47.265625 \r\nQ 14.109375 46.140625 10.015625 43.890625 \r\nL 10.015625 52.203125 \r\nQ 14.9375 54.109375 19.578125 55.046875 \r\nQ 24.21875 56 28.609375 56 \r\nQ 40.484375 56 46.34375 49.84375 \r\nQ 52.203125 43.703125 52.203125 31.203125 \r\nz\r\n\" id=\"DejaVuSans-97\"/>\r\n      <path d=\"M 41.109375 46.296875 \r\nQ 39.59375 47.171875 37.8125 47.578125 \r\nQ 36.03125 48 33.890625 48 \r\nQ 26.265625 48 22.1875 43.046875 \r\nQ 18.109375 38.09375 18.109375 28.8125 \r\nL 18.109375 0 \r\nL 9.078125 0 \r\nL 9.078125 54.6875 \r\nL 18.109375 54.6875 \r\nL 18.109375 46.1875 \r\nQ 20.953125 51.171875 25.484375 53.578125 \r\nQ 30.03125 56 36.53125 56 \r\nQ 37.453125 56 38.578125 55.875 \r\nQ 39.703125 55.765625 41.0625 55.515625 \r\nz\r\n\" id=\"DejaVuSans-114\"/>\r\n      <path d=\"M 45.40625 27.984375 \r\nQ 45.40625 37.75 41.375 43.109375 \r\nQ 37.359375 48.484375 30.078125 48.484375 \r\nQ 22.859375 48.484375 18.828125 43.109375 \r\nQ 14.796875 37.75 14.796875 27.984375 \r\nQ 14.796875 18.265625 18.828125 12.890625 \r\nQ 22.859375 7.515625 30.078125 7.515625 \r\nQ 37.359375 7.515625 41.375 12.890625 \r\nQ 45.40625 18.265625 45.40625 27.984375 \r\nz\r\nM 54.390625 6.78125 \r\nQ 54.390625 -7.171875 48.1875 -13.984375 \r\nQ 42 -20.796875 29.203125 -20.796875 \r\nQ 24.46875 -20.796875 20.265625 -20.09375 \r\nQ 16.0625 -19.390625 12.109375 -17.921875 \r\nL 12.109375 -9.1875 \r\nQ 16.0625 -11.328125 19.921875 -12.34375 \r\nQ 23.78125 -13.375 27.78125 -13.375 \r\nQ 36.625 -13.375 41.015625 -8.765625 \r\nQ 45.40625 -4.15625 45.40625 5.171875 \r\nL 45.40625 9.625 \r\nQ 42.625 4.78125 38.28125 2.390625 \r\nQ 33.9375 0 27.875 0 \r\nQ 17.828125 0 11.671875 7.65625 \r\nQ 5.515625 15.328125 5.515625 27.984375 \r\nQ 5.515625 40.671875 11.671875 48.328125 \r\nQ 17.828125 56 27.875 56 \r\nQ 33.9375 56 38.28125 53.609375 \r\nQ 42.625 51.21875 45.40625 46.390625 \r\nL 45.40625 54.6875 \r\nL 54.390625 54.6875 \r\nz\r\n\" id=\"DejaVuSans-103\"/>\r\n      <path d=\"M 56.203125 29.59375 \r\nL 56.203125 25.203125 \r\nL 14.890625 25.203125 \r\nQ 15.484375 15.921875 20.484375 11.0625 \r\nQ 25.484375 6.203125 34.421875 6.203125 \r\nQ 39.59375 6.203125 44.453125 7.46875 \r\nQ 49.3125 8.734375 54.109375 11.28125 \r\nL 54.109375 2.78125 \r\nQ 49.265625 0.734375 44.1875 -0.34375 \r\nQ 39.109375 -1.421875 33.890625 -1.421875 \r\nQ 20.796875 -1.421875 13.15625 6.1875 \r\nQ 5.515625 13.8125 5.515625 26.8125 \r\nQ 5.515625 40.234375 12.765625 48.109375 \r\nQ 20.015625 56 32.328125 56 \r\nQ 43.359375 56 49.78125 48.890625 \r\nQ 56.203125 41.796875 56.203125 29.59375 \r\nz\r\nM 47.21875 32.234375 \r\nQ 47.125 39.59375 43.09375 43.984375 \r\nQ 39.0625 48.390625 32.421875 48.390625 \r\nQ 24.90625 48.390625 20.390625 44.140625 \r\nQ 15.875 39.890625 15.1875 32.171875 \r\nz\r\n\" id=\"DejaVuSans-101\"/>\r\n      <path d=\"M 18.3125 70.21875 \r\nL 18.3125 54.6875 \r\nL 36.8125 54.6875 \r\nL 36.8125 47.703125 \r\nL 18.3125 47.703125 \r\nL 18.3125 18.015625 \r\nQ 18.3125 11.328125 20.140625 9.421875 \r\nQ 21.96875 7.515625 27.59375 7.515625 \r\nL 36.8125 7.515625 \r\nL 36.8125 0 \r\nL 27.59375 0 \r\nQ 17.1875 0 13.234375 3.875 \r\nQ 9.28125 7.765625 9.28125 18.015625 \r\nL 9.28125 47.703125 \r\nL 2.6875 47.703125 \r\nL 2.6875 54.6875 \r\nL 9.28125 54.6875 \r\nL 9.28125 70.21875 \r\nz\r\n\" id=\"DejaVuSans-116\"/>\r\n      <path id=\"DejaVuSans-32\"/>\r\n      <path d=\"M 9.8125 72.90625 \r\nL 19.671875 72.90625 \r\nL 19.671875 0 \r\nL 9.8125 0 \r\nz\r\n\" id=\"DejaVuSans-73\"/>\r\n      <path d=\"M 54.890625 33.015625 \r\nL 54.890625 0 \r\nL 45.90625 0 \r\nL 45.90625 32.71875 \r\nQ 45.90625 40.484375 42.875 44.328125 \r\nQ 39.84375 48.1875 33.796875 48.1875 \r\nQ 26.515625 48.1875 22.3125 43.546875 \r\nQ 18.109375 38.921875 18.109375 30.90625 \r\nL 18.109375 0 \r\nL 9.078125 0 \r\nL 9.078125 54.6875 \r\nL 18.109375 54.6875 \r\nL 18.109375 46.1875 \r\nQ 21.34375 51.125 25.703125 53.5625 \r\nQ 30.078125 56 35.796875 56 \r\nQ 45.21875 56 50.046875 50.171875 \r\nQ 54.890625 44.34375 54.890625 33.015625 \r\nz\r\n\" id=\"DejaVuSans-110\"/>\r\n      <path d=\"M 45.40625 46.390625 \r\nL 45.40625 75.984375 \r\nL 54.390625 75.984375 \r\nL 54.390625 0 \r\nL 45.40625 0 \r\nL 45.40625 8.203125 \r\nQ 42.578125 3.328125 38.25 0.953125 \r\nQ 33.9375 -1.421875 27.875 -1.421875 \r\nQ 17.96875 -1.421875 11.734375 6.484375 \r\nQ 5.515625 14.40625 5.515625 27.296875 \r\nQ 5.515625 40.1875 11.734375 48.09375 \r\nQ 17.96875 56 27.875 56 \r\nQ 33.9375 56 38.25 53.625 \r\nQ 42.578125 51.265625 45.40625 46.390625 \r\nz\r\nM 14.796875 27.296875 \r\nQ 14.796875 17.390625 18.875 11.75 \r\nQ 22.953125 6.109375 30.078125 6.109375 \r\nQ 37.203125 6.109375 41.296875 11.75 \r\nQ 45.40625 17.390625 45.40625 27.296875 \r\nQ 45.40625 37.203125 41.296875 42.84375 \r\nQ 37.203125 48.484375 30.078125 48.484375 \r\nQ 22.953125 48.484375 18.875 42.84375 \r\nQ 14.796875 37.203125 14.796875 27.296875 \r\nz\r\n\" id=\"DejaVuSans-100\"/>\r\n      <path d=\"M 54.890625 54.6875 \r\nL 35.109375 28.078125 \r\nL 55.90625 0 \r\nL 45.3125 0 \r\nL 29.390625 21.484375 \r\nL 13.484375 0 \r\nL 2.875 0 \r\nL 24.125 28.609375 \r\nL 4.6875 54.6875 \r\nL 15.28125 54.6875 \r\nL 29.78125 35.203125 \r\nL 44.28125 54.6875 \r\nz\r\n\" id=\"DejaVuSans-120\"/>\r\n     </defs>\r\n     <g transform=\"translate(427.289844 594.194687)scale(0.1 -0.1)\">\r\n      <use xlink:href=\"#DejaVuSans-84\"/>\r\n      <use x=\"60.833984\" xlink:href=\"#DejaVuSans-97\"/>\r\n      <use x=\"122.113281\" xlink:href=\"#DejaVuSans-114\"/>\r\n      <use x=\"163.210938\" xlink:href=\"#DejaVuSans-103\"/>\r\n      <use x=\"226.6875\" xlink:href=\"#DejaVuSans-101\"/>\r\n      <use x=\"288.210938\" xlink:href=\"#DejaVuSans-116\"/>\r\n      <use x=\"327.419922\" xlink:href=\"#DejaVuSans-32\"/>\r\n      <use x=\"359.207031\" xlink:href=\"#DejaVuSans-73\"/>\r\n      <use x=\"388.699219\" xlink:href=\"#DejaVuSans-110\"/>\r\n      <use x=\"452.078125\" xlink:href=\"#DejaVuSans-100\"/>\r\n      <use x=\"515.554688\" xlink:href=\"#DejaVuSans-101\"/>\r\n      <use x=\"577.0625\" xlink:href=\"#DejaVuSans-120\"/>\r\n     </g>\r\n    </g>\r\n   </g>\r\n   <g id=\"matplotlib.axis_2\">\r\n    <g id=\"ytick_1\">\r\n     <g id=\"line2d_31\">\r\n      <path clip-path=\"url(#p8bd57fd73d)\" d=\"M 40.603125 565.918125 \r\nL 877.603125 565.918125 \r\n\" style=\"fill:none;stroke:#b0b0b0;stroke-linecap:square;stroke-width:0.8;\"/>\r\n     </g>\r\n     <g id=\"line2d_32\">\r\n      <defs>\r\n       <path d=\"M 0 0 \r\nL -3.5 0 \r\n\" id=\"me80832e96c\" style=\"stroke:#000000;stroke-width:0.8;\"/>\r\n      </defs>\r\n      <g>\r\n       <use style=\"stroke:#000000;stroke-width:0.8;\" x=\"40.603125\" xlink:href=\"#me80832e96c\" y=\"565.918125\"/>\r\n      </g>\r\n     </g>\r\n     <g id=\"text_17\">\r\n      <!-- 0 -->\r\n      <g transform=\"translate(27.240625 569.717344)scale(0.1 -0.1)\">\r\n       <use xlink:href=\"#DejaVuSans-48\"/>\r\n      </g>\r\n     </g>\r\n    </g>\r\n    <g id=\"ytick_2\">\r\n     <g id=\"line2d_33\">\r\n      <path clip-path=\"url(#p8bd57fd73d)\" d=\"M 40.603125 485.846007 \r\nL 877.603125 485.846007 \r\n\" style=\"fill:none;stroke:#b0b0b0;stroke-linecap:square;stroke-width:0.8;\"/>\r\n     </g>\r\n     <g id=\"line2d_34\">\r\n      <g>\r\n       <use style=\"stroke:#000000;stroke-width:0.8;\" x=\"40.603125\" xlink:href=\"#me80832e96c\" y=\"485.846007\"/>\r\n      </g>\r\n     </g>\r\n     <g id=\"text_18\">\r\n      <!-- 5 -->\r\n      <g transform=\"translate(27.240625 489.645226)scale(0.1 -0.1)\">\r\n       <use xlink:href=\"#DejaVuSans-53\"/>\r\n      </g>\r\n     </g>\r\n    </g>\r\n    <g id=\"ytick_3\">\r\n     <g id=\"line2d_35\">\r\n      <path clip-path=\"url(#p8bd57fd73d)\" d=\"M 40.603125 405.773889 \r\nL 877.603125 405.773889 \r\n\" style=\"fill:none;stroke:#b0b0b0;stroke-linecap:square;stroke-width:0.8;\"/>\r\n     </g>\r\n     <g id=\"line2d_36\">\r\n      <g>\r\n       <use style=\"stroke:#000000;stroke-width:0.8;\" x=\"40.603125\" xlink:href=\"#me80832e96c\" y=\"405.773889\"/>\r\n      </g>\r\n     </g>\r\n     <g id=\"text_19\">\r\n      <!-- 10 -->\r\n      <g transform=\"translate(20.878125 409.573108)scale(0.1 -0.1)\">\r\n       <use xlink:href=\"#DejaVuSans-49\"/>\r\n       <use x=\"63.623047\" xlink:href=\"#DejaVuSans-48\"/>\r\n      </g>\r\n     </g>\r\n    </g>\r\n    <g id=\"ytick_4\">\r\n     <g id=\"line2d_37\">\r\n      <path clip-path=\"url(#p8bd57fd73d)\" d=\"M 40.603125 325.701771 \r\nL 877.603125 325.701771 \r\n\" style=\"fill:none;stroke:#b0b0b0;stroke-linecap:square;stroke-width:0.8;\"/>\r\n     </g>\r\n     <g id=\"line2d_38\">\r\n      <g>\r\n       <use style=\"stroke:#000000;stroke-width:0.8;\" x=\"40.603125\" xlink:href=\"#me80832e96c\" y=\"325.701771\"/>\r\n      </g>\r\n     </g>\r\n     <g id=\"text_20\">\r\n      <!-- 15 -->\r\n      <g transform=\"translate(20.878125 329.50099)scale(0.1 -0.1)\">\r\n       <use xlink:href=\"#DejaVuSans-49\"/>\r\n       <use x=\"63.623047\" xlink:href=\"#DejaVuSans-53\"/>\r\n      </g>\r\n     </g>\r\n    </g>\r\n    <g id=\"ytick_5\">\r\n     <g id=\"line2d_39\">\r\n      <path clip-path=\"url(#p8bd57fd73d)\" d=\"M 40.603125 245.629653 \r\nL 877.603125 245.629653 \r\n\" style=\"fill:none;stroke:#b0b0b0;stroke-linecap:square;stroke-width:0.8;\"/>\r\n     </g>\r\n     <g id=\"line2d_40\">\r\n      <g>\r\n       <use style=\"stroke:#000000;stroke-width:0.8;\" x=\"40.603125\" xlink:href=\"#me80832e96c\" y=\"245.629653\"/>\r\n      </g>\r\n     </g>\r\n     <g id=\"text_21\">\r\n      <!-- 20 -->\r\n      <g transform=\"translate(20.878125 249.428872)scale(0.1 -0.1)\">\r\n       <use xlink:href=\"#DejaVuSans-50\"/>\r\n       <use x=\"63.623047\" xlink:href=\"#DejaVuSans-48\"/>\r\n      </g>\r\n     </g>\r\n    </g>\r\n    <g id=\"ytick_6\">\r\n     <g id=\"line2d_41\">\r\n      <path clip-path=\"url(#p8bd57fd73d)\" d=\"M 40.603125 165.557535 \r\nL 877.603125 165.557535 \r\n\" style=\"fill:none;stroke:#b0b0b0;stroke-linecap:square;stroke-width:0.8;\"/>\r\n     </g>\r\n     <g id=\"line2d_42\">\r\n      <g>\r\n       <use style=\"stroke:#000000;stroke-width:0.8;\" x=\"40.603125\" xlink:href=\"#me80832e96c\" y=\"165.557535\"/>\r\n      </g>\r\n     </g>\r\n     <g id=\"text_22\">\r\n      <!-- 25 -->\r\n      <g transform=\"translate(20.878125 169.356754)scale(0.1 -0.1)\">\r\n       <use xlink:href=\"#DejaVuSans-50\"/>\r\n       <use x=\"63.623047\" xlink:href=\"#DejaVuSans-53\"/>\r\n      </g>\r\n     </g>\r\n    </g>\r\n    <g id=\"ytick_7\">\r\n     <g id=\"line2d_43\">\r\n      <path clip-path=\"url(#p8bd57fd73d)\" d=\"M 40.603125 85.485417 \r\nL 877.603125 85.485417 \r\n\" style=\"fill:none;stroke:#b0b0b0;stroke-linecap:square;stroke-width:0.8;\"/>\r\n     </g>\r\n     <g id=\"line2d_44\">\r\n      <g>\r\n       <use style=\"stroke:#000000;stroke-width:0.8;\" x=\"40.603125\" xlink:href=\"#me80832e96c\" y=\"85.485417\"/>\r\n      </g>\r\n     </g>\r\n     <g id=\"text_23\">\r\n      <!-- 30 -->\r\n      <g transform=\"translate(20.878125 89.284636)scale(0.1 -0.1)\">\r\n       <use xlink:href=\"#DejaVuSans-51\"/>\r\n       <use x=\"63.623047\" xlink:href=\"#DejaVuSans-48\"/>\r\n      </g>\r\n     </g>\r\n    </g>\r\n    <g id=\"text_24\">\r\n     <!-- Percentage of Total Predictions -->\r\n     <defs>\r\n      <path d=\"M 19.671875 64.796875 \r\nL 19.671875 37.40625 \r\nL 32.078125 37.40625 \r\nQ 38.96875 37.40625 42.71875 40.96875 \r\nQ 46.484375 44.53125 46.484375 51.125 \r\nQ 46.484375 57.671875 42.71875 61.234375 \r\nQ 38.96875 64.796875 32.078125 64.796875 \r\nz\r\nM 9.8125 72.90625 \r\nL 32.078125 72.90625 \r\nQ 44.34375 72.90625 50.609375 67.359375 \r\nQ 56.890625 61.8125 56.890625 51.125 \r\nQ 56.890625 40.328125 50.609375 34.8125 \r\nQ 44.34375 29.296875 32.078125 29.296875 \r\nL 19.671875 29.296875 \r\nL 19.671875 0 \r\nL 9.8125 0 \r\nz\r\n\" id=\"DejaVuSans-80\"/>\r\n      <path d=\"M 48.78125 52.59375 \r\nL 48.78125 44.1875 \r\nQ 44.96875 46.296875 41.140625 47.34375 \r\nQ 37.3125 48.390625 33.40625 48.390625 \r\nQ 24.65625 48.390625 19.8125 42.84375 \r\nQ 14.984375 37.3125 14.984375 27.296875 \r\nQ 14.984375 17.28125 19.8125 11.734375 \r\nQ 24.65625 6.203125 33.40625 6.203125 \r\nQ 37.3125 6.203125 41.140625 7.25 \r\nQ 44.96875 8.296875 48.78125 10.40625 \r\nL 48.78125 2.09375 \r\nQ 45.015625 0.34375 40.984375 -0.53125 \r\nQ 36.96875 -1.421875 32.421875 -1.421875 \r\nQ 20.0625 -1.421875 12.78125 6.34375 \r\nQ 5.515625 14.109375 5.515625 27.296875 \r\nQ 5.515625 40.671875 12.859375 48.328125 \r\nQ 20.21875 56 33.015625 56 \r\nQ 37.15625 56 41.109375 55.140625 \r\nQ 45.0625 54.296875 48.78125 52.59375 \r\nz\r\n\" id=\"DejaVuSans-99\"/>\r\n      <path d=\"M 30.609375 48.390625 \r\nQ 23.390625 48.390625 19.1875 42.75 \r\nQ 14.984375 37.109375 14.984375 27.296875 \r\nQ 14.984375 17.484375 19.15625 11.84375 \r\nQ 23.34375 6.203125 30.609375 6.203125 \r\nQ 37.796875 6.203125 41.984375 11.859375 \r\nQ 46.1875 17.53125 46.1875 27.296875 \r\nQ 46.1875 37.015625 41.984375 42.703125 \r\nQ 37.796875 48.390625 30.609375 48.390625 \r\nz\r\nM 30.609375 56 \r\nQ 42.328125 56 49.015625 48.375 \r\nQ 55.71875 40.765625 55.71875 27.296875 \r\nQ 55.71875 13.875 49.015625 6.21875 \r\nQ 42.328125 -1.421875 30.609375 -1.421875 \r\nQ 18.84375 -1.421875 12.171875 6.21875 \r\nQ 5.515625 13.875 5.515625 27.296875 \r\nQ 5.515625 40.765625 12.171875 48.375 \r\nQ 18.84375 56 30.609375 56 \r\nz\r\n\" id=\"DejaVuSans-111\"/>\r\n      <path d=\"M 37.109375 75.984375 \r\nL 37.109375 68.5 \r\nL 28.515625 68.5 \r\nQ 23.6875 68.5 21.796875 66.546875 \r\nQ 19.921875 64.59375 19.921875 59.515625 \r\nL 19.921875 54.6875 \r\nL 34.71875 54.6875 \r\nL 34.71875 47.703125 \r\nL 19.921875 47.703125 \r\nL 19.921875 0 \r\nL 10.890625 0 \r\nL 10.890625 47.703125 \r\nL 2.296875 47.703125 \r\nL 2.296875 54.6875 \r\nL 10.890625 54.6875 \r\nL 10.890625 58.5 \r\nQ 10.890625 67.625 15.140625 71.796875 \r\nQ 19.390625 75.984375 28.609375 75.984375 \r\nz\r\n\" id=\"DejaVuSans-102\"/>\r\n      <path d=\"M 9.421875 75.984375 \r\nL 18.40625 75.984375 \r\nL 18.40625 0 \r\nL 9.421875 0 \r\nz\r\n\" id=\"DejaVuSans-108\"/>\r\n      <path d=\"M 9.421875 54.6875 \r\nL 18.40625 54.6875 \r\nL 18.40625 0 \r\nL 9.421875 0 \r\nz\r\nM 9.421875 75.984375 \r\nL 18.40625 75.984375 \r\nL 18.40625 64.59375 \r\nL 9.421875 64.59375 \r\nz\r\n\" id=\"DejaVuSans-105\"/>\r\n      <path d=\"M 44.28125 53.078125 \r\nL 44.28125 44.578125 \r\nQ 40.484375 46.53125 36.375 47.5 \r\nQ 32.28125 48.484375 27.875 48.484375 \r\nQ 21.1875 48.484375 17.84375 46.4375 \r\nQ 14.5 44.390625 14.5 40.28125 \r\nQ 14.5 37.15625 16.890625 35.375 \r\nQ 19.28125 33.59375 26.515625 31.984375 \r\nL 29.59375 31.296875 \r\nQ 39.15625 29.25 43.1875 25.515625 \r\nQ 47.21875 21.78125 47.21875 15.09375 \r\nQ 47.21875 7.46875 41.1875 3.015625 \r\nQ 35.15625 -1.421875 24.609375 -1.421875 \r\nQ 20.21875 -1.421875 15.453125 -0.5625 \r\nQ 10.6875 0.296875 5.421875 2 \r\nL 5.421875 11.28125 \r\nQ 10.40625 8.6875 15.234375 7.390625 \r\nQ 20.0625 6.109375 24.8125 6.109375 \r\nQ 31.15625 6.109375 34.5625 8.28125 \r\nQ 37.984375 10.453125 37.984375 14.40625 \r\nQ 37.984375 18.0625 35.515625 20.015625 \r\nQ 33.0625 21.96875 24.703125 23.78125 \r\nL 21.578125 24.515625 \r\nQ 13.234375 26.265625 9.515625 29.90625 \r\nQ 5.8125 33.546875 5.8125 39.890625 \r\nQ 5.8125 47.609375 11.28125 51.796875 \r\nQ 16.75 56 26.8125 56 \r\nQ 31.78125 56 36.171875 55.265625 \r\nQ 40.578125 54.546875 44.28125 53.078125 \r\nz\r\n\" id=\"DejaVuSans-115\"/>\r\n     </defs>\r\n     <g transform=\"translate(14.798438 372.269688)rotate(-90)scale(0.1 -0.1)\">\r\n      <use xlink:href=\"#DejaVuSans-80\"/>\r\n      <use x=\"60.255859\" xlink:href=\"#DejaVuSans-101\"/>\r\n      <use x=\"121.779297\" xlink:href=\"#DejaVuSans-114\"/>\r\n      <use x=\"162.861328\" xlink:href=\"#DejaVuSans-99\"/>\r\n      <use x=\"217.841797\" xlink:href=\"#DejaVuSans-101\"/>\r\n      <use x=\"279.365234\" xlink:href=\"#DejaVuSans-110\"/>\r\n      <use x=\"342.744141\" xlink:href=\"#DejaVuSans-116\"/>\r\n      <use x=\"381.953125\" xlink:href=\"#DejaVuSans-97\"/>\r\n      <use x=\"443.232422\" xlink:href=\"#DejaVuSans-103\"/>\r\n      <use x=\"506.708984\" xlink:href=\"#DejaVuSans-101\"/>\r\n      <use x=\"568.232422\" xlink:href=\"#DejaVuSans-32\"/>\r\n      <use x=\"600.019531\" xlink:href=\"#DejaVuSans-111\"/>\r\n      <use x=\"661.201172\" xlink:href=\"#DejaVuSans-102\"/>\r\n      <use x=\"696.40625\" xlink:href=\"#DejaVuSans-32\"/>\r\n      <use x=\"728.193359\" xlink:href=\"#DejaVuSans-84\"/>\r\n      <use x=\"789.011719\" xlink:href=\"#DejaVuSans-111\"/>\r\n      <use x=\"850.193359\" xlink:href=\"#DejaVuSans-116\"/>\r\n      <use x=\"889.402344\" xlink:href=\"#DejaVuSans-97\"/>\r\n      <use x=\"950.681641\" xlink:href=\"#DejaVuSans-108\"/>\r\n      <use x=\"978.464844\" xlink:href=\"#DejaVuSans-32\"/>\r\n      <use x=\"1010.251953\" xlink:href=\"#DejaVuSans-80\"/>\r\n      <use x=\"1070.539062\" xlink:href=\"#DejaVuSans-114\"/>\r\n      <use x=\"1111.621094\" xlink:href=\"#DejaVuSans-101\"/>\r\n      <use x=\"1173.144531\" xlink:href=\"#DejaVuSans-100\"/>\r\n      <use x=\"1236.621094\" xlink:href=\"#DejaVuSans-105\"/>\r\n      <use x=\"1264.404297\" xlink:href=\"#DejaVuSans-99\"/>\r\n      <use x=\"1319.384766\" xlink:href=\"#DejaVuSans-116\"/>\r\n      <use x=\"1358.59375\" xlink:href=\"#DejaVuSans-105\"/>\r\n      <use x=\"1386.376953\" xlink:href=\"#DejaVuSans-111\"/>\r\n      <use x=\"1447.558594\" xlink:href=\"#DejaVuSans-110\"/>\r\n      <use x=\"1510.9375\" xlink:href=\"#DejaVuSans-115\"/>\r\n     </g>\r\n    </g>\r\n   </g>\r\n   <g id=\"patch_18\">\r\n    <path d=\"M 40.603125 565.918125 \r\nL 40.603125 22.318125 \r\n\" style=\"fill:none;stroke:#000000;stroke-linecap:square;stroke-linejoin:miter;stroke-width:0.8;\"/>\r\n   </g>\r\n   <g id=\"patch_19\">\r\n    <path d=\"M 877.603125 565.918125 \r\nL 877.603125 22.318125 \r\n\" style=\"fill:none;stroke:#000000;stroke-linecap:square;stroke-linejoin:miter;stroke-width:0.8;\"/>\r\n   </g>\r\n   <g id=\"patch_20\">\r\n    <path d=\"M 40.603125 565.918125 \r\nL 877.603125 565.918125 \r\n\" style=\"fill:none;stroke:#000000;stroke-linecap:square;stroke-linejoin:miter;stroke-width:0.8;\"/>\r\n   </g>\r\n   <g id=\"patch_21\">\r\n    <path d=\"M 40.603125 22.318125 \r\nL 877.603125 22.318125 \r\n\" style=\"fill:none;stroke:#000000;stroke-linecap:square;stroke-linejoin:miter;stroke-width:0.8;\"/>\r\n   </g>\r\n   <g id=\"text_25\">\r\n    <!-- Percentage of Total Predictions for Each Target -->\r\n    <defs>\r\n     <path d=\"M 9.8125 72.90625 \r\nL 55.90625 72.90625 \r\nL 55.90625 64.59375 \r\nL 19.671875 64.59375 \r\nL 19.671875 43.015625 \r\nL 54.390625 43.015625 \r\nL 54.390625 34.71875 \r\nL 19.671875 34.71875 \r\nL 19.671875 8.296875 \r\nL 56.78125 8.296875 \r\nL 56.78125 0 \r\nL 9.8125 0 \r\nz\r\n\" id=\"DejaVuSans-69\"/>\r\n     <path d=\"M 54.890625 33.015625 \r\nL 54.890625 0 \r\nL 45.90625 0 \r\nL 45.90625 32.71875 \r\nQ 45.90625 40.484375 42.875 44.328125 \r\nQ 39.84375 48.1875 33.796875 48.1875 \r\nQ 26.515625 48.1875 22.3125 43.546875 \r\nQ 18.109375 38.921875 18.109375 30.90625 \r\nL 18.109375 0 \r\nL 9.078125 0 \r\nL 9.078125 75.984375 \r\nL 18.109375 75.984375 \r\nL 18.109375 46.1875 \r\nQ 21.34375 51.125 25.703125 53.5625 \r\nQ 30.078125 56 35.796875 56 \r\nQ 45.21875 56 50.046875 50.171875 \r\nQ 54.890625 44.34375 54.890625 33.015625 \r\nz\r\n\" id=\"DejaVuSans-104\"/>\r\n    </defs>\r\n    <g transform=\"translate(317.135625 16.318125)scale(0.12 -0.12)\">\r\n     <use xlink:href=\"#DejaVuSans-80\"/>\r\n     <use x=\"60.255859\" xlink:href=\"#DejaVuSans-101\"/>\r\n     <use x=\"121.779297\" xlink:href=\"#DejaVuSans-114\"/>\r\n     <use x=\"162.861328\" xlink:href=\"#DejaVuSans-99\"/>\r\n     <use x=\"217.841797\" xlink:href=\"#DejaVuSans-101\"/>\r\n     <use x=\"279.365234\" xlink:href=\"#DejaVuSans-110\"/>\r\n     <use x=\"342.744141\" xlink:href=\"#DejaVuSans-116\"/>\r\n     <use x=\"381.953125\" xlink:href=\"#DejaVuSans-97\"/>\r\n     <use x=\"443.232422\" xlink:href=\"#DejaVuSans-103\"/>\r\n     <use x=\"506.708984\" xlink:href=\"#DejaVuSans-101\"/>\r\n     <use x=\"568.232422\" xlink:href=\"#DejaVuSans-32\"/>\r\n     <use x=\"600.019531\" xlink:href=\"#DejaVuSans-111\"/>\r\n     <use x=\"661.201172\" xlink:href=\"#DejaVuSans-102\"/>\r\n     <use x=\"696.40625\" xlink:href=\"#DejaVuSans-32\"/>\r\n     <use x=\"728.193359\" xlink:href=\"#DejaVuSans-84\"/>\r\n     <use x=\"789.011719\" xlink:href=\"#DejaVuSans-111\"/>\r\n     <use x=\"850.193359\" xlink:href=\"#DejaVuSans-116\"/>\r\n     <use x=\"889.402344\" xlink:href=\"#DejaVuSans-97\"/>\r\n     <use x=\"950.681641\" xlink:href=\"#DejaVuSans-108\"/>\r\n     <use x=\"978.464844\" xlink:href=\"#DejaVuSans-32\"/>\r\n     <use x=\"1010.251953\" xlink:href=\"#DejaVuSans-80\"/>\r\n     <use x=\"1070.539062\" xlink:href=\"#DejaVuSans-114\"/>\r\n     <use x=\"1111.621094\" xlink:href=\"#DejaVuSans-101\"/>\r\n     <use x=\"1173.144531\" xlink:href=\"#DejaVuSans-100\"/>\r\n     <use x=\"1236.621094\" xlink:href=\"#DejaVuSans-105\"/>\r\n     <use x=\"1264.404297\" xlink:href=\"#DejaVuSans-99\"/>\r\n     <use x=\"1319.384766\" xlink:href=\"#DejaVuSans-116\"/>\r\n     <use x=\"1358.59375\" xlink:href=\"#DejaVuSans-105\"/>\r\n     <use x=\"1386.376953\" xlink:href=\"#DejaVuSans-111\"/>\r\n     <use x=\"1447.558594\" xlink:href=\"#DejaVuSans-110\"/>\r\n     <use x=\"1510.9375\" xlink:href=\"#DejaVuSans-115\"/>\r\n     <use x=\"1563.037109\" xlink:href=\"#DejaVuSans-32\"/>\r\n     <use x=\"1594.824219\" xlink:href=\"#DejaVuSans-102\"/>\r\n     <use x=\"1630.029297\" xlink:href=\"#DejaVuSans-111\"/>\r\n     <use x=\"1691.210938\" xlink:href=\"#DejaVuSans-114\"/>\r\n     <use x=\"1732.324219\" xlink:href=\"#DejaVuSans-32\"/>\r\n     <use x=\"1764.111328\" xlink:href=\"#DejaVuSans-69\"/>\r\n     <use x=\"1827.294922\" xlink:href=\"#DejaVuSans-97\"/>\r\n     <use x=\"1888.574219\" xlink:href=\"#DejaVuSans-99\"/>\r\n     <use x=\"1943.554688\" xlink:href=\"#DejaVuSans-104\"/>\r\n     <use x=\"2006.933594\" xlink:href=\"#DejaVuSans-32\"/>\r\n     <use x=\"2038.720703\" xlink:href=\"#DejaVuSans-84\"/>\r\n     <use x=\"2099.554688\" xlink:href=\"#DejaVuSans-97\"/>\r\n     <use x=\"2160.833984\" xlink:href=\"#DejaVuSans-114\"/>\r\n     <use x=\"2201.931641\" xlink:href=\"#DejaVuSans-103\"/>\r\n     <use x=\"2265.408203\" xlink:href=\"#DejaVuSans-101\"/>\r\n     <use x=\"2326.931641\" xlink:href=\"#DejaVuSans-116\"/>\r\n    </g>\r\n   </g>\r\n  </g>\r\n </g>\r\n <defs>\r\n  <clipPath id=\"p8bd57fd73d\">\r\n   <rect height=\"543.6\" width=\"837\" x=\"40.603125\" y=\"22.318125\"/>\r\n  </clipPath>\r\n </defs>\r\n</svg>\r\n",
      "image/png": "[encoded data removed]"
     },
     "metadata": {
      "needs_background": "light"
     }
    }
   ],
   "source": [
    "indices = np.arange(15)\n",
    "plt.figure(figsize=(15, 10))\n",
    "plt.bar(indices, dfy_counts, color=\"m\")\n",
    "plt.grid()\n",
    "plt.xlabel(\"Target Index\")\n",
    "plt.xticks(indices)\n",
    "plt.ylabel(\"Percentage of Total Predictions\")\n",
    "plt.title(\"Percentage of Total Predictions for Each Target\")\n",
    "plt.show()"
   ]
  },
  {
   "source": [
    "Clearly, the targets that are data must predict are unbalanced. How we deal with this unbalanced dataset will determine the strengths and weaknesses of our model. \n",
    "\n",
    "In our context we are trying to create a model that is able to predict the salary bin of data scientists from all over the world. We can choose to have a model that prioritizes accuracy or a model that is more balanced that prioritizes recall and precision. Given that a data scientist's salary is more likely to fall into the first few bins (https://datasciencedegree.wisconsin.edu/data-science/data-scientist-salary/#:~:text=Despite%20a%20recent%20influx%20of,median%20salary%20rises%20to%20%24195%2C000.), we will select a model that prioritizes accuracy as opposed to F-score. \n",
    "\n",
    "Thus, we will consider the average accuracy of each model and the variance of those accuracies using 10-fold cross-validation. We will also use the F-score of each model to characterize precision and recall. The model that minimizes the variance between the accuracies and minimizes the bias (thus, maximizing the average accuracy) will be chosen. \n",
    "\n",
    "All of the results are compiled into a model results dictionary and they are displayed after each 10-fold cross-validation is complete. Grid-search was conducted using several different regularization constants, all of the possible solvers obtained from the SkLearn logistic regression documentation, l1 & l2 regularization, and balanced versus None class weights. Scaling of the features was implemented because linear models benefit from feature scaling. The results were compiled into a model results dictionary and displayed below:"
   ],
   "cell_type": "markdown",
   "metadata": {}
  },
  {
   "cell_type": "code",
   "execution_count": 139,
   "metadata": {
    "tags": []
   },
   "outputs": [],
   "source": [
    "# scaler = StandardScaler()\n",
    "# kfold = KFold(n_splits=10)\n",
    "# kfold.get_n_splits(X_train)\n",
    "\n",
    "# best_model = None\n",
    "# best_params = {}\n",
    "# best_accuracy = 0\n",
    "# best_std = 0\n",
    "\n",
    "# model_results_dict = dict()\n",
    "# model_index = 0\n",
    "\n",
    "# for C in [0.001, 0.01, 0.05, 0.1, 0.25, 0.5, 1, 5, 10, 100]:\n",
    "#     for solver in ['newton-cg', 'lbfgs', 'liblinear', 'sag', 'saga']:\n",
    "#         for regularization_type in [\"l1\", \"l2\"]:\n",
    "#             for c_weight in [None, \"balanced\"]:\n",
    "#                 if  regularization_type == \"l1\" and solver in set(['newton-cg', 'sag', 'lbfgs']):\n",
    "#                     continue\n",
    "                \n",
    "#                 scaler = StandardScaler()\n",
    "#                 model = LogisticRegression(C=C, solver=solver, penalty=regularization_type, class_weight=c_weight)\n",
    "                \n",
    "#                 accuracy = np.zeros(10)\n",
    "#                 log_losses = np.zeros(10)\n",
    "#                 f1_micros = np.zeros(10)\n",
    "#                 f1_macros = np.zeros(10)\n",
    "\n",
    "#                 np_idx = 0\n",
    "                \n",
    "#                 for train_idx, test_idx in kfold.split(X_train):\n",
    "#                     k_X_train, k_X_test = X_train.values[train_idx], X_train.values[test_idx]\n",
    "#                     k_y_train, k_y_test = y_train.values[train_idx], y_train.values[test_idx]\n",
    "\n",
    "#                     k_X_train = scaler.fit_transform(k_X_train)\n",
    "#                     k_X_test = scaler.transform(k_X_test)\n",
    "\n",
    "#                     scaler.fit_transform(k_X_train)\n",
    "#                     model.fit(scaler.transform(k_X_train), k_y_train)\n",
    "\n",
    "#                     probabilistic_predictions = model.predict_proba(k_X_test)\n",
    "#                     predictions = model.predict(k_X_test)\n",
    "\n",
    "#                     TN = confusion_matrix(k_y_test, predictions)[0][0]\n",
    "#                     FP = confusion_matrix(k_y_test, predictions)[0][1]\n",
    "#                     FN = confusion_matrix(k_y_test, predictions)[1][0]\n",
    "#                     TP = confusion_matrix(k_y_test, predictions)[1][1]\n",
    "#                     total = TN + FP + FN + TP\n",
    "\n",
    "\n",
    "#                     # Performance Metrics:\n",
    "#                     log_loss = sklearn.metrics.log_loss(k_y_test, probabilistic_predictions, normalize=True)\n",
    "#                     f1_micro = sklearn.metrics.f1_score(k_y_test, predictions, average=\"micro\")\n",
    "#                     f1_macro = sklearn.metrics.f1_score(k_y_test, predictions, average=\"macro\")\n",
    "\n",
    "#                     log_losses[np_idx] = log_loss\n",
    "#                     f1_micros[np_idx] = f1_micro\n",
    "#                     f1_macros[np_idx] = f1_macro\n",
    "\n",
    "#                     ACC = (TP + TN) / float(total)\n",
    "\n",
    "#                     accuracy[np_idx] = ACC*100\n",
    "\n",
    "#                     np_idx += 1\n",
    "\n",
    "                    \n",
    "                \n",
    "#                 average_accuracy = round(np.mean(accuracy), 3)\n",
    "#                 accuracy_std_dev = round(np.std(accuracy), 3)\n",
    "#                 accuracy_variance = round(np.square(accuracy_std_dev), 3)\n",
    "                \n",
    "#                 average_log_loss = round(np.mean(log_losses), 3)\n",
    "#                 average_f1_micro = round(np.mean(f1_micros), 3)\n",
    "#                 average_f1_macro = round(np.mean(f1_macros), 3)\n",
    "\n",
    "#                 model_results_dict[model_index] = {\"log-loss\": average_log_loss, \"f1-micro\": average_f1_micro, \"f1-macro\": average_f1_macro, \"accuracy\": average_accuracy, \"variance\": accuracy_variance, \"C\": C, \"solver\": solver, \"class-weight\": c_weight, \"penalty\": regularization_type}\n",
    "#                 model_index += 1\n",
    "\n",
    "#                 print(\"\\nC = {}, Solver = {}, Class-Weight = {}, Penalty = {}\".format(C, solver, c_weight, regularization_type))\n",
    "#                 print(\"Average Accuracy: {}%\".format(average_accuracy))\n",
    "#                 print(\"Average Log Loss: {}\".format(average_log_loss))\n",
    "#                 print(\"Average F1-Micro: {}\".format(average_f1_micro))\n",
    "#                 print(\"Average F1-Macro: {}\".format(average_f1_macro))\n",
    "#                 print(\"Accuracy Standard Deviation: {}\".format(accuracy_std_dev))\n",
    "#                 print(\"Accuracy Variance: {}\".format(accuracy_variance))\n",
    "\n",
    "\n",
    "\n",
    "#                 if np.mean(accuracy) > best_accuracy:\n",
    "#                     best_accuracy = np.mean(accuracy)\n",
    "#                     best_model = model_results_dict[model_index-1]\n",
    "# print(\"\\n\\n\", best_model)"
   ]
  },
  {
   "cell_type": "code",
   "execution_count": 140,
   "metadata": {},
   "outputs": [],
   "source": [
    "best_model = {'log-loss': 2.493, 'f1-micro': 0.327, 'f1-macro': 0.13, 'accuracy': 75.841, 'variance': 2.582, 'C': 0.001, 'solver': 'liblinear', 'class-weight': 'balanced', 'penalty': 'l2'}\n",
    "\n",
    "# alternatives:\n",
    "# C = 0.001, Solver = newton-cg, Class-Weight = None, Penalty = l2\n",
    "# Average Accuracy: 74.883%\n",
    "# Average Log Loss: 2.081\n",
    "# Average F1-Micro: 0.344\n",
    "# Average F1-Macro: 0.074\n",
    "# Accuracy Standard Deviation: 1.469\n",
    "# Accuracy Variance: 2.158\n",
    "\n",
    "# C = 0.001, Solver = lbfgs, Class-Weight = None, Penalty = l2\n",
    "# Average Accuracy: 74.883%\n",
    "# Average Log Loss: 2.081\n",
    "# Average F1-Micro: 0.344\n",
    "# Average F1-Macro: 0.074\n",
    "# Accuracy Standard Deviation: 1.469\n",
    "# Accuracy Variance: 2.158\n",
    "\n",
    "# C = 0.001, Solver = sag, Class-Weight = None, Penalty = l2\n",
    "# Average Accuracy: 74.883%\n",
    "# Average Log Loss: 2.081\n",
    "# Average F1-Micro: 0.344\n",
    "# Average F1-Macro: 0.074\n",
    "# Accuracy Standard Deviation: 1.469\n",
    "# Accuracy Variance: 2.158\n",
    "\n",
    "# C = 0.001, Solver = saga, Class-Weight = None, Penalty = l2\n",
    "# Average Accuracy: 74.883%\n",
    "# Average Log Loss: 2.081\n",
    "# Average F1-Micro: 0.344\n",
    "# Average F1-Macro: 0.074\n",
    "# Accuracy Standard Deviation: 1.469\n",
    "# Accuracy Variance: 2.158\n",
    "\n",
    "# C = 0.01, Solver = liblinear, Class-Weight = balanced, Penalty = l1\n",
    "# Average Accuracy: 75.65%\n",
    "# Average Log Loss: 2.355\n",
    "# Average F1-Micro: 0.333\n",
    "# Average F1-Macro: 0.103\n",
    "# Accuracy Standard Deviation: 1.287\n",
    "# Accuracy Variance: 1.656\n",
    "\n",
    "# C = 0.01, Solver = saga, Class-Weight = None, Penalty = l1\n",
    "# Average Accuracy: 74.551%\n",
    "# Average Log Loss: 2.078\n",
    "# Average F1-Micro: 0.343\n",
    "# Average F1-Macro: 0.074\n",
    "# Accuracy Standard Deviation: 1.41\n",
    "# Accuracy Variance: 1.988\n",
    "\n",
    "# C = 0.05, Solver = liblinear, Class-Weight = None, Penalty = l2\n",
    "# Average Accuracy: 75.102%\n",
    "# Average Log Loss: 2.068\n",
    "# Average F1-Micro: 0.353\n",
    "# Average F1-Macro: 0.132\n",
    "# Accuracy Standard Deviation: 1.405\n",
    "# Accuracy Variance: 1.974\n",
    "\n",
    "# C = 0.05, Solver = saga, Class-Weight = None, Penalty = l1\n",
    "# Average Accuracy: 75.216%\n",
    "# Average Log Loss: 1.987\n",
    "# Average F1-Micro: 0.359\n",
    "# Average F1-Macro: 0.12\n",
    "# Accuracy Standard Deviation: 1.377\n",
    "# Accuracy Variance: 1.896"
   ]
  },
  {
   "source": [
    "### Model Selection Discussion\n",
    "The model that our grid search algorithm recommended has an average accuracy of 75.841% and a variance between the 10-fold cross-validation implementations of 2.582. This model uses a C value of 0.001, a liblinear solver, a balanced class-weight setting, and has an l2 regularization penalty. \n",
    "\n",
    "This model was selected by our algorithm because it minimized the bias metric and maximized average accuracy of the model on the training set through 10-fold cross-validation. Bias, however, isn't the only metric that we should consider when selecting a model. We should also consider variance. Variance speaks to how well the model can generalize. We want to select the model that minimizes bias and variance the best.\n",
    "\n",
    "The alternate models that had comparable accuracy but less bias are included above. From these models we reason that the model with a C of 0.01, a liblinear solver, a balanced class-weight setting, and an l1 penalty does better than our recommended optimal model because it has a similar average accuracy of 75.65% but a variance of 1.656, which is much lower than the 2.582 variance returned by our optimal model. Thus, this is the model that we will select for testing.\n",
    "\n"
   ],
   "cell_type": "markdown",
   "metadata": {}
  },
  {
   "cell_type": "code",
   "execution_count": 141,
   "metadata": {},
   "outputs": [
    {
     "output_type": "stream",
     "name": "stdout",
     "text": [
      "log-loss: 2.355\nf1-micro: 0.103\nf1-macro: 0.103\naccuracy: 75.65\nvariance: 1.656\nC: 0.01\nsolver: liblinear\nclass-weight: balanced\npenalty: l1\n"
     ]
    }
   ],
   "source": [
    "# C = 0.01, Solver = liblinear, Class-Weight = balanced, Penalty = l1\n",
    "# Average Accuracy: 75.65%\n",
    "# Average Log Loss: 2.355\n",
    "# Average F1-Micro: 0.333\n",
    "# Average F1-Macro: 0.103\n",
    "# Accuracy Standard Deviation: 1.287\n",
    "# Accuracy Variance: 1.656\n",
    "best_model = {'log-loss': 2.355, 'f1-micro': 0.103, 'f1-macro': 0.103, 'accuracy': 75.65, 'variance': 1.656, 'C': 0.01, 'solver': 'liblinear', 'class-weight': 'balanced', 'penalty': 'l1'}\n",
    "for (key, value) in best_model.items():\n",
    "    print(\"{}: {}\".format(key, value))"
   ]
  },
  {
   "source": [
    "\n",
    "## Testing Our Optimal Model\n",
    "### Model Testing\n",
    "The code snippet below trains the optimal model using the training dataset. Then, it tests the model using the training dataset and the testing dataset. "
   ],
   "cell_type": "markdown",
   "metadata": {}
  },
  {
   "cell_type": "code",
   "execution_count": 143,
   "metadata": {},
   "outputs": [
    {
     "output_type": "stream",
     "name": "stdout",
     "text": [
      "{'log-loss': 2.355, 'f1-micro': 0.103, 'f1-macro': 0.103, 'accuracy': 75.65, 'variance': 1.656, 'C': 0.01, 'solver': 'liblinear', 'class-weight': 'balanced', 'penalty': 'l1'}\n",
      "Training Accuracy = 75.418%\n",
      "Testing Accuracy = 71.3%\n"
     ]
    }
   ],
   "source": [
    "print(best_model)\n",
    "scaler = StandardScaler()\n",
    "model = LogisticRegression(C=1, solver=best_model[\"solver\"], penalty=best_model[\"penalty\"], class_weight=best_model[\"class-weight\"], multi_class=\"auto\")\n",
    "\n",
    "scaler.fit_transform(X_train.astype(float))\n",
    "model.fit(scaler.transform(X_train.astype(float)), y_train)\n",
    "\n",
    "predictions = model.predict(scaler.transform(X_train.astype(float)))\n",
    "\n",
    "TN = confusion_matrix(y_train, predictions)[0][0]\n",
    "FP = confusion_matrix(y_train, predictions)[0][1]\n",
    "FN = confusion_matrix(y_train, predictions)[1][0]\n",
    "TP = confusion_matrix(y_train, predictions)[1][1]\n",
    "total = TN + FP + FN + TP\n",
    "\n",
    "ACC = (TP + TN) / float(total)\n",
    "\n",
    "print(\"Training Accuracy = {}%\".format(round(ACC*100, 3)))\n",
    "\n",
    "scaler.fit_transform(X_test.astype(float))\n",
    "predictions = model.predict(scaler.transform(X_test.astype(float)))\n",
    "\n",
    "TN = confusion_matrix(y_test, predictions)[0][0]\n",
    "FP = confusion_matrix(y_test, predictions)[0][1]\n",
    "FN = confusion_matrix(y_test, predictions)[1][0]\n",
    "TP = confusion_matrix(y_test, predictions)[1][1]\n",
    "total = TN + FP + FN + TP\n",
    "\n",
    "ACC = (TP + TN) / float(total)\n",
    "\n",
    "print(\"Testing Accuracy = {}%\".format(round(ACC*100, 3)))\n"
   ]
  },
  {
   "source": [
    "We can see from the above snippet that we obtained a training accuracy of 75.418% and a testing accuracy of 71.3%. Since we trained our model using the training data, we expect our training accuracy to be much higher than the accuracy obtained when predicting on the holdout testing dataset. To investigate more into the generalizability of our model, we will investigate the bias-variance trade-off in the next section.\n",
    "\n",
    "### Bias-Variance Tradeoff\n",
    "Now that we have selected a model and tested this model on the testing dataset, I will determine and then comment on whether my model is overfitting or underfitting. To do this, I will train the model using different fractions of the training dataset. For each fraction I will record the training accuracy using the entire training dataset. I will also record the testing accuracy using the entire testing dataset. Then, I will plot both the training and testing accuracies as a function of the data fraction used to train that model."
   ],
   "cell_type": "markdown",
   "metadata": {}
  },
  {
   "cell_type": "code",
   "execution_count": 144,
   "metadata": {},
   "outputs": [
    {
     "output_type": "stream",
     "name": "stdout",
     "text": [
      "Training Accuracy = 70.419%\n",
      "Testing Accuracy = 68.545%\n",
      "\n",
      "Training Accuracy = 74.67%\n",
      "Testing Accuracy = 71.847%\n",
      "\n",
      "Training Accuracy = 74.538%\n",
      "Testing Accuracy = 71.145%\n",
      "\n",
      "Training Accuracy = 74.677%\n",
      "Testing Accuracy = 72.893%\n",
      "\n",
      "Training Accuracy = 73.964%\n",
      "Testing Accuracy = 71.684%\n",
      "\n",
      "Training Accuracy = 75.147%\n",
      "Testing Accuracy = 72.008%\n",
      "\n",
      "Training Accuracy = 74.794%\n",
      "Testing Accuracy = 72.396%\n",
      "\n",
      "Training Accuracy = 74.86%\n",
      "Testing Accuracy = 72.553%\n",
      "\n",
      "Training Accuracy = 75.897%\n",
      "Testing Accuracy = 72.799%\n",
      "\n",
      "Training Accuracy = 75.805%\n",
      "Testing Accuracy = 72.989%\n",
      "\n",
      "Training Accuracy = 75.913%\n",
      "Testing Accuracy = 72.789%\n",
      "\n",
      "Training Accuracy = 75.539%\n",
      "Testing Accuracy = 72.524%\n",
      "\n",
      "Training Accuracy = 75.384%\n",
      "Testing Accuracy = 73.084%\n",
      "\n",
      "Training Accuracy = 75.435%\n",
      "Testing Accuracy = 72.433%\n",
      "\n",
      "Training Accuracy = 75.931%\n",
      "Testing Accuracy = 72.46%\n",
      "\n",
      "Training Accuracy = 75.374%\n",
      "Testing Accuracy = 73.088%\n",
      "\n",
      "Training Accuracy = 75.377%\n",
      "Testing Accuracy = 72.493%\n",
      "\n",
      "Training Accuracy = 75.248%\n",
      "Testing Accuracy = 71.835%\n",
      "\n",
      "Training Accuracy = 75.19%\n",
      "Testing Accuracy = 71.159%\n",
      "\n",
      "Training Accuracy = 75.418%\n",
      "Testing Accuracy = 71.274%\n",
      "\n",
      "<bound method BaseEstimator.get_params of LogisticRegression(C=1, class_weight='balanced', dual=False, fit_intercept=True,\n",
      "                   intercept_scaling=1, l1_ratio=None, max_iter=100,\n",
      "                   multi_class='auto', n_jobs=None, penalty='l1',\n",
      "                   random_state=None, solver='liblinear', tol=0.0001, verbose=0,\n",
      "                   warm_start=False)>\n"
     ]
    }
   ],
   "source": [
    "training_accuracies = []\n",
    "testing_accuracies = []\n",
    "training_dataset_fractions = [x/100 for x in range(5, 101, 5)]\n",
    "for training_dataset_fraction in training_dataset_fractions:\n",
    "    fraction_length = round(training_dataset_fraction*X_train.shape[0])\n",
    "    X_train_fraction = X_train[:fraction_length]\n",
    "    y_train_fraction = y_train[:fraction_length]\n",
    "\n",
    "    scaler = StandardScaler()\n",
    "    model = LogisticRegression(C=1, solver=best_model[\"solver\"], penalty=best_model[\"penalty\"], class_weight=best_model[\"class-weight\"], multi_class=\"auto\")\n",
    "\n",
    "    scaler.fit_transform(X_train_fraction.astype(float))\n",
    "    model.fit(scaler.transform(X_train_fraction.astype(float)), y_train_fraction)\n",
    "    predictions = model.predict(scaler.transform(X_train.astype(float)))\n",
    "\n",
    "\n",
    "    TN = confusion_matrix(y_train, predictions)[0][0]\n",
    "    FP = confusion_matrix(y_train, predictions)[0][1]\n",
    "    FN = confusion_matrix(y_train, predictions)[1][0]\n",
    "    TP = confusion_matrix(y_train, predictions)[1][1]\n",
    "    total = TN + FP + FN + TP   \n",
    "\n",
    "    training_acc = round((TP + TN) / float(total) * 100, 3)\n",
    "\n",
    "    print(\"Training Accuracy = {}%\".format(training_acc))\n",
    "\n",
    "    training_accuracies.append(training_acc)\n",
    "\n",
    "    scaler.fit_transform(X_test.astype(float))\n",
    "    predictions = model.predict(scaler.transform(X_test.astype(float)))\n",
    "\n",
    "    TN = confusion_matrix(y_test, predictions)[0][0]\n",
    "    FP = confusion_matrix(y_test, predictions)[0][1]\n",
    "    FN = confusion_matrix(y_test, predictions)[1][0]\n",
    "    TP = confusion_matrix(y_test, predictions)[1][1]\n",
    "    total = TN + FP + FN + TP\n",
    "\n",
    "\n",
    "    testing_acc = round((TP + TN) / float(total) * 100, 3)\n",
    "    print(\"Testing Accuracy = {}%\\n\".format(testing_acc))\n",
    "\n",
    "    testing_accuracies.append(testing_acc)\n",
    "print(model.get_params)     \n"
   ]
  },
  {
   "cell_type": "code",
   "execution_count": 145,
   "metadata": {},
   "outputs": [
    {
     "output_type": "display_data",
     "data": {
      "text/plain": "<Figure size 432x288 with 1 Axes>",
      "image/svg+xml": "<?xml version=\"1.0\" encoding=\"utf-8\" standalone=\"no\"?>\r\n<!DOCTYPE svg PUBLIC \"-//W3C//DTD SVG 1.1//EN\"\r\n  \"http://www.w3.org/Graphics/SVG/1.1/DTD/svg11.dtd\">\r\n<!-- Created with matplotlib (https://matplotlib.org/) -->\r\n<svg height=\"277.314375pt\" version=\"1.1\" viewBox=\"0 0 460.37625 277.314375\" width=\"460.37625pt\" xmlns=\"http://www.w3.org/2000/svg\" xmlns:xlink=\"http://www.w3.org/1999/xlink\">\r\n <defs>\r\n  <style type=\"text/css\">\r\n*{stroke-linecap:butt;stroke-linejoin:round;}\r\n  </style>\r\n </defs>\r\n <g id=\"figure_1\">\r\n  <g id=\"patch_1\">\r\n   <path d=\"M 0 277.314375 \r\nL 460.37625 277.314375 \r\nL 460.37625 0 \r\nL 0 0 \r\nz\r\n\" style=\"fill:none;\"/>\r\n  </g>\r\n  <g id=\"axes_1\">\r\n   <g id=\"patch_2\">\r\n    <path d=\"M 62.788125 239.758125 \r\nL 397.588125 239.758125 \r\nL 397.588125 22.318125 \r\nL 62.788125 22.318125 \r\nz\r\n\" style=\"fill:#ffffff;\"/>\r\n   </g>\r\n   <g id=\"matplotlib.axis_1\">\r\n    <g id=\"xtick_1\">\r\n     <g id=\"line2d_1\">\r\n      <path clip-path=\"url(#p11c0e85b98)\" d=\"M 126.063723 239.758125 \r\nL 126.063723 22.318125 \r\n\" style=\"fill:none;stroke:#b0b0b0;stroke-linecap:square;stroke-width:0.8;\"/>\r\n     </g>\r\n     <g id=\"line2d_2\">\r\n      <defs>\r\n       <path d=\"M 0 0 \r\nL 0 3.5 \r\n\" id=\"m49b25f46e1\" style=\"stroke:#000000;stroke-width:0.8;\"/>\r\n      </defs>\r\n      <g>\r\n       <use style=\"stroke:#000000;stroke-width:0.8;\" x=\"126.063723\" xlink:href=\"#m49b25f46e1\" y=\"239.758125\"/>\r\n      </g>\r\n     </g>\r\n     <g id=\"text_1\">\r\n      <!-- 0.2 -->\r\n      <defs>\r\n       <path d=\"M 31.78125 66.40625 \r\nQ 24.171875 66.40625 20.328125 58.90625 \r\nQ 16.5 51.421875 16.5 36.375 \r\nQ 16.5 21.390625 20.328125 13.890625 \r\nQ 24.171875 6.390625 31.78125 6.390625 \r\nQ 39.453125 6.390625 43.28125 13.890625 \r\nQ 47.125 21.390625 47.125 36.375 \r\nQ 47.125 51.421875 43.28125 58.90625 \r\nQ 39.453125 66.40625 31.78125 66.40625 \r\nz\r\nM 31.78125 74.21875 \r\nQ 44.046875 74.21875 50.515625 64.515625 \r\nQ 56.984375 54.828125 56.984375 36.375 \r\nQ 56.984375 17.96875 50.515625 8.265625 \r\nQ 44.046875 -1.421875 31.78125 -1.421875 \r\nQ 19.53125 -1.421875 13.0625 8.265625 \r\nQ 6.59375 17.96875 6.59375 36.375 \r\nQ 6.59375 54.828125 13.0625 64.515625 \r\nQ 19.53125 74.21875 31.78125 74.21875 \r\nz\r\n\" id=\"DejaVuSans-48\"/>\r\n       <path d=\"M 10.6875 12.40625 \r\nL 21 12.40625 \r\nL 21 0 \r\nL 10.6875 0 \r\nz\r\n\" id=\"DejaVuSans-46\"/>\r\n       <path d=\"M 19.1875 8.296875 \r\nL 53.609375 8.296875 \r\nL 53.609375 0 \r\nL 7.328125 0 \r\nL 7.328125 8.296875 \r\nQ 12.9375 14.109375 22.625 23.890625 \r\nQ 32.328125 33.6875 34.8125 36.53125 \r\nQ 39.546875 41.84375 41.421875 45.53125 \r\nQ 43.3125 49.21875 43.3125 52.78125 \r\nQ 43.3125 58.59375 39.234375 62.25 \r\nQ 35.15625 65.921875 28.609375 65.921875 \r\nQ 23.96875 65.921875 18.8125 64.3125 \r\nQ 13.671875 62.703125 7.8125 59.421875 \r\nL 7.8125 69.390625 \r\nQ 13.765625 71.78125 18.9375 73 \r\nQ 24.125 74.21875 28.421875 74.21875 \r\nQ 39.75 74.21875 46.484375 68.546875 \r\nQ 53.21875 62.890625 53.21875 53.421875 \r\nQ 53.21875 48.921875 51.53125 44.890625 \r\nQ 49.859375 40.875 45.40625 35.40625 \r\nQ 44.1875 33.984375 37.640625 27.21875 \r\nQ 31.109375 20.453125 19.1875 8.296875 \r\nz\r\n\" id=\"DejaVuSans-50\"/>\r\n      </defs>\r\n      <g transform=\"translate(118.112161 254.356562)scale(0.1 -0.1)\">\r\n       <use xlink:href=\"#DejaVuSans-48\"/>\r\n       <use x=\"63.623047\" xlink:href=\"#DejaVuSans-46\"/>\r\n       <use x=\"95.410156\" xlink:href=\"#DejaVuSans-50\"/>\r\n      </g>\r\n     </g>\r\n    </g>\r\n    <g id=\"xtick_2\">\r\n     <g id=\"line2d_3\">\r\n      <path clip-path=\"url(#p11c0e85b98)\" d=\"M 190.140278 239.758125 \r\nL 190.140278 22.318125 \r\n\" style=\"fill:none;stroke:#b0b0b0;stroke-linecap:square;stroke-width:0.8;\"/>\r\n     </g>\r\n     <g id=\"line2d_4\">\r\n      <g>\r\n       <use style=\"stroke:#000000;stroke-width:0.8;\" x=\"190.140278\" xlink:href=\"#m49b25f46e1\" y=\"239.758125\"/>\r\n      </g>\r\n     </g>\r\n     <g id=\"text_2\">\r\n      <!-- 0.4 -->\r\n      <defs>\r\n       <path d=\"M 37.796875 64.3125 \r\nL 12.890625 25.390625 \r\nL 37.796875 25.390625 \r\nz\r\nM 35.203125 72.90625 \r\nL 47.609375 72.90625 \r\nL 47.609375 25.390625 \r\nL 58.015625 25.390625 \r\nL 58.015625 17.1875 \r\nL 47.609375 17.1875 \r\nL 47.609375 0 \r\nL 37.796875 0 \r\nL 37.796875 17.1875 \r\nL 4.890625 17.1875 \r\nL 4.890625 26.703125 \r\nz\r\n\" id=\"DejaVuSans-52\"/>\r\n      </defs>\r\n      <g transform=\"translate(182.188716 254.356562)scale(0.1 -0.1)\">\r\n       <use xlink:href=\"#DejaVuSans-48\"/>\r\n       <use x=\"63.623047\" xlink:href=\"#DejaVuSans-46\"/>\r\n       <use x=\"95.410156\" xlink:href=\"#DejaVuSans-52\"/>\r\n      </g>\r\n     </g>\r\n    </g>\r\n    <g id=\"xtick_3\">\r\n     <g id=\"line2d_5\">\r\n      <path clip-path=\"url(#p11c0e85b98)\" d=\"M 254.216833 239.758125 \r\nL 254.216833 22.318125 \r\n\" style=\"fill:none;stroke:#b0b0b0;stroke-linecap:square;stroke-width:0.8;\"/>\r\n     </g>\r\n     <g id=\"line2d_6\">\r\n      <g>\r\n       <use style=\"stroke:#000000;stroke-width:0.8;\" x=\"254.216833\" xlink:href=\"#m49b25f46e1\" y=\"239.758125\"/>\r\n      </g>\r\n     </g>\r\n     <g id=\"text_3\">\r\n      <!-- 0.6 -->\r\n      <defs>\r\n       <path d=\"M 33.015625 40.375 \r\nQ 26.375 40.375 22.484375 35.828125 \r\nQ 18.609375 31.296875 18.609375 23.390625 \r\nQ 18.609375 15.53125 22.484375 10.953125 \r\nQ 26.375 6.390625 33.015625 6.390625 \r\nQ 39.65625 6.390625 43.53125 10.953125 \r\nQ 47.40625 15.53125 47.40625 23.390625 \r\nQ 47.40625 31.296875 43.53125 35.828125 \r\nQ 39.65625 40.375 33.015625 40.375 \r\nz\r\nM 52.59375 71.296875 \r\nL 52.59375 62.3125 \r\nQ 48.875 64.0625 45.09375 64.984375 \r\nQ 41.3125 65.921875 37.59375 65.921875 \r\nQ 27.828125 65.921875 22.671875 59.328125 \r\nQ 17.53125 52.734375 16.796875 39.40625 \r\nQ 19.671875 43.65625 24.015625 45.921875 \r\nQ 28.375 48.1875 33.59375 48.1875 \r\nQ 44.578125 48.1875 50.953125 41.515625 \r\nQ 57.328125 34.859375 57.328125 23.390625 \r\nQ 57.328125 12.15625 50.6875 5.359375 \r\nQ 44.046875 -1.421875 33.015625 -1.421875 \r\nQ 20.359375 -1.421875 13.671875 8.265625 \r\nQ 6.984375 17.96875 6.984375 36.375 \r\nQ 6.984375 53.65625 15.1875 63.9375 \r\nQ 23.390625 74.21875 37.203125 74.21875 \r\nQ 40.921875 74.21875 44.703125 73.484375 \r\nQ 48.484375 72.75 52.59375 71.296875 \r\nz\r\n\" id=\"DejaVuSans-54\"/>\r\n      </defs>\r\n      <g transform=\"translate(246.265271 254.356562)scale(0.1 -0.1)\">\r\n       <use xlink:href=\"#DejaVuSans-48\"/>\r\n       <use x=\"63.623047\" xlink:href=\"#DejaVuSans-46\"/>\r\n       <use x=\"95.410156\" xlink:href=\"#DejaVuSans-54\"/>\r\n      </g>\r\n     </g>\r\n    </g>\r\n    <g id=\"xtick_4\">\r\n     <g id=\"line2d_7\">\r\n      <path clip-path=\"url(#p11c0e85b98)\" d=\"M 318.293388 239.758125 \r\nL 318.293388 22.318125 \r\n\" style=\"fill:none;stroke:#b0b0b0;stroke-linecap:square;stroke-width:0.8;\"/>\r\n     </g>\r\n     <g id=\"line2d_8\">\r\n      <g>\r\n       <use style=\"stroke:#000000;stroke-width:0.8;\" x=\"318.293388\" xlink:href=\"#m49b25f46e1\" y=\"239.758125\"/>\r\n      </g>\r\n     </g>\r\n     <g id=\"text_4\">\r\n      <!-- 0.8 -->\r\n      <defs>\r\n       <path d=\"M 31.78125 34.625 \r\nQ 24.75 34.625 20.71875 30.859375 \r\nQ 16.703125 27.09375 16.703125 20.515625 \r\nQ 16.703125 13.921875 20.71875 10.15625 \r\nQ 24.75 6.390625 31.78125 6.390625 \r\nQ 38.8125 6.390625 42.859375 10.171875 \r\nQ 46.921875 13.96875 46.921875 20.515625 \r\nQ 46.921875 27.09375 42.890625 30.859375 \r\nQ 38.875 34.625 31.78125 34.625 \r\nz\r\nM 21.921875 38.8125 \r\nQ 15.578125 40.375 12.03125 44.71875 \r\nQ 8.5 49.078125 8.5 55.328125 \r\nQ 8.5 64.0625 14.71875 69.140625 \r\nQ 20.953125 74.21875 31.78125 74.21875 \r\nQ 42.671875 74.21875 48.875 69.140625 \r\nQ 55.078125 64.0625 55.078125 55.328125 \r\nQ 55.078125 49.078125 51.53125 44.71875 \r\nQ 48 40.375 41.703125 38.8125 \r\nQ 48.828125 37.15625 52.796875 32.3125 \r\nQ 56.78125 27.484375 56.78125 20.515625 \r\nQ 56.78125 9.90625 50.3125 4.234375 \r\nQ 43.84375 -1.421875 31.78125 -1.421875 \r\nQ 19.734375 -1.421875 13.25 4.234375 \r\nQ 6.78125 9.90625 6.78125 20.515625 \r\nQ 6.78125 27.484375 10.78125 32.3125 \r\nQ 14.796875 37.15625 21.921875 38.8125 \r\nz\r\nM 18.3125 54.390625 \r\nQ 18.3125 48.734375 21.84375 45.5625 \r\nQ 25.390625 42.390625 31.78125 42.390625 \r\nQ 38.140625 42.390625 41.71875 45.5625 \r\nQ 45.3125 48.734375 45.3125 54.390625 \r\nQ 45.3125 60.0625 41.71875 63.234375 \r\nQ 38.140625 66.40625 31.78125 66.40625 \r\nQ 25.390625 66.40625 21.84375 63.234375 \r\nQ 18.3125 60.0625 18.3125 54.390625 \r\nz\r\n\" id=\"DejaVuSans-56\"/>\r\n      </defs>\r\n      <g transform=\"translate(310.341826 254.356562)scale(0.1 -0.1)\">\r\n       <use xlink:href=\"#DejaVuSans-48\"/>\r\n       <use x=\"63.623047\" xlink:href=\"#DejaVuSans-46\"/>\r\n       <use x=\"95.410156\" xlink:href=\"#DejaVuSans-56\"/>\r\n      </g>\r\n     </g>\r\n    </g>\r\n    <g id=\"xtick_5\">\r\n     <g id=\"line2d_9\">\r\n      <path clip-path=\"url(#p11c0e85b98)\" d=\"M 382.369943 239.758125 \r\nL 382.369943 22.318125 \r\n\" style=\"fill:none;stroke:#b0b0b0;stroke-linecap:square;stroke-width:0.8;\"/>\r\n     </g>\r\n     <g id=\"line2d_10\">\r\n      <g>\r\n       <use style=\"stroke:#000000;stroke-width:0.8;\" x=\"382.369943\" xlink:href=\"#m49b25f46e1\" y=\"239.758125\"/>\r\n      </g>\r\n     </g>\r\n     <g id=\"text_5\">\r\n      <!-- 1.0 -->\r\n      <defs>\r\n       <path d=\"M 12.40625 8.296875 \r\nL 28.515625 8.296875 \r\nL 28.515625 63.921875 \r\nL 10.984375 60.40625 \r\nL 10.984375 69.390625 \r\nL 28.421875 72.90625 \r\nL 38.28125 72.90625 \r\nL 38.28125 8.296875 \r\nL 54.390625 8.296875 \r\nL 54.390625 0 \r\nL 12.40625 0 \r\nz\r\n\" id=\"DejaVuSans-49\"/>\r\n      </defs>\r\n      <g transform=\"translate(374.418381 254.356562)scale(0.1 -0.1)\">\r\n       <use xlink:href=\"#DejaVuSans-49\"/>\r\n       <use x=\"63.623047\" xlink:href=\"#DejaVuSans-46\"/>\r\n       <use x=\"95.410156\" xlink:href=\"#DejaVuSans-48\"/>\r\n      </g>\r\n     </g>\r\n    </g>\r\n    <g id=\"text_6\">\r\n     <!-- Fraction of Training Data Used -->\r\n     <defs>\r\n      <path d=\"M 9.8125 72.90625 \r\nL 51.703125 72.90625 \r\nL 51.703125 64.59375 \r\nL 19.671875 64.59375 \r\nL 19.671875 43.109375 \r\nL 48.578125 43.109375 \r\nL 48.578125 34.8125 \r\nL 19.671875 34.8125 \r\nL 19.671875 0 \r\nL 9.8125 0 \r\nz\r\n\" id=\"DejaVuSans-70\"/>\r\n      <path d=\"M 41.109375 46.296875 \r\nQ 39.59375 47.171875 37.8125 47.578125 \r\nQ 36.03125 48 33.890625 48 \r\nQ 26.265625 48 22.1875 43.046875 \r\nQ 18.109375 38.09375 18.109375 28.8125 \r\nL 18.109375 0 \r\nL 9.078125 0 \r\nL 9.078125 54.6875 \r\nL 18.109375 54.6875 \r\nL 18.109375 46.1875 \r\nQ 20.953125 51.171875 25.484375 53.578125 \r\nQ 30.03125 56 36.53125 56 \r\nQ 37.453125 56 38.578125 55.875 \r\nQ 39.703125 55.765625 41.0625 55.515625 \r\nz\r\n\" id=\"DejaVuSans-114\"/>\r\n      <path d=\"M 34.28125 27.484375 \r\nQ 23.390625 27.484375 19.1875 25 \r\nQ 14.984375 22.515625 14.984375 16.5 \r\nQ 14.984375 11.71875 18.140625 8.90625 \r\nQ 21.296875 6.109375 26.703125 6.109375 \r\nQ 34.1875 6.109375 38.703125 11.40625 \r\nQ 43.21875 16.703125 43.21875 25.484375 \r\nL 43.21875 27.484375 \r\nz\r\nM 52.203125 31.203125 \r\nL 52.203125 0 \r\nL 43.21875 0 \r\nL 43.21875 8.296875 \r\nQ 40.140625 3.328125 35.546875 0.953125 \r\nQ 30.953125 -1.421875 24.3125 -1.421875 \r\nQ 15.921875 -1.421875 10.953125 3.296875 \r\nQ 6 8.015625 6 15.921875 \r\nQ 6 25.140625 12.171875 29.828125 \r\nQ 18.359375 34.515625 30.609375 34.515625 \r\nL 43.21875 34.515625 \r\nL 43.21875 35.40625 \r\nQ 43.21875 41.609375 39.140625 45 \r\nQ 35.0625 48.390625 27.6875 48.390625 \r\nQ 23 48.390625 18.546875 47.265625 \r\nQ 14.109375 46.140625 10.015625 43.890625 \r\nL 10.015625 52.203125 \r\nQ 14.9375 54.109375 19.578125 55.046875 \r\nQ 24.21875 56 28.609375 56 \r\nQ 40.484375 56 46.34375 49.84375 \r\nQ 52.203125 43.703125 52.203125 31.203125 \r\nz\r\n\" id=\"DejaVuSans-97\"/>\r\n      <path d=\"M 48.78125 52.59375 \r\nL 48.78125 44.1875 \r\nQ 44.96875 46.296875 41.140625 47.34375 \r\nQ 37.3125 48.390625 33.40625 48.390625 \r\nQ 24.65625 48.390625 19.8125 42.84375 \r\nQ 14.984375 37.3125 14.984375 27.296875 \r\nQ 14.984375 17.28125 19.8125 11.734375 \r\nQ 24.65625 6.203125 33.40625 6.203125 \r\nQ 37.3125 6.203125 41.140625 7.25 \r\nQ 44.96875 8.296875 48.78125 10.40625 \r\nL 48.78125 2.09375 \r\nQ 45.015625 0.34375 40.984375 -0.53125 \r\nQ 36.96875 -1.421875 32.421875 -1.421875 \r\nQ 20.0625 -1.421875 12.78125 6.34375 \r\nQ 5.515625 14.109375 5.515625 27.296875 \r\nQ 5.515625 40.671875 12.859375 48.328125 \r\nQ 20.21875 56 33.015625 56 \r\nQ 37.15625 56 41.109375 55.140625 \r\nQ 45.0625 54.296875 48.78125 52.59375 \r\nz\r\n\" id=\"DejaVuSans-99\"/>\r\n      <path d=\"M 18.3125 70.21875 \r\nL 18.3125 54.6875 \r\nL 36.8125 54.6875 \r\nL 36.8125 47.703125 \r\nL 18.3125 47.703125 \r\nL 18.3125 18.015625 \r\nQ 18.3125 11.328125 20.140625 9.421875 \r\nQ 21.96875 7.515625 27.59375 7.515625 \r\nL 36.8125 7.515625 \r\nL 36.8125 0 \r\nL 27.59375 0 \r\nQ 17.1875 0 13.234375 3.875 \r\nQ 9.28125 7.765625 9.28125 18.015625 \r\nL 9.28125 47.703125 \r\nL 2.6875 47.703125 \r\nL 2.6875 54.6875 \r\nL 9.28125 54.6875 \r\nL 9.28125 70.21875 \r\nz\r\n\" id=\"DejaVuSans-116\"/>\r\n      <path d=\"M 9.421875 54.6875 \r\nL 18.40625 54.6875 \r\nL 18.40625 0 \r\nL 9.421875 0 \r\nz\r\nM 9.421875 75.984375 \r\nL 18.40625 75.984375 \r\nL 18.40625 64.59375 \r\nL 9.421875 64.59375 \r\nz\r\n\" id=\"DejaVuSans-105\"/>\r\n      <path d=\"M 30.609375 48.390625 \r\nQ 23.390625 48.390625 19.1875 42.75 \r\nQ 14.984375 37.109375 14.984375 27.296875 \r\nQ 14.984375 17.484375 19.15625 11.84375 \r\nQ 23.34375 6.203125 30.609375 6.203125 \r\nQ 37.796875 6.203125 41.984375 11.859375 \r\nQ 46.1875 17.53125 46.1875 27.296875 \r\nQ 46.1875 37.015625 41.984375 42.703125 \r\nQ 37.796875 48.390625 30.609375 48.390625 \r\nz\r\nM 30.609375 56 \r\nQ 42.328125 56 49.015625 48.375 \r\nQ 55.71875 40.765625 55.71875 27.296875 \r\nQ 55.71875 13.875 49.015625 6.21875 \r\nQ 42.328125 -1.421875 30.609375 -1.421875 \r\nQ 18.84375 -1.421875 12.171875 6.21875 \r\nQ 5.515625 13.875 5.515625 27.296875 \r\nQ 5.515625 40.765625 12.171875 48.375 \r\nQ 18.84375 56 30.609375 56 \r\nz\r\n\" id=\"DejaVuSans-111\"/>\r\n      <path d=\"M 54.890625 33.015625 \r\nL 54.890625 0 \r\nL 45.90625 0 \r\nL 45.90625 32.71875 \r\nQ 45.90625 40.484375 42.875 44.328125 \r\nQ 39.84375 48.1875 33.796875 48.1875 \r\nQ 26.515625 48.1875 22.3125 43.546875 \r\nQ 18.109375 38.921875 18.109375 30.90625 \r\nL 18.109375 0 \r\nL 9.078125 0 \r\nL 9.078125 54.6875 \r\nL 18.109375 54.6875 \r\nL 18.109375 46.1875 \r\nQ 21.34375 51.125 25.703125 53.5625 \r\nQ 30.078125 56 35.796875 56 \r\nQ 45.21875 56 50.046875 50.171875 \r\nQ 54.890625 44.34375 54.890625 33.015625 \r\nz\r\n\" id=\"DejaVuSans-110\"/>\r\n      <path id=\"DejaVuSans-32\"/>\r\n      <path d=\"M 37.109375 75.984375 \r\nL 37.109375 68.5 \r\nL 28.515625 68.5 \r\nQ 23.6875 68.5 21.796875 66.546875 \r\nQ 19.921875 64.59375 19.921875 59.515625 \r\nL 19.921875 54.6875 \r\nL 34.71875 54.6875 \r\nL 34.71875 47.703125 \r\nL 19.921875 47.703125 \r\nL 19.921875 0 \r\nL 10.890625 0 \r\nL 10.890625 47.703125 \r\nL 2.296875 47.703125 \r\nL 2.296875 54.6875 \r\nL 10.890625 54.6875 \r\nL 10.890625 58.5 \r\nQ 10.890625 67.625 15.140625 71.796875 \r\nQ 19.390625 75.984375 28.609375 75.984375 \r\nz\r\n\" id=\"DejaVuSans-102\"/>\r\n      <path d=\"M -0.296875 72.90625 \r\nL 61.375 72.90625 \r\nL 61.375 64.59375 \r\nL 35.5 64.59375 \r\nL 35.5 0 \r\nL 25.59375 0 \r\nL 25.59375 64.59375 \r\nL -0.296875 64.59375 \r\nz\r\n\" id=\"DejaVuSans-84\"/>\r\n      <path d=\"M 45.40625 27.984375 \r\nQ 45.40625 37.75 41.375 43.109375 \r\nQ 37.359375 48.484375 30.078125 48.484375 \r\nQ 22.859375 48.484375 18.828125 43.109375 \r\nQ 14.796875 37.75 14.796875 27.984375 \r\nQ 14.796875 18.265625 18.828125 12.890625 \r\nQ 22.859375 7.515625 30.078125 7.515625 \r\nQ 37.359375 7.515625 41.375 12.890625 \r\nQ 45.40625 18.265625 45.40625 27.984375 \r\nz\r\nM 54.390625 6.78125 \r\nQ 54.390625 -7.171875 48.1875 -13.984375 \r\nQ 42 -20.796875 29.203125 -20.796875 \r\nQ 24.46875 -20.796875 20.265625 -20.09375 \r\nQ 16.0625 -19.390625 12.109375 -17.921875 \r\nL 12.109375 -9.1875 \r\nQ 16.0625 -11.328125 19.921875 -12.34375 \r\nQ 23.78125 -13.375 27.78125 -13.375 \r\nQ 36.625 -13.375 41.015625 -8.765625 \r\nQ 45.40625 -4.15625 45.40625 5.171875 \r\nL 45.40625 9.625 \r\nQ 42.625 4.78125 38.28125 2.390625 \r\nQ 33.9375 0 27.875 0 \r\nQ 17.828125 0 11.671875 7.65625 \r\nQ 5.515625 15.328125 5.515625 27.984375 \r\nQ 5.515625 40.671875 11.671875 48.328125 \r\nQ 17.828125 56 27.875 56 \r\nQ 33.9375 56 38.28125 53.609375 \r\nQ 42.625 51.21875 45.40625 46.390625 \r\nL 45.40625 54.6875 \r\nL 54.390625 54.6875 \r\nz\r\n\" id=\"DejaVuSans-103\"/>\r\n      <path d=\"M 19.671875 64.796875 \r\nL 19.671875 8.109375 \r\nL 31.59375 8.109375 \r\nQ 46.6875 8.109375 53.6875 14.9375 \r\nQ 60.6875 21.78125 60.6875 36.53125 \r\nQ 60.6875 51.171875 53.6875 57.984375 \r\nQ 46.6875 64.796875 31.59375 64.796875 \r\nz\r\nM 9.8125 72.90625 \r\nL 30.078125 72.90625 \r\nQ 51.265625 72.90625 61.171875 64.09375 \r\nQ 71.09375 55.28125 71.09375 36.53125 \r\nQ 71.09375 17.671875 61.125 8.828125 \r\nQ 51.171875 0 30.078125 0 \r\nL 9.8125 0 \r\nz\r\n\" id=\"DejaVuSans-68\"/>\r\n      <path d=\"M 8.6875 72.90625 \r\nL 18.609375 72.90625 \r\nL 18.609375 28.609375 \r\nQ 18.609375 16.890625 22.84375 11.734375 \r\nQ 27.09375 6.59375 36.625 6.59375 \r\nQ 46.09375 6.59375 50.34375 11.734375 \r\nQ 54.59375 16.890625 54.59375 28.609375 \r\nL 54.59375 72.90625 \r\nL 64.5 72.90625 \r\nL 64.5 27.390625 \r\nQ 64.5 13.140625 57.4375 5.859375 \r\nQ 50.390625 -1.421875 36.625 -1.421875 \r\nQ 22.796875 -1.421875 15.734375 5.859375 \r\nQ 8.6875 13.140625 8.6875 27.390625 \r\nz\r\n\" id=\"DejaVuSans-85\"/>\r\n      <path d=\"M 44.28125 53.078125 \r\nL 44.28125 44.578125 \r\nQ 40.484375 46.53125 36.375 47.5 \r\nQ 32.28125 48.484375 27.875 48.484375 \r\nQ 21.1875 48.484375 17.84375 46.4375 \r\nQ 14.5 44.390625 14.5 40.28125 \r\nQ 14.5 37.15625 16.890625 35.375 \r\nQ 19.28125 33.59375 26.515625 31.984375 \r\nL 29.59375 31.296875 \r\nQ 39.15625 29.25 43.1875 25.515625 \r\nQ 47.21875 21.78125 47.21875 15.09375 \r\nQ 47.21875 7.46875 41.1875 3.015625 \r\nQ 35.15625 -1.421875 24.609375 -1.421875 \r\nQ 20.21875 -1.421875 15.453125 -0.5625 \r\nQ 10.6875 0.296875 5.421875 2 \r\nL 5.421875 11.28125 \r\nQ 10.40625 8.6875 15.234375 7.390625 \r\nQ 20.0625 6.109375 24.8125 6.109375 \r\nQ 31.15625 6.109375 34.5625 8.28125 \r\nQ 37.984375 10.453125 37.984375 14.40625 \r\nQ 37.984375 18.0625 35.515625 20.015625 \r\nQ 33.0625 21.96875 24.703125 23.78125 \r\nL 21.578125 24.515625 \r\nQ 13.234375 26.265625 9.515625 29.90625 \r\nQ 5.8125 33.546875 5.8125 39.890625 \r\nQ 5.8125 47.609375 11.28125 51.796875 \r\nQ 16.75 56 26.8125 56 \r\nQ 31.78125 56 36.171875 55.265625 \r\nQ 40.578125 54.546875 44.28125 53.078125 \r\nz\r\n\" id=\"DejaVuSans-115\"/>\r\n      <path d=\"M 56.203125 29.59375 \r\nL 56.203125 25.203125 \r\nL 14.890625 25.203125 \r\nQ 15.484375 15.921875 20.484375 11.0625 \r\nQ 25.484375 6.203125 34.421875 6.203125 \r\nQ 39.59375 6.203125 44.453125 7.46875 \r\nQ 49.3125 8.734375 54.109375 11.28125 \r\nL 54.109375 2.78125 \r\nQ 49.265625 0.734375 44.1875 -0.34375 \r\nQ 39.109375 -1.421875 33.890625 -1.421875 \r\nQ 20.796875 -1.421875 13.15625 6.1875 \r\nQ 5.515625 13.8125 5.515625 26.8125 \r\nQ 5.515625 40.234375 12.765625 48.109375 \r\nQ 20.015625 56 32.328125 56 \r\nQ 43.359375 56 49.78125 48.890625 \r\nQ 56.203125 41.796875 56.203125 29.59375 \r\nz\r\nM 47.21875 32.234375 \r\nQ 47.125 39.59375 43.09375 43.984375 \r\nQ 39.0625 48.390625 32.421875 48.390625 \r\nQ 24.90625 48.390625 20.390625 44.140625 \r\nQ 15.875 39.890625 15.1875 32.171875 \r\nz\r\n\" id=\"DejaVuSans-101\"/>\r\n      <path d=\"M 45.40625 46.390625 \r\nL 45.40625 75.984375 \r\nL 54.390625 75.984375 \r\nL 54.390625 0 \r\nL 45.40625 0 \r\nL 45.40625 8.203125 \r\nQ 42.578125 3.328125 38.25 0.953125 \r\nQ 33.9375 -1.421875 27.875 -1.421875 \r\nQ 17.96875 -1.421875 11.734375 6.484375 \r\nQ 5.515625 14.40625 5.515625 27.296875 \r\nQ 5.515625 40.1875 11.734375 48.09375 \r\nQ 17.96875 56 27.875 56 \r\nQ 33.9375 56 38.25 53.625 \r\nQ 42.578125 51.265625 45.40625 46.390625 \r\nz\r\nM 14.796875 27.296875 \r\nQ 14.796875 17.390625 18.875 11.75 \r\nQ 22.953125 6.109375 30.078125 6.109375 \r\nQ 37.203125 6.109375 41.296875 11.75 \r\nQ 45.40625 17.390625 45.40625 27.296875 \r\nQ 45.40625 37.203125 41.296875 42.84375 \r\nQ 37.203125 48.484375 30.078125 48.484375 \r\nQ 22.953125 48.484375 18.875 42.84375 \r\nQ 14.796875 37.203125 14.796875 27.296875 \r\nz\r\n\" id=\"DejaVuSans-100\"/>\r\n     </defs>\r\n     <g transform=\"translate(153.790469 268.034687)scale(0.1 -0.1)\">\r\n      <use xlink:href=\"#DejaVuSans-70\"/>\r\n      <use x=\"57.410156\" xlink:href=\"#DejaVuSans-114\"/>\r\n      <use x=\"98.523438\" xlink:href=\"#DejaVuSans-97\"/>\r\n      <use x=\"159.802734\" xlink:href=\"#DejaVuSans-99\"/>\r\n      <use x=\"214.783203\" xlink:href=\"#DejaVuSans-116\"/>\r\n      <use x=\"253.992188\" xlink:href=\"#DejaVuSans-105\"/>\r\n      <use x=\"281.775391\" xlink:href=\"#DejaVuSans-111\"/>\r\n      <use x=\"342.957031\" xlink:href=\"#DejaVuSans-110\"/>\r\n      <use x=\"406.335938\" xlink:href=\"#DejaVuSans-32\"/>\r\n      <use x=\"438.123047\" xlink:href=\"#DejaVuSans-111\"/>\r\n      <use x=\"499.304688\" xlink:href=\"#DejaVuSans-102\"/>\r\n      <use x=\"534.509766\" xlink:href=\"#DejaVuSans-32\"/>\r\n      <use x=\"566.296875\" xlink:href=\"#DejaVuSans-84\"/>\r\n      <use x=\"627.162109\" xlink:href=\"#DejaVuSans-114\"/>\r\n      <use x=\"668.275391\" xlink:href=\"#DejaVuSans-97\"/>\r\n      <use x=\"729.554688\" xlink:href=\"#DejaVuSans-105\"/>\r\n      <use x=\"757.337891\" xlink:href=\"#DejaVuSans-110\"/>\r\n      <use x=\"820.716797\" xlink:href=\"#DejaVuSans-105\"/>\r\n      <use x=\"848.5\" xlink:href=\"#DejaVuSans-110\"/>\r\n      <use x=\"911.878906\" xlink:href=\"#DejaVuSans-103\"/>\r\n      <use x=\"975.355469\" xlink:href=\"#DejaVuSans-32\"/>\r\n      <use x=\"1007.142578\" xlink:href=\"#DejaVuSans-68\"/>\r\n      <use x=\"1084.144531\" xlink:href=\"#DejaVuSans-97\"/>\r\n      <use x=\"1145.423828\" xlink:href=\"#DejaVuSans-116\"/>\r\n      <use x=\"1184.632812\" xlink:href=\"#DejaVuSans-97\"/>\r\n      <use x=\"1245.912109\" xlink:href=\"#DejaVuSans-32\"/>\r\n      <use x=\"1277.699219\" xlink:href=\"#DejaVuSans-85\"/>\r\n      <use x=\"1350.892578\" xlink:href=\"#DejaVuSans-115\"/>\r\n      <use x=\"1402.992188\" xlink:href=\"#DejaVuSans-101\"/>\r\n      <use x=\"1464.515625\" xlink:href=\"#DejaVuSans-100\"/>\r\n     </g>\r\n    </g>\r\n   </g>\r\n   <g id=\"matplotlib.axis_2\">\r\n    <g id=\"ytick_1\">\r\n     <g id=\"line2d_11\">\r\n      <path clip-path=\"url(#p11c0e85b98)\" d=\"M 62.788125 222.102574 \r\nL 397.588125 222.102574 \r\n\" style=\"fill:none;stroke:#b0b0b0;stroke-linecap:square;stroke-width:0.8;\"/>\r\n     </g>\r\n     <g id=\"line2d_12\">\r\n      <defs>\r\n       <path d=\"M 0 0 \r\nL -3.5 0 \r\n\" id=\"m69946178f8\" style=\"stroke:#000000;stroke-width:0.8;\"/>\r\n      </defs>\r\n      <g>\r\n       <use style=\"stroke:#000000;stroke-width:0.8;\" x=\"62.788125\" xlink:href=\"#m69946178f8\" y=\"222.102574\"/>\r\n      </g>\r\n     </g>\r\n     <g id=\"text_7\">\r\n      <!-- 69 -->\r\n      <defs>\r\n       <path d=\"M 10.984375 1.515625 \r\nL 10.984375 10.5 \r\nQ 14.703125 8.734375 18.5 7.8125 \r\nQ 22.3125 6.890625 25.984375 6.890625 \r\nQ 35.75 6.890625 40.890625 13.453125 \r\nQ 46.046875 20.015625 46.78125 33.40625 \r\nQ 43.953125 29.203125 39.59375 26.953125 \r\nQ 35.25 24.703125 29.984375 24.703125 \r\nQ 19.046875 24.703125 12.671875 31.3125 \r\nQ 6.296875 37.9375 6.296875 49.421875 \r\nQ 6.296875 60.640625 12.9375 67.421875 \r\nQ 19.578125 74.21875 30.609375 74.21875 \r\nQ 43.265625 74.21875 49.921875 64.515625 \r\nQ 56.59375 54.828125 56.59375 36.375 \r\nQ 56.59375 19.140625 48.40625 8.859375 \r\nQ 40.234375 -1.421875 26.421875 -1.421875 \r\nQ 22.703125 -1.421875 18.890625 -0.6875 \r\nQ 15.09375 0.046875 10.984375 1.515625 \r\nz\r\nM 30.609375 32.421875 \r\nQ 37.25 32.421875 41.125 36.953125 \r\nQ 45.015625 41.5 45.015625 49.421875 \r\nQ 45.015625 57.28125 41.125 61.84375 \r\nQ 37.25 66.40625 30.609375 66.40625 \r\nQ 23.96875 66.40625 20.09375 61.84375 \r\nQ 16.21875 57.28125 16.21875 49.421875 \r\nQ 16.21875 41.5 20.09375 36.953125 \r\nQ 23.96875 32.421875 30.609375 32.421875 \r\nz\r\n\" id=\"DejaVuSans-57\"/>\r\n      </defs>\r\n      <g transform=\"translate(43.063125 225.901793)scale(0.1 -0.1)\">\r\n       <use xlink:href=\"#DejaVuSans-54\"/>\r\n       <use x=\"63.623047\" xlink:href=\"#DejaVuSans-57\"/>\r\n      </g>\r\n     </g>\r\n    </g>\r\n    <g id=\"ytick_2\">\r\n     <g id=\"line2d_13\">\r\n      <path clip-path=\"url(#p11c0e85b98)\" d=\"M 62.788125 194.885905 \r\nL 397.588125 194.885905 \r\n\" style=\"fill:none;stroke:#b0b0b0;stroke-linecap:square;stroke-width:0.8;\"/>\r\n     </g>\r\n     <g id=\"line2d_14\">\r\n      <g>\r\n       <use style=\"stroke:#000000;stroke-width:0.8;\" x=\"62.788125\" xlink:href=\"#m69946178f8\" y=\"194.885905\"/>\r\n      </g>\r\n     </g>\r\n     <g id=\"text_8\">\r\n      <!-- 70 -->\r\n      <defs>\r\n       <path d=\"M 8.203125 72.90625 \r\nL 55.078125 72.90625 \r\nL 55.078125 68.703125 \r\nL 28.609375 0 \r\nL 18.3125 0 \r\nL 43.21875 64.59375 \r\nL 8.203125 64.59375 \r\nz\r\n\" id=\"DejaVuSans-55\"/>\r\n      </defs>\r\n      <g transform=\"translate(43.063125 198.685123)scale(0.1 -0.1)\">\r\n       <use xlink:href=\"#DejaVuSans-55\"/>\r\n       <use x=\"63.623047\" xlink:href=\"#DejaVuSans-48\"/>\r\n      </g>\r\n     </g>\r\n    </g>\r\n    <g id=\"ytick_3\">\r\n     <g id=\"line2d_15\">\r\n      <path clip-path=\"url(#p11c0e85b98)\" d=\"M 62.788125 167.669235 \r\nL 397.588125 167.669235 \r\n\" style=\"fill:none;stroke:#b0b0b0;stroke-linecap:square;stroke-width:0.8;\"/>\r\n     </g>\r\n     <g id=\"line2d_16\">\r\n      <g>\r\n       <use style=\"stroke:#000000;stroke-width:0.8;\" x=\"62.788125\" xlink:href=\"#m69946178f8\" y=\"167.669235\"/>\r\n      </g>\r\n     </g>\r\n     <g id=\"text_9\">\r\n      <!-- 71 -->\r\n      <g transform=\"translate(43.063125 171.468454)scale(0.1 -0.1)\">\r\n       <use xlink:href=\"#DejaVuSans-55\"/>\r\n       <use x=\"63.623047\" xlink:href=\"#DejaVuSans-49\"/>\r\n      </g>\r\n     </g>\r\n    </g>\r\n    <g id=\"ytick_4\">\r\n     <g id=\"line2d_17\">\r\n      <path clip-path=\"url(#p11c0e85b98)\" d=\"M 62.788125 140.452565 \r\nL 397.588125 140.452565 \r\n\" style=\"fill:none;stroke:#b0b0b0;stroke-linecap:square;stroke-width:0.8;\"/>\r\n     </g>\r\n     <g id=\"line2d_18\">\r\n      <g>\r\n       <use style=\"stroke:#000000;stroke-width:0.8;\" x=\"62.788125\" xlink:href=\"#m69946178f8\" y=\"140.452565\"/>\r\n      </g>\r\n     </g>\r\n     <g id=\"text_10\">\r\n      <!-- 72 -->\r\n      <g transform=\"translate(43.063125 144.251784)scale(0.1 -0.1)\">\r\n       <use xlink:href=\"#DejaVuSans-55\"/>\r\n       <use x=\"63.623047\" xlink:href=\"#DejaVuSans-50\"/>\r\n      </g>\r\n     </g>\r\n    </g>\r\n    <g id=\"ytick_5\">\r\n     <g id=\"line2d_19\">\r\n      <path clip-path=\"url(#p11c0e85b98)\" d=\"M 62.788125 113.235896 \r\nL 397.588125 113.235896 \r\n\" style=\"fill:none;stroke:#b0b0b0;stroke-linecap:square;stroke-width:0.8;\"/>\r\n     </g>\r\n     <g id=\"line2d_20\">\r\n      <g>\r\n       <use style=\"stroke:#000000;stroke-width:0.8;\" x=\"62.788125\" xlink:href=\"#m69946178f8\" y=\"113.235896\"/>\r\n      </g>\r\n     </g>\r\n     <g id=\"text_11\">\r\n      <!-- 73 -->\r\n      <defs>\r\n       <path d=\"M 40.578125 39.3125 \r\nQ 47.65625 37.796875 51.625 33 \r\nQ 55.609375 28.21875 55.609375 21.1875 \r\nQ 55.609375 10.40625 48.1875 4.484375 \r\nQ 40.765625 -1.421875 27.09375 -1.421875 \r\nQ 22.515625 -1.421875 17.65625 -0.515625 \r\nQ 12.796875 0.390625 7.625 2.203125 \r\nL 7.625 11.71875 \r\nQ 11.71875 9.328125 16.59375 8.109375 \r\nQ 21.484375 6.890625 26.8125 6.890625 \r\nQ 36.078125 6.890625 40.9375 10.546875 \r\nQ 45.796875 14.203125 45.796875 21.1875 \r\nQ 45.796875 27.640625 41.28125 31.265625 \r\nQ 36.765625 34.90625 28.71875 34.90625 \r\nL 20.21875 34.90625 \r\nL 20.21875 43.015625 \r\nL 29.109375 43.015625 \r\nQ 36.375 43.015625 40.234375 45.921875 \r\nQ 44.09375 48.828125 44.09375 54.296875 \r\nQ 44.09375 59.90625 40.109375 62.90625 \r\nQ 36.140625 65.921875 28.71875 65.921875 \r\nQ 24.65625 65.921875 20.015625 65.03125 \r\nQ 15.375 64.15625 9.8125 62.3125 \r\nL 9.8125 71.09375 \r\nQ 15.4375 72.65625 20.34375 73.4375 \r\nQ 25.25 74.21875 29.59375 74.21875 \r\nQ 40.828125 74.21875 47.359375 69.109375 \r\nQ 53.90625 64.015625 53.90625 55.328125 \r\nQ 53.90625 49.265625 50.4375 45.09375 \r\nQ 46.96875 40.921875 40.578125 39.3125 \r\nz\r\n\" id=\"DejaVuSans-51\"/>\r\n      </defs>\r\n      <g transform=\"translate(43.063125 117.035115)scale(0.1 -0.1)\">\r\n       <use xlink:href=\"#DejaVuSans-55\"/>\r\n       <use x=\"63.623047\" xlink:href=\"#DejaVuSans-51\"/>\r\n      </g>\r\n     </g>\r\n    </g>\r\n    <g id=\"ytick_6\">\r\n     <g id=\"line2d_21\">\r\n      <path clip-path=\"url(#p11c0e85b98)\" d=\"M 62.788125 86.019226 \r\nL 397.588125 86.019226 \r\n\" style=\"fill:none;stroke:#b0b0b0;stroke-linecap:square;stroke-width:0.8;\"/>\r\n     </g>\r\n     <g id=\"line2d_22\">\r\n      <g>\r\n       <use style=\"stroke:#000000;stroke-width:0.8;\" x=\"62.788125\" xlink:href=\"#m69946178f8\" y=\"86.019226\"/>\r\n      </g>\r\n     </g>\r\n     <g id=\"text_12\">\r\n      <!-- 74 -->\r\n      <g transform=\"translate(43.063125 89.818445)scale(0.1 -0.1)\">\r\n       <use xlink:href=\"#DejaVuSans-55\"/>\r\n       <use x=\"63.623047\" xlink:href=\"#DejaVuSans-52\"/>\r\n      </g>\r\n     </g>\r\n    </g>\r\n    <g id=\"ytick_7\">\r\n     <g id=\"line2d_23\">\r\n      <path clip-path=\"url(#p11c0e85b98)\" d=\"M 62.788125 58.802557 \r\nL 397.588125 58.802557 \r\n\" style=\"fill:none;stroke:#b0b0b0;stroke-linecap:square;stroke-width:0.8;\"/>\r\n     </g>\r\n     <g id=\"line2d_24\">\r\n      <g>\r\n       <use style=\"stroke:#000000;stroke-width:0.8;\" x=\"62.788125\" xlink:href=\"#m69946178f8\" y=\"58.802557\"/>\r\n      </g>\r\n     </g>\r\n     <g id=\"text_13\">\r\n      <!-- 75 -->\r\n      <defs>\r\n       <path d=\"M 10.796875 72.90625 \r\nL 49.515625 72.90625 \r\nL 49.515625 64.59375 \r\nL 19.828125 64.59375 \r\nL 19.828125 46.734375 \r\nQ 21.96875 47.46875 24.109375 47.828125 \r\nQ 26.265625 48.1875 28.421875 48.1875 \r\nQ 40.625 48.1875 47.75 41.5 \r\nQ 54.890625 34.8125 54.890625 23.390625 \r\nQ 54.890625 11.625 47.5625 5.09375 \r\nQ 40.234375 -1.421875 26.90625 -1.421875 \r\nQ 22.3125 -1.421875 17.546875 -0.640625 \r\nQ 12.796875 0.140625 7.71875 1.703125 \r\nL 7.71875 11.625 \r\nQ 12.109375 9.234375 16.796875 8.0625 \r\nQ 21.484375 6.890625 26.703125 6.890625 \r\nQ 35.15625 6.890625 40.078125 11.328125 \r\nQ 45.015625 15.765625 45.015625 23.390625 \r\nQ 45.015625 31 40.078125 35.4375 \r\nQ 35.15625 39.890625 26.703125 39.890625 \r\nQ 22.75 39.890625 18.8125 39.015625 \r\nQ 14.890625 38.140625 10.796875 36.28125 \r\nz\r\n\" id=\"DejaVuSans-53\"/>\r\n      </defs>\r\n      <g transform=\"translate(43.063125 62.601775)scale(0.1 -0.1)\">\r\n       <use xlink:href=\"#DejaVuSans-55\"/>\r\n       <use x=\"63.623047\" xlink:href=\"#DejaVuSans-53\"/>\r\n      </g>\r\n     </g>\r\n    </g>\r\n    <g id=\"ytick_8\">\r\n     <g id=\"line2d_25\">\r\n      <path clip-path=\"url(#p11c0e85b98)\" d=\"M 62.788125 31.585887 \r\nL 397.588125 31.585887 \r\n\" style=\"fill:none;stroke:#b0b0b0;stroke-linecap:square;stroke-width:0.8;\"/>\r\n     </g>\r\n     <g id=\"line2d_26\">\r\n      <g>\r\n       <use style=\"stroke:#000000;stroke-width:0.8;\" x=\"62.788125\" xlink:href=\"#m69946178f8\" y=\"31.585887\"/>\r\n      </g>\r\n     </g>\r\n     <g id=\"text_14\">\r\n      <!-- 76 -->\r\n      <g transform=\"translate(43.063125 35.385106)scale(0.1 -0.1)\">\r\n       <use xlink:href=\"#DejaVuSans-55\"/>\r\n       <use x=\"63.623047\" xlink:href=\"#DejaVuSans-54\"/>\r\n      </g>\r\n     </g>\r\n    </g>\r\n    <g id=\"text_15\">\r\n     <!-- Accuracy (%) -->\r\n     <defs>\r\n      <path d=\"M 34.1875 63.1875 \r\nL 20.796875 26.90625 \r\nL 47.609375 26.90625 \r\nz\r\nM 28.609375 72.90625 \r\nL 39.796875 72.90625 \r\nL 67.578125 0 \r\nL 57.328125 0 \r\nL 50.6875 18.703125 \r\nL 17.828125 18.703125 \r\nL 11.1875 0 \r\nL 0.78125 0 \r\nz\r\n\" id=\"DejaVuSans-65\"/>\r\n      <path d=\"M 8.5 21.578125 \r\nL 8.5 54.6875 \r\nL 17.484375 54.6875 \r\nL 17.484375 21.921875 \r\nQ 17.484375 14.15625 20.5 10.265625 \r\nQ 23.53125 6.390625 29.59375 6.390625 \r\nQ 36.859375 6.390625 41.078125 11.03125 \r\nQ 45.3125 15.671875 45.3125 23.6875 \r\nL 45.3125 54.6875 \r\nL 54.296875 54.6875 \r\nL 54.296875 0 \r\nL 45.3125 0 \r\nL 45.3125 8.40625 \r\nQ 42.046875 3.421875 37.71875 1 \r\nQ 33.40625 -1.421875 27.6875 -1.421875 \r\nQ 18.265625 -1.421875 13.375 4.4375 \r\nQ 8.5 10.296875 8.5 21.578125 \r\nz\r\nM 31.109375 56 \r\nz\r\n\" id=\"DejaVuSans-117\"/>\r\n      <path d=\"M 32.171875 -5.078125 \r\nQ 28.375 -14.84375 24.75 -17.8125 \r\nQ 21.140625 -20.796875 15.09375 -20.796875 \r\nL 7.90625 -20.796875 \r\nL 7.90625 -13.28125 \r\nL 13.1875 -13.28125 \r\nQ 16.890625 -13.28125 18.9375 -11.515625 \r\nQ 21 -9.765625 23.484375 -3.21875 \r\nL 25.09375 0.875 \r\nL 2.984375 54.6875 \r\nL 12.5 54.6875 \r\nL 29.59375 11.921875 \r\nL 46.6875 54.6875 \r\nL 56.203125 54.6875 \r\nz\r\n\" id=\"DejaVuSans-121\"/>\r\n      <path d=\"M 31 75.875 \r\nQ 24.46875 64.65625 21.28125 53.65625 \r\nQ 18.109375 42.671875 18.109375 31.390625 \r\nQ 18.109375 20.125 21.3125 9.0625 \r\nQ 24.515625 -2 31 -13.1875 \r\nL 23.1875 -13.1875 \r\nQ 15.875 -1.703125 12.234375 9.375 \r\nQ 8.59375 20.453125 8.59375 31.390625 \r\nQ 8.59375 42.28125 12.203125 53.3125 \r\nQ 15.828125 64.359375 23.1875 75.875 \r\nz\r\n\" id=\"DejaVuSans-40\"/>\r\n      <path d=\"M 72.703125 32.078125 \r\nQ 68.453125 32.078125 66.03125 28.46875 \r\nQ 63.625 24.859375 63.625 18.40625 \r\nQ 63.625 12.0625 66.03125 8.421875 \r\nQ 68.453125 4.78125 72.703125 4.78125 \r\nQ 76.859375 4.78125 79.265625 8.421875 \r\nQ 81.6875 12.0625 81.6875 18.40625 \r\nQ 81.6875 24.8125 79.265625 28.4375 \r\nQ 76.859375 32.078125 72.703125 32.078125 \r\nz\r\nM 72.703125 38.28125 \r\nQ 80.421875 38.28125 84.953125 32.90625 \r\nQ 89.5 27.546875 89.5 18.40625 \r\nQ 89.5 9.28125 84.9375 3.921875 \r\nQ 80.375 -1.421875 72.703125 -1.421875 \r\nQ 64.890625 -1.421875 60.34375 3.921875 \r\nQ 55.8125 9.28125 55.8125 18.40625 \r\nQ 55.8125 27.59375 60.375 32.9375 \r\nQ 64.9375 38.28125 72.703125 38.28125 \r\nz\r\nM 22.3125 68.015625 \r\nQ 18.109375 68.015625 15.6875 64.375 \r\nQ 13.28125 60.75 13.28125 54.390625 \r\nQ 13.28125 47.953125 15.671875 44.328125 \r\nQ 18.0625 40.71875 22.3125 40.71875 \r\nQ 26.5625 40.71875 28.96875 44.328125 \r\nQ 31.390625 47.953125 31.390625 54.390625 \r\nQ 31.390625 60.6875 28.953125 64.34375 \r\nQ 26.515625 68.015625 22.3125 68.015625 \r\nz\r\nM 66.40625 74.21875 \r\nL 74.21875 74.21875 \r\nL 28.609375 -1.421875 \r\nL 20.796875 -1.421875 \r\nz\r\nM 22.3125 74.21875 \r\nQ 30.03125 74.21875 34.609375 68.875 \r\nQ 39.203125 63.53125 39.203125 54.390625 \r\nQ 39.203125 45.171875 34.640625 39.84375 \r\nQ 30.078125 34.515625 22.3125 34.515625 \r\nQ 14.546875 34.515625 10.03125 39.859375 \r\nQ 5.515625 45.21875 5.515625 54.390625 \r\nQ 5.515625 63.484375 10.046875 68.84375 \r\nQ 14.59375 74.21875 22.3125 74.21875 \r\nz\r\n\" id=\"DejaVuSans-37\"/>\r\n      <path d=\"M 8.015625 75.875 \r\nL 15.828125 75.875 \r\nQ 23.140625 64.359375 26.78125 53.3125 \r\nQ 30.421875 42.28125 30.421875 31.390625 \r\nQ 30.421875 20.453125 26.78125 9.375 \r\nQ 23.140625 -1.703125 15.828125 -13.1875 \r\nL 8.015625 -13.1875 \r\nQ 14.5 -2 17.703125 9.0625 \r\nQ 20.90625 20.125 20.90625 31.390625 \r\nQ 20.90625 42.671875 17.703125 53.65625 \r\nQ 14.5 64.65625 8.015625 75.875 \r\nz\r\n\" id=\"DejaVuSans-41\"/>\r\n     </defs>\r\n     <g transform=\"translate(36.983437 164.194375)rotate(-90)scale(0.1 -0.1)\">\r\n      <use xlink:href=\"#DejaVuSans-65\"/>\r\n      <use x=\"68.392578\" xlink:href=\"#DejaVuSans-99\"/>\r\n      <use x=\"123.373047\" xlink:href=\"#DejaVuSans-99\"/>\r\n      <use x=\"178.353516\" xlink:href=\"#DejaVuSans-117\"/>\r\n      <use x=\"241.732422\" xlink:href=\"#DejaVuSans-114\"/>\r\n      <use x=\"282.845703\" xlink:href=\"#DejaVuSans-97\"/>\r\n      <use x=\"344.125\" xlink:href=\"#DejaVuSans-99\"/>\r\n      <use x=\"399.105469\" xlink:href=\"#DejaVuSans-121\"/>\r\n      <use x=\"458.285156\" xlink:href=\"#DejaVuSans-32\"/>\r\n      <use x=\"490.072266\" xlink:href=\"#DejaVuSans-40\"/>\r\n      <use x=\"529.085938\" xlink:href=\"#DejaVuSans-37\"/>\r\n      <use x=\"624.105469\" xlink:href=\"#DejaVuSans-41\"/>\r\n     </g>\r\n    </g>\r\n   </g>\r\n   <g id=\"line2d_27\">\r\n    <path clip-path=\"url(#p11c0e85b98)\" d=\"M 78.006307 229.874489 \r\nL 94.025446 163.063397 \r\nL 110.044584 136.052796 \r\nL 126.063723 139.236369 \r\nL 142.082862 135.151536 \r\nL 158.102001 142.973607 \r\nL 174.121139 131.109472 \r\nL 190.140278 124.316968 \r\nL 206.159417 118.265536 \r\nL 222.178556 115.072632 \r\nL 238.197694 120.296678 \r\nL 254.216833 119.36509 \r\nL 270.235972 120.106161 \r\nL 286.255111 124.08135 \r\nL 302.274249 123.857396 \r\nL 318.293388 117.802075 \r\nL 334.312527 124.433611 \r\nL 350.331666 146.725619 \r\nL 366.350804 162.153583 \r\nL 382.369943 160.508918 \r\n\" style=\"fill:none;stroke:#1f77b4;stroke-linecap:square;stroke-width:1.5;\"/>\r\n   </g>\r\n   <g id=\"line2d_28\">\r\n    <path clip-path=\"url(#p11c0e85b98)\" d=\"M 78.006307 181.235967 \r\nL 94.025446 76.768669 \r\nL 110.044584 57.899741 \r\nL 126.063723 76.624032 \r\nL 142.082862 72.581968 \r\nL 158.102001 67.368809 \r\nL 174.121139 61.136192 \r\nL 190.140278 56.426153 \r\nL 206.159417 42.388572 \r\nL 222.178556 32.201761 \r\nL 238.197694 37.180079 \r\nL 254.216833 42.467112 \r\nL 270.235972 48.939236 \r\nL 286.255111 42.911132 \r\nL 302.274249 40.721357 \r\nL 318.293388 43.246286 \r\nL 334.312527 50.62978 \r\nL 350.331666 52.080817 \r\nL 366.350804 53.612727 \r\nL 382.369943 47.430654 \r\n\" style=\"fill:none;stroke:#ff7f0e;stroke-linecap:square;stroke-width:1.5;\"/>\r\n   </g>\r\n   <g id=\"patch_3\">\r\n    <path d=\"M 62.788125 239.758125 \r\nL 62.788125 22.318125 \r\n\" style=\"fill:none;stroke:#000000;stroke-linecap:square;stroke-linejoin:miter;stroke-width:0.8;\"/>\r\n   </g>\r\n   <g id=\"patch_4\">\r\n    <path d=\"M 397.588125 239.758125 \r\nL 397.588125 22.318125 \r\n\" style=\"fill:none;stroke:#000000;stroke-linecap:square;stroke-linejoin:miter;stroke-width:0.8;\"/>\r\n   </g>\r\n   <g id=\"patch_5\">\r\n    <path d=\"M 62.788125 239.758125 \r\nL 397.588125 239.758125 \r\n\" style=\"fill:none;stroke:#000000;stroke-linecap:square;stroke-linejoin:miter;stroke-width:0.8;\"/>\r\n   </g>\r\n   <g id=\"patch_6\">\r\n    <path d=\"M 62.788125 22.318125 \r\nL 397.588125 22.318125 \r\n\" style=\"fill:none;stroke:#000000;stroke-linecap:square;stroke-linejoin:miter;stroke-width:0.8;\"/>\r\n   </g>\r\n   <g id=\"text_16\">\r\n    <!-- Training and Testing Accuracies Using Different Fractions of Training Data -->\r\n    <g transform=\"translate(7.2 16.318125)scale(0.12 -0.12)\">\r\n     <use xlink:href=\"#DejaVuSans-84\"/>\r\n     <use x=\"60.865234\" xlink:href=\"#DejaVuSans-114\"/>\r\n     <use x=\"101.978516\" xlink:href=\"#DejaVuSans-97\"/>\r\n     <use x=\"163.257812\" xlink:href=\"#DejaVuSans-105\"/>\r\n     <use x=\"191.041016\" xlink:href=\"#DejaVuSans-110\"/>\r\n     <use x=\"254.419922\" xlink:href=\"#DejaVuSans-105\"/>\r\n     <use x=\"282.203125\" xlink:href=\"#DejaVuSans-110\"/>\r\n     <use x=\"345.582031\" xlink:href=\"#DejaVuSans-103\"/>\r\n     <use x=\"409.058594\" xlink:href=\"#DejaVuSans-32\"/>\r\n     <use x=\"440.845703\" xlink:href=\"#DejaVuSans-97\"/>\r\n     <use x=\"502.125\" xlink:href=\"#DejaVuSans-110\"/>\r\n     <use x=\"565.503906\" xlink:href=\"#DejaVuSans-100\"/>\r\n     <use x=\"628.980469\" xlink:href=\"#DejaVuSans-32\"/>\r\n     <use x=\"660.767578\" xlink:href=\"#DejaVuSans-84\"/>\r\n     <use x=\"721.585938\" xlink:href=\"#DejaVuSans-101\"/>\r\n     <use x=\"783.109375\" xlink:href=\"#DejaVuSans-115\"/>\r\n     <use x=\"835.208984\" xlink:href=\"#DejaVuSans-116\"/>\r\n     <use x=\"874.417969\" xlink:href=\"#DejaVuSans-105\"/>\r\n     <use x=\"902.201172\" xlink:href=\"#DejaVuSans-110\"/>\r\n     <use x=\"965.580078\" xlink:href=\"#DejaVuSans-103\"/>\r\n     <use x=\"1029.056641\" xlink:href=\"#DejaVuSans-32\"/>\r\n     <use x=\"1060.84375\" xlink:href=\"#DejaVuSans-65\"/>\r\n     <use x=\"1129.236328\" xlink:href=\"#DejaVuSans-99\"/>\r\n     <use x=\"1184.216797\" xlink:href=\"#DejaVuSans-99\"/>\r\n     <use x=\"1239.197266\" xlink:href=\"#DejaVuSans-117\"/>\r\n     <use x=\"1302.576172\" xlink:href=\"#DejaVuSans-114\"/>\r\n     <use x=\"1343.689453\" xlink:href=\"#DejaVuSans-97\"/>\r\n     <use x=\"1404.96875\" xlink:href=\"#DejaVuSans-99\"/>\r\n     <use x=\"1459.949219\" xlink:href=\"#DejaVuSans-105\"/>\r\n     <use x=\"1487.732422\" xlink:href=\"#DejaVuSans-101\"/>\r\n     <use x=\"1549.255859\" xlink:href=\"#DejaVuSans-115\"/>\r\n     <use x=\"1601.355469\" xlink:href=\"#DejaVuSans-32\"/>\r\n     <use x=\"1633.142578\" xlink:href=\"#DejaVuSans-85\"/>\r\n     <use x=\"1706.335938\" xlink:href=\"#DejaVuSans-115\"/>\r\n     <use x=\"1758.435547\" xlink:href=\"#DejaVuSans-105\"/>\r\n     <use x=\"1786.21875\" xlink:href=\"#DejaVuSans-110\"/>\r\n     <use x=\"1849.597656\" xlink:href=\"#DejaVuSans-103\"/>\r\n     <use x=\"1913.074219\" xlink:href=\"#DejaVuSans-32\"/>\r\n     <use x=\"1944.861328\" xlink:href=\"#DejaVuSans-68\"/>\r\n     <use x=\"2021.863281\" xlink:href=\"#DejaVuSans-105\"/>\r\n     <use x=\"2049.646484\" xlink:href=\"#DejaVuSans-102\"/>\r\n     <use x=\"2084.851562\" xlink:href=\"#DejaVuSans-102\"/>\r\n     <use x=\"2120.056641\" xlink:href=\"#DejaVuSans-101\"/>\r\n     <use x=\"2181.580078\" xlink:href=\"#DejaVuSans-114\"/>\r\n     <use x=\"2222.662109\" xlink:href=\"#DejaVuSans-101\"/>\r\n     <use x=\"2284.185547\" xlink:href=\"#DejaVuSans-110\"/>\r\n     <use x=\"2347.564453\" xlink:href=\"#DejaVuSans-116\"/>\r\n     <use x=\"2386.773438\" xlink:href=\"#DejaVuSans-32\"/>\r\n     <use x=\"2418.560547\" xlink:href=\"#DejaVuSans-70\"/>\r\n     <use x=\"2475.970703\" xlink:href=\"#DejaVuSans-114\"/>\r\n     <use x=\"2517.083984\" xlink:href=\"#DejaVuSans-97\"/>\r\n     <use x=\"2578.363281\" xlink:href=\"#DejaVuSans-99\"/>\r\n     <use x=\"2633.34375\" xlink:href=\"#DejaVuSans-116\"/>\r\n     <use x=\"2672.552734\" xlink:href=\"#DejaVuSans-105\"/>\r\n     <use x=\"2700.335938\" xlink:href=\"#DejaVuSans-111\"/>\r\n     <use x=\"2761.517578\" xlink:href=\"#DejaVuSans-110\"/>\r\n     <use x=\"2824.896484\" xlink:href=\"#DejaVuSans-115\"/>\r\n     <use x=\"2876.996094\" xlink:href=\"#DejaVuSans-32\"/>\r\n     <use x=\"2908.783203\" xlink:href=\"#DejaVuSans-111\"/>\r\n     <use x=\"2969.964844\" xlink:href=\"#DejaVuSans-102\"/>\r\n     <use x=\"3005.169922\" xlink:href=\"#DejaVuSans-32\"/>\r\n     <use x=\"3036.957031\" xlink:href=\"#DejaVuSans-84\"/>\r\n     <use x=\"3097.822266\" xlink:href=\"#DejaVuSans-114\"/>\r\n     <use x=\"3138.935547\" xlink:href=\"#DejaVuSans-97\"/>\r\n     <use x=\"3200.214844\" xlink:href=\"#DejaVuSans-105\"/>\r\n     <use x=\"3227.998047\" xlink:href=\"#DejaVuSans-110\"/>\r\n     <use x=\"3291.376953\" xlink:href=\"#DejaVuSans-105\"/>\r\n     <use x=\"3319.160156\" xlink:href=\"#DejaVuSans-110\"/>\r\n     <use x=\"3382.539062\" xlink:href=\"#DejaVuSans-103\"/>\r\n     <use x=\"3446.015625\" xlink:href=\"#DejaVuSans-32\"/>\r\n     <use x=\"3477.802734\" xlink:href=\"#DejaVuSans-68\"/>\r\n     <use x=\"3554.804688\" xlink:href=\"#DejaVuSans-97\"/>\r\n     <use x=\"3616.083984\" xlink:href=\"#DejaVuSans-116\"/>\r\n     <use x=\"3655.292969\" xlink:href=\"#DejaVuSans-97\"/>\r\n    </g>\r\n   </g>\r\n   <g id=\"legend_1\">\r\n    <g id=\"patch_7\">\r\n     <path d=\"M 321.76 234.758125 \r\nL 390.588125 234.758125 \r\nQ 392.588125 234.758125 392.588125 232.758125 \r\nL 392.588125 204.401875 \r\nQ 392.588125 202.401875 390.588125 202.401875 \r\nL 321.76 202.401875 \r\nQ 319.76 202.401875 319.76 204.401875 \r\nL 319.76 232.758125 \r\nQ 319.76 234.758125 321.76 234.758125 \r\nz\r\n\" style=\"fill:#ffffff;opacity:0.8;stroke:#cccccc;stroke-linejoin:miter;\"/>\r\n    </g>\r\n    <g id=\"line2d_29\">\r\n     <path d=\"M 323.76 210.500312 \r\nL 343.76 210.500312 \r\n\" style=\"fill:none;stroke:#1f77b4;stroke-linecap:square;stroke-width:1.5;\"/>\r\n    </g>\r\n    <g id=\"line2d_30\"/>\r\n    <g id=\"text_17\">\r\n     <!-- Testing -->\r\n     <g transform=\"translate(351.76 214.000312)scale(0.1 -0.1)\">\r\n      <use xlink:href=\"#DejaVuSans-84\"/>\r\n      <use x=\"60.818359\" xlink:href=\"#DejaVuSans-101\"/>\r\n      <use x=\"122.341797\" xlink:href=\"#DejaVuSans-115\"/>\r\n      <use x=\"174.441406\" xlink:href=\"#DejaVuSans-116\"/>\r\n      <use x=\"213.650391\" xlink:href=\"#DejaVuSans-105\"/>\r\n      <use x=\"241.433594\" xlink:href=\"#DejaVuSans-110\"/>\r\n      <use x=\"304.8125\" xlink:href=\"#DejaVuSans-103\"/>\r\n     </g>\r\n    </g>\r\n    <g id=\"line2d_31\">\r\n     <path d=\"M 323.76 225.178437 \r\nL 343.76 225.178437 \r\n\" style=\"fill:none;stroke:#ff7f0e;stroke-linecap:square;stroke-width:1.5;\"/>\r\n    </g>\r\n    <g id=\"line2d_32\"/>\r\n    <g id=\"text_18\">\r\n     <!-- Train -->\r\n     <g transform=\"translate(351.76 228.678437)scale(0.1 -0.1)\">\r\n      <use xlink:href=\"#DejaVuSans-84\"/>\r\n      <use x=\"60.865234\" xlink:href=\"#DejaVuSans-114\"/>\r\n      <use x=\"101.978516\" xlink:href=\"#DejaVuSans-97\"/>\r\n      <use x=\"163.257812\" xlink:href=\"#DejaVuSans-105\"/>\r\n      <use x=\"191.041016\" xlink:href=\"#DejaVuSans-110\"/>\r\n     </g>\r\n    </g>\r\n   </g>\r\n  </g>\r\n </g>\r\n <defs>\r\n  <clipPath id=\"p11c0e85b98\">\r\n   <rect height=\"217.44\" width=\"334.8\" x=\"62.788125\" y=\"22.318125\"/>\r\n  </clipPath>\r\n </defs>\r\n</svg>\r\n",
      "image/png": "[encoded data removed]"
     },
     "metadata": {
      "needs_background": "light"
     }
    }
   ],
   "source": [
    "import scipy.signal\n",
    "def plot_train_test_curve(iterations, train_acc, testing_acc):\n",
    "    plt.title(\"Training and Testing Accuracies Using Different Fractions of Training Data\")\n",
    "    plt.plot(iterations, scipy.signal.savgol_filter(np.array(testing_acc), polyorder=3, window_length=5),\n",
    "             label=\"Testing\")\n",
    "    plt.plot(iterations, scipy.signal.savgol_filter(np.array(train_acc), polyorder=3, window_length=5),\n",
    "             label=\"Train\")\n",
    "    plt.xlabel(\"Fraction of Training Data Used\")\n",
    "    # plt.xticks(iterations)\n",
    "    plt.ylabel(\"Accuracy (%)\")\n",
    "    plt.legend(loc='best')\n",
    "    plt.grid(True)\n",
    "    plt.show()\n",
    "\n",
    "    return\n",
    "\n",
    "plot_train_test_curve(training_dataset_fractions, training_accuracies, testing_accuracies)"
   ]
  },
  {
   "source": [
    "From the plot above we can see that our model is overfitting on the training dataset. The pseudo-validation accuracy computed using the testing dataset peaked when 50% of the dataset was used. After that point, the testing accuracy began slowly declining as the variance of the model increased and the generalizability of the model decreased. A potential solution for this would be to implement early stopping or to choose a model with a more intense regularization constant. \n",
    "\n",
    "### Discussion\n",
    "The implemented model fared well. I found through this process that generally, models that had less features (30, 50, etc.) performed significantly worse. This could be because these models missed out on some of the more intricate relationships present in the data. Having said this, perhaps a model with a few less features, i.e. a model with 120 features, would have been able to generalize to the testing dataset better. \n",
    "\n",
    "The implemented model has been optimized for general accuracy. Learning more about how the model might be used would incentivize a more fine-tuned performance metric. Moreover, this model utilized logistic regression. It could be the case that the relationships between the input data and the target variables are non-linear or more complex. Perhaps a more sophisticated or learned model would have achieved a stronger test accuracy. "
   ],
   "cell_type": "markdown",
   "metadata": {}
  }
 ]
}